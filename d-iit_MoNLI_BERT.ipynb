{
 "cells": [
  {
   "cell_type": "code",
   "execution_count": 1,
   "id": "1fb36dcc",
   "metadata": {},
   "outputs": [],
   "source": [
    "import torch\n",
    "import random\n",
    "import copy\n",
    "import itertools\n",
    "import numpy as np\n",
    "import utils\n",
    "\n",
    "from sklearn.metrics import classification_report\n",
    "from LIM_bert import LIMBERTClassifier\n",
    "from ii_benchmark import IIBenchmarkMoNli\n",
    "\n",
    "utils.fix_random_seeds()"
   ]
  },
  {
   "cell_type": "code",
   "execution_count": 2,
   "id": "8fdcf12f",
   "metadata": {},
   "outputs": [
    {
     "name": "stderr",
     "output_type": "stream",
     "text": [
      "Some weights of the model checkpoint at ishan/bert-base-uncased-mnli were not used when initializing BertModel: ['classifier.weight', 'classifier.bias']\n",
      "- This IS expected if you are initializing BertModel from the checkpoint of a model trained on another task or with another architecture (e.g. initializing a BertForSequenceClassification model from a BertForPreTraining model).\n",
      "- This IS NOT expected if you are initializing BertModel from the checkpoint of a model that you expect to be exactly identical (initializing a BertForSequenceClassification model from a BertForSequenceClassification model).\n"
     ]
    },
    {
     "ename": "RuntimeError",
     "evalue": "CUDA out of memory. Tried to allocate 9.00 GiB (GPU 0; 8.00 GiB total capacity; 0 bytes already allocated; 6.99 GiB free; 0 bytes reserved in total by PyTorch) If reserved memory is >> allocated memory try setting max_split_size_mb to avoid fragmentation.  See documentation for Memory Management and PYTORCH_CUDA_ALLOC_CONF",
     "output_type": "error",
     "traceback": [
      "\u001b[1;31m---------------------------------------------------------------------------\u001b[0m",
      "\u001b[1;31mRuntimeError\u001b[0m                              Traceback (most recent call last)",
      "\u001b[1;32m~\\AppData\\Local\\Temp\\ipykernel_8228\\1694393072.py\u001b[0m in \u001b[0;36m<module>\u001b[1;34m\u001b[0m\n\u001b[0;32m     18\u001b[0m         \u001b[0mseed\u001b[0m\u001b[1;33m=\u001b[0m\u001b[1;36m60\u001b[0m\u001b[1;33m\u001b[0m\u001b[1;33m\u001b[0m\u001b[0m\n\u001b[0;32m     19\u001b[0m )\n\u001b[1;32m---> 20\u001b[1;33m \u001b[0mLIM_bert\u001b[0m \u001b[1;33m=\u001b[0m \u001b[0mbenchmark\u001b[0m\u001b[1;33m.\u001b[0m\u001b[0mcreate_model\u001b[0m\u001b[1;33m(\u001b[0m\u001b[1;33m)\u001b[0m\u001b[1;33m\u001b[0m\u001b[1;33m\u001b[0m\u001b[0m\n\u001b[0m",
      "\u001b[1;32m~\\Documents\\GitHub\\InterchangeInterventions\\ii_benchmark.py\u001b[0m in \u001b[0;36mcreate_model\u001b[1;34m(self)\u001b[0m\n\u001b[0;32m    278\u001b[0m         \u001b[0mbert\u001b[0m \u001b[1;33m=\u001b[0m \u001b[0mBertModel\u001b[0m\u001b[1;33m.\u001b[0m\u001b[0mfrom_pretrained\u001b[0m\u001b[1;33m(\u001b[0m\u001b[0mself\u001b[0m\u001b[1;33m.\u001b[0m\u001b[0mmodel_parameters\u001b[0m\u001b[1;33m[\u001b[0m\u001b[1;34m'weights_name'\u001b[0m\u001b[1;33m]\u001b[0m\u001b[1;33m)\u001b[0m\u001b[1;33m\u001b[0m\u001b[1;33m\u001b[0m\u001b[0m\n\u001b[0;32m    279\u001b[0m \u001b[1;33m\u001b[0m\u001b[0m\n\u001b[1;32m--> 280\u001b[1;33m         return LIMBERTClassifier(\n\u001b[0m\u001b[0;32m    281\u001b[0m             \u001b[0mself\u001b[0m\u001b[1;33m.\u001b[0m\u001b[0mmodel_parameters\u001b[0m\u001b[1;33m[\u001b[0m\u001b[1;34m'n_classes'\u001b[0m\u001b[1;33m]\u001b[0m\u001b[1;33m,\u001b[0m\u001b[1;33m\u001b[0m\u001b[1;33m\u001b[0m\u001b[0m\n\u001b[0;32m    282\u001b[0m             \u001b[0mbert\u001b[0m\u001b[1;33m,\u001b[0m\u001b[1;33m\u001b[0m\u001b[1;33m\u001b[0m\u001b[0m\n",
      "\u001b[1;32m~\\Documents\\GitHub\\InterchangeInterventions\\LIM_bert.py\u001b[0m in \u001b[0;36m__init__\u001b[1;34m(self, n_classes, bert, max_length, device, use_wrapper, debug)\u001b[0m\n\u001b[0;32m    193\u001b[0m         \u001b[0mself\u001b[0m\u001b[1;33m.\u001b[0m\u001b[0mclassifier_layer\u001b[0m \u001b[1;33m=\u001b[0m \u001b[0mtorch\u001b[0m\u001b[1;33m.\u001b[0m\u001b[0mnn\u001b[0m\u001b[1;33m.\u001b[0m\u001b[0mLinear\u001b[0m\u001b[1;33m(\u001b[0m\u001b[0mself\u001b[0m\u001b[1;33m.\u001b[0m\u001b[0mhidden_dim\u001b[0m\u001b[1;33m,\u001b[0m \u001b[0mself\u001b[0m\u001b[1;33m.\u001b[0m\u001b[0mn_classes\u001b[0m\u001b[1;33m)\u001b[0m\u001b[1;33m\u001b[0m\u001b[1;33m\u001b[0m\u001b[0m\n\u001b[0;32m    194\u001b[0m \u001b[1;33m\u001b[0m\u001b[0m\n\u001b[1;32m--> 195\u001b[1;33m         \u001b[0mself\u001b[0m\u001b[1;33m.\u001b[0m\u001b[0mbuild_graph\u001b[0m\u001b[1;33m(\u001b[0m\u001b[0mself\u001b[0m\u001b[1;33m.\u001b[0m\u001b[0mmodel_layers\u001b[0m\u001b[1;33m,\u001b[0m \u001b[0mself\u001b[0m\u001b[1;33m.\u001b[0m\u001b[0mmodel_dims\u001b[0m\u001b[1;33m)\u001b[0m\u001b[1;33m\u001b[0m\u001b[1;33m\u001b[0m\u001b[0m\n\u001b[0m\u001b[0;32m    196\u001b[0m \u001b[1;33m\u001b[0m\u001b[0m\n\u001b[0;32m    197\u001b[0m \u001b[1;33m\u001b[0m\u001b[0m\n",
      "\u001b[1;32m~\\Documents\\GitHub\\InterchangeInterventions\\layered_intervenable_model.py\u001b[0m in \u001b[0;36mbuild_graph\u001b[1;34m(self, model_layers, model_layer_dims)\u001b[0m\n\u001b[0;32m     81\u001b[0m             \u001b[0mself\u001b[0m\u001b[1;33m.\u001b[0m\u001b[0manalysis_model\u001b[0m\u001b[1;33m.\u001b[0m\u001b[0mextend\u001b[0m\u001b[1;33m(\u001b[0m\u001b[1;33m[\u001b[0m\u001b[0mmodel_layer\u001b[0m\u001b[1;33m]\u001b[0m\u001b[1;33m)\u001b[0m\u001b[1;33m\u001b[0m\u001b[1;33m\u001b[0m\u001b[0m\n\u001b[0;32m     82\u001b[0m             \u001b[1;32mif\u001b[0m \u001b[1;32mnot\u001b[0m \u001b[0mself\u001b[0m\u001b[1;33m.\u001b[0m\u001b[0mdebug\u001b[0m\u001b[1;33m:\u001b[0m\u001b[1;33m\u001b[0m\u001b[1;33m\u001b[0m\u001b[0m\n\u001b[1;32m---> 83\u001b[1;33m                 lin_layer = LinearLayer(model_layer_dims[index+1],\n\u001b[0m\u001b[0;32m     84\u001b[0m                                         self.device)\n\u001b[0;32m     85\u001b[0m                 \u001b[0mlin_layer\u001b[0m \u001b[1;33m=\u001b[0m \u001b[0mtorch\u001b[0m\u001b[1;33m.\u001b[0m\u001b[0mnn\u001b[0m\u001b[1;33m.\u001b[0m\u001b[0mutils\u001b[0m\u001b[1;33m.\u001b[0m\u001b[0mparametrizations\u001b[0m\u001b[1;33m.\u001b[0m\u001b[0morthogonal\u001b[0m\u001b[1;33m(\u001b[0m\u001b[0mlin_layer\u001b[0m\u001b[1;33m)\u001b[0m\u001b[1;33m\u001b[0m\u001b[1;33m\u001b[0m\u001b[0m\n",
      "\u001b[1;32m~\\Documents\\GitHub\\InterchangeInterventions\\layered_intervenable_model.py\u001b[0m in \u001b[0;36m__init__\u001b[1;34m(self, n, device)\u001b[0m\n\u001b[0;32m     17\u001b[0m         \u001b[0msuper\u001b[0m\u001b[1;33m(\u001b[0m\u001b[1;33m)\u001b[0m\u001b[1;33m.\u001b[0m\u001b[0m__init__\u001b[0m\u001b[1;33m(\u001b[0m\u001b[1;33m)\u001b[0m\u001b[1;33m\u001b[0m\u001b[1;33m\u001b[0m\u001b[0m\n\u001b[0;32m     18\u001b[0m         self.weight = torch.nn.Parameter(\n\u001b[1;32m---> 19\u001b[1;33m             torch.empty(n,n).to(device), requires_grad=True)\n\u001b[0m\u001b[0;32m     20\u001b[0m         \u001b[0mtorch\u001b[0m\u001b[1;33m.\u001b[0m\u001b[0mnn\u001b[0m\u001b[1;33m.\u001b[0m\u001b[0minit\u001b[0m\u001b[1;33m.\u001b[0m\u001b[0morthogonal_\u001b[0m\u001b[1;33m(\u001b[0m\u001b[0mself\u001b[0m\u001b[1;33m.\u001b[0m\u001b[0mweight\u001b[0m\u001b[1;33m)\u001b[0m\u001b[1;33m\u001b[0m\u001b[1;33m\u001b[0m\u001b[0m\n\u001b[0;32m     21\u001b[0m \u001b[1;33m\u001b[0m\u001b[0m\n",
      "\u001b[1;31mRuntimeError\u001b[0m: CUDA out of memory. Tried to allocate 9.00 GiB (GPU 0; 8.00 GiB total capacity; 0 bytes already allocated; 6.99 GiB free; 0 bytes reserved in total by PyTorch) If reserved memory is >> allocated memory try setting max_split_size_mb to avoid fragmentation.  See documentation for Memory Management and PYTORCH_CUDA_ALLOC_CONF"
     ]
    }
   ],
   "source": [
    "benchmark = IIBenchmarkMoNli(\n",
    "        variable_names=['LEX'],\n",
    "        data_parameters={\n",
    "            'train_size': 10000, 'test_size': 10000\n",
    "        },\n",
    "        model_parameters={\n",
    "            'weights_name': 'ishan/bert-base-uncased-mnli',\n",
    "            'max_length': 128,\n",
    "            'n_classes': 2,\n",
    "            'hidden_dim': 768,\n",
    "            'target_dims':[0,786],\n",
    "            'debug':False\n",
    "        },\n",
    "        training_parameters={\n",
    "            'warm_start': False, 'max_iter': 3, 'batch_size': 32, 'n_iter_no_change': 10000, \n",
    "            'shuffle_train': True, 'eta': 0.00002\n",
    "        },\n",
    "        seed=60\n",
    ")\n",
    "LIM_bert = benchmark.create_model()"
   ]
  },
  {
   "cell_type": "code",
   "execution_count": null,
   "id": "9cf46d22",
   "metadata": {},
   "outputs": [],
   "source": [
    "LIM_trainer = benchmark.create_classifier(LIM_bert)"
   ]
  },
  {
   "cell_type": "code",
   "execution_count": null,
   "id": "fd7b8e45",
   "metadata": {},
   "outputs": [],
   "source": [
    "X_base_train, y_base_train, X_sources_train, y_IIT_train, interventions = benchmark.load_datasets()[0]"
   ]
  },
  {
   "cell_type": "code",
   "execution_count": null,
   "id": "cb384f19",
   "metadata": {
    "scrolled": true
   },
   "outputs": [],
   "source": [
    "_ = LIM_trainer.fit(\n",
    "            X_base_train, \n",
    "            y_base_train\n",
    "            )"
   ]
  },
  {
   "cell_type": "code",
   "execution_count": null,
   "id": "3e39a089",
   "metadata": {},
   "outputs": [],
   "source": [
    "preds = LIM_trainer.predict(X_base_train)\n",
    "print(classification_report(y_base_train, preds.cpu()))"
   ]
  },
  {
   "cell_type": "code",
   "execution_count": null,
   "id": "2394d04f",
   "metadata": {},
   "outputs": [],
   "source": [
    "alignment  = {0:[{\"layer\":0, \"start\":0, \"end\":64}]}"
   ]
  },
  {
   "cell_type": "code",
   "execution_count": null,
   "id": "e6120208",
   "metadata": {},
   "outputs": [],
   "source": [
    "LIM_trainer.model.set_analysis_mode(True)\n",
    "_ = LIM_trainer.fit(\n",
    "    X_base_train, \n",
    "    y_base_train, \n",
    "    iit_data=(\n",
    "                X_sources_train,\n",
    "                y_IIT_train,\n",
    "                interventions\n",
    "            ),\n",
    "    intervention_ids_to_coords=alignment)"
   ]
  },
  {
   "cell_type": "code",
   "execution_count": null,
   "id": "757152a6",
   "metadata": {},
   "outputs": [],
   "source": [
    "evaluation = benchmark.evaluate(blackbox_LIM, alignment)\n",
    "benchmark.display_evaluations(evaluation)"
   ]
  },
  {
   "cell_type": "code",
   "execution_count": null,
   "id": "fa19f10c",
   "metadata": {},
   "outputs": [],
   "source": []
  },
  {
   "cell_type": "code",
   "execution_count": null,
   "id": "2cc5908a",
   "metadata": {},
   "outputs": [],
   "source": []
  }
 ],
 "metadata": {
  "kernelspec": {
   "display_name": "Python 3 (ipykernel)",
   "language": "python",
   "name": "python3"
  },
  "language_info": {
   "codemirror_mode": {
    "name": "ipython",
    "version": 3
   },
   "file_extension": ".py",
   "mimetype": "text/x-python",
   "name": "python",
   "nbconvert_exporter": "python",
   "pygments_lexer": "ipython3",
   "version": "3.9.6"
  }
 },
 "nbformat": 4,
 "nbformat_minor": 5
}
