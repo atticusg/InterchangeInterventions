{
 "cells": [
  {
   "attachments": {},
   "cell_type": "markdown",
   "id": "fb85aad4",
   "metadata": {},
   "source": [
    "# Debiasing BERT on Sentiment Analysis across Gender\n",
    "\n",
    "This notebook works through debiasing a BERT model that is biased across gender on a sentiment analysis task. The notebook proceeds as follows:\n",
    "\n",
    "1. Train a BERT model (blackbox model) on the [SemEval 2018](https://competitions.codalab.org/competitions/17751) sentiment analysis task.\n",
    "2. Evaluate the blackbox model's bias across gender using the [EEC benchmark](https://saifmohammad.com/WebPages/Biases-SA.html). \n",
    "3. Learn a distributed alignment using DAS between the blackbox model and gender, using counterfactuals from the EEC benchmark dataset.\n",
    "4. Use the learned alignment to intervene on the blackbox model during inference time with a static \"gender\" representation vector (e.g. average of male representation, average of female representation, average of both, or null vector), and evaluate this debiased model on: (a) the original SemEval task, and (b) the new model's bias on EEC.\n",
    "\n",
    "Using distributed alignment search, we're able to intervene on a pre-trained BERT model in order to achieve a debiased model with similar accuracy!"
   ]
  },
  {
   "cell_type": "code",
   "execution_count": 1,
   "id": "5931d24a",
   "metadata": {},
   "outputs": [],
   "source": [
    "import torch\n",
    "import random\n",
    "import copy\n",
    "import itertools\n",
    "import numpy as np\n",
    "import utils\n",
    "from trainer import BERTLIMTrainer\n",
    "\n",
    "from sklearn.metrics import classification_report\n",
    "from LIM_bert import LIMBERTClassifier\n",
    "import dataset_nli\n",
    "\n",
    "from transformers import BertModel, BertTokenizer\n",
    "utils.fix_random_seeds()"
   ]
  },
  {
   "cell_type": "code",
   "execution_count": null,
   "id": "d96009d3",
   "metadata": {},
   "outputs": [],
   "source": [
    "\"\"\"\n",
    "for training IIT:\n",
    " - create CLIP model\n",
    " - run its vision model to get image embedding (can even do this statically)\n",
    " - run LIMClip to get text embedding\n",
    " - use CLIP text/image projections (stored in CLIP model) to project to same space\n",
    " - compute contrastive loss (varied by intervention??)\n",
    "\"\"\""
   ]
  },
  {
   "attachments": {},
   "cell_type": "markdown",
   "id": "4ab78727",
   "metadata": {},
   "source": [
    "## Train Blackbox Model\n",
    "\n",
    "In this section, we train fine-tune a BERT model on the [SemEval 2018](https://competitions.codalab.org/competitions/17751) task. The task is to predict the joy sentiment of tweets from Twitter, provided human-generated labels in [0, 1]. The SemEval task also consists of detecting anger, sadness, and fear aspects. \n",
    "\n",
    "The original benchmark compares models using the pearson correlation coefficient. A coefficient above 68% places us within the top 20 models evaluated on the benchmark."
   ]
  },
  {
   "cell_type": "code",
   "execution_count": 2,
   "id": "ce703fc8",
   "metadata": {},
   "outputs": [
    {
     "data": {
      "text/plain": [
       "['development', 'test-gold', 'training']"
      ]
     },
     "execution_count": 2,
     "metadata": {},
     "output_type": "execute_result"
    }
   ],
   "source": [
    "import os\n",
    "\n",
    "BASE = '../../local/SemEval2018-Task1-all-data/English/'\n",
    "task = 'EI'\n",
    "task_type = 'reg'\n",
    "path = os.path.join(BASE, f'{task}-{task_type}')\n",
    "os.listdir(path)"
   ]
  },
  {
   "cell_type": "code",
   "execution_count": 3,
   "id": "9d32e2f9",
   "metadata": {},
   "outputs": [
    {
     "data": {
      "text/plain": [
       "((1616, 2), (290, 2), (1105, 2))"
      ]
     },
     "execution_count": 3,
     "metadata": {},
     "output_type": "execute_result"
    }
   ],
   "source": [
    "import pandas as pd\n",
    "\n",
    "def load_data_ei(path):\n",
    "    train_df = pd.read_csv(os.path.join(path, 'training', f'EI-{task_type}-En-joy-train.txt'), delimiter='\\t')\n",
    "    eval_df = pd.read_csv(os.path.join(path, 'development', f'2018-EI-{task_type}-En-joy-dev.txt'), delimiter='\\t')\n",
    "    test_df = pd.read_csv(os.path.join(path, 'test-gold', f'2018-EI-{task_type}-En-joy-test-gold.txt'), delimiter='\\t')\n",
    "\n",
    "    if 'Intensity Class' in train_df.columns:\n",
    "        classes = train_df['Intensity Class'].unique()\n",
    "        class_to_label = dict(zip(classes, range(len(classes))))\n",
    "        train_df['labels'] = train_df['Intensity Class'].map(class_to_label)\n",
    "        eval_df['labels'] = eval_df['Intensity Class'].map(class_to_label)\n",
    "        test_df['labels'] = test_df['Intensity Class'].map(class_to_label)\n",
    "    else:\n",
    "        train_df['labels'] = train_df['Intensity Score'].copy()\n",
    "        eval_df['labels'] = eval_df['Intensity Score'].copy()\n",
    "        test_df['labels'] = test_df['Intensity Score'].copy()\n",
    "\n",
    "    rename = {\n",
    "        'Tweet': 'text'\n",
    "    }\n",
    "    train_df = train_df[['Tweet', 'labels']].rename(columns=rename)\n",
    "    eval_df = eval_df[['Tweet', 'labels']].rename(columns=rename)\n",
    "    test_df = test_df[['Tweet', 'labels']].rename(columns=rename)\n",
    "\n",
    "    return train_df, eval_df, test_df\n",
    "\n",
    "def load_data_ec(path):\n",
    "    train_df = pd.read_csv(os.path.join(path, '2018-E-c-En-train.txt'), delimiter='\\t')\n",
    "    eval_df = pd.read_csv(os.path.join(path, '2018-E-c-En-dev.txt'), delimiter='\\t')\n",
    "    test_df = pd.read_csv(os.path.join(path, '2018-E-c-En-test-gold.txt'), delimiter='\\t')\n",
    "\n",
    "    \n",
    "    train_df['labels'] = train_df.apply(lambda r: r.iloc[2:].tolist(), axis=1)\n",
    "    eval_df['labels'] = eval_df.apply(lambda r: r.iloc[2:].tolist(), axis=1)\n",
    "    test_df['labels'] = test_df.apply(lambda r: r.iloc[2:].tolist(), axis=1)\n",
    "\n",
    "    rename = {\n",
    "        'Tweet': 'text'\n",
    "    }\n",
    "    train_df = train_df[['Tweet', 'labels']].rename(columns=rename)\n",
    "    eval_df = eval_df[['Tweet', 'labels']].rename(columns=rename)\n",
    "    test_df = test_df[['Tweet', 'labels']].rename(columns=rename)\n",
    "\n",
    "    return train_df, eval_df, test_df\n",
    "\n",
    "train_df, eval_df, test_df = load_data_ei(path)\n",
    "train_df.shape, eval_df.shape, test_df.shape"
   ]
  },
  {
   "cell_type": "code",
   "execution_count": 4,
   "id": "29cc550f",
   "metadata": {},
   "outputs": [],
   "source": [
    "def get_semeval_dataset(df, tokenizer_name, data_size):\n",
    "    bert_tokenizer = BertTokenizer.from_pretrained(tokenizer_name)\n",
    "    \n",
    "    def encoding(X):\n",
    "        # if X[0][-1] != \".\":\n",
    "        #     input = [\". \".join(X)]\n",
    "        # else:\n",
    "        #     input = [\" \".join(X)]\n",
    "        input = [X]\n",
    "        data = bert_tokenizer.batch_encode_plus(\n",
    "            input,\n",
    "            max_length=128,\n",
    "            add_special_tokens=True,\n",
    "            padding='max_length',\n",
    "            truncation=True,\n",
    "            return_attention_mask=True\n",
    "        )\n",
    "        indices = torch.tensor(data['input_ids'])\n",
    "        mask = torch.tensor(data['attention_mask'])\n",
    "        return (indices, mask)\n",
    "    \n",
    "    data = []\n",
    "    for i, row in df.iterrows():\n",
    "        if i == data_size:\n",
    "            break\n",
    "        x_base, x_mask = encoding(row['text'])\n",
    "        y_base = row['labels']\n",
    "        data.append((x_base, x_mask, y_base))\n",
    "    \n",
    "    base, base_mask, y = zip(*data)\n",
    "    X_base = (base, base_mask) \n",
    "    y_base = torch.tensor(y)\n",
    "\n",
    "    return X_base, y_base"
   ]
  },
  {
   "cell_type": "code",
   "execution_count": 5,
   "id": "6bde6f90",
   "metadata": {},
   "outputs": [],
   "source": [
    "from ii_benchmark import IIBenchmarkMoNli\n",
    "\n",
    "VAR = 0\n",
    "\n",
    "num_layers = 12\n",
    "hidden_dim = 768\n",
    "data_size = train_df.shape[0]\n",
    "test_data_size = test_df.shape[0] - 1 # size is unfortunately 1 mod 8, and I'm too lazy to edit prediction code\n",
    "device = 'cuda:0'\n",
    "seed = 42\n",
    "\n",
    "iit_layer = 10\n",
    "hidden_dim_per_concept = 256\n",
    "\n",
    "intervention_ids_to_coords = {\n",
    "    VAR: [{\"layer\":iit_layer, \"start\":0, \"end\":hidden_dim_per_concept}]\n",
    "}\n",
    "\n",
    "benchmark = IIBenchmarkMoNli(\n",
    "    variable_names=['GEN'],\n",
    "    data_parameters={\n",
    "        'train_size': data_size, 'test_size': test_data_size\n",
    "    },\n",
    "    model_parameters={\n",
    "        'weights_name': 'bert-base-uncased',\n",
    "        'max_length': 128,\n",
    "        'n_classes': 1,\n",
    "        'hidden_dim': 768,\n",
    "        'target_layers' : [iit_layer],\n",
    "        'target_dims':{\n",
    "            \"start\" : 0,\n",
    "            \"end\" : 786,\n",
    "        },\n",
    "        'debug':False, \n",
    "        'device': device,\n",
    "        'static_search': False,\n",
    "        'nested_disentangle_inplace': False\n",
    "    },\n",
    "    training_parameters={\n",
    "        'warm_start': False, 'max_iter': 200, 'batch_size': 8, 'n_iter_no_change': 10, \n",
    "        'shuffle_train': False, 'eta': 2e-5, 'device': device, 'save_checkpoint_per_epoch': True\n",
    "    },\n",
    "    seed=seed\n",
    ")"
   ]
  },
  {
   "cell_type": "code",
   "execution_count": 6,
   "id": "ce7e3248",
   "metadata": {},
   "outputs": [
    {
     "name": "stderr",
     "output_type": "stream",
     "text": [
      "Some weights of the model checkpoint at bert-base-uncased were not used when initializing BertModel: ['cls.seq_relationship.bias', 'cls.predictions.decoder.weight', 'cls.seq_relationship.weight', 'cls.predictions.transform.dense.bias', 'cls.predictions.transform.LayerNorm.bias', 'cls.predictions.transform.LayerNorm.weight', 'cls.predictions.transform.dense.weight', 'cls.predictions.bias']\n",
      "- This IS expected if you are initializing BertModel from the checkpoint of a model trained on another task or with another architecture (e.g. initializing a BertForSequenceClassification model from a BertForPreTraining model).\n",
      "- This IS NOT expected if you are initializing BertModel from the checkpoint of a model that you expect to be exactly identical (initializing a BertForSequenceClassification model from a BertForSequenceClassification model).\n"
     ]
    }
   ],
   "source": [
    "LIM_bert = benchmark.create_model().to(device)"
   ]
  },
  {
   "cell_type": "code",
   "execution_count": 7,
   "id": "b8c36bef",
   "metadata": {},
   "outputs": [],
   "source": [
    "LIM_trainer = benchmark.create_classifier(LIM_bert)\n",
    "LIM_trainer.model.set_analysis_mode(False)"
   ]
  },
  {
   "cell_type": "code",
   "execution_count": 8,
   "id": "20c30c5e",
   "metadata": {},
   "outputs": [],
   "source": [
    "X_semeval_train, y_semeval_train = get_semeval_dataset(train_df, 'bert-base-uncased', data_size)"
   ]
  },
  {
   "cell_type": "code",
   "execution_count": 9,
   "id": "4d075dab",
   "metadata": {},
   "outputs": [
    {
     "name": "stderr",
     "output_type": "stream",
     "text": [
      "Stopping after epoch 58. Training loss did not improve more than tol=1e-05. Final error is 0.9914800344849937."
     ]
    }
   ],
   "source": [
    "# _ = LIM_trainer.fit(\n",
    "#     X_semeval_train,\n",
    "#     y_semeval_train\n",
    "# )"
   ]
  },
  {
   "cell_type": "code",
   "execution_count": 11,
   "id": "0a06c82c",
   "metadata": {},
   "outputs": [],
   "source": [
    "# torch.save(LIM_trainer.model.state_dict(), 'semeval-blackbox-layer-10.pt')"
   ]
  },
  {
   "cell_type": "code",
   "execution_count": 8,
   "id": "2973ecd4",
   "metadata": {},
   "outputs": [
    {
     "data": {
      "text/plain": [
       "<All keys matched successfully>"
      ]
     },
     "execution_count": 8,
     "metadata": {},
     "output_type": "execute_result"
    }
   ],
   "source": [
    "import torch\n",
    "\n",
    "model_name = 'saved_models/blackbox-45-42.bin'\n",
    "\n",
    "LIM_trainer.model.load_state_dict(state_dict=torch.load(model_name))"
   ]
  },
  {
   "cell_type": "code",
   "execution_count": 9,
   "id": "e64aec38",
   "metadata": {},
   "outputs": [
    {
     "data": {
      "text/plain": [
       "PearsonRResult(statistic=0.6917114316441573, pvalue=5.803894323100251e-158)"
      ]
     },
     "execution_count": 9,
     "metadata": {},
     "output_type": "execute_result"
    }
   ],
   "source": [
    "from scipy.stats import pearsonr\n",
    "\n",
    "X_semeval_test, y_semeval_test = get_semeval_dataset(test_df, 'bert-base-uncased', test_df.shape[0] - 1)\n",
    "predictions = LIM_trainer.predict(\n",
    "    X_semeval_test\n",
    ")\n",
    "\n",
    "pearsonr(predictions.cpu().numpy(), y_semeval_test.numpy())"
   ]
  },
  {
   "attachments": {},
   "cell_type": "markdown",
   "id": "fcad9012",
   "metadata": {},
   "source": [
    "## Evaluate Bias on EEC\n",
    "\n",
    "This section replicates the bias evaluation conducted in [Kiritchenko and Mohammad, 2018](https://saifmohammad.com/WebPages/Biases-SA.html). The Equity Evaluation Corpus (EEC) consists of pairs of sentences where the key gender noun is toggled between a stereotypically female and a stereotypically male instance (e.g. \"he feels happy\" vs. \"she feels happy\", \"the conversation with my son was shocking\" vs. \"the conversation with my daughter was shocking\"). \n",
    "\n",
    "To detect bias, the authors compare the model's predictions across the 429 pairs generated in the EEC dataset. Notably, the EEC dataset *does not have labels*, but instead evaluates equity by comparing the model's prediction on an input to its prediction on the corresponding (counterfactual) input where the gender is flipped. We can compare the following two measures in order to determine the bias in our model:\n",
    "1. Rate at which the model predicts one gender over another (%M > F and %F > M). \n",
    "2. Difference between the average model predictions (M - F and F - M), with signficance measured by a t-test. "
   ]
  },
  {
   "cell_type": "code",
   "execution_count": 5,
   "id": "96e20a15",
   "metadata": {},
   "outputs": [],
   "source": [
    "EEC_PATH = 'eec_blackbox.csv'\n",
    "\n",
    "class EEC_Dataset:\n",
    "    def __init__(self, embed_func, emotions=['joy']) -> None:\n",
    "        self.eec_df = pd.read_csv(EEC_PATH)\n",
    "        self.embed_func = embed_func\n",
    "        self.emotions = emotions\n",
    "\n",
    "        self.eec_df = self.eec_df[(self.eec_df['Emotion'].isin(emotions)) | (self.eec_df['Emotion'].isna())]\n",
    "\n",
    "        self._setup()\n",
    "\n",
    "    def _setup(self):\n",
    "        self.templates = self.eec_df['Template'].unique()\n",
    "        self.emotion_situation_words = self.eec_df[\n",
    "            self.eec_df['Template'].apply(lambda t: '<emotional situation word>' in t)\n",
    "        ]['Emotion word'].unique()\n",
    "        self.emotion_words = self.eec_df[\n",
    "            self.eec_df['Template'].apply(lambda t: '<emotion word>' in t)\n",
    "        ]['Emotion word'].unique()\n",
    "\n",
    "        nouns = self.eec_df['Person'].unique()\n",
    "        pro_nouns = [p for p in nouns if p[0].islower()]\n",
    "        offset = (len(pro_nouns) - 2) // 2\n",
    "        pronoun_matching = {\n",
    "            pro_nouns[i]: pro_nouns[i + offset] for i in range(offset)\n",
    "        }\n",
    "        pronoun_matching.update({ 'him': 'her' })\n",
    "        self.pronoun_matching = pronoun_matching\n",
    "\n",
    "        proper_nouns = {\n",
    "            'male': [p for p in self.eec_df[self.eec_df['Gender'] == 'male']['Person'].unique() if p[0].isupper()],\n",
    "            'female': [p for p in self.eec_df[self.eec_df['Gender'] == 'female']['Person'].unique() if p[0].isupper()]\n",
    "        }\n",
    "        self.proper_nouns = proper_nouns\n",
    "\n",
    "    def _get_pairs_dataset(self):\n",
    "        pairs_data = []\n",
    "        columns = ['Sentence_M', 'Sentence_F', 'Template', 'Emotion', 'Emotion Word', 'Person']\n",
    "        for template in self.templates:\n",
    "            if '<emotional situation word>' in template:\n",
    "                emotion_list = self.emotion_situation_words\n",
    "            elif '<emotion word>' in template:\n",
    "                emotion_list = self.emotion_words\n",
    "            else:\n",
    "                emotion_list = [None]\n",
    "\n",
    "            for w in emotion_list:\n",
    "                if w is None:\n",
    "                    state_df = self.eec_df[(self.eec_df['Template'] == template)]\n",
    "                else:\n",
    "                    state_df = self.eec_df[(self.eec_df['Emotion word'] == w) & (self.eec_df['Template'] == template)]\n",
    "\n",
    "                for base_pronoun, flip_pronoun in self.pronoun_matching.items():\n",
    "                    if (base_pronoun == 'he' and '<person subject>' not in template) or \\\n",
    "                        (base_pronoun == 'him' and '<person object>' not in template):\n",
    "                        continue\n",
    "                    \n",
    "                    # ensure that we only have one of each noun\n",
    "                    assert(state_df[state_df['Person'] == base_pronoun].shape[0] == 1)\n",
    "\n",
    "                    pairs_data.append([\n",
    "                        state_df[state_df['Person'] == base_pronoun].iloc[0]['Sentence'],\n",
    "                        state_df[state_df['Person'] == flip_pronoun].iloc[0]['Sentence'],\n",
    "                        template,\n",
    "                        state_df[state_df['Person'] == flip_pronoun].iloc[0]['Emotion'],\n",
    "                        w, \n",
    "                        'pronoun'\n",
    "                    ])\n",
    "\n",
    "                pairs_data.append([\n",
    "                    [\n",
    "                        state_df[state_df['Person'] == male_proper_noun].iloc[0]['Sentence']\n",
    "                        for male_proper_noun in self.proper_nouns['male']\n",
    "                    ],\n",
    "                    [\n",
    "                        state_df[state_df['Person'] == female_proper_noun].iloc[0]['Sentence']\n",
    "                        for female_proper_noun in self.proper_nouns['female']\n",
    "                    ],\n",
    "                    template,\n",
    "                    state_df.iloc[0]['Emotion'],\n",
    "                    w,\n",
    "                    'proper noun'\n",
    "                ])\n",
    "\n",
    "        pairs_df = pd.DataFrame(pairs_data, columns=columns)\n",
    "        return pairs_df\n",
    "\n",
    "    def get_dataset(self, variable):\n",
    "        pairs_df = self._get_pairs_dataset()\n",
    "        pronoun_data = []\n",
    "        proper_noun_data = []\n",
    "        for i, row in pairs_df.iterrows():\n",
    "            if row['Person'] == 'pronoun':\n",
    "                if variable == 'male':\n",
    "                    base_x, base_mask = self.embed_func(row['Sentence_M'])\n",
    "                else:\n",
    "                    base_x, base_mask = self.embed_func(row['Sentence_F'])\n",
    "                pronoun_data.append((base_x, base_mask))\n",
    "            else:\n",
    "                if variable == 'male':\n",
    "                    embedded = [self.embed_func(s) for s in row['Sentence_M']]\n",
    "                else:\n",
    "                    embedded = [self.embed_func(s) for s in row['Sentence_F']]\n",
    "                base_x, base_mask = zip(*embedded)\n",
    "                proper_noun_data.append((base_x, base_mask))\n",
    "        \n",
    "        base_pronoun, base_mask_pronoun = zip(*pronoun_data)\n",
    "        self.base_pronoun = base_pronoun\n",
    "        self.base_mask_pronoun = base_mask_pronoun\n",
    "\n",
    "        base_proper_noun, base_mask_proper_noun = zip(*proper_noun_data)\n",
    "        self.base_proper_noun = base_proper_noun\n",
    "        self.base_mask_proper_noun = base_mask_proper_noun\n",
    "        return (self.base_pronoun, self.base_mask_pronoun), (self.base_proper_noun, self.base_mask_proper_noun)"
   ]
  },
  {
   "cell_type": "code",
   "execution_count": 6,
   "id": "25099e1e",
   "metadata": {},
   "outputs": [],
   "source": [
    "def get_EEC_dataset(tokenizer_name):\n",
    "    bert_tokenizer = BertTokenizer.from_pretrained(tokenizer_name)\n",
    "\n",
    "    def encoding(X):\n",
    "        input = [X]\n",
    "        data = bert_tokenizer.batch_encode_plus(\n",
    "                input,\n",
    "                max_length=128,\n",
    "                add_special_tokens=True,\n",
    "                padding='max_length',\n",
    "                truncation=True,\n",
    "                return_attention_mask=True)\n",
    "        indices = torch.tensor(data['input_ids'])\n",
    "        mask = torch.tensor(data['attention_mask'])\n",
    "        return (indices, mask)\n",
    "    \n",
    "    eec_dataset = EEC_Dataset(embed_func=encoding)\n",
    "\n",
    "    pronoun_dataset_m, proper_noun_dataset_m = eec_dataset.get_dataset('male')\n",
    "    pronoun_dataset_f, proper_noun_dataset_f = eec_dataset.get_dataset('female')\n",
    "\n",
    "    return pronoun_dataset_m, proper_noun_dataset_m, pronoun_dataset_f, proper_noun_dataset_f"
   ]
  },
  {
   "cell_type": "code",
   "execution_count": 7,
   "id": "4a62799c",
   "metadata": {},
   "outputs": [],
   "source": [
    "def evaluate_on_EEC(LIM_trainer, dataset):\n",
    "    pronoun_dataset_m, proper_noun_dataset_m, pronoun_dataset_f, proper_noun_dataset_f = dataset\n",
    "\n",
    "    predictions_m = LIM_trainer.predict(pronoun_dataset_m)\n",
    "    predictions_f = LIM_trainer.predict(pronoun_dataset_f)\n",
    "\n",
    "    for x_m in zip(*proper_noun_dataset_m):\n",
    "        predictions_m = torch.cat((\n",
    "            predictions_m,\n",
    "            LIM_trainer.predict(x_m).mean().unsqueeze(0)\n",
    "        ))\n",
    "    \n",
    "    for x_f in zip(*proper_noun_dataset_f):\n",
    "        predictions_f = torch.cat((\n",
    "            predictions_f,\n",
    "            LIM_trainer.predict(x_f).mean().unsqueeze(0)\n",
    "        ))\n",
    "    \n",
    "    return predictions_m, predictions_f"
   ]
  },
  {
   "cell_type": "code",
   "execution_count": 39,
   "id": "6171d8ae",
   "metadata": {},
   "outputs": [],
   "source": [
    "eec_dataset = get_EEC_dataset('bert-base-uncased')\n",
    "predictions_m, predictions_f = evaluate_on_EEC(LIM_trainer, eec_dataset)\n",
    "\n",
    "predictions_m = predictions_m.detach().cpu().numpy()\n",
    "predictions_f = predictions_f.detach().cpu().numpy()"
   ]
  },
  {
   "cell_type": "code",
   "execution_count": 44,
   "id": "6e6e8c22",
   "metadata": {},
   "outputs": [
    {
     "name": "stdout",
     "output_type": "stream",
     "text": [
      "0.5847737 0.54655355\n",
      "0.038220167\n"
     ]
    }
   ],
   "source": [
    "print(predictions_m.mean(), predictions_f.mean())\n",
    "print(predictions_m.mean() - predictions_f.mean())"
   ]
  },
  {
   "cell_type": "code",
   "execution_count": 41,
   "id": "a84046ce",
   "metadata": {},
   "outputs": [
    {
     "name": "stdout",
     "output_type": "stream",
     "text": [
      "0.9044289044289044\n"
     ]
    }
   ],
   "source": [
    "print((predictions_m > predictions_f).sum() / len(predictions_m))"
   ]
  },
  {
   "cell_type": "code",
   "execution_count": 42,
   "id": "737020da",
   "metadata": {},
   "outputs": [
    {
     "data": {
      "text/plain": [
       "Ttest_indResult(statistic=5.002500184837189, pvalue=6.868004333009701e-07)"
      ]
     },
     "execution_count": 42,
     "metadata": {},
     "output_type": "execute_result"
    }
   ],
   "source": [
    "from scipy.stats import ttest_ind\n",
    "\n",
    "ttest_ind(predictions_m, predictions_f)"
   ]
  },
  {
   "attachments": {},
   "cell_type": "markdown",
   "id": "c6d096b0",
   "metadata": {},
   "source": [
    "The code below saves the blackbox model predictions as static labels for the interchange intervention training in the next section."
   ]
  },
  {
   "cell_type": "code",
   "execution_count": 13,
   "id": "a1b77d9c",
   "metadata": {},
   "outputs": [],
   "source": [
    "def get_EEC_sentence_inputs(tokenizer_name):\n",
    "    bert_tokenizer = BertTokenizer.from_pretrained(tokenizer_name)\n",
    "\n",
    "    def encoding(X):\n",
    "        input = [X]\n",
    "        data = bert_tokenizer.batch_encode_plus(\n",
    "                input,\n",
    "                max_length=128,\n",
    "                add_special_tokens=True,\n",
    "                padding='max_length',\n",
    "                truncation=True,\n",
    "                return_attention_mask=True)\n",
    "        indices = torch.tensor(data['input_ids'])\n",
    "        mask = torch.tensor(data['attention_mask'])\n",
    "        return (indices, mask)\n",
    "    \n",
    "    eec_df = pd.read_csv(EEC_PATH)\n",
    "\n",
    "    data = []\n",
    "    for sentence in eec_df['Sentence'].values:\n",
    "        data.append(encoding(sentence))\n",
    "    \n",
    "    inputs, masks = zip(*data)\n",
    "\n",
    "    return inputs, masks"
   ]
  },
  {
   "cell_type": "code",
   "execution_count": 14,
   "id": "9d8fcc1d",
   "metadata": {},
   "outputs": [],
   "source": [
    "# X_eec = get_EEC_sentence_inputs('bert-base-uncased')\n",
    "\n",
    "# blackbox_preds = LIM_trainer.predict(X_eec) "
   ]
  },
  {
   "cell_type": "code",
   "execution_count": 15,
   "id": "ae3db084",
   "metadata": {},
   "outputs": [],
   "source": [
    "# EEC_PATH = 'eec_blackbox.csv'\n",
    "\n",
    "# eec_df = pd.read_csv(EEC_PATH)\n",
    "\n",
    "# eec_df['Prediction'] = blackbox_preds.detach().cpu().numpy()\n",
    "\n",
    "# eec_df.to_csv(EEC_PATH[:-4] + '-layer-10-iter-45-seed-42.csv')"
   ]
  },
  {
   "attachments": {},
   "cell_type": "markdown",
   "id": "851a9dba",
   "metadata": {},
   "source": [
    "## Learning Distributed Alignments on EEC\n",
    "\n",
    "In this section, we learn an alignment between the sensitive attribute in our causal graph (gender) and the biased blackbox model. We use the EEC dataset to generate our counterfactuals, and we use *the original model's output* as our target behavior. \n",
    "\n",
    "Note that in this section, we are not trying to debias our model yet. In fact, we are trying to completely replicate the blackbox model's behavior, including its initial bias. But the key idea is that we hope to do so in an interpretable, *intervenable* way that will allow us to later debias the very same model.\n",
    "\n",
    "Small note: when using analysis mode set to `True`, the code below runs Distributed Alignment Search (DAS). When analysis mode is set to `False`, the code trains a Causal Proxy Model (CPM). "
   ]
  },
  {
   "cell_type": "code",
   "execution_count": 17,
   "id": "a43322a6",
   "metadata": {},
   "outputs": [],
   "source": [
    "import pandas as pd\n",
    "import numpy as np\n",
    "import itertools\n",
    "import random\n",
    "from functools import reduce\n",
    "from sklearn.model_selection import train_test_split\n",
    "\n",
    "# NOTE: this path should correspond to the saved outputs of the model we want to debias\n",
    "EEC_PATH = 'eec_blackbox-layer-10-iter-45-seed-42.csv' \n",
    "\n",
    "CONTROLS = [] # ['Emotion word', 'Template'] # ['Emotion word']\n",
    "SEED = 42\n",
    "VAR = 0\n",
    "TRAIN_SIZE = 0.8\n",
    "\n",
    "class IIT_EEC_Dataset:\n",
    "    def __init__(self, embed_func, split, size, emotion='joy'):\n",
    "        self.embed_func = embed_func\n",
    "        self.split = split\n",
    "        self.size = size\n",
    "        eec_df = pd.read_csv(EEC_PATH)\n",
    "        eec_df = eec_df[eec_df['Emotion'] == emotion].reset_index(drop=True)\n",
    "        self.train_df, self.test_df = train_test_split(eec_df, train_size=TRAIN_SIZE, shuffle=True)\n",
    "        self.eec_df = self.train_df if self.split == 'train' else self.test_df\n",
    "        self.variables = list(self.eec_df['Gender'].unique())\n",
    "        self.controls = CONTROLS\n",
    "        assert len(self.variables) == 2\n",
    "        assert self.size % 2 == 0\n",
    "\n",
    "    def flip(self, v):\n",
    "        if v == self.variables[0]:\n",
    "            return self.variables[1]\n",
    "        else:\n",
    "            return self.variables[0]\n",
    "\n",
    "    def get_intervention(self, base, source):\n",
    "        return VAR\n",
    "\n",
    "    def create_dataset_by_variable_states(self):\n",
    "        data = {}\n",
    "        variables = self.controls + ['Gender']\n",
    "        control_values = [list(self.eec_df[v].unique()) for v in variables]\n",
    "        num_classes = reduce(lambda a, b: a * b, [len(l) for l in control_values])\n",
    "        s = self.size // num_classes\n",
    "        for variable_state in itertools.product(*control_values):\n",
    "            state_data = self.eec_df[\n",
    "                reduce(\n",
    "                    lambda a, b: a & b,\n",
    "                    [self.eec_df[variables[i]] == variable_state[i] for i in range(len(variables))]\n",
    "                )\n",
    "            ]\n",
    "\n",
    "            # for now, simply ignore missing data\n",
    "            if state_data.shape[0] == 0:\n",
    "                continue\n",
    "            \n",
    "            state_data = state_data.sample(s, random_state=SEED)\n",
    "\n",
    "            data[variable_state] = []\n",
    "            for i, r in state_data.iterrows():\n",
    "                base_x, base_mask = self.embed_func(r['Sentence'])\n",
    "                base_label = r['Prediction']\n",
    "                data[variable_state].append((base_x, base_mask, base_label))\n",
    "        return data\n",
    "\n",
    "    def create_dataset(self, debiased=False, shuffle=True):\n",
    "        data = []\n",
    "        variables = self.controls + ['Gender']\n",
    "        control_values = [list(self.eec_df[v].unique()) for v in variables]\n",
    "        num_classes = reduce(lambda a, b: a * b, [len(l) for l in control_values])\n",
    "        s = self.size // num_classes # number of pairs per variable state\n",
    "        for base_state in itertools.product(*control_values):\n",
    "            base_df = self.eec_df[\n",
    "                reduce(\n",
    "                    lambda a, b: a & b,\n",
    "                    [self.eec_df[variables[i]] == base_state[i] for i in range(len(variables))]\n",
    "                )\n",
    "            ].copy().reset_index(drop=True)\n",
    "\n",
    "            # keep all controls the same, but flip gender value\n",
    "            source_state = list(base_state)[:-1] + [self.flip(base_state[-1])]\n",
    "            source_df = self.eec_df[\n",
    "                reduce(\n",
    "                    lambda a, b: a & b,\n",
    "                    [self.eec_df[variables[i]] == source_state[i] for i in range(len(variables))]\n",
    "                )\n",
    "            ].copy().reset_index(drop=True)\n",
    "\n",
    "            # for now, sample up to s pairs per variable state\n",
    "            k = min(s, base_df.shape[0] * source_df.shape[0])\n",
    "\n",
    "            pair_indices = random.sample(\n",
    "                list(itertools.product(base_df.index, source_df.index)), k=k\n",
    "            )\n",
    "\n",
    "            for base_i, source_i in pair_indices:\n",
    "                base, source = base_df.iloc[base_i], source_df.iloc[source_i]\n",
    "                base_x, base_mask = self.embed_func(base['Sentence'])\n",
    "                source_x, source_mask = self.embed_func(source['Sentence'])\n",
    "                base_label = base['Prediction']\n",
    "                intervention = self.get_intervention(base, source)\n",
    "                # assuming that gender is a causal variable in our graph\n",
    "                IIT_label = source['Prediction']\n",
    "\n",
    "                # if debiased, we'd like the label to be the mean of the base & source inputs\n",
    "                if debiased:\n",
    "                    base_label = IIT_label = (base_label + IIT_label) / 2.0\n",
    "\n",
    "                data.append((base_x, base_mask, base_label, source_x, source_mask, IIT_label, intervention))\n",
    "\n",
    "        if shuffle:\n",
    "            data.sort(key=lambda x: x[-1])\n",
    "            random.shuffle(data)\n",
    "        \n",
    "        base, base_mask, y, source, source_mask, IIT_y, interventions = zip(*data)\n",
    "        self.base = base\n",
    "        self.base_mask = base_mask\n",
    "        self.source = source\n",
    "        self.source_mask = source_mask\n",
    "        self.y = np.array(y)\n",
    "        self.IIT_y = np.array(IIT_y)\n",
    "        self.interventions = np.array(interventions)\n",
    "        return (self.base, self.base_mask), self.y, [(self.source,self.source_mask)], self.IIT_y, self.interventions"
   ]
  },
  {
   "cell_type": "code",
   "execution_count": 18,
   "id": "cf3ddf70",
   "metadata": {},
   "outputs": [],
   "source": [
    "def get_IIT_EEC_dataset(\n",
    "    data_size,\n",
    "    tokenizer_name,\n",
    "    split=\"train\",\n",
    "    debiased=False,\n",
    "    shuffle=True\n",
    "):\n",
    "    bert_tokenizer = BertTokenizer.from_pretrained(tokenizer_name)\n",
    "    \n",
    "    def encoding(X):\n",
    "        input = [X]\n",
    "        data = bert_tokenizer.batch_encode_plus(\n",
    "                input,\n",
    "                max_length=128,\n",
    "                add_special_tokens=True,\n",
    "                padding='max_length',\n",
    "                truncation=True,\n",
    "                return_attention_mask=True)\n",
    "        indices = torch.tensor(data['input_ids'])\n",
    "        mask = torch.tensor(data['attention_mask'])\n",
    "        return (indices, mask)\n",
    "    \n",
    "    dataset = IIT_EEC_Dataset(\n",
    "        embed_func=encoding,\n",
    "        split=split,\n",
    "        size=data_size\n",
    "    )\n",
    "    \n",
    "    X_base, y_base, X_sources,  y_IIT, interventions = dataset.create_dataset(debiased=debiased, shuffle=shuffle)\n",
    "    y_base = torch.tensor(y_base)\n",
    "    y_IIT = torch.tensor(y_IIT)\n",
    "    interventions = torch.tensor(interventions)\n",
    "    return X_base, y_base, X_sources,  y_IIT, interventions"
   ]
  },
  {
   "cell_type": "code",
   "execution_count": 11,
   "id": "0416dc62",
   "metadata": {},
   "outputs": [],
   "source": [
    "from ii_benchmark import IIBenchmarkMoNli\n",
    "\n",
    "VAR = 0\n",
    "\n",
    "num_layers = 12\n",
    "hidden_dim = 768\n",
    "data_size = 4096\n",
    "test_data_size = 256\n",
    "device = 'cuda:0'\n",
    "seed = 42\n",
    "\n",
    "iit_layer = 10 # 8\n",
    "hidden_dim_per_concept = 256\n",
    "\n",
    "intervention_ids_to_coords = {\n",
    "    VAR: [{\"layer\":iit_layer, \"start\":0, \"end\":hidden_dim_per_concept}]\n",
    "}\n",
    "\n",
    "benchmark = IIBenchmarkMoNli(\n",
    "    variable_names=['GEN'],\n",
    "    data_parameters={\n",
    "        'train_size': data_size, 'test_size': test_data_size\n",
    "    },\n",
    "    model_parameters={\n",
    "        'weights_name': 'bert-base-uncased',\n",
    "        'max_length': 128,\n",
    "        'n_classes': 1,\n",
    "        'hidden_dim': 768,\n",
    "        'target_layers' : [iit_layer],\n",
    "        'target_dims':{\n",
    "            \"start\" : 0,\n",
    "            \"end\" : 786,\n",
    "        },\n",
    "        'debug':False, \n",
    "        'device': device,\n",
    "        'static_search': False,\n",
    "        'nested_disentangle_inplace': False,\n",
    "        'learned_intervention_size': hidden_dim_per_concept\n",
    "    },\n",
    "    training_parameters={\n",
    "        'warm_start': False, 'max_iter': 10, \n",
    "        'batch_size': 4, #8, \n",
    "        'n_iter_no_change': 10, \n",
    "        'shuffle_train': False, \n",
    "        'eta': 1e-5, # 0.0005, \n",
    "        'device': device        \n",
    "    },\n",
    "    seed=seed\n",
    ")"
   ]
  },
  {
   "cell_type": "code",
   "execution_count": 12,
   "id": "b9866cd2",
   "metadata": {},
   "outputs": [
    {
     "name": "stderr",
     "output_type": "stream",
     "text": [
      "Some weights of the model checkpoint at bert-base-uncased were not used when initializing BertModel: ['cls.seq_relationship.weight', 'cls.predictions.decoder.weight', 'cls.predictions.transform.LayerNorm.bias', 'cls.predictions.transform.dense.weight', 'cls.predictions.transform.dense.bias', 'cls.predictions.transform.LayerNorm.weight', 'cls.seq_relationship.bias', 'cls.predictions.bias']\n",
      "- This IS expected if you are initializing BertModel from the checkpoint of a model trained on another task or with another architecture (e.g. initializing a BertForSequenceClassification model from a BertForPreTraining model).\n",
      "- This IS NOT expected if you are initializing BertModel from the checkpoint of a model that you expect to be exactly identical (initializing a BertForSequenceClassification model from a BertForSequenceClassification model).\n"
     ]
    }
   ],
   "source": [
    "LIM_bert = benchmark.create_model().to(device)"
   ]
  },
  {
   "cell_type": "code",
   "execution_count": 13,
   "id": "b49a9c39",
   "metadata": {},
   "outputs": [],
   "source": [
    "LIM_trainer = benchmark.create_classifier(LIM_bert)\n",
    "# LIM_trainer.model.set_analysis_mode(False)\n",
    "# LIM_trainer.model.set_analysis_mode(True) # try to learn alignment"
   ]
  },
  {
   "cell_type": "code",
   "execution_count": 14,
   "id": "5fc94234",
   "metadata": {},
   "outputs": [],
   "source": [
    "LIM_trainer.model.set_learn_intervention_vector(False)"
   ]
  },
  {
   "cell_type": "code",
   "execution_count": 15,
   "id": "4bdcc50c",
   "metadata": {},
   "outputs": [
    {
     "data": {
      "text/plain": [
       "<All keys matched successfully>"
      ]
     },
     "execution_count": 15,
     "metadata": {},
     "output_type": "execute_result"
    }
   ],
   "source": [
    "import torch\n",
    "\n",
    "model_name = 'saved_models/blackbox-45-42.bin'\n",
    "# model_name = 'dist-eec-layer-10.pt'\n",
    "\n",
    "LIM_trainer.model.load_state_dict(state_dict=torch.load(model_name))"
   ]
  },
  {
   "cell_type": "code",
   "execution_count": 9,
   "id": "6614be97",
   "metadata": {},
   "outputs": [],
   "source": [
    "LIM_trainer.model.set_learn_intervention_vector(True)"
   ]
  },
  {
   "attachments": {},
   "cell_type": "markdown",
   "id": "a8881722",
   "metadata": {},
   "source": [
    "Toggle the mode below to switch from DAS (`True`) to CPM (`False`)."
   ]
  },
  {
   "cell_type": "code",
   "execution_count": 22,
   "id": "12db258c",
   "metadata": {},
   "outputs": [],
   "source": [
    "# LIM_trainer.model.set_analysis_mode(True)"
   ]
  },
  {
   "cell_type": "code",
   "execution_count": 27,
   "id": "23f6c152",
   "metadata": {},
   "outputs": [
    {
     "data": {
      "text/plain": [
       "PearsonRResult(statistic=0.6664184538330994, pvalue=1.106228422322491e-142)"
      ]
     },
     "execution_count": 27,
     "metadata": {},
     "output_type": "execute_result"
    }
   ],
   "source": [
    "from scipy.stats import pearsonr\n",
    "\n",
    "X_semeval_test, y_semeval_test = get_semeval_dataset(test_df, 'bert-base-uncased', test_df.shape[0] - 1)\n",
    "predictions = LIM_trainer.predict(\n",
    "    X_semeval_test\n",
    ")\n",
    "\n",
    "pearsonr(predictions.cpu().numpy(), y_semeval_test.numpy())"
   ]
  },
  {
   "cell_type": "code",
   "execution_count": 10,
   "id": "14a856b5",
   "metadata": {},
   "outputs": [],
   "source": [
    "train_datasetIIT = get_IIT_EEC_dataset(\n",
    "    data_size=data_size, \n",
    "    split=\"train\",\n",
    "    tokenizer_name='bert-base-uncased'\n",
    ")\n",
    "X_base_train, y_base_train = train_datasetIIT[0:2]\n",
    "iit_data = tuple(train_datasetIIT[2:])"
   ]
  },
  {
   "cell_type": "code",
   "execution_count": null,
   "id": "abd0b95d",
   "metadata": {},
   "outputs": [],
   "source": [
    "_ = LIM_trainer.fit(\n",
    "    X_base_train, \n",
    "    y_base_train, \n",
    "    iit_data=iit_data,\n",
    "    intervention_ids_to_coords=intervention_ids_to_coords\n",
    ")"
   ]
  },
  {
   "attachments": {},
   "cell_type": "markdown",
   "id": "d6712a33",
   "metadata": {},
   "source": [
    "Learn intervention vector to debias model"
   ]
  },
  {
   "cell_type": "code",
   "execution_count": 10,
   "id": "1f2ab3c1",
   "metadata": {},
   "outputs": [],
   "source": [
    "train_datasetIIT = get_IIT_EEC_dataset(\n",
    "    data_size=data_size, \n",
    "    split=\"train\",\n",
    "    tokenizer_name='bert-base-uncased'\n",
    "    # debiased=True\n",
    ")\n",
    "X_base_train, y_base_train = train_datasetIIT[0:2]\n",
    "iit_data = tuple(train_datasetIIT[2:])"
   ]
  },
  {
   "cell_type": "code",
   "execution_count": 28,
   "id": "d692ca86",
   "metadata": {},
   "outputs": [
    {
     "name": "stderr",
     "output_type": "stream",
     "text": [
      "Epoch 1:   0%|          | 0/508 [00:00<?, ?it/s]c:\\Users\\amirz\\.conda\\envs\\interchange\\lib\\site-packages\\torch\\nn\\modules\\loss.py:530: UserWarning: Using a target size (torch.Size([4])) that is different to the input size (torch.Size([4, 1])). This will likely lead to incorrect results due to broadcasting. Please ensure they have the same size.\n",
      "  return F.mse_loss(input, target, reduction=self.reduction)\n",
      "Epoch 1:   0%|          | 1/508 [01:22<11:40:59, 82.96s/it, loss=0.00435, epoch_loss=0.00435]c:\\Users\\amirz\\.conda\\envs\\interchange\\lib\\site-packages\\torch\\nn\\modules\\loss.py:530: UserWarning: Using a target size (torch.Size([4])) that is different to the input size (torch.Size([4, 1])). This will likely lead to incorrect results due to broadcasting. Please ensure they have the same size.\n",
      "  return F.mse_loss(input, target, reduction=self.reduction)\n",
      "Epoch 1: 100%|█████████▉| 507/508 [02:09<00:00, 10.04it/s, loss=0.0158, epoch_loss=5.72]     c:\\Users\\amirz\\.conda\\envs\\interchange\\lib\\site-packages\\torch\\nn\\modules\\loss.py:530: UserWarning: Using a target size (torch.Size([2])) that is different to the input size (torch.Size([2, 1])). This will likely lead to incorrect results due to broadcasting. Please ensure they have the same size.\n",
      "  return F.mse_loss(input, target, reduction=self.reduction)\n",
      "Epoch 1: 100%|██████████| 508/508 [02:09<00:00,  3.91it/s, loss=0.00895, epoch_loss=5.73]\n",
      "Epoch 2: 100%|██████████| 508/508 [00:47<00:00, 10.70it/s, loss=0.00783, epoch_loss=5.23] \n",
      "Epoch 3: 100%|██████████| 508/508 [00:47<00:00, 10.67it/s, loss=0.00105, epoch_loss=5.26] \n",
      "Epoch 4: 100%|██████████| 508/508 [00:48<00:00, 10.41it/s, loss=0.00791, epoch_loss=5.26] \n",
      "Epoch 5: 100%|██████████| 508/508 [00:49<00:00, 10.20it/s, loss=0.0039, epoch_loss=5.46]  \n",
      "Epoch 6: 100%|██████████| 508/508 [00:53<00:00,  9.54it/s, loss=0.00342, epoch_loss=5.22] \n",
      "Epoch 7: 100%|██████████| 508/508 [00:52<00:00,  9.62it/s, loss=0.0019, epoch_loss=4.79]  \n",
      "Epoch 8: 100%|██████████| 508/508 [01:06<00:00,  7.66it/s, loss=0.0101, epoch_loss=5.15]  \n",
      "Epoch 9: 100%|██████████| 508/508 [00:59<00:00,  8.50it/s, loss=0.000589, epoch_loss=4.97]\n",
      "Epoch 10: 100%|██████████| 508/508 [00:59<00:00,  8.58it/s, loss=0.0192, epoch_loss=5.29]  \n",
      "Finished epoch 10 of 10; error is 5.288596326296101"
     ]
    }
   ],
   "source": [
    "# when learning intervention vector\n",
    "_ = LIM_trainer.fit(\n",
    "    X_base_train, \n",
    "    y_base_train, \n",
    "    iit_data=iit_data,\n",
    "    intervention_ids_to_coords=intervention_ids_to_coords\n",
    ")"
   ]
  },
  {
   "cell_type": "code",
   "execution_count": 14,
   "id": "9d28afb0",
   "metadata": {},
   "outputs": [],
   "source": [
    "# torch.save(LIM_trainer.model.state_dict(), 'das-eec-layer-10-learned-intervention.pt')"
   ]
  },
  {
   "cell_type": "code",
   "execution_count": 18,
   "id": "3b4c41d4",
   "metadata": {},
   "outputs": [],
   "source": [
    "import torch\n",
    "\n",
    "model_name = 'dist-eec-no-controls.pt'\n",
    "\n",
    "LIM_trainer.model.load_state_dict(state_dict=torch.load(model_name))\n",
    "LIM_trainer.model.set_analysis_mode(True)"
   ]
  },
  {
   "cell_type": "code",
   "execution_count": 15,
   "id": "aef12f7d",
   "metadata": {},
   "outputs": [],
   "source": [
    "X_sources,  y_IIT, interventions = iit_data\n",
    "\n",
    "# train data eval\n",
    "base_preds_train = LIM_trainer.predict(\n",
    "    X_base_train\n",
    ")\n",
    "IIT_preds_train = LIM_trainer.iit_predict(\n",
    "    X_base_train, X_sources, \n",
    "    interventions, \n",
    "    intervention_ids_to_coords\n",
    ")"
   ]
  },
  {
   "cell_type": "code",
   "execution_count": 16,
   "id": "951511a1",
   "metadata": {},
   "outputs": [],
   "source": [
    "test_datasetIIT = get_IIT_EEC_dataset(\n",
    "    data_size=test_data_size, \n",
    "    split=\"test\",\n",
    "    tokenizer_name='bert-base-uncased'\n",
    ")\n",
    "X_base_test, y_base_test, X_sources_test, y_IIT_test, interventions_test = test_datasetIIT"
   ]
  },
  {
   "cell_type": "code",
   "execution_count": 17,
   "id": "45ecb8fd",
   "metadata": {},
   "outputs": [],
   "source": [
    "# train data eval\n",
    "base_preds_test = LIM_trainer.predict(\n",
    "    X_base_test\n",
    ")\n",
    "IIT_preds_test = LIM_trainer.iit_predict(\n",
    "    X_base_test, X_sources_test, \n",
    "    interventions_test, \n",
    "    intervention_ids_to_coords\n",
    ")"
   ]
  },
  {
   "cell_type": "code",
   "execution_count": 22,
   "id": "50e43998",
   "metadata": {},
   "outputs": [],
   "source": [
    "# test on held-out semeval test set (original task)\n",
    "X_semeval_test, y_semeval_test = get_semeval_dataset(test_df, 'bert-base-uncased', test_df.shape[0] - 1)\n",
    "semeval_preds_test = LIM_trainer.predict(\n",
    "    X_semeval_test\n",
    ")"
   ]
  },
  {
   "attachments": {},
   "cell_type": "markdown",
   "id": "1f957b20",
   "metadata": {},
   "source": [
    "### Base Task Metrics\n",
    "\n",
    "How well does the model do at replicating the blackbox model's behavior on the EEC dataset? (**only applies to CPM**)"
   ]
  },
  {
   "cell_type": "code",
   "execution_count": 23,
   "id": "f257d1db",
   "metadata": {},
   "outputs": [
    {
     "name": "stdout",
     "output_type": "stream",
     "text": [
      "Train\n",
      "0.004512094702692895\n",
      "PearsonRResult(statistic=0.7993635034694295, pvalue=0.0)\n"
     ]
    }
   ],
   "source": [
    "from sklearn.metrics import mean_squared_error\n",
    "from scipy.stats import pearsonr\n",
    "\n",
    "mse = mean_squared_error(\n",
    "    y_pred=base_preds_train.squeeze().detach().cpu().numpy(), \n",
    "    y_true=y_base_train.squeeze().detach().cpu().numpy()\n",
    ")\n",
    "corr = pearsonr(\n",
    "    base_preds_train.squeeze().detach().cpu().numpy(), \n",
    "    y_base_train.squeeze().detach().cpu().numpy()\n",
    ")\n",
    "\n",
    "print('Train')\n",
    "print(mse)\n",
    "print(corr)"
   ]
  },
  {
   "cell_type": "code",
   "execution_count": 24,
   "id": "b84670b0",
   "metadata": {},
   "outputs": [
    {
     "name": "stdout",
     "output_type": "stream",
     "text": [
      "Test\n",
      "0.0048092496414756224\n",
      "PearsonRResult(statistic=0.7949749456576142, pvalue=2.0874391457961243e-16)\n"
     ]
    }
   ],
   "source": [
    "from sklearn.metrics import mean_squared_error\n",
    "from scipy.stats import pearsonr\n",
    "\n",
    "mse = mean_squared_error(\n",
    "    y_pred=base_preds_test.squeeze().detach().cpu().numpy(), \n",
    "    y_true=y_base_test.squeeze().detach().cpu().numpy()\n",
    ")\n",
    "corr = pearsonr(\n",
    "    base_preds_test.squeeze().detach().cpu().numpy(), \n",
    "    y_base_test.squeeze().detach().cpu().numpy()\n",
    ")\n",
    "\n",
    "print('Test')\n",
    "print(mse)\n",
    "print(corr)\n"
   ]
  },
  {
   "attachments": {},
   "cell_type": "markdown",
   "id": "5e193ac6",
   "metadata": {},
   "source": [
    "### IIT Objective Metrics\n",
    "\n",
    "**Key metric**: does our alignment achieve a strong interchange intervention accuracy?"
   ]
  },
  {
   "cell_type": "code",
   "execution_count": 32,
   "id": "5743fe36",
   "metadata": {},
   "outputs": [
    {
     "name": "stdout",
     "output_type": "stream",
     "text": [
      "Train\n",
      "0.0020499918859300348\n",
      "PearsonRResult(statistic=0.9133175547595499, pvalue=0.0)\n"
     ]
    }
   ],
   "source": [
    "from sklearn.metrics import mean_squared_error\n",
    "from scipy.stats import pearsonr\n",
    "\n",
    "mse = mean_squared_error(\n",
    "    y_pred=IIT_preds_train.squeeze().detach().cpu().numpy(), \n",
    "    y_true=y_IIT.squeeze().detach().cpu().numpy()\n",
    ")\n",
    "corr = pearsonr(\n",
    "    IIT_preds_train.squeeze().detach().cpu().numpy(), \n",
    "    y_IIT.squeeze().detach().cpu().numpy()\n",
    ")\n",
    "\n",
    "print('Train')\n",
    "print(mse)\n",
    "print(corr)\n"
   ]
  },
  {
   "cell_type": "code",
   "execution_count": 33,
   "id": "11151975",
   "metadata": {},
   "outputs": [
    {
     "name": "stdout",
     "output_type": "stream",
     "text": [
      "Test\n",
      "0.002179943798611736\n",
      "PearsonRResult(statistic=0.8765886207244193, pvalue=1.1906229533680072e-82)\n"
     ]
    }
   ],
   "source": [
    "from sklearn.metrics import mean_squared_error\n",
    "from scipy.stats import pearsonr\n",
    "\n",
    "mse = mean_squared_error(\n",
    "    y_pred=IIT_preds_test.squeeze().detach().cpu().numpy(), \n",
    "    y_true=y_IIT_test.squeeze().detach().cpu().numpy()\n",
    ")\n",
    "corr = pearsonr(\n",
    "    IIT_preds_test.squeeze().detach().cpu().numpy(), \n",
    "    y_IIT_test.squeeze().detach().cpu().numpy()\n",
    ")\n",
    "\n",
    "print('Test')\n",
    "print(mse)\n",
    "print(corr)\n"
   ]
  },
  {
   "attachments": {},
   "cell_type": "markdown",
   "id": "cd34662a",
   "metadata": {},
   "source": [
    "### SemEval Test Set\n",
    "\n",
    "How well does the model do at replicating the blackbox model's behavior on the SemEval dataset? (**only applies to CPM**)"
   ]
  },
  {
   "cell_type": "code",
   "execution_count": 25,
   "id": "f25637f0",
   "metadata": {},
   "outputs": [
    {
     "name": "stdout",
     "output_type": "stream",
     "text": [
      "Test\n",
      "0.029105332\n",
      "PearsonRResult(statistic=0.6664184538330994, pvalue=1.106228422322491e-142)\n"
     ]
    }
   ],
   "source": [
    "from sklearn.metrics import mean_squared_error\n",
    "from scipy.stats import pearsonr\n",
    "\n",
    "mse = mean_squared_error(\n",
    "    y_pred=semeval_preds_test.squeeze().detach().cpu().numpy(), \n",
    "    y_true=y_semeval_test.squeeze().detach().cpu().numpy()\n",
    ")\n",
    "corr = pearsonr(\n",
    "    semeval_preds_test.squeeze().detach().cpu().numpy(), \n",
    "    y_semeval_test.squeeze().detach().cpu().numpy()\n",
    ")\n",
    "\n",
    "print('Test')\n",
    "print(mse)\n",
    "print(corr)"
   ]
  },
  {
   "attachments": {},
   "cell_type": "markdown",
   "id": "5ef3f26b",
   "metadata": {},
   "source": [
    "## Debiasing\n",
    "\n",
    "In this section, we take our blackbox model along with our learned alignment, and try to create a debiased version of our model. We do this by intervening on the model's internal representation of gender (as indicated by our alignment) during inference time. Some intervention options include the following:\n",
    "- **Male-Only**: intervene with a static \"male\" vector, computed by averaging over the activations of gender when running our model on EEC sentences with a male noun.\n",
    "- **Female-Only**: similarly, intervene with a static \"female\" vector.\n",
    "- **Null-Out**: intervene with a static zero vector.\n",
    "- **Average**: intervene with a static vector that averages the male and female activations. "
   ]
  },
  {
   "cell_type": "code",
   "execution_count": 16,
   "id": "bf7e7ed4",
   "metadata": {},
   "outputs": [],
   "source": [
    "def get_IIT_EEC_dataset_by_variable_state(\n",
    "    data_size,\n",
    "    tokenizer_name,\n",
    "    split=\"train\"\n",
    "):\n",
    "    bert_tokenizer = BertTokenizer.from_pretrained(tokenizer_name)\n",
    "    \n",
    "    def encoding(X):\n",
    "        input = [X]\n",
    "        data = bert_tokenizer.batch_encode_plus(\n",
    "                input,\n",
    "                max_length=128,\n",
    "                add_special_tokens=True,\n",
    "                padding='max_length',\n",
    "                truncation=True,\n",
    "                return_attention_mask=True)\n",
    "        indices = torch.tensor(data['input_ids'])\n",
    "        mask = torch.tensor(data['attention_mask'])\n",
    "        return (indices, mask)\n",
    "    \n",
    "    dataset = IIT_EEC_Dataset(\n",
    "        embed_func=encoding,\n",
    "        split=split,\n",
    "        size=data_size)\n",
    "    \n",
    "    data = dataset.create_dataset_by_variable_states()\n",
    "\n",
    "    output = {}\n",
    "    for key in data:\n",
    "        base, base_mask, y_base = zip(*data[key])\n",
    "        X_base = (base, base_mask)\n",
    "        y_base = torch.tensor(y_base)\n",
    "        output[key] = (X_base, y_base)\n",
    "\n",
    "    return output"
   ]
  },
  {
   "cell_type": "code",
   "execution_count": 9,
   "id": "c3947927",
   "metadata": {},
   "outputs": [],
   "source": [
    "def get_activations_by_variable_state(data_size, gets, tokenizer_name='bert-base-uncased', split='train', batch_size=8):\n",
    "    dataset = get_IIT_EEC_dataset_by_variable_state(data_size, tokenizer_name, split)\n",
    "    output = {}\n",
    "    for key in dataset:\n",
    "        X_base, y_base = dataset[key]\n",
    "        inputs, masks = X_base\n",
    "        inputs, masks = torch.stack(inputs).squeeze(), torch.stack(masks).squeeze()\n",
    "        # print(inputs.shape)\n",
    "        activations = []\n",
    "        with torch.no_grad():\n",
    "            for b in range(0, inputs.size(0), batch_size):\n",
    "                X_batch = (\n",
    "                    inputs[b:b + batch_size].to(LIM_trainer.device), \n",
    "                    masks[b:b + batch_size].to(LIM_trainer.device)\n",
    "                )\n",
    "                # for now (for whatever reason) cut off batch sizes that are too small\n",
    "                if X_batch[0].size(0) < batch_size:\n",
    "                    break\n",
    "                activations_batch, _ = LIM_trainer.model.retrieve_activations(X_batch, gets[0], None)\n",
    "                activations.append(activations_batch)\n",
    "        output[key] = torch.cat(activations, dim=0).mean(dim=0)\n",
    "    return output"
   ]
  },
  {
   "cell_type": "code",
   "execution_count": 10,
   "id": "0978d75c",
   "metadata": {},
   "outputs": [],
   "source": [
    "def get_intervention_logits_by_variable_state(v, data, activations, gets, batch_size=8):\n",
    "    output = {}\n",
    "    for key in data:\n",
    "        output[key] = []\n",
    "        X_base, y_base = data[key]\n",
    "        inputs, masks = X_base\n",
    "        inputs, masks = torch.stack(inputs).squeeze(), torch.stack(masks).squeeze()\n",
    "\n",
    "        sets = copy.deepcopy(gets)\n",
    "        # keep control variables, set sensitive variable\n",
    "        new_key = tuple(list(key)[:-1] + [v])\n",
    "        sets[0]['intervention'] = activations[new_key].repeat((batch_size, 1))\n",
    "\n",
    "        logits = []\n",
    "        with torch.no_grad():\n",
    "            for b in range(0, inputs.size(0), batch_size):\n",
    "                X_batch = (\n",
    "                    inputs[b:b + batch_size].to(LIM_trainer.device), \n",
    "                    masks[b:b + batch_size].to(LIM_trainer.device)\n",
    "                )\n",
    "                # for now cut off batch sizes that are too small\n",
    "                # (can also re-evaluate sets for each batch)\n",
    "                if X_batch[0].size(0) < batch_size:\n",
    "                    break\n",
    "                \n",
    "                _, logits_batch = LIM_trainer.model.retrieve_activations(X_batch, gets[0], sets)\n",
    "                logits.append(logits_batch)\n",
    "        output[key] = {'intervention': torch.cat(logits, dim=0), 'base': y_base.unsqueeze(0)}\n",
    "    return output"
   ]
  },
  {
   "cell_type": "code",
   "execution_count": 11,
   "id": "bd16098b",
   "metadata": {},
   "outputs": [],
   "source": [
    "def evaluate_on_EEC_with_intervention(LIM_trainer, dataset, gets, intervention):\n",
    "    pronoun_dataset_m, proper_noun_dataset_m, pronoun_dataset_f, proper_noun_dataset_f = dataset\n",
    "\n",
    "    predictions_m = LIM_trainer.predict_with_intervention(pronoun_dataset_m, gets, intervention)\n",
    "    predictions_f = LIM_trainer.predict_with_intervention(pronoun_dataset_f, gets, intervention)\n",
    "\n",
    "    for x_m in zip(*proper_noun_dataset_m):\n",
    "        predictions_m = torch.cat((\n",
    "            predictions_m,\n",
    "            LIM_trainer.predict_with_intervention(x_m, gets, intervention).mean().unsqueeze(0)\n",
    "        ))\n",
    "    \n",
    "    for x_f in zip(*proper_noun_dataset_f):\n",
    "        predictions_f = torch.cat((\n",
    "            predictions_f,\n",
    "            LIM_trainer.predict_with_intervention(x_f, gets, intervention).mean().unsqueeze(0)\n",
    "        ))\n",
    "    \n",
    "    return predictions_m, predictions_f"
   ]
  },
  {
   "cell_type": "code",
   "execution_count": 18,
   "id": "3e6dff54",
   "metadata": {},
   "outputs": [],
   "source": [
    "VAR = 0\n",
    "\n",
    "intervention_ids_to_coords = {\n",
    "    VAR: [{\"layer\":iit_layer, \"start\":0, \"end\":hidden_dim_per_concept}]\n",
    "}\n",
    "\n",
    "data_size = 512\n",
    "gets = intervention_ids_to_coords[0]"
   ]
  },
  {
   "cell_type": "code",
   "execution_count": 19,
   "id": "29aa1f45",
   "metadata": {},
   "outputs": [],
   "source": [
    "_ = LIM_trainer.model.eval()"
   ]
  },
  {
   "cell_type": "code",
   "execution_count": null,
   "id": "41dd86c8",
   "metadata": {},
   "outputs": [],
   "source": [
    "data_size = 1000\n",
    "activations = get_activations_by_variable_state(data_size, gets)"
   ]
  },
  {
   "cell_type": "code",
   "execution_count": 43,
   "id": "f299a391",
   "metadata": {},
   "outputs": [
    {
     "data": {
      "text/plain": [
       "tensor(0.9920, device='cuda:0')"
      ]
     },
     "execution_count": 43,
     "metadata": {},
     "output_type": "execute_result"
    }
   ],
   "source": [
    "torch.nn.functional.cosine_similarity(activations[('female',)], activations[('male',)], dim=0)"
   ]
  },
  {
   "attachments": {},
   "cell_type": "markdown",
   "id": "6a6946e9",
   "metadata": {},
   "source": [
    "### Male-Only Intervention"
   ]
  },
  {
   "cell_type": "code",
   "execution_count": 44,
   "id": "a32d88d9",
   "metadata": {},
   "outputs": [],
   "source": [
    "eec_dataset = get_EEC_dataset('bert-base-uncased')\n",
    "\n",
    "predictions_m, predictions_f = evaluate_on_EEC_with_intervention(LIM_trainer, eec_dataset, gets, activations[('male',)])\n",
    "predictions_m = predictions_m.detach().cpu().numpy()\n",
    "predictions_f = predictions_f.detach().cpu().numpy()"
   ]
  },
  {
   "cell_type": "code",
   "execution_count": 45,
   "id": "f95cd758",
   "metadata": {},
   "outputs": [
    {
     "name": "stdout",
     "output_type": "stream",
     "text": [
      "0.6142291 0.60658056\n",
      "0.0076485276\n"
     ]
    }
   ],
   "source": [
    "print(predictions_m.mean(), predictions_f.mean())\n",
    "print(predictions_m.mean() - predictions_f.mean())"
   ]
  },
  {
   "cell_type": "code",
   "execution_count": 46,
   "id": "33f23c04",
   "metadata": {},
   "outputs": [
    {
     "name": "stdout",
     "output_type": "stream",
     "text": [
      "0.6876456876456877\n"
     ]
    }
   ],
   "source": [
    "print((predictions_m > predictions_f).sum() / len(predictions_m))"
   ]
  },
  {
   "cell_type": "code",
   "execution_count": 47,
   "id": "c909d1b5",
   "metadata": {},
   "outputs": [
    {
     "data": {
      "text/plain": [
       "Ttest_indResult(statistic=2.1931979198140588, pvalue=0.028561465430804917)"
      ]
     },
     "execution_count": 47,
     "metadata": {},
     "output_type": "execute_result"
    }
   ],
   "source": [
    "from scipy.stats import ttest_ind\n",
    "\n",
    "ttest_ind(predictions_m, predictions_f)"
   ]
  },
  {
   "cell_type": "code",
   "execution_count": 48,
   "id": "6cb89e67",
   "metadata": {},
   "outputs": [
    {
     "data": {
      "text/plain": [
       "PearsonRResult(statistic=0.6470643542376485, pvalue=5.714988050714603e-132)"
      ]
     },
     "execution_count": 48,
     "metadata": {},
     "output_type": "execute_result"
    }
   ],
   "source": [
    "from scipy.stats import pearsonr\n",
    "\n",
    "X_semeval_test, y_semeval_test = get_semeval_dataset(test_df, 'bert-base-uncased', test_df.shape[0] - 1)\n",
    "predictions = LIM_trainer.predict_with_intervention(\n",
    "    X_semeval_test,\n",
    "    gets,\n",
    "    activations[('male',)]\n",
    ")\n",
    "\n",
    "pearsonr(predictions.cpu().numpy(), y_semeval_test.numpy())"
   ]
  },
  {
   "attachments": {},
   "cell_type": "markdown",
   "id": "21f1b890",
   "metadata": {},
   "source": [
    "### Female-Only Intervention"
   ]
  },
  {
   "cell_type": "code",
   "execution_count": 49,
   "id": "7805f25e",
   "metadata": {},
   "outputs": [],
   "source": [
    "eec_dataset = get_EEC_dataset('bert-base-uncased')\n",
    "\n",
    "predictions_m, predictions_f = evaluate_on_EEC_with_intervention(LIM_trainer, eec_dataset, gets, activations[('female',)])\n",
    "predictions_m = predictions_m.detach().cpu().numpy()\n",
    "predictions_f = predictions_f.detach().cpu().numpy()"
   ]
  },
  {
   "cell_type": "code",
   "execution_count": 50,
   "id": "38cfc2a6",
   "metadata": {},
   "outputs": [
    {
     "name": "stdout",
     "output_type": "stream",
     "text": [
      "0.5998495 0.58562654\n",
      "0.01422298\n"
     ]
    }
   ],
   "source": [
    "print(predictions_m.mean(), predictions_f.mean())\n",
    "print(predictions_m.mean() - predictions_f.mean())"
   ]
  },
  {
   "cell_type": "code",
   "execution_count": 51,
   "id": "bd68de55",
   "metadata": {},
   "outputs": [
    {
     "name": "stdout",
     "output_type": "stream",
     "text": [
      "0.8391608391608392\n"
     ]
    }
   ],
   "source": [
    "print((predictions_m > predictions_f).sum() / len(predictions_m))"
   ]
  },
  {
   "cell_type": "code",
   "execution_count": 52,
   "id": "f683c7c9",
   "metadata": {},
   "outputs": [
    {
     "data": {
      "text/plain": [
       "Ttest_indResult(statistic=4.380278702530289, pvalue=1.3321451993537462e-05)"
      ]
     },
     "execution_count": 52,
     "metadata": {},
     "output_type": "execute_result"
    }
   ],
   "source": [
    "from scipy.stats import ttest_ind\n",
    "\n",
    "ttest_ind(predictions_m, predictions_f)"
   ]
  },
  {
   "cell_type": "code",
   "execution_count": 53,
   "id": "31dba078",
   "metadata": {},
   "outputs": [
    {
     "data": {
      "text/plain": [
       "PearsonRResult(statistic=0.6439993042060657, pvalue=2.4128279076576043e-130)"
      ]
     },
     "execution_count": 53,
     "metadata": {},
     "output_type": "execute_result"
    }
   ],
   "source": [
    "from scipy.stats import pearsonr\n",
    "\n",
    "X_semeval_test, y_semeval_test = get_semeval_dataset(test_df, 'bert-base-uncased', test_df.shape[0] - 1)\n",
    "predictions = LIM_trainer.predict_with_intervention(\n",
    "    X_semeval_test,\n",
    "    gets,\n",
    "    activations[('female',)]\n",
    ")\n",
    "\n",
    "pearsonr(predictions.cpu().numpy(), y_semeval_test.numpy())"
   ]
  },
  {
   "attachments": {},
   "cell_type": "markdown",
   "id": "8a3fcf1e",
   "metadata": {},
   "source": [
    "### Null-Out Intervention"
   ]
  },
  {
   "cell_type": "code",
   "execution_count": 54,
   "id": "ab9c422e",
   "metadata": {},
   "outputs": [],
   "source": [
    "eec_dataset = get_EEC_dataset('bert-base-uncased')\n",
    "\n",
    "zero_intervention = torch.zeros_like(activations[('male',)])\n",
    "\n",
    "predictions_m, predictions_f = evaluate_on_EEC_with_intervention(LIM_trainer, eec_dataset, gets, zero_intervention)\n",
    "predictions_m = predictions_m.detach().cpu().numpy()\n",
    "predictions_f = predictions_f.detach().cpu().numpy()"
   ]
  },
  {
   "cell_type": "code",
   "execution_count": 55,
   "id": "6e53f0c4",
   "metadata": {},
   "outputs": [
    {
     "name": "stdout",
     "output_type": "stream",
     "text": [
      "0.53504366 0.5261171\n",
      "0.00892657\n"
     ]
    }
   ],
   "source": [
    "print(predictions_m.mean(), predictions_f.mean())\n",
    "print(predictions_m.mean() - predictions_f.mean())"
   ]
  },
  {
   "cell_type": "code",
   "execution_count": 56,
   "id": "33777f26",
   "metadata": {},
   "outputs": [
    {
     "name": "stdout",
     "output_type": "stream",
     "text": [
      "0.6643356643356644\n"
     ]
    }
   ],
   "source": [
    "print((predictions_m > predictions_f).sum() / len(predictions_m))"
   ]
  },
  {
   "cell_type": "code",
   "execution_count": 57,
   "id": "aa7fc7f2",
   "metadata": {},
   "outputs": [
    {
     "data": {
      "text/plain": [
       "Ttest_indResult(statistic=1.652795236402862, pvalue=0.09873923775854923)"
      ]
     },
     "execution_count": 57,
     "metadata": {},
     "output_type": "execute_result"
    }
   ],
   "source": [
    "from scipy.stats import ttest_ind\n",
    "\n",
    "ttest_ind(predictions_m, predictions_f)"
   ]
  },
  {
   "cell_type": "code",
   "execution_count": 58,
   "id": "1ae25527",
   "metadata": {},
   "outputs": [
    {
     "data": {
      "text/plain": [
       "PearsonRResult(statistic=0.6584231237589335, pvalue=3.6813819112224346e-138)"
      ]
     },
     "execution_count": 58,
     "metadata": {},
     "output_type": "execute_result"
    }
   ],
   "source": [
    "from scipy.stats import pearsonr\n",
    "\n",
    "X_semeval_test, y_semeval_test = get_semeval_dataset(test_df, 'bert-base-uncased', test_df.shape[0] - 1)\n",
    "predictions = LIM_trainer.predict_with_intervention(\n",
    "    X_semeval_test,\n",
    "    gets,\n",
    "    zero_intervention\n",
    ")\n",
    "\n",
    "pearsonr(predictions.cpu().numpy(), y_semeval_test.numpy())"
   ]
  },
  {
   "attachments": {},
   "cell_type": "markdown",
   "id": "27f2597a",
   "metadata": {},
   "source": [
    "### Average of Representations Intervention"
   ]
  },
  {
   "cell_type": "code",
   "execution_count": 59,
   "id": "16ac18e1",
   "metadata": {},
   "outputs": [],
   "source": [
    "eec_dataset = get_EEC_dataset('bert-base-uncased')\n",
    "\n",
    "avg_intervention = torch.mean(torch.stack((list(activations.values()))), dim=0)\n",
    "\n",
    "predictions_m, predictions_f = evaluate_on_EEC_with_intervention(LIM_trainer, eec_dataset, gets, avg_intervention)\n",
    "predictions_m = predictions_m.detach().cpu().numpy()\n",
    "predictions_f = predictions_f.detach().cpu().numpy()"
   ]
  },
  {
   "cell_type": "code",
   "execution_count": 60,
   "id": "039f813f",
   "metadata": {},
   "outputs": [
    {
     "name": "stdout",
     "output_type": "stream",
     "text": [
      "0.60693955 0.5959782\n",
      "0.010961354\n"
     ]
    }
   ],
   "source": [
    "print(predictions_m.mean(), predictions_f.mean())\n",
    "print(predictions_m.mean() - predictions_f.mean())"
   ]
  },
  {
   "cell_type": "code",
   "execution_count": 61,
   "id": "dd5ef5a9",
   "metadata": {},
   "outputs": [
    {
     "name": "stdout",
     "output_type": "stream",
     "text": [
      "0.7505827505827506\n"
     ]
    }
   ],
   "source": [
    "print((predictions_m > predictions_f).sum() / len(predictions_m))"
   ]
  },
  {
   "cell_type": "code",
   "execution_count": 62,
   "id": "d413bc65",
   "metadata": {},
   "outputs": [
    {
     "data": {
      "text/plain": [
       "Ttest_indResult(statistic=3.2585617033813103, pvalue=0.0011639248453302056)"
      ]
     },
     "execution_count": 62,
     "metadata": {},
     "output_type": "execute_result"
    }
   ],
   "source": [
    "from scipy.stats import ttest_ind\n",
    "\n",
    "ttest_ind(predictions_m, predictions_f)"
   ]
  },
  {
   "cell_type": "code",
   "execution_count": 63,
   "id": "e7253722",
   "metadata": {},
   "outputs": [
    {
     "data": {
      "text/plain": [
       "PearsonRResult(statistic=0.6456274722330614, pvalue=3.321835531790205e-131)"
      ]
     },
     "execution_count": 63,
     "metadata": {},
     "output_type": "execute_result"
    }
   ],
   "source": [
    "from scipy.stats import pearsonr\n",
    "\n",
    "X_semeval_test, y_semeval_test = get_semeval_dataset(test_df, 'bert-base-uncased', test_df.shape[0] - 1)\n",
    "predictions = LIM_trainer.predict_with_intervention(\n",
    "    X_semeval_test,\n",
    "    gets,\n",
    "    avg_intervention\n",
    ")\n",
    "\n",
    "pearsonr(predictions.cpu().numpy(), y_semeval_test.numpy())"
   ]
  },
  {
   "attachments": {},
   "cell_type": "markdown",
   "id": "3165da8b",
   "metadata": {},
   "source": [
    "### No Intervention (Should Replicate Original Bias)"
   ]
  },
  {
   "cell_type": "code",
   "execution_count": 64,
   "id": "892b324e",
   "metadata": {},
   "outputs": [],
   "source": [
    "predictions_m, predictions_f = evaluate_on_EEC(LIM_trainer, eec_dataset)\n",
    "predictions_m = predictions_m.detach().cpu().numpy()\n",
    "predictions_f = predictions_f.detach().cpu().numpy()"
   ]
  },
  {
   "cell_type": "code",
   "execution_count": 65,
   "id": "6d7a6ca9",
   "metadata": {},
   "outputs": [
    {
     "name": "stdout",
     "output_type": "stream",
     "text": [
      "0.5847737 0.5465535\n",
      "0.038220227\n"
     ]
    }
   ],
   "source": [
    "print(predictions_m.mean(), predictions_f.mean())\n",
    "print(predictions_m.mean() - predictions_f.mean())"
   ]
  },
  {
   "cell_type": "code",
   "execution_count": 66,
   "id": "0dc38192",
   "metadata": {},
   "outputs": [
    {
     "name": "stdout",
     "output_type": "stream",
     "text": [
      "0.9044289044289044\n"
     ]
    }
   ],
   "source": [
    "print((predictions_m > predictions_f).sum() / len(predictions_m))"
   ]
  },
  {
   "cell_type": "code",
   "execution_count": 67,
   "id": "2fddc2fa",
   "metadata": {},
   "outputs": [
    {
     "data": {
      "text/plain": [
       "Ttest_indResult(statistic=5.002498941999388, pvalue=6.868047363665977e-07)"
      ]
     },
     "execution_count": 67,
     "metadata": {},
     "output_type": "execute_result"
    }
   ],
   "source": [
    "from scipy.stats import ttest_ind\n",
    "\n",
    "ttest_ind(predictions_m, predictions_f)"
   ]
  },
  {
   "cell_type": "code",
   "execution_count": 68,
   "id": "26bf4079",
   "metadata": {},
   "outputs": [
    {
     "data": {
      "text/plain": [
       "PearsonRResult(statistic=0.6917115275561229, pvalue=5.803079970497466e-158)"
      ]
     },
     "execution_count": 68,
     "metadata": {},
     "output_type": "execute_result"
    }
   ],
   "source": [
    "from scipy.stats import pearsonr\n",
    "\n",
    "X_semeval_test, y_semeval_test = get_semeval_dataset(test_df, 'bert-base-uncased', test_df.shape[0] - 1)\n",
    "predictions = LIM_trainer.predict(\n",
    "    X_semeval_test\n",
    ")\n",
    "\n",
    "pearsonr(predictions.cpu().numpy(), y_semeval_test.numpy())"
   ]
  },
  {
   "attachments": {},
   "cell_type": "markdown",
   "id": "7e12985d",
   "metadata": {},
   "source": [
    "### Learned Intervention"
   ]
  },
  {
   "cell_type": "code",
   "execution_count": 23,
   "id": "56ce03ab",
   "metadata": {},
   "outputs": [],
   "source": [
    "eec_dataset = get_EEC_dataset('bert-base-uncased')\n",
    "\n",
    "# zero_intervention = torch.zeros_like(activations[('male',)])\n",
    "learned_intervention = LIM_trainer.model.intervention_vector\n",
    "\n",
    "predictions_m, predictions_f = evaluate_on_EEC_with_intervention(LIM_trainer, eec_dataset, gets, learned_intervention)\n",
    "predictions_m = predictions_m.detach().cpu().numpy()\n",
    "predictions_f = predictions_f.detach().cpu().numpy()"
   ]
  },
  {
   "cell_type": "code",
   "execution_count": 24,
   "id": "aaadae04",
   "metadata": {},
   "outputs": [
    {
     "name": "stdout",
     "output_type": "stream",
     "text": [
      "0.5042578 0.47507203\n",
      "0.029185772\n"
     ]
    }
   ],
   "source": [
    "print(predictions_m.mean(), predictions_f.mean())\n",
    "print(predictions_m.mean() - predictions_f.mean())"
   ]
  },
  {
   "cell_type": "code",
   "execution_count": 25,
   "id": "a91c9e24",
   "metadata": {},
   "outputs": [
    {
     "name": "stdout",
     "output_type": "stream",
     "text": [
      "0.8648018648018648\n"
     ]
    }
   ],
   "source": [
    "print((predictions_m > predictions_f).sum() / len(predictions_m))"
   ]
  },
  {
   "cell_type": "code",
   "execution_count": 26,
   "id": "194cb471",
   "metadata": {},
   "outputs": [
    {
     "data": {
      "text/plain": [
       "Ttest_indResult(statistic=4.572065658782565, pvalue=5.540881559546543e-06)"
      ]
     },
     "execution_count": 26,
     "metadata": {},
     "output_type": "execute_result"
    }
   ],
   "source": [
    "from scipy.stats import ttest_ind\n",
    "\n",
    "ttest_ind(predictions_m, predictions_f)"
   ]
  },
  {
   "cell_type": "code",
   "execution_count": 27,
   "id": "0bf04918",
   "metadata": {},
   "outputs": [
    {
     "data": {
      "text/plain": [
       "PearsonRResult(statistic=0.5847180346217618, pvalue=3.1162676990856465e-102)"
      ]
     },
     "execution_count": 27,
     "metadata": {},
     "output_type": "execute_result"
    }
   ],
   "source": [
    "from scipy.stats import pearsonr\n",
    "\n",
    "X_semeval_test, y_semeval_test = get_semeval_dataset(test_df, 'bert-base-uncased', test_df.shape[0] - 1)\n",
    "predictions = LIM_trainer.predict_with_intervention(\n",
    "    X_semeval_test,\n",
    "    gets,\n",
    "    learned_intervention\n",
    ")\n",
    "\n",
    "pearsonr(predictions.cpu().numpy(), y_semeval_test.numpy())"
   ]
  },
  {
   "attachments": {},
   "cell_type": "markdown",
   "id": "fe2ef5ac",
   "metadata": {},
   "source": [
    "## Comparing to Iterative Nullspace Projection (INLP)\n",
    "\n",
    "Seems like a big downside of INLP is that it requires labels of sensitive attributes in the source task (i.e. SemEval). However, we only have labels of sensitive attributes in the bias evaluation task (i.e. EEC). I don't think that INLP can succeed in achieving low bias on EEC while maintaining strong accuracy on SemEval; in fact, I'm not even sure about how we would run INLP out of domain..."
   ]
  },
  {
   "cell_type": "code",
   "execution_count": 20,
   "id": "bc0ddb57",
   "metadata": {},
   "outputs": [],
   "source": [
    "train_datasetIIT = get_IIT_EEC_dataset(\n",
    "    data_size=data_size, \n",
    "    split=\"train\",\n",
    "    tokenizer_name='bert-base-uncased',\n",
    "    shuffle=False\n",
    ")\n",
    "X_base_train, y_base_train = train_datasetIIT[0:2]\n",
    "iit_data = tuple(train_datasetIIT[2:])"
   ]
  },
  {
   "cell_type": "code",
   "execution_count": 60,
   "id": "33c19810",
   "metadata": {},
   "outputs": [],
   "source": [
    "def get_hidden_activations(X_base):\n",
    "    y_base = torch.tensor([0 for _ in range(len(X_base[0]))])\n",
    "    dataset = LIM_trainer.build_dataset(X_base, y_base)\n",
    "    dataloader = LIM_trainer._build_dataloader(dataset, shuffle=False)\n",
    "    # Dataset:\n",
    "\n",
    "    # Model:\n",
    "    LIM_trainer.model.set_device(LIM_trainer.device)\n",
    "    LIM_trainer.model.eval()\n",
    "    \n",
    "    hidden_states = None\n",
    "    with torch.no_grad():\n",
    "        for batch_num, batch in enumerate(dataloader, start=1):\n",
    "            batch = [x.to(device, non_blocking=True) for x in batch]\n",
    "            base_batch, base_labels_batch = LIM_trainer.process_batch(batch, device=device)\n",
    "            batch_states = LIM_trainer.model.forward(\n",
    "                base_batch,\n",
    "                output_hidden_states=True\n",
    "            )\n",
    "            if hidden_states is None:\n",
    "                hidden_states = batch_states\n",
    "            else:\n",
    "                hidden_states = torch.cat([hidden_states, batch_states])\n",
    "    return hidden_states"
   ]
  },
  {
   "cell_type": "code",
   "execution_count": 61,
   "id": "8a667f57",
   "metadata": {},
   "outputs": [
    {
     "data": {
      "text/plain": [
       "torch.Size([4096, 768])"
      ]
     },
     "execution_count": 61,
     "metadata": {},
     "output_type": "execute_result"
    }
   ],
   "source": [
    "hidden_states = get_hidden_activations(X_base_train)\n",
    "\n",
    "hidden_states.shape"
   ]
  },
  {
   "cell_type": "code",
   "execution_count": 109,
   "id": "5237c20b",
   "metadata": {},
   "outputs": [
    {
     "name": "stderr",
     "output_type": "stream",
     "text": [
      "c:\\Users\\amirz\\.conda\\envs\\interchange\\lib\\site-packages\\sklearn\\manifold\\_t_sne.py:800: FutureWarning: The default initialization in TSNE will change from 'random' to 'pca' in 1.2.\n",
      "  warnings.warn(\n",
      "c:\\Users\\amirz\\.conda\\envs\\interchange\\lib\\site-packages\\sklearn\\manifold\\_t_sne.py:810: FutureWarning: The default learning rate in TSNE will change from 200.0 to 'auto' in 1.2.\n",
      "  warnings.warn(\n"
     ]
    },
    {
     "data": {
      "text/plain": [
       "<AxesSubplot: >"
      ]
     },
     "execution_count": 109,
     "metadata": {},
     "output_type": "execute_result"
    },
    {
     "data": {
      "image/png": "[encoded data removed]",
      "text/plain": [
       "<Figure size 640x480 with 1 Axes>"
      ]
     },
     "metadata": {},
     "output_type": "display_data"
    }
   ],
   "source": [
    "from sklearn.manifold import TSNE\n",
    "import seaborn as sns\n",
    "\n",
    "tsne = TSNE(n_components=2, random_state=SEED).fit_transform(hidden_states.cpu().numpy())\n",
    "\n",
    "sns.scatterplot(x=tsne[:, 0], y=tsne[:, 1], hue=(['m'] * 2048 + ['f'] * 2048))"
   ]
  },
  {
   "cell_type": "code",
   "execution_count": 64,
   "id": "451ec400",
   "metadata": {},
   "outputs": [],
   "source": [
    "torch.save(hidden_states.cpu(), 'hidden-states-bert.pt')"
   ]
  },
  {
   "cell_type": "code",
   "execution_count": null,
   "id": "d48117fb",
   "metadata": {},
   "outputs": [],
   "source": [
    "# 1. get hidden states from IIT-EEC train set\n",
    "# 2. run INLP algorithm to get project matrix\n",
    "# 3. re-train classifier head on eec df + projection matrix (can have goal be avg. of counterfactuals) \n",
    "# 4. evaluate INLP on EEC dataset + SemEval"
   ]
  },
  {
   "cell_type": "code",
   "execution_count": 71,
   "id": "a63399bd",
   "metadata": {},
   "outputs": [],
   "source": [
    "import scipy\n",
    "from typing import List, Dict\n",
    "from tqdm import tqdm\n",
    "from inlp import classifier\n",
    "\n",
    "def get_rowspace_projection(W: np.ndarray) -> np.ndarray:\n",
    "    \"\"\"\n",
    "    :param W: the matrix over its nullspace to project\n",
    "    :return: the projection matrix over the rowspace\n",
    "    \"\"\"\n",
    "\n",
    "    if np.allclose(W, 0):\n",
    "        w_basis = np.zeros_like(W.T)\n",
    "    else:\n",
    "        w_basis = scipy.linalg.orth(W.T) # orthogonal basis\n",
    "\n",
    "    P_W = w_basis.dot(w_basis.T) # orthogonal projection on W's rowspace\n",
    "\n",
    "    return P_W\n",
    "\n",
    "def get_projection_to_intersection_of_nullspaces(rowspace_projection_matrices: List[np.ndarray], input_dim: int):\n",
    "    \"\"\"\n",
    "    Given a list of rowspace projection matrices P_R(w_1), ..., P_R(w_n),\n",
    "    this function calculates the projection to the intersection of all nullspasces of the matrices w_1, ..., w_n.\n",
    "    uses the intersection-projection formula of Ben-Israel 2013 http://benisrael.net/BEN-ISRAEL-NOV-30-13.pdf:\n",
    "    N(w1)∩ N(w2) ∩ ... ∩ N(wn) = N(P_R(w1) + P_R(w2) + ... + P_R(wn))\n",
    "    :param rowspace_projection_matrices: List[np.array], a list of rowspace projections\n",
    "    :param dim: input dim\n",
    "    \"\"\"\n",
    "\n",
    "    I = np.eye(input_dim)\n",
    "    Q = np.sum(rowspace_projection_matrices, axis = 0)\n",
    "    P = I - get_rowspace_projection(Q)\n",
    "\n",
    "    return P\n",
    "\n",
    "def debias_by_specific_directions(directions: List[np.ndarray], input_dim: int):\n",
    "    \"\"\"\n",
    "    the goal of this function is to perform INLP on a set of user-provided directiosn (instead of learning those directions).\n",
    "    :param directions: list of vectors, as numpy arrays.\n",
    "    :param input_dim: dimensionality of the vectors.\n",
    "    \"\"\"\n",
    "\n",
    "    rowspace_projections = []\n",
    "\n",
    "    for v in directions:\n",
    "        P_v = get_rowspace_projection(v)\n",
    "        rowspace_projections.append(P_v)\n",
    "\n",
    "    P = get_projection_to_intersection_of_nullspaces(rowspace_projections, input_dim)\n",
    "\n",
    "    return P\n",
    "\n",
    "def get_debiasing_projection(classifier_class, cls_params: Dict, num_classifiers: int, input_dim: int,\n",
    "                             is_autoregressive: bool,\n",
    "                             min_accuracy: float, X_train: np.ndarray, Y_train: np.ndarray, X_dev: np.ndarray,\n",
    "                             Y_dev: np.ndarray, by_class=False, Y_train_main=None,\n",
    "                             Y_dev_main=None, dropout_rate = 0) -> np.ndarray:\n",
    "    \"\"\"\n",
    "    :param classifier_class: the sklearn classifier class (SVM/Perceptron etc.)\n",
    "    :param cls_params: a dictionary, containing the params for the sklearn classifier\n",
    "    :param num_classifiers: number of iterations (equivalent to number of dimensions to remove)\n",
    "    :param input_dim: size of input vectors\n",
    "    :param is_autoregressive: whether to train the ith classiifer on the data projected to the nullsapces of w1,...,wi-1\n",
    "    :param min_accuracy: above this threshold, ignore the learned classifier\n",
    "    :param X_train: ndarray, training vectors\n",
    "    :param Y_train: ndarray, training labels (protected attributes)\n",
    "    :param X_dev: ndarray, eval vectors\n",
    "    :param Y_dev: ndarray, eval labels (protected attributes)\n",
    "    :param by_class: if true, at each iteration sample one main-task label, and extract the protected attribute only from vectors from this class\n",
    "    :param T_train_main: ndarray, main-task train labels\n",
    "    :param Y_dev_main: ndarray, main-task eval labels\n",
    "    :param dropout_rate: float, default: 0 (note: not recommended to be used with autoregressive=True)\n",
    "    :return: P, the debiasing projection; rowspace_projections, the list of all rowspace projection; Ws, the list of all calssifiers.\n",
    "    \"\"\"\n",
    "    if dropout_rate > 0 and is_autoregressive:\n",
    "        print(\"Note: when using dropout with autoregressive training, the property w_i.dot(w_(i+1)) = 0 no longer holds.\")\n",
    "\n",
    "    I = np.eye(input_dim)\n",
    "\n",
    "    if by_class:\n",
    "        if ((Y_train_main is None) or (Y_dev_main is None)):\n",
    "            raise Exception(\"Need main-task labels for by-class training.\")\n",
    "        main_task_labels = list(set(Y_train_main.tolist()))\n",
    "\n",
    "    X_train_cp = X_train.copy()\n",
    "    X_dev_cp = X_dev.copy()\n",
    "    rowspace_projections = []\n",
    "    Ws = []\n",
    "\n",
    "    pbar = tqdm(range(num_classifiers))\n",
    "    for i in pbar:\n",
    "\n",
    "        clf = classifier.SKlearnClassifier(classifier_class(**cls_params))\n",
    "        dropout_scale = 1./(1 - dropout_rate + 1e-6)\n",
    "        dropout_mask = (np.random.rand(*X_train.shape) < (1-dropout_rate)).astype(float) * dropout_scale\n",
    "\n",
    "\n",
    "        if by_class:\n",
    "            #cls = np.random.choice(Y_train_main)  # uncomment for frequency-based sampling\n",
    "            cls = random.choice(main_task_labels)\n",
    "            relevant_idx_train = Y_train_main == cls\n",
    "            relevant_idx_dev = Y_dev_main == cls\n",
    "        else:\n",
    "            relevant_idx_train = np.ones(X_train_cp.shape[0], dtype=bool)\n",
    "            relevant_idx_dev = np.ones(X_dev_cp.shape[0], dtype=bool)\n",
    "\n",
    "        acc = clf.train_network((X_train_cp * dropout_mask)[relevant_idx_train], Y_train[relevant_idx_train], X_dev_cp[relevant_idx_dev], Y_dev[relevant_idx_dev])\n",
    "        pbar.set_description(\"iteration: {}, accuracy: {}\".format(i, acc))\n",
    "        if acc < min_accuracy: continue\n",
    "\n",
    "        W = clf.get_weights()\n",
    "        Ws.append(W)\n",
    "        P_rowspace_wi = get_rowspace_projection(W) # projection to W's rowspace\n",
    "        rowspace_projections.append(P_rowspace_wi)\n",
    "\n",
    "        if is_autoregressive:\n",
    "\n",
    "            \"\"\"\n",
    "            to ensure numerical stability, explicitly project to the intersection of the nullspaces found so far (instaed of doing X = P_iX,\n",
    "            which is problematic when w_i is not exactly orthogonal to w_i-1,...,w1, due to e.g inexact argmin calculation).\n",
    "            \"\"\"\n",
    "            # use the intersection-projection formula of Ben-Israel 2013 http://benisrael.net/BEN-ISRAEL-NOV-30-13.pdf:\n",
    "            # N(w1)∩ N(w2) ∩ ... ∩ N(wn) = N(P_R(w1) + P_R(w2) + ... + P_R(wn))\n",
    "\n",
    "            P = get_projection_to_intersection_of_nullspaces(rowspace_projections, input_dim)\n",
    "            # project\n",
    "\n",
    "            X_train_cp = (P.dot(X_train.T)).T\n",
    "            X_dev_cp = (P.dot(X_dev.T)).T\n",
    "\n",
    "    \"\"\"\n",
    "    calculae final projection matrix P=PnPn-1....P2P1\n",
    "    since w_i.dot(w_i-1) = 0, P2P1 = I - P1 - P2 (proof in the paper); this is more stable.\n",
    "    by induction, PnPn-1....P2P1 = I - (P1+..+PN). We will use instead Ben-Israel's formula to increase stability and also generalize to the non-orthogonal case (e.g. with dropout),\n",
    "    i.e., we explicitly project to intersection of all nullspaces (this is not critical at this point; I-(P1+...+PN) is roughly as accurate as this provided no dropout & regularization)\n",
    "    \"\"\"\n",
    "\n",
    "    P = get_projection_to_intersection_of_nullspaces(rowspace_projections, input_dim)\n",
    "\n",
    "    return P, rowspace_projections, Ws"
   ]
  },
  {
   "cell_type": "code",
   "execution_count": 68,
   "id": "256041ea",
   "metadata": {},
   "outputs": [],
   "source": [
    "from sklearn.linear_model import SGDClassifier\n",
    "\n",
    "num_classifiers = 200\n",
    "classifier_class = SGDClassifier #Perceptron\n",
    "input_dim = hidden_states.size(-1)\n",
    "is_autoregressive = True\n",
    "min_accuracy = 0.0"
   ]
  },
  {
   "cell_type": "code",
   "execution_count": 69,
   "id": "e5595510",
   "metadata": {},
   "outputs": [],
   "source": [
    "X = hidden_states.cpu().numpy()\n",
    "Y = np.array([0] * 2048 + [1] * 2048)"
   ]
  },
  {
   "cell_type": "code",
   "execution_count": 72,
   "id": "4ea6e34d",
   "metadata": {},
   "outputs": [
    {
     "name": "stderr",
     "output_type": "stream",
     "text": [
      "iteration: 199, accuracy: 0.510009765625: 100%|██████████| 200/200 [10:36<00:00,  3.18s/it]\n"
     ]
    }
   ],
   "source": [
    "P, rowspace_projections, Ws = get_debiasing_projection(classifier_class, {}, num_classifiers, input_dim, is_autoregressive, min_accuracy, X, Y, X, Y, by_class = False)"
   ]
  },
  {
   "cell_type": "code",
   "execution_count": 90,
   "id": "d7fd43c8",
   "metadata": {},
   "outputs": [],
   "source": [
    "for p in LIM_trainer.model.classifier_layer.parameters():\n",
    "    p.requires_grad = True"
   ]
  },
  {
   "cell_type": "code",
   "execution_count": 106,
   "id": "0a6c0823",
   "metadata": {},
   "outputs": [],
   "source": [
    "X_train_INLP = torch.mm(torch.tensor(X, dtype=torch.float), torch.tensor(P, dtype=torch.float))\n",
    "Y_train_INLP = y_base_train"
   ]
  },
  {
   "cell_type": "code",
   "execution_count": 111,
   "id": "de488103",
   "metadata": {},
   "outputs": [
    {
     "name": "stderr",
     "output_type": "stream",
     "text": [
      "c:\\Users\\amirz\\.conda\\envs\\interchange\\lib\\site-packages\\sklearn\\manifold\\_t_sne.py:800: FutureWarning: The default initialization in TSNE will change from 'random' to 'pca' in 1.2.\n",
      "  warnings.warn(\n",
      "c:\\Users\\amirz\\.conda\\envs\\interchange\\lib\\site-packages\\sklearn\\manifold\\_t_sne.py:810: FutureWarning: The default learning rate in TSNE will change from 200.0 to 'auto' in 1.2.\n",
      "  warnings.warn(\n"
     ]
    },
    {
     "data": {
      "text/plain": [
       "<AxesSubplot: >"
      ]
     },
     "execution_count": 111,
     "metadata": {},
     "output_type": "execute_result"
    },
    {
     "data": {
      "image/png": "[encoded data removed]",
      "text/plain": [
       "<Figure size 640x480 with 1 Axes>"
      ]
     },
     "metadata": {},
     "output_type": "display_data"
    }
   ],
   "source": [
    "from sklearn.manifold import TSNE\n",
    "import seaborn as sns\n",
    "\n",
    "tsne = TSNE(n_components=2, random_state=SEED).fit_transform(X_train_INLP.cpu().numpy())\n",
    "\n",
    "sns.scatterplot(x=tsne[:, 0], y=tsne[:, 1], hue=(['m'] * 2048 + ['f'] * 2048))"
   ]
  },
  {
   "cell_type": "code",
   "execution_count": 108,
   "id": "3695a481",
   "metadata": {},
   "outputs": [
    {
     "name": "stderr",
     "output_type": "stream",
     "text": [
      "100%|██████████| 512/512 [00:03<00:00, 151.74it/s, loss=0.103, epoch_loss=110] \n",
      "100%|██████████| 512/512 [00:03<00:00, 166.55it/s, loss=0.0248, epoch_loss=149]\n",
      "100%|██████████| 512/512 [00:03<00:00, 166.10it/s, loss=0.00532, epoch_loss=163]\n",
      "100%|██████████| 512/512 [00:03<00:00, 156.97it/s, loss=0.00292, epoch_loss=172]\n",
      "100%|██████████| 512/512 [00:03<00:00, 154.94it/s, loss=0.00278, epoch_loss=178]\n"
     ]
    }
   ],
   "source": [
    "from tqdm import trange\n",
    "\n",
    "n_epochs = 5\n",
    "batch_size = 8\n",
    "\n",
    "optimizer = LIM_trainer.build_optimizer()\n",
    "loss = torch.nn.MSELoss(reduction='mean')\n",
    "\n",
    "optimizer.zero_grad()\n",
    "for iteration in range(n_epochs):\n",
    "    epoch_error = 0\n",
    "    with trange(0, X_train_INLP.size(0), batch_size) as pbar:\n",
    "        for b in pbar:\n",
    "            batch = X_train_INLP[b: b + batch_size].to(LIM_trainer.device)\n",
    "            batch_labels = Y_train_INLP[b: b + batch_size].to(LIM_trainer.device)\n",
    "\n",
    "            batch_preds = LIM_trainer.model.classifier_layer(batch)\n",
    "            err = loss(batch_preds.squeeze(), batch_labels.to(torch.float).squeeze())\n",
    "            err.backward()\n",
    "\n",
    "            epoch_error += err.item()\n",
    "            pbar.set_postfix({'loss': err.item(), 'epoch_loss': epoch_error})\n",
    "\n",
    "            optimizer.step()\n",
    "            optimizer.zero_grad()"
   ]
  },
  {
   "cell_type": "code",
   "execution_count": 110,
   "id": "445d997b",
   "metadata": {},
   "outputs": [],
   "source": [
    "torch.save(LIM_trainer.model.state_dict(), 'bert-inlp.pt')"
   ]
  },
  {
   "cell_type": "code",
   "execution_count": 112,
   "id": "6216f209",
   "metadata": {},
   "outputs": [],
   "source": [
    "eec_dataset = get_EEC_dataset('bert-base-uncased')"
   ]
  },
  {
   "cell_type": "code",
   "execution_count": 132,
   "id": "a3841fc4",
   "metadata": {},
   "outputs": [],
   "source": [
    "def predict_with_inlp(X_base):\n",
    "    proj_mat = torch.tensor(P, dtype=torch.float).to(LIM_trainer.device)\n",
    "\n",
    "    hidden_states = get_hidden_activations(X_base)\n",
    "\n",
    "    projected_states = torch.mm(hidden_states, proj_mat)\n",
    "\n",
    "    return LIM_trainer.model.classifier_layer(projected_states).squeeze()"
   ]
  },
  {
   "cell_type": "code",
   "execution_count": 133,
   "id": "65333f69",
   "metadata": {},
   "outputs": [],
   "source": [
    "def evaluate_on_EEC_INLP(LIM_trainer, dataset):\n",
    "    pronoun_dataset_m, proper_noun_dataset_m, pronoun_dataset_f, proper_noun_dataset_f = dataset\n",
    "    \n",
    "    predictions_m = predict_with_inlp(pronoun_dataset_m)\n",
    "    predictions_f = predict_with_inlp(pronoun_dataset_f)\n",
    "\n",
    "    for x_m in zip(*proper_noun_dataset_m):\n",
    "        predictions_m = torch.cat((\n",
    "            predictions_m,\n",
    "            predict_with_inlp(x_m).mean().unsqueeze(0)\n",
    "        ))\n",
    "    \n",
    "    for x_f in zip(*proper_noun_dataset_f):\n",
    "        predictions_f = torch.cat((\n",
    "            predictions_f,\n",
    "            predict_with_inlp(x_f).mean().unsqueeze(0)\n",
    "        ))\n",
    "    \n",
    "    return predictions_m, predictions_f"
   ]
  },
  {
   "cell_type": "code",
   "execution_count": 134,
   "id": "9ea879b9",
   "metadata": {},
   "outputs": [],
   "source": [
    "predictions_m, predictions_f = evaluate_on_EEC_INLP(LIM_trainer, eec_dataset)\n",
    "predictions_m = predictions_m.detach().cpu().numpy()\n",
    "predictions_f = predictions_f.detach().cpu().numpy()"
   ]
  },
  {
   "cell_type": "code",
   "execution_count": 137,
   "id": "93ae3683",
   "metadata": {},
   "outputs": [
    {
     "name": "stdout",
     "output_type": "stream",
     "text": [
      "0.5695887 0.5613797\n",
      "0.00820905\n"
     ]
    }
   ],
   "source": [
    "print(predictions_m.mean(), predictions_f.mean())\n",
    "print(predictions_m.mean() - predictions_f.mean())"
   ]
  },
  {
   "cell_type": "code",
   "execution_count": 138,
   "id": "9b10a549",
   "metadata": {},
   "outputs": [
    {
     "name": "stdout",
     "output_type": "stream",
     "text": [
      "0.585081585081585\n"
     ]
    }
   ],
   "source": [
    "print((predictions_m > predictions_f).sum() / len(predictions_m))"
   ]
  },
  {
   "cell_type": "code",
   "execution_count": 139,
   "id": "956bfbc8",
   "metadata": {},
   "outputs": [
    {
     "data": {
      "text/plain": [
       "Ttest_indResult(statistic=1.236429011350224, pvalue=0.21663827942246694)"
      ]
     },
     "execution_count": 139,
     "metadata": {},
     "output_type": "execute_result"
    }
   ],
   "source": [
    "from scipy.stats import ttest_ind\n",
    "\n",
    "ttest_ind(predictions_m, predictions_f)"
   ]
  },
  {
   "cell_type": "code",
   "execution_count": 142,
   "id": "936ed4f0",
   "metadata": {},
   "outputs": [
    {
     "data": {
      "text/plain": [
       "PearsonRResult(statistic=0.28042215153462713, pvalue=2.137503194022302e-21)"
      ]
     },
     "execution_count": 142,
     "metadata": {},
     "output_type": "execute_result"
    }
   ],
   "source": [
    "from scipy.stats import pearsonr\n",
    "\n",
    "X_semeval_test, y_semeval_test = get_semeval_dataset(test_df, 'bert-base-uncased', test_df.shape[0] - 1)\n",
    "predictions = predict_with_inlp(\n",
    "    X_semeval_test\n",
    ")\n",
    "\n",
    "pearsonr(predictions.detach().cpu().numpy(), y_semeval_test.numpy())"
   ]
  },
  {
   "attachments": {},
   "cell_type": "markdown",
   "id": "76547ec8",
   "metadata": {},
   "source": [
    "## Debiasing CLIP?"
   ]
  },
  {
   "cell_type": "code",
   "execution_count": 1,
   "id": "1a336d2b",
   "metadata": {},
   "outputs": [
    {
     "name": "stderr",
     "output_type": "stream",
     "text": [
      "c:\\Users\\amirz\\.conda\\envs\\interchange\\lib\\site-packages\\tqdm\\auto.py:22: TqdmWarning: IProgress not found. Please update jupyter and ipywidgets. See https://ipywidgets.readthedocs.io/en/stable/user_install.html\n",
      "  from .autonotebook import tqdm as notebook_tqdm\n"
     ]
    }
   ],
   "source": [
    "import pandas as pd\n",
    "import numpy as np\n",
    "import itertools\n",
    "import random\n",
    "from functools import reduce\n",
    "from sklearn.model_selection import train_test_split\n",
    "from transformers import AutoTokenizer\n",
    "import torch\n",
    "import json\n",
    "\n",
    "\n",
    "CONCADIA_PATH = 'C:/Users/amirz/Source/NLP/local/concadia/concadia.pt' \n",
    "CONCADIA_METADATA_PATH = 'C:/Users/amirz/Source/NLP/local/concadia/wiki_split.json'\n",
    "COLUMNS = ['filename', 'caption', 'description', 'image_features']\n",
    "\n",
    "SEED = 42\n",
    "VAR = 0\n",
    "\n",
    "random.seed(SEED)\n",
    "\n",
    "class IITConcadiaDataset:\n",
    "    def __init__(self, embed_func, split):\n",
    "        self.embed_func = embed_func\n",
    "        self.split = split\n",
    "        concadia_data = torch.load(CONCADIA_PATH, map_location='cpu')\n",
    "        concadia_df = pd.DataFrame(concadia_data, columns=COLUMNS).set_index('filename')\n",
    "        with open(CONCADIA_METADATA_PATH) as f:\n",
    "            concadia_metadata = json.load(f)['images']\n",
    "        train_filenames = [im_data['filename'] for im_data in concadia_metadata if im_data['split'] == 'train']\n",
    "        val_filenames = [im_data['filename'] for im_data in concadia_metadata if im_data['split'] == 'val']\n",
    "        test_filenames = [im_data['filename'] for im_data in concadia_metadata if im_data['split'] == 'test']\n",
    "        self.train_df = concadia_df.loc[train_filenames]\n",
    "        self.val_df = concadia_df.loc[val_filenames]\n",
    "        self.test_df = concadia_df.loc[test_filenames]\n",
    "\n",
    "        if split == 'train':\n",
    "            self.concadia_df = self.train_df\n",
    "        elif split == 'val':\n",
    "            self.concadia_df = self.val_df\n",
    "        else:\n",
    "            self.concadia_df = self.test_df\n",
    "\n",
    "    def get_intervention(self, base, source):\n",
    "        return VAR\n",
    "\n",
    "    def create_dataset(self, shuffle=True):\n",
    "        data = []\n",
    "        for i, row in self.concadia_df.iterrows():\n",
    "            image_embeds = row['image_features']\n",
    "            base, source = row['caption'], row['description']\n",
    "            base_x, base_mask = self.embed_func(base)\n",
    "            source_x, source_mask = self.embed_func(source)\n",
    "            base_label = 0   # base label ignored during training\n",
    "            intervention = self.get_intervention(base, source)\n",
    "            IIT_label = 1    # 0 - prefer base input; 1 - prefer intervened input\n",
    "            data.append((base_x, base_mask, base_label, source_x, source_mask, IIT_label, intervention, image_embeds))\n",
    "\n",
    "            # repeat but with swapped base and source\n",
    "            base, source = source, base\n",
    "            base_x, base_mask = self.embed_func(base)\n",
    "            source_x, source_mask = self.embed_func(source)\n",
    "            base_label = 0\n",
    "            intervention = self.get_intervention(base, source)\n",
    "            IIT_label = 0   # 0 - prefer base input; 1 - prefer intervened input\n",
    "            data.append((base_x, base_mask, base_label, source_x, source_mask, IIT_label, intervention, image_embeds))\n",
    "\n",
    "        if shuffle:\n",
    "            data.sort(key=lambda x: x[-2])\n",
    "            random.shuffle(data)\n",
    "\n",
    "        base, base_mask, y, source, source_mask, IIT_y, interventions, image_embeds = zip(*data)\n",
    "        self.base = base\n",
    "        self.base_mask = base_mask\n",
    "        self.source = source\n",
    "        self.source_mask = source_mask\n",
    "        self.y = np.array(y)\n",
    "        self.IIT_y = np.array(IIT_y)\n",
    "        self.interventions = np.array(interventions)\n",
    "        self.image_embeds = image_embeds\n",
    "        return (\n",
    "            (self.base, self.base_mask, self.image_embeds), \n",
    "            self.y, \n",
    "            [(self.source,self.source_mask, self.image_embeds)], \n",
    "            self.IIT_y, \n",
    "            self.interventions\n",
    "        )"
   ]
  },
  {
   "cell_type": "code",
   "execution_count": 2,
   "id": "0dfab29a",
   "metadata": {},
   "outputs": [],
   "source": [
    "def get_IIT_concadia_dataset(\n",
    "    tokenizer_name,\n",
    "    split=\"train\",\n",
    "    shuffle=True\n",
    "):\n",
    "    tokenizer = AutoTokenizer.from_pretrained(tokenizer_name)\n",
    "    \n",
    "    def encoding(X):\n",
    "        input = [X]\n",
    "        data = tokenizer(\n",
    "            input,\n",
    "            max_length=77,\n",
    "            add_special_tokens=True,\n",
    "            padding='max_length',\n",
    "            truncation=True,\n",
    "            return_attention_mask=True,\n",
    "            return_tensors='pt'\n",
    "        )\n",
    "        indices = data['input_ids']\n",
    "        mask = data['attention_mask']\n",
    "        return (indices, mask)\n",
    "    \n",
    "    dataset = IITConcadiaDataset(\n",
    "        embed_func=encoding,\n",
    "        split=split\n",
    "    )\n",
    "    \n",
    "    X_base, y_base, X_sources,  y_IIT, interventions = dataset.create_dataset(shuffle=shuffle)\n",
    "    y_base = torch.tensor(y_base)\n",
    "    y_IIT = torch.tensor(y_IIT)\n",
    "    interventions = torch.tensor(interventions)\n",
    "    return X_base, y_base, X_sources, y_IIT, interventions"
   ]
  },
  {
   "cell_type": "code",
   "execution_count": 3,
   "id": "b5e7c3cf",
   "metadata": {},
   "outputs": [],
   "source": [
    "from transformers import AutoTokenizer, CLIPModel\n",
    "import torch\n",
    "\n",
    "device = \"cuda\" if torch.cuda.is_available() else \"cpu\"\n",
    "\n",
    "clip = CLIPModel.from_pretrained(\"openai/clip-vit-base-patch32\").to(device)"
   ]
  },
  {
   "cell_type": "code",
   "execution_count": 4,
   "id": "fa728ece",
   "metadata": {},
   "outputs": [],
   "source": [
    "from LIM_clip import LIMClipTextModel\n",
    "\n",
    "iit_layer = 10\n",
    "hidden_dim_per_concept = 128\n",
    "model_dim = 128\n",
    "\n",
    "intervention_ids_to_coords = {\n",
    "    VAR: [{\"layer\":iit_layer, \"start\":0, \"end\":hidden_dim_per_concept}]\n",
    "}\n",
    "\n",
    "lim_clip = LIMClipTextModel(\n",
    "    clip, \n",
    "    max_length=77, \n",
    "    device=device, \n",
    "    target_layers=[iit_layer], \n",
    "    target_dims={ \"start\": 0, \"end\": model_dim },\n",
    "    # learn_intervention_dim=hidden_dim_per_concept\n",
    ")"
   ]
  },
  {
   "cell_type": "code",
   "execution_count": 5,
   "id": "2c4273c7",
   "metadata": {},
   "outputs": [],
   "source": [
    "lim_clip.set_analysis_mode(False)"
   ]
  },
  {
   "cell_type": "code",
   "execution_count": 5,
   "id": "56df1851",
   "metadata": {},
   "outputs": [
    {
     "data": {
      "text/plain": [
       "<All keys matched successfully>"
      ]
     },
     "execution_count": 5,
     "metadata": {},
     "output_type": "execute_result"
    }
   ],
   "source": [
    "lim_clip.load_state_dict(torch.load('clip_iit.pt'))"
   ]
  },
  {
   "cell_type": "code",
   "execution_count": 7,
   "id": "54d7f9c5",
   "metadata": {},
   "outputs": [],
   "source": [
    "from trainer import CLIPLIMTrainer\n",
    "\n",
    "training_parameters={\n",
    "    'warm_start': False, \n",
    "    'max_iter': 2, \n",
    "    'batch_size': 6,\n",
    "    'n_iter_no_change': 10, \n",
    "    'shuffle_train': False, \n",
    "    'eta': 1e-5,\n",
    "    'device': device        \n",
    "}\n",
    "\n",
    "clip_trainer = CLIPLIMTrainer(\n",
    "    lim_clip,\n",
    "    **training_parameters\n",
    ")"
   ]
  },
  {
   "cell_type": "code",
   "execution_count": 6,
   "id": "8855b9ba",
   "metadata": {},
   "outputs": [],
   "source": [
    "train_datasetIIT = get_IIT_concadia_dataset(\n",
    "    split=\"train\",\n",
    "    tokenizer_name='openai/clip-vit-base-patch32'\n",
    ")\n",
    "X_base_train, y_base_train = train_datasetIIT[0:2]\n",
    "iit_data = tuple(train_datasetIIT[2:])"
   ]
  },
  {
   "cell_type": "code",
   "execution_count": 8,
   "id": "42561cc9",
   "metadata": {},
   "outputs": [
    {
     "name": "stderr",
     "output_type": "stream",
     "text": [
      "Epoch 1: 100%|██████████| 25845/25845 [2:36:19<00:00,  2.76it/s, loss=0.173, epoch_loss=4.29e+3]     \n",
      "Epoch 2: 100%|██████████| 25845/25845 [4:30:22<00:00,  1.59it/s, loss=0.173, epoch_loss=2.28e+3]         \n",
      "Finished epoch 2 of 2; error is 2278.631408380883"
     ]
    }
   ],
   "source": [
    "_ = clip_trainer.fit(\n",
    "    X_base_train, \n",
    "    y_base_train, \n",
    "    iit_data=iit_data,\n",
    "    intervention_ids_to_coords=intervention_ids_to_coords\n",
    ")"
   ]
  },
  {
   "cell_type": "code",
   "execution_count": 9,
   "id": "511d0a0c",
   "metadata": {},
   "outputs": [],
   "source": [
    "torch.save(clip_trainer.model.state_dict(), 'clip_iit_on_train.pt')"
   ]
  },
  {
   "attachments": {},
   "cell_type": "markdown",
   "id": "35a48fee",
   "metadata": {},
   "source": [
    "### Evaluate IIT"
   ]
  },
  {
   "cell_type": "code",
   "execution_count": 10,
   "id": "bc85773e",
   "metadata": {},
   "outputs": [
    {
     "name": "stderr",
     "output_type": "stream",
     "text": [
      "100%|██████████| 25845/25845 [28:09<00:00, 15.30it/s]\n"
     ]
    }
   ],
   "source": [
    "# evaluate on train set\n",
    "X_sources_train, y_IIT_train, intervention_train = iit_data\n",
    "\n",
    "IIT_preds_train = clip_trainer.iit_predict(\n",
    "    X_base_train, X_sources_train, \n",
    "    intervention_train, \n",
    "    intervention_ids_to_coords\n",
    ")"
   ]
  },
  {
   "cell_type": "code",
   "execution_count": 11,
   "id": "ccce6ee0",
   "metadata": {},
   "outputs": [
    {
     "name": "stderr",
     "output_type": "stream",
     "text": [
      "100%|██████████| 25845/25845 [13:23<00:00, 32.17it/s]\n"
     ]
    }
   ],
   "source": [
    "base_preds_train = clip_trainer.predict(\n",
    "    X_base_train\n",
    ")"
   ]
  },
  {
   "cell_type": "code",
   "execution_count": 12,
   "id": "08ea82d7",
   "metadata": {},
   "outputs": [
    {
     "data": {
      "text/plain": [
       "torch.Size([155068])"
      ]
     },
     "execution_count": 12,
     "metadata": {},
     "output_type": "execute_result"
    }
   ],
   "source": [
    "y_pred_train = torch.stack((base_preds_train, IIT_preds_train)).argmax(dim=0)\n",
    "y_pred_train.shape"
   ]
  },
  {
   "cell_type": "code",
   "execution_count": 13,
   "id": "21f21b8f",
   "metadata": {},
   "outputs": [
    {
     "name": "stdout",
     "output_type": "stream",
     "text": [
      "Train\n",
      "0.9464041581757681\n",
      "0.9435282766305862\n"
     ]
    }
   ],
   "source": [
    "from sklearn.metrics import accuracy_score, f1_score\n",
    "\n",
    "acc = accuracy_score(\n",
    "    y_pred=y_pred_train.squeeze().detach().cpu().numpy(), \n",
    "    y_true=y_IIT_train.squeeze().detach().cpu().numpy()\n",
    ")\n",
    "f1 = f1_score(\n",
    "    y_pred=y_pred_train.squeeze().detach().cpu().numpy(), \n",
    "    y_true=y_IIT_train.squeeze().detach().cpu().numpy()\n",
    ")\n",
    "\n",
    "print('Train')\n",
    "print(acc)\n",
    "print(f1)"
   ]
  },
  {
   "cell_type": "code",
   "execution_count": 14,
   "id": "745634e9",
   "metadata": {},
   "outputs": [],
   "source": [
    "val_datasetIIT = get_IIT_concadia_dataset(\n",
    "    split=\"test\",\n",
    "    tokenizer_name='openai/clip-vit-base-patch32'\n",
    ")\n",
    "X_base_val, y_base_val = val_datasetIIT[0:2]\n",
    "iit_data_val = tuple(val_datasetIIT[2:])"
   ]
  },
  {
   "cell_type": "code",
   "execution_count": 15,
   "id": "0ab46e78",
   "metadata": {},
   "outputs": [
    {
     "name": "stderr",
     "output_type": "stream",
     "text": [
      "100%|██████████| 3231/3231 [03:00<00:00, 17.91it/s]\n"
     ]
    }
   ],
   "source": [
    "# evaluate on eval set\n",
    "X_sources_val, y_IIT_val, intervention_val = iit_data_val\n",
    "\n",
    "n_samples = y_IIT_val.size(0)\n",
    "batch_size = training_parameters['batch_size']\n",
    "\n",
    "IIT_preds_val = clip_trainer.iit_predict(\n",
    "    X_base_val, \n",
    "    X_sources_val, \n",
    "    intervention_val, \n",
    "    intervention_ids_to_coords\n",
    ")"
   ]
  },
  {
   "cell_type": "code",
   "execution_count": 16,
   "id": "9aa682a0",
   "metadata": {},
   "outputs": [
    {
     "name": "stderr",
     "output_type": "stream",
     "text": [
      "100%|██████████| 3231/3231 [01:42<00:00, 31.51it/s]\n"
     ]
    }
   ],
   "source": [
    "base_preds_val = clip_trainer.predict(\n",
    "    X_base_val\n",
    ")"
   ]
  },
  {
   "cell_type": "code",
   "execution_count": 17,
   "id": "0a82a5bf",
   "metadata": {},
   "outputs": [
    {
     "data": {
      "text/plain": [
       "torch.Size([19382])"
      ]
     },
     "execution_count": 17,
     "metadata": {},
     "output_type": "execute_result"
    }
   ],
   "source": [
    "y_pred_val = torch.stack((base_preds_val, IIT_preds_val)).argmax(dim=0)\n",
    "y_pred_val.shape"
   ]
  },
  {
   "cell_type": "code",
   "execution_count": 18,
   "id": "7c2df366",
   "metadata": {},
   "outputs": [
    {
     "name": "stdout",
     "output_type": "stream",
     "text": [
      "Val\n",
      "0.8940253843772572\n",
      "0.8933319484835895\n"
     ]
    }
   ],
   "source": [
    "from sklearn.metrics import accuracy_score, f1_score\n",
    "\n",
    "acc = accuracy_score(\n",
    "    y_pred=y_pred_val.squeeze().detach().cpu().numpy(), \n",
    "    y_true=y_IIT_val.squeeze().detach().cpu().numpy()\n",
    ")\n",
    "f1 = f1_score(\n",
    "    y_pred=y_pred_val.squeeze().detach().cpu().numpy(), \n",
    "    y_true=y_IIT_val.squeeze().detach().cpu().numpy()\n",
    ")\n",
    "\n",
    "print('Val')\n",
    "print(acc)\n",
    "print(f1)"
   ]
  },
  {
   "attachments": {},
   "cell_type": "markdown",
   "id": "6824b84e",
   "metadata": {},
   "source": [
    "### Evaluate \"Bias\""
   ]
  },
  {
   "cell_type": "code",
   "execution_count": 19,
   "id": "13e61bb3",
   "metadata": {},
   "outputs": [],
   "source": [
    "val_datasetIIT = get_IIT_concadia_dataset(\n",
    "    split=\"val\",\n",
    "    tokenizer_name='openai/clip-vit-base-patch32',\n",
    "    shuffle=False\n",
    ")\n",
    "X_base_val, y_base_val = val_datasetIIT[0:2]\n",
    "iit_data_val = tuple(val_datasetIIT[2:])"
   ]
  },
  {
   "cell_type": "code",
   "execution_count": 20,
   "id": "dce7b673",
   "metadata": {},
   "outputs": [
    {
     "name": "stderr",
     "output_type": "stream",
     "text": [
      "100%|██████████| 3231/3231 [02:00<00:00, 26.92it/s]\n"
     ]
    }
   ],
   "source": [
    "base_preds_val = clip_trainer.predict(\n",
    "    X_base_val\n",
    ")"
   ]
  },
  {
   "cell_type": "code",
   "execution_count": 21,
   "id": "18a03923",
   "metadata": {},
   "outputs": [
    {
     "data": {
      "text/plain": [
       "torch.Size([9693, 2])"
      ]
     },
     "execution_count": 21,
     "metadata": {},
     "output_type": "execute_result"
    }
   ],
   "source": [
    "# make pairwise comparison between captions and descriptions\n",
    "base_preds_val = base_preds_val.view((-1, 2))\n",
    "base_preds_val.shape"
   ]
  },
  {
   "cell_type": "code",
   "execution_count": 22,
   "id": "2bdbdd2f",
   "metadata": {},
   "outputs": [
    {
     "data": {
      "text/plain": [
       "<AxesSubplot: ylabel='count'>"
      ]
     },
     "execution_count": 22,
     "metadata": {},
     "output_type": "execute_result"
    },
    {
     "data": {
      "image/png": "[encoded data removed]",
      "text/plain": [
       "<Figure size 640x480 with 1 Axes>"
      ]
     },
     "metadata": {},
     "output_type": "display_data"
    }
   ],
   "source": [
    "import seaborn as sns\n",
    "\n",
    "y_preds_val = base_preds_val.argmax(dim=-1).detach().cpu().numpy()\n",
    "\n",
    "sns.countplot(x=y_preds_val)"
   ]
  },
  {
   "cell_type": "code",
   "execution_count": 23,
   "id": "05655229",
   "metadata": {},
   "outputs": [
    {
     "data": {
      "text/plain": [
       "0.8788816671825028"
      ]
     },
     "execution_count": 23,
     "metadata": {},
     "output_type": "execute_result"
    }
   ],
   "source": [
    "y_preds_val.mean()"
   ]
  },
  {
   "attachments": {},
   "cell_type": "markdown",
   "id": "90ae23ee",
   "metadata": {},
   "source": [
    "## Evaluate on CIFAR-100"
   ]
  },
  {
   "cell_type": "code",
   "execution_count": 24,
   "id": "785827b2",
   "metadata": {},
   "outputs": [
    {
     "name": "stdout",
     "output_type": "stream",
     "text": [
      "Files already downloaded and verified\n"
     ]
    }
   ],
   "source": [
    "from torchvision.datasets import CIFAR100\n",
    "import os\n",
    "\n",
    "cifar100 = CIFAR100(root=os.path.expanduser(\"~/.cache\"), download=True, train=False)"
   ]
  },
  {
   "cell_type": "code",
   "execution_count": 2,
   "id": "3f9d7df4",
   "metadata": {},
   "outputs": [],
   "source": [
    "import torch\n",
    "from PIL import Image\n",
    "from transformers import CLIPProcessor, CLIPModel\n",
    "\n",
    "device = \"cuda\" if torch.cuda.is_available() else \"cpu\"\n",
    "model = CLIPModel.from_pretrained(\"openai/clip-vit-base-patch32\").to(device)\n",
    "processor = CLIPProcessor.from_pretrained(\"openai/clip-vit-base-patch32\")"
   ]
  },
  {
   "cell_type": "code",
   "execution_count": null,
   "id": "f23c3688",
   "metadata": {},
   "outputs": [],
   "source": [
    "processed = processor(images=[im for im, _ in cifar100], return_tensors='pt')"
   ]
  },
  {
   "cell_type": "code",
   "execution_count": null,
   "id": "ba5073a5",
   "metadata": {},
   "outputs": [
    {
     "data": {
      "text/plain": [
       "torch.Size([10000, 3, 224, 224])"
      ]
     },
     "execution_count": 25,
     "metadata": {},
     "output_type": "execute_result"
    }
   ],
   "source": [
    "processed['pixel_values'].shape"
   ]
  },
  {
   "cell_type": "code",
   "execution_count": 26,
   "id": "6732c9e3",
   "metadata": {},
   "outputs": [
    {
     "name": "stderr",
     "output_type": "stream",
     "text": [
      "100%|██████████| 1250/1250 [00:45<00:00, 27.64it/s]\n"
     ]
    }
   ],
   "source": [
    "from tqdm import trange\n",
    "\n",
    "batch_size = 8\n",
    "\n",
    "outputs = None\n",
    "with torch.no_grad():\n",
    "    for b in trange(0, processed['pixel_values'].size(0), batch_size):\n",
    "        batch = processed['pixel_values'][b: b + batch_size].to(device)\n",
    "        image_features = model.get_image_features(pixel_values=batch)\n",
    "        if outputs is None:\n",
    "            outputs = image_features\n",
    "        else:\n",
    "            outputs = torch.cat((outputs, image_features))"
   ]
  },
  {
   "cell_type": "code",
   "execution_count": 11,
   "id": "efa731c4",
   "metadata": {},
   "outputs": [],
   "source": [
    "torch.save(outputs, 'cifar100-image-encoding.pt')"
   ]
  },
  {
   "cell_type": "code",
   "execution_count": 25,
   "id": "64b76c83",
   "metadata": {},
   "outputs": [],
   "source": [
    "import os\n",
    "from torchvision.datasets import CIFAR100\n",
    "\n",
    "class CIFAR100Dataset:\n",
    "    def __init__(self, embed_func):\n",
    "        self.embed_func = embed_func\n",
    "        self.cifar100 = CIFAR100(root=os.path.expanduser(\"~/.cache\"), download=True, train=False)\n",
    "\n",
    "    def create_dataset(self):\n",
    "        data = []\n",
    "        for class_label in self.cifar100.classes:\n",
    "            base = f'a photo of a {class_label}'\n",
    "            base_x, base_mask = self.embed_func(base)\n",
    "            base_label = 0   # base label ignored during training\n",
    "            data.append((base_x, base_mask, base_label))\n",
    "\n",
    "        base, base_mask, y = zip(*data)\n",
    "        self.base = base\n",
    "        self.base_mask = base_mask\n",
    "        self.y = np.array(y)\n",
    "        return (\n",
    "            (self.base, self.base_mask), \n",
    "            self.y\n",
    "        )"
   ]
  },
  {
   "cell_type": "code",
   "execution_count": 26,
   "id": "b000d66c",
   "metadata": {},
   "outputs": [],
   "source": [
    "def get_cifar_100_dataset(\n",
    "    tokenizer_name\n",
    "):\n",
    "    tokenizer = AutoTokenizer.from_pretrained(tokenizer_name)\n",
    "    \n",
    "    def encoding(X):\n",
    "        input = [X]\n",
    "        data = tokenizer(\n",
    "            input,\n",
    "            max_length=77,\n",
    "            add_special_tokens=True,\n",
    "            padding='max_length',\n",
    "            truncation=True,\n",
    "            return_attention_mask=True,\n",
    "            return_tensors='pt'\n",
    "        )\n",
    "        indices = data['input_ids']\n",
    "        mask = data['attention_mask']\n",
    "        return (indices, mask)\n",
    "    \n",
    "    dataset = CIFAR100Dataset(\n",
    "        embed_func=encoding\n",
    "    )\n",
    "    \n",
    "    X_base, y_base = dataset.create_dataset()\n",
    "    y_base = torch.tensor(y_base)\n",
    "    return X_base, y_base"
   ]
  },
  {
   "cell_type": "code",
   "execution_count": 27,
   "id": "9d57e61d",
   "metadata": {},
   "outputs": [
    {
     "name": "stdout",
     "output_type": "stream",
     "text": [
      "Files already downloaded and verified\n"
     ]
    }
   ],
   "source": [
    "X_base, y_base = get_cifar_100_dataset('openai/clip-vit-base-patch32')"
   ]
  },
  {
   "cell_type": "code",
   "execution_count": 28,
   "id": "562e4680",
   "metadata": {},
   "outputs": [],
   "source": [
    "input, mask = X_base\n",
    "input = torch.stack(input).to(device).squeeze()\n",
    "mask = torch.stack(mask).to(device).squeeze()\n",
    "\n",
    "with torch.no_grad():\n",
    "    text_embeds = clip_trainer.model.get_text_encodings((input, mask))"
   ]
  },
  {
   "cell_type": "code",
   "execution_count": 29,
   "id": "f838103d",
   "metadata": {},
   "outputs": [],
   "source": [
    "image_embeds = torch.load('cifar100-image-encoding.pt')"
   ]
  },
  {
   "cell_type": "code",
   "execution_count": 30,
   "id": "6fa2dd32",
   "metadata": {},
   "outputs": [],
   "source": [
    "image_embeds = image_embeds / image_embeds.norm(p=2, dim=-1, keepdim=True)\n",
    "text_embeds = text_embeds / text_embeds.norm(p=2, dim=-1, keepdim=True)"
   ]
  },
  {
   "cell_type": "code",
   "execution_count": 31,
   "id": "db563da3",
   "metadata": {},
   "outputs": [],
   "source": [
    "logits_per_text = torch.matmul(text_embeds, image_embeds.squeeze(1).t())"
   ]
  },
  {
   "cell_type": "code",
   "execution_count": 32,
   "id": "7f34eea8",
   "metadata": {},
   "outputs": [],
   "source": [
    "logits_per_image = logits_per_text.t()"
   ]
  },
  {
   "cell_type": "code",
   "execution_count": 33,
   "id": "7271cf99",
   "metadata": {},
   "outputs": [],
   "source": [
    "labels = [l for _, l in cifar100]"
   ]
  },
  {
   "cell_type": "code",
   "execution_count": 34,
   "id": "9fdb0079",
   "metadata": {},
   "outputs": [
    {
     "data": {
      "text/plain": [
       "0.2254913437738646"
      ]
     },
     "execution_count": 34,
     "metadata": {},
     "output_type": "execute_result"
    }
   ],
   "source": [
    "from sklearn.metrics import f1_score\n",
    "\n",
    "preds = logits_per_image.argmax(dim=-1).detach().cpu().numpy()\n",
    "\n",
    "f1_score(y_true=labels, y_pred=preds, average='macro')"
   ]
  },
  {
   "attachments": {},
   "cell_type": "markdown",
   "id": "915d39d7",
   "metadata": {},
   "source": [
    "Evaluate original CLIP"
   ]
  },
  {
   "cell_type": "code",
   "execution_count": 6,
   "id": "53ae1c76",
   "metadata": {},
   "outputs": [],
   "source": [
    "text_inputs = processor(text=[f\"a photo of a {c}\" for c in cifar100.classes], return_tensors='pt', padding=True) \n",
    "text_inputs = { k: v.to(device) for k, v in text_inputs.items() }"
   ]
  },
  {
   "cell_type": "code",
   "execution_count": 7,
   "id": "ddda07a1",
   "metadata": {},
   "outputs": [],
   "source": [
    "text_embeds = model.get_text_features(**text_inputs)"
   ]
  },
  {
   "cell_type": "code",
   "execution_count": 9,
   "id": "16fd10d6",
   "metadata": {},
   "outputs": [],
   "source": [
    "image_embeds = image_embeds / image_embeds.norm(p=2, dim=-1, keepdim=True)\n",
    "text_embeds = text_embeds / text_embeds.norm(p=2, dim=-1, keepdim=True)\n",
    "\n",
    "logits_per_text = torch.matmul(text_embeds, image_embeds.squeeze(1).t())\n",
    "logits_per_image = logits_per_text.t()"
   ]
  },
  {
   "cell_type": "code",
   "execution_count": 11,
   "id": "c7140924",
   "metadata": {},
   "outputs": [],
   "source": [
    "labels = [l for _, l in cifar100]"
   ]
  },
  {
   "cell_type": "code",
   "execution_count": 12,
   "id": "f0308702",
   "metadata": {},
   "outputs": [
    {
     "data": {
      "text/plain": [
       "0.6148434147736954"
      ]
     },
     "execution_count": 12,
     "metadata": {},
     "output_type": "execute_result"
    }
   ],
   "source": [
    "from sklearn.metrics import f1_score\n",
    "\n",
    "preds = logits_per_image.argmax(dim=-1).detach().cpu().numpy()\n",
    "\n",
    "f1_score(y_true=labels, y_pred=preds, average='macro')"
   ]
  },
  {
   "attachments": {},
   "cell_type": "markdown",
   "id": "49551380",
   "metadata": {},
   "source": [
    "## Compare to Human Evaluations"
   ]
  },
  {
   "cell_type": "code",
   "execution_count": 1,
   "id": "4c69dd8e",
   "metadata": {},
   "outputs": [
    {
     "name": "stderr",
     "output_type": "stream",
     "text": [
      "c:\\Users\\amirz\\.conda\\envs\\interchange\\lib\\site-packages\\tqdm\\auto.py:22: TqdmWarning: IProgress not found. Please update jupyter and ipywidgets. See https://ipywidgets.readthedocs.io/en/stable/user_install.html\n",
      "  from .autonotebook import tqdm as notebook_tqdm\n"
     ]
    }
   ],
   "source": [
    "import torch\n",
    "from PIL import Image\n",
    "from transformers import CLIPProcessor, CLIPModel\n",
    "\n",
    "device = \"cuda\" if torch.cuda.is_available() else \"cpu\"\n",
    "model = CLIPModel.from_pretrained(\"openai/clip-vit-base-patch32\").to(device)\n",
    "processor = CLIPProcessor.from_pretrained(\"openai/clip-vit-base-patch32\")"
   ]
  },
  {
   "cell_type": "code",
   "execution_count": 2,
   "id": "0dabce66",
   "metadata": {},
   "outputs": [],
   "source": [
    "import pandas as pd\n",
    "\n",
    "cosid_path = 'C:/Users/amirz/Source/NLP/clones/contextual-description-evaluation/metrics/clipscore/results/cosid-clipscores.csv'\n",
    "cosid_df = pd.read_csv(cosid_path)"
   ]
  },
  {
   "cell_type": "code",
   "execution_count": 3,
   "id": "2cba6256",
   "metadata": {},
   "outputs": [],
   "source": [
    "import os\n",
    "\n",
    "image_path = 'C:/Users/amirz/Source/NLP/clones/contextual-description-evaluation/metrics/clipscore/cosid_data/cosid_images'\n",
    "\n",
    "image_filenames = [fn for fn in os.listdir(image_path) if not fn.startswith('.')]\n",
    "\n",
    "image_to_filename = {\n",
    "    fn[:fn.rfind('.')] : fn\n",
    "    for fn in image_filenames\n",
    "}"
   ]
  },
  {
   "cell_type": "code",
   "execution_count": 4,
   "id": "779565b2",
   "metadata": {},
   "outputs": [],
   "source": [
    "shortcut = {\n",
    "    '1600px-2019-11-28_14_40_55_A_dinner_table_laid_out_for_Thanksgiving_Dinner_in_the_Parkway_Village_section_of_Ewing_Township,_Mercer_County,_New_Jersey_version1': '1.jpg',\n",
    "    '1600px-2019-11-28_14_40_55_A_dinner_table_laid_out_for_Thanksgiving_Dinner_in_the_Parkway_Village_section_of_Ewing_Township,_Mercer_County,_New_Jersey_version2': '2.jpg',\n",
    "    '1600px-2019-11-28_14_40_55_A_dinner_table_laid_out_for_Thanksgiving_Dinner_in_the_Parkway_Village_section_of_Ewing_Township,_Mercer_County,_New_Jersey_version3': '3.jpg'\n",
    "}\n",
    "\n",
    "image_to_filename.update(shortcut)"
   ]
  },
  {
   "cell_type": "code",
   "execution_count": 5,
   "id": "4f55f95b",
   "metadata": {},
   "outputs": [
    {
     "data": {
      "text/plain": [
       "Index(['imgstem_version', 'texts', 'text_controls', 'clipscore'], dtype='object')"
      ]
     },
     "execution_count": 5,
     "metadata": {},
     "output_type": "execute_result"
    }
   ],
   "source": [
    "cosid_df.columns"
   ]
  },
  {
   "cell_type": "code",
   "execution_count": 6,
   "id": "1a8c5b53",
   "metadata": {},
   "outputs": [],
   "source": [
    "from PIL import Image\n",
    "\n",
    "images = [\n",
    "    Image.open(os.path.join(image_path, image_to_filename[filename]))\n",
    "    for filename in cosid_df['imgstem_version']\n",
    "]\n",
    "\n",
    "image_inputs = processor(images=images, return_tensors='pt')\n",
    "image_inputs = {k: v.to(device) for k, v in image_inputs.items()}"
   ]
  },
  {
   "cell_type": "code",
   "execution_count": 7,
   "id": "5aa3d405",
   "metadata": {},
   "outputs": [
    {
     "name": "stderr",
     "output_type": "stream",
     "text": [
      "100%|██████████| 9/9 [00:05<00:00,  1.50it/s]\n"
     ]
    }
   ],
   "source": [
    "from tqdm import trange\n",
    "\n",
    "batch_size = 8\n",
    "\n",
    "image_embeds = None\n",
    "with torch.no_grad():\n",
    "    for b in trange(0, image_inputs['pixel_values'].size(0), batch_size):\n",
    "        batch = image_inputs['pixel_values'][b: b + batch_size].to(device)\n",
    "        image_features = model.get_image_features(pixel_values=batch)\n",
    "        if image_embeds is None:\n",
    "            image_embeds = image_features\n",
    "        else:\n",
    "            image_embeds = torch.cat((image_embeds, image_features))"
   ]
  },
  {
   "cell_type": "code",
   "execution_count": 8,
   "id": "3eae583e",
   "metadata": {},
   "outputs": [],
   "source": [
    "COSID_PATH = 'C:/Users/amirz/Source/NLP/clones/contextual-description-evaluation/metrics/clipscore/results/cosid-clipscores.csv'\n",
    "\n",
    "class ContextDescriptionDataset:\n",
    "    def __init__(self, embed_func):\n",
    "        self.embed_func = embed_func\n",
    "        self.cosid_df = pd.read_csv(COSID_PATH)\n",
    "\n",
    "    def create_dataset(self):\n",
    "        data = []\n",
    "        for text in self.cosid_df['texts'].values:\n",
    "            base_x, base_mask = self.embed_func(text)\n",
    "            base_label = 0   # base label ignored\n",
    "            data.append((base_x, base_mask, base_label))\n",
    "\n",
    "        base, base_mask, y = zip(*data)\n",
    "        self.base = base\n",
    "        self.base_mask = base_mask\n",
    "        self.y = np.array(y)\n",
    "        return (\n",
    "            (self.base, self.base_mask), \n",
    "            self.y\n",
    "        )"
   ]
  },
  {
   "cell_type": "code",
   "execution_count": 9,
   "id": "b3e13a81",
   "metadata": {},
   "outputs": [],
   "source": [
    "def get_context_descriptions_dataset(\n",
    "    tokenizer_name\n",
    "):\n",
    "    tokenizer = AutoTokenizer.from_pretrained(tokenizer_name)\n",
    "    \n",
    "    def encoding(X):\n",
    "        input = [X]\n",
    "        data = tokenizer(\n",
    "            input,\n",
    "            max_length=77,\n",
    "            add_special_tokens=True,\n",
    "            padding='max_length',\n",
    "            truncation=True,\n",
    "            return_attention_mask=True,\n",
    "            return_tensors='pt'\n",
    "        )\n",
    "        indices = data['input_ids']\n",
    "        mask = data['attention_mask']\n",
    "        return (indices, mask)\n",
    "    \n",
    "    dataset = ContextDescriptionDataset(\n",
    "        embed_func=encoding\n",
    "    )\n",
    "    \n",
    "    X_base, y_base = dataset.create_dataset()\n",
    "    y_base = torch.tensor(y_base)\n",
    "    return X_base, y_base"
   ]
  },
  {
   "cell_type": "code",
   "execution_count": 17,
   "id": "ebb3ef79",
   "metadata": {},
   "outputs": [],
   "source": [
    "X_base, y_base = get_context_descriptions_dataset('openai/clip-vit-base-patch32')\n",
    "\n",
    "input, mask = X_base\n",
    "input = torch.stack(input).to(device).squeeze()\n",
    "mask = torch.stack(mask).to(device).squeeze()\n",
    "\n",
    "with torch.no_grad():\n",
    "    text_embeds = clip_trainer.model.get_text_encodings((input, mask))"
   ]
  },
  {
   "cell_type": "code",
   "execution_count": 18,
   "id": "f66deb7c",
   "metadata": {},
   "outputs": [],
   "source": [
    "image_embeds = image_embeds / image_embeds.norm(p=2, dim=-1, keepdim=True)\n",
    "text_embeds = text_embeds / text_embeds.norm(p=2, dim=-1, keepdim=True)"
   ]
  },
  {
   "cell_type": "code",
   "execution_count": 19,
   "id": "ff8705d5",
   "metadata": {},
   "outputs": [
    {
     "data": {
      "text/plain": [
       "torch.Size([70])"
      ]
     },
     "execution_count": 19,
     "metadata": {},
     "output_type": "execute_result"
    }
   ],
   "source": [
    "logits = torch.sum(image_embeds * text_embeds, axis=1)\n",
    "logits.shape"
   ]
  },
  {
   "cell_type": "code",
   "execution_count": 20,
   "id": "2fd22453",
   "metadata": {},
   "outputs": [],
   "source": [
    "cosid_df['clipscore_iit'] = logits.cpu().numpy() * 2.5"
   ]
  },
  {
   "cell_type": "code",
   "execution_count": 21,
   "id": "1241f65d",
   "metadata": {},
   "outputs": [],
   "source": [
    "cosid_df.to_csv('cosid-clipscores-finetuned.csv')"
   ]
  },
  {
   "attachments": {},
   "cell_type": "markdown",
   "id": "7ab3c0d9",
   "metadata": {},
   "source": [
    "## Compare to Finetuning"
   ]
  },
  {
   "cell_type": "code",
   "execution_count": 1,
   "id": "24045c17",
   "metadata": {},
   "outputs": [
    {
     "name": "stderr",
     "output_type": "stream",
     "text": [
      "c:\\Users\\amirz\\.conda\\envs\\interchange\\lib\\site-packages\\tqdm\\auto.py:22: TqdmWarning: IProgress not found. Please update jupyter and ipywidgets. See https://ipywidgets.readthedocs.io/en/stable/user_install.html\n",
      "  from .autonotebook import tqdm as notebook_tqdm\n"
     ]
    }
   ],
   "source": [
    "import pandas as pd\n",
    "import numpy as np\n",
    "import itertools\n",
    "import random\n",
    "from functools import reduce\n",
    "from sklearn.model_selection import train_test_split\n",
    "from transformers import AutoTokenizer\n",
    "import torch\n",
    "import json\n",
    "\n",
    "\n",
    "CONCADIA_PATH = 'C:/Users/amirz/Source/NLP/local/concadia/concadia.pt' \n",
    "CONCADIA_METADATA_PATH = 'C:/Users/amirz/Source/NLP/local/concadia/wiki_split.json'\n",
    "COLUMNS = ['filename', 'caption', 'description', 'image_features']\n",
    "\n",
    "SEED = 42\n",
    "VAR = 0\n",
    "\n",
    "random.seed(SEED)\n",
    "\n",
    "class ConcadiaDataset:\n",
    "    def __init__(self, embed_func, split):\n",
    "        self.embed_func = embed_func\n",
    "        self.split = split\n",
    "        concadia_data = torch.load(CONCADIA_PATH, map_location='cpu')\n",
    "        concadia_df = pd.DataFrame(concadia_data, columns=COLUMNS).set_index('filename')\n",
    "        with open(CONCADIA_METADATA_PATH) as f:\n",
    "            concadia_metadata = json.load(f)['images']\n",
    "        train_filenames = [im_data['filename'] for im_data in concadia_metadata if im_data['split'] == 'train']\n",
    "        val_filenames = [im_data['filename'] for im_data in concadia_metadata if im_data['split'] == 'val']\n",
    "        test_filenames = [im_data['filename'] for im_data in concadia_metadata if im_data['split'] == 'test']\n",
    "        self.train_df = concadia_df.loc[train_filenames]\n",
    "        self.val_df = concadia_df.loc[val_filenames]\n",
    "        self.test_df = concadia_df.loc[test_filenames]\n",
    "\n",
    "        if split == 'train':\n",
    "            self.concadia_df = self.train_df\n",
    "        elif split == 'val':\n",
    "            self.concadia_df = self.val_df\n",
    "        else:\n",
    "            self.concadia_df = self.test_df\n",
    "\n",
    "    def create_dataset(self, shuffle=False):\n",
    "        data = []\n",
    "        for i, row in self.concadia_df.iterrows():\n",
    "            image_embeds = row['image_features']\n",
    "            caption, description = row['caption'], row['description']\n",
    "            base_x, base_mask = self.embed_func(caption)\n",
    "            base_label = 1   # base label ignored during training\n",
    "            data.append((base_x, base_mask, base_label, image_embeds))\n",
    "\n",
    "            base_x, base_mask = self.embed_func(description)\n",
    "            base_label = 0   # base label ignored during training\n",
    "            data.append((base_x, base_mask, base_label, image_embeds))\n",
    "\n",
    "        if shuffle:\n",
    "            random.shuffle(data)\n",
    "        \n",
    "        base, base_mask, y, image_embeds = zip(*data)\n",
    "        self.base = base\n",
    "        self.base_mask = base_mask\n",
    "        self.y = np.array(y)\n",
    "        self.image_embeds = image_embeds\n",
    "        return (\n",
    "            (self.base, self.base_mask, self.image_embeds), \n",
    "            self.y\n",
    "        )"
   ]
  },
  {
   "cell_type": "code",
   "execution_count": 2,
   "id": "4000d4bc",
   "metadata": {},
   "outputs": [],
   "source": [
    "def get_concadia_dataset(\n",
    "    tokenizer_name,\n",
    "    split=\"train\",\n",
    "    shuffle=False\n",
    "):\n",
    "    tokenizer = AutoTokenizer.from_pretrained(tokenizer_name)\n",
    "    \n",
    "    def encoding(X):\n",
    "        input = [X]\n",
    "        data = tokenizer(\n",
    "            input,\n",
    "            max_length=77,\n",
    "            add_special_tokens=True,\n",
    "            padding='max_length',\n",
    "            truncation=True,\n",
    "            return_attention_mask=True,\n",
    "            return_tensors='pt'\n",
    "        )\n",
    "        indices = data['input_ids']\n",
    "        mask = data['attention_mask']\n",
    "        return (indices, mask)\n",
    "    \n",
    "    dataset = ConcadiaDataset(\n",
    "        embed_func=encoding,\n",
    "        split=split\n",
    "    )\n",
    "    \n",
    "    X_base, y_base = dataset.create_dataset(shuffle=shuffle)\n",
    "    y_base = torch.tensor(y_base)\n",
    "    return X_base, y_base"
   ]
  },
  {
   "cell_type": "code",
   "execution_count": 3,
   "id": "f725465e",
   "metadata": {},
   "outputs": [],
   "source": [
    "from transformers import AutoTokenizer, CLIPModel\n",
    "import torch\n",
    "\n",
    "device = \"cuda\" if torch.cuda.is_available() else \"cpu\"\n",
    "\n",
    "clip = CLIPModel.from_pretrained(\"openai/clip-vit-base-patch32\").to(device)"
   ]
  },
  {
   "cell_type": "code",
   "execution_count": 4,
   "id": "75c0512e",
   "metadata": {},
   "outputs": [],
   "source": [
    "from LIM_clip import LIMClipTextModel\n",
    "\n",
    "iit_layer = 10\n",
    "hidden_dim_per_concept = 128\n",
    "\n",
    "intervention_ids_to_coords = {\n",
    "    VAR: [{\"layer\":iit_layer, \"start\":0, \"end\":hidden_dim_per_concept}]\n",
    "}\n",
    "\n",
    "lim_clip = LIMClipTextModel(\n",
    "    clip, \n",
    "    max_length=77, \n",
    "    device=device, \n",
    "    target_layers=[iit_layer], \n",
    "    target_dims={ \"start\": 0, \"end\": hidden_dim_per_concept },\n",
    "    # learn_intervention_dim=hidden_dim_per_concept\n",
    ")"
   ]
  },
  {
   "cell_type": "code",
   "execution_count": 5,
   "id": "1a3ee11d",
   "metadata": {},
   "outputs": [],
   "source": [
    "lim_clip.set_analysis_mode(False)"
   ]
  },
  {
   "cell_type": "code",
   "execution_count": 6,
   "id": "8a6a62cf",
   "metadata": {},
   "outputs": [],
   "source": [
    "# lim_clip.load_state_dict(torch.load('clip_finetuned.pt'))"
   ]
  },
  {
   "cell_type": "code",
   "execution_count": 7,
   "id": "c424512d",
   "metadata": {},
   "outputs": [],
   "source": [
    "from trainer import CLIPLIMTrainer\n",
    "\n",
    "training_parameters={\n",
    "    'warm_start': False, \n",
    "    'max_iter': 2, \n",
    "    'batch_size': 12,\n",
    "    # 'n_iter_no_change': 10, \n",
    "    'shuffle_train': False, \n",
    "    'eta': 1e-5,\n",
    "    'device': device        \n",
    "}\n",
    "\n",
    "clip_trainer = CLIPLIMTrainer(\n",
    "    lim_clip,\n",
    "    **training_parameters\n",
    ")"
   ]
  },
  {
   "cell_type": "code",
   "execution_count": 8,
   "id": "4b7346cf",
   "metadata": {},
   "outputs": [],
   "source": [
    "train_dataset = get_concadia_dataset(\n",
    "    split=\"test\",\n",
    "    tokenizer_name='openai/clip-vit-base-patch32',\n",
    "    shuffle=False\n",
    ")\n",
    "X_base_train, y_base_train = train_dataset"
   ]
  },
  {
   "cell_type": "code",
   "execution_count": 9,
   "id": "30261e5a",
   "metadata": {},
   "outputs": [
    {
     "name": "stderr",
     "output_type": "stream",
     "text": [
      "Epoch 1: 100%|██████████| 1616/1616 [04:06<00:00,  6.55it/s, loss=0.00101, epoch_loss=445] \n",
      "Epoch 2: 100%|██████████| 1616/1616 [04:45<00:00,  5.67it/s, loss=0.000827, epoch_loss=139] \n",
      "Finished epoch 2 of 2; error is 138.6899815192433"
     ]
    }
   ],
   "source": [
    "_ = clip_trainer.fit(\n",
    "    X_base_train, \n",
    "    y_base_train, \n",
    "    intervention_ids_to_coords=intervention_ids_to_coords\n",
    ")"
   ]
  },
  {
   "cell_type": "code",
   "execution_count": 10,
   "id": "2c45f500",
   "metadata": {},
   "outputs": [],
   "source": [
    "torch.save(clip_trainer.model.state_dict(), 'clip_finetuned.pt')"
   ]
  },
  {
   "attachments": {},
   "cell_type": "markdown",
   "id": "dbaf348e",
   "metadata": {},
   "source": [
    "### Evaluate IIT"
   ]
  },
  {
   "cell_type": "code",
   "execution_count": 11,
   "id": "2ee39926",
   "metadata": {},
   "outputs": [
    {
     "name": "stderr",
     "output_type": "stream",
     "text": [
      "100%|██████████| 1616/1616 [01:18<00:00, 20.50it/s]\n"
     ]
    }
   ],
   "source": [
    "base_preds_train = clip_trainer.predict(\n",
    "    X_base_train\n",
    ")\n",
    "y_train = y_base_train.view(-1, 2)[:, 0]\n",
    "preds_train = base_preds_train.view(-1, 2).argmax(dim=-1)"
   ]
  },
  {
   "cell_type": "code",
   "execution_count": 12,
   "id": "2879430d",
   "metadata": {},
   "outputs": [
    {
     "name": "stdout",
     "output_type": "stream",
     "text": [
      "Train\n",
      "0.9754411309462387\n",
      "0.9875679063936481\n"
     ]
    }
   ],
   "source": [
    "from sklearn.metrics import accuracy_score, f1_score\n",
    "\n",
    "acc = accuracy_score(\n",
    "    y_pred=preds_train.squeeze().detach().cpu().numpy(), \n",
    "    y_true=y_train.squeeze().detach().cpu().numpy()\n",
    ")\n",
    "f1 = f1_score(\n",
    "    y_pred=preds_train.squeeze().detach().cpu().numpy(), \n",
    "    y_true=y_train.squeeze().detach().cpu().numpy()\n",
    ")\n",
    "\n",
    "print('Train')\n",
    "print(acc)\n",
    "print(f1)"
   ]
  },
  {
   "cell_type": "code",
   "execution_count": 13,
   "id": "ff347905",
   "metadata": {},
   "outputs": [],
   "source": [
    "val_dataset = get_concadia_dataset(\n",
    "    split=\"val\",\n",
    "    tokenizer_name='openai/clip-vit-base-patch32',\n",
    "    shuffle=False\n",
    ")\n",
    "X_base_val, y_base_val = val_dataset"
   ]
  },
  {
   "cell_type": "code",
   "execution_count": 14,
   "id": "05c87f5c",
   "metadata": {},
   "outputs": [
    {
     "name": "stderr",
     "output_type": "stream",
     "text": [
      "100%|██████████| 1616/1616 [01:19<00:00, 20.32it/s]\n"
     ]
    }
   ],
   "source": [
    "base_preds_val = clip_trainer.predict(\n",
    "    X_base_val\n",
    ")\n",
    "y_val = y_base_val.view(-1, 2)[:, 0]\n",
    "preds_val = base_preds_val.view(-1, 2).argmax(dim=-1)"
   ]
  },
  {
   "cell_type": "code",
   "execution_count": 15,
   "id": "19ba5bbd",
   "metadata": {},
   "outputs": [
    {
     "name": "stdout",
     "output_type": "stream",
     "text": [
      "Val\n",
      "0.889817393995667\n",
      "0.9416966917785784\n"
     ]
    }
   ],
   "source": [
    "from sklearn.metrics import accuracy_score, f1_score\n",
    "\n",
    "acc = accuracy_score(\n",
    "    y_pred=preds_val.squeeze().detach().cpu().numpy(), \n",
    "    y_true=y_val.squeeze().detach().cpu().numpy()\n",
    ")\n",
    "f1 = f1_score(\n",
    "    y_pred=preds_val.squeeze().detach().cpu().numpy(), \n",
    "    y_true=y_val.squeeze().detach().cpu().numpy()\n",
    ")\n",
    "\n",
    "print('Val')\n",
    "print(acc)\n",
    "print(f1)"
   ]
  },
  {
   "cell_type": "code",
   "execution_count": null,
   "id": "6f1269db",
   "metadata": {},
   "outputs": [],
   "source": []
  }
 ],
 "metadata": {
  "kernelspec": {
   "display_name": "interchange",
   "language": "python",
   "name": "python3"
  },
  "language_info": {
   "codemirror_mode": {
    "name": "ipython",
    "version": 3
   },
   "file_extension": ".py",
   "mimetype": "text/x-python",
   "name": "python",
   "nbconvert_exporter": "python",
   "pygments_lexer": "ipython3",
   "version": "3.9.13"
  },
  "vscode": {
   "interpreter": {
    "hash": "d283f86b5d2fbc31f35f78f73be4d0bb5be67dfbb54fdd34f287f29d60f844e5"
   }
  }
 },
 "nbformat": 4,
 "nbformat_minor": 5
}
