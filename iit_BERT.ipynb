{
 "cells": [
  {
   "cell_type": "code",
   "execution_count": 1,
   "id": "1fb36dcc",
   "metadata": {},
   "outputs": [],
   "source": [
    "import torch\n",
    "import random\n",
    "import copy\n",
    "import itertools\n",
    "import numpy as np\n",
    "import utils\n",
    "from trainer import BERTLIMTrainer\n",
    "\n",
    "from sklearn.metrics import classification_report\n",
    "from LIM_bert import LIMBERTClassifier\n",
    "import dataset_nli\n",
    "\n",
    "from transformers import BertModel, BertTokenizer\n",
    "utils.fix_random_seeds()"
   ]
  },
  {
   "cell_type": "code",
   "execution_count": 2,
   "id": "8fdcf12f",
   "metadata": {},
   "outputs": [],
   "source": [
    "weights_name = \"bert-base-uncased\"\n",
    "bert_tokenizer = BertTokenizer.from_pretrained(weights_name)\n",
    "max_length = 20\n",
    "n_classes = 2"
   ]
  },
  {
   "cell_type": "code",
   "execution_count": 3,
   "id": "f446a99e",
   "metadata": {},
   "outputs": [],
   "source": [
    "def encoding(X):\n",
    "    data = bert_tokenizer.batch_encode_plus(\n",
    "            [\" \".join(X)],\n",
    "            max_length=max_length,\n",
    "            add_special_tokens=True,\n",
    "            padding='max_length',\n",
    "            truncation=True,\n",
    "            return_attention_mask=True)\n",
    "    indices = torch.tensor(data['input_ids'])\n",
    "    mask = torch.tensor(data['attention_mask'])\n",
    "    return (indices, mask)\n",
    "\n",
    "X_nmonli_train, y_nmonli_train = dataset_nli.get_NMoNLI_dataset(encoding, \"train\")\n",
    "\n",
    "X_nmonli_test, y_nmonli_test = dataset_nli.get_NMoNLI_dataset(encoding, \"test\")\n",
    "\n",
    "X_pmonli, y_pmonli = dataset_nli.get_PMoNLI_dataset(encoding)"
   ]
  },
  {
   "cell_type": "code",
   "execution_count": null,
   "id": "43df9b6a",
   "metadata": {},
   "outputs": [],
   "source": []
  },
  {
   "cell_type": "code",
   "execution_count": 4,
   "id": "bd2cf713",
   "metadata": {},
   "outputs": [
    {
     "name": "stderr",
     "output_type": "stream",
     "text": [
      "Some weights of the model checkpoint at bert-base-uncased were not used when initializing BertModel: ['cls.seq_relationship.weight', 'cls.predictions.transform.dense.bias', 'cls.predictions.bias', 'cls.seq_relationship.bias', 'cls.predictions.transform.LayerNorm.bias', 'cls.predictions.transform.LayerNorm.weight', 'cls.predictions.transform.dense.weight', 'cls.predictions.decoder.weight']\n",
      "- This IS expected if you are initializing BertModel from the checkpoint of a model trained on another task or with another architecture (e.g. initializing a BertForSequenceClassification model from a BertForPreTraining model).\n",
      "- This IS NOT expected if you are initializing BertModel from the checkpoint of a model that you expect to be exactly identical (initializing a BertForSequenceClassification model from a BertForSequenceClassification model).\n"
     ]
    }
   ],
   "source": [
    "bert = BertModel.from_pretrained(weights_name)"
   ]
  },
  {
   "cell_type": "code",
   "execution_count": 5,
   "id": "7f8fdec5",
   "metadata": {},
   "outputs": [],
   "source": [
    "LIM = LIMBERTClassifier(n_classes, bert, max_length, debug=True)"
   ]
  },
  {
   "cell_type": "code",
   "execution_count": 6,
   "id": "fd7b8e45",
   "metadata": {},
   "outputs": [],
   "source": [
    "LIM_trainer = BERTLIMTrainer(\n",
    "    LIM,\n",
    "    warm_start=True,\n",
    "    max_iter=10,\n",
    "    batch_size=16,\n",
    "    n_iter_no_change=10000,\n",
    "    shuffle_train=True,\n",
    "    eta=0.0001)"
   ]
  },
  {
   "cell_type": "code",
   "execution_count": 7,
   "id": "cb384f19",
   "metadata": {
    "scrolled": true
   },
   "outputs": [
    {
     "name": "stderr",
     "output_type": "stream",
     "text": [
      "Finished epoch 2 of 2; error is 108.46288371086128"
     ]
    }
   ],
   "source": [
    "\n",
    "\n",
    "X_monli_train = ((*X_nmonli_train[0],*X_pmonli[0]), (*X_nmonli_train[1],*X_pmonli[1]))\n",
    "y_monli_train = torch.cat([y_nmonli_train, y_pmonli])\n",
    "\n",
    "_ = LIM_trainer.fit(\n",
    "    X_monli_train, \n",
    "    y_monli_train, \n",
    "    iit_data=None,\n",
    "    intervention_ids_to_coords=None)"
   ]
  },
  {
   "cell_type": "code",
   "execution_count": null,
   "id": "2327a326",
   "metadata": {},
   "outputs": [],
   "source": []
  },
  {
   "cell_type": "code",
   "execution_count": 8,
   "id": "3e39a089",
   "metadata": {},
   "outputs": [
    {
     "name": "stdout",
     "output_type": "stream",
     "text": [
      "              precision    recall  f1-score   support\n",
      "\n",
      "           0       0.50      1.00      0.67       501\n",
      "           1       0.00      0.00      0.00       501\n",
      "\n",
      "    accuracy                           0.50      1002\n",
      "   macro avg       0.25      0.50      0.33      1002\n",
      "weighted avg       0.25      0.50      0.33      1002\n",
      "\n"
     ]
    },
    {
     "name": "stderr",
     "output_type": "stream",
     "text": [
      "/u/nlp/anaconda/main/anaconda3/envs/atticuspy37/lib/python3.7/site-packages/sklearn/metrics/_classification.py:1245: UndefinedMetricWarning: Precision and F-score are ill-defined and being set to 0.0 in labels with no predicted samples. Use `zero_division` parameter to control this behavior.\n",
      "  _warn_prf(average, modifier, msg_start, len(result))\n",
      "/u/nlp/anaconda/main/anaconda3/envs/atticuspy37/lib/python3.7/site-packages/sklearn/metrics/_classification.py:1245: UndefinedMetricWarning: Precision and F-score are ill-defined and being set to 0.0 in labels with no predicted samples. Use `zero_division` parameter to control this behavior.\n",
      "  _warn_prf(average, modifier, msg_start, len(result))\n",
      "/u/nlp/anaconda/main/anaconda3/envs/atticuspy37/lib/python3.7/site-packages/sklearn/metrics/_classification.py:1245: UndefinedMetricWarning: Precision and F-score are ill-defined and being set to 0.0 in labels with no predicted samples. Use `zero_division` parameter to control this behavior.\n",
      "  _warn_prf(average, modifier, msg_start, len(result))\n"
     ]
    }
   ],
   "source": [
    "preds = LIM_trainer.predict(X_nmonli_train, device=\"cpu\")\n",
    "print(classification_report(y_nmonli_train, preds))"
   ]
  },
  {
   "cell_type": "code",
   "execution_count": 9,
   "id": "2394d04f",
   "metadata": {},
   "outputs": [
    {
     "name": "stdout",
     "output_type": "stream",
     "text": [
      "              precision    recall  f1-score   support\n",
      "\n",
      "           0       0.50      1.00      0.67       738\n",
      "           1       0.00      0.00      0.00       738\n",
      "\n",
      "    accuracy                           0.50      1476\n",
      "   macro avg       0.25      0.50      0.33      1476\n",
      "weighted avg       0.25      0.50      0.33      1476\n",
      "\n"
     ]
    },
    {
     "name": "stderr",
     "output_type": "stream",
     "text": [
      "/u/nlp/anaconda/main/anaconda3/envs/atticuspy37/lib/python3.7/site-packages/sklearn/metrics/_classification.py:1245: UndefinedMetricWarning: Precision and F-score are ill-defined and being set to 0.0 in labels with no predicted samples. Use `zero_division` parameter to control this behavior.\n",
      "  _warn_prf(average, modifier, msg_start, len(result))\n",
      "/u/nlp/anaconda/main/anaconda3/envs/atticuspy37/lib/python3.7/site-packages/sklearn/metrics/_classification.py:1245: UndefinedMetricWarning: Precision and F-score are ill-defined and being set to 0.0 in labels with no predicted samples. Use `zero_division` parameter to control this behavior.\n",
      "  _warn_prf(average, modifier, msg_start, len(result))\n",
      "/u/nlp/anaconda/main/anaconda3/envs/atticuspy37/lib/python3.7/site-packages/sklearn/metrics/_classification.py:1245: UndefinedMetricWarning: Precision and F-score are ill-defined and being set to 0.0 in labels with no predicted samples. Use `zero_division` parameter to control this behavior.\n",
      "  _warn_prf(average, modifier, msg_start, len(result))\n"
     ]
    }
   ],
   "source": [
    "preds = LIM_trainer.predict(X_pmonli, device=\"cpu\")\n",
    "print(classification_report(y_pmonli, preds))"
   ]
  },
  {
   "cell_type": "code",
   "execution_count": 10,
   "id": "cdca8913",
   "metadata": {},
   "outputs": [
    {
     "name": "stdout",
     "output_type": "stream",
     "text": [
      "              precision    recall  f1-score   support\n",
      "\n",
      "           0       0.50      1.00      0.67       100\n",
      "           1       0.00      0.00      0.00       100\n",
      "\n",
      "    accuracy                           0.50       200\n",
      "   macro avg       0.25      0.50      0.33       200\n",
      "weighted avg       0.25      0.50      0.33       200\n",
      "\n"
     ]
    },
    {
     "name": "stderr",
     "output_type": "stream",
     "text": [
      "/u/nlp/anaconda/main/anaconda3/envs/atticuspy37/lib/python3.7/site-packages/sklearn/metrics/_classification.py:1245: UndefinedMetricWarning: Precision and F-score are ill-defined and being set to 0.0 in labels with no predicted samples. Use `zero_division` parameter to control this behavior.\n",
      "  _warn_prf(average, modifier, msg_start, len(result))\n",
      "/u/nlp/anaconda/main/anaconda3/envs/atticuspy37/lib/python3.7/site-packages/sklearn/metrics/_classification.py:1245: UndefinedMetricWarning: Precision and F-score are ill-defined and being set to 0.0 in labels with no predicted samples. Use `zero_division` parameter to control this behavior.\n",
      "  _warn_prf(average, modifier, msg_start, len(result))\n",
      "/u/nlp/anaconda/main/anaconda3/envs/atticuspy37/lib/python3.7/site-packages/sklearn/metrics/_classification.py:1245: UndefinedMetricWarning: Precision and F-score are ill-defined and being set to 0.0 in labels with no predicted samples. Use `zero_division` parameter to control this behavior.\n",
      "  _warn_prf(average, modifier, msg_start, len(result))\n"
     ]
    }
   ],
   "source": [
    "preds = LIM_trainer.predict(X_nmonli_test, device=\"cpu\")\n",
    "print(classification_report(y_nmonli_test, preds))"
   ]
  },
  {
   "cell_type": "markdown",
   "id": "fb85aad4",
   "metadata": {},
   "source": [
    "# IIT"
   ]
  },
  {
   "cell_type": "code",
   "execution_count": 11,
   "id": "940358bf",
   "metadata": {},
   "outputs": [],
   "source": [
    "iit_MoNLI_dataset = dataset_nli.get_IIT_MoNLI_dataset(encoding,\"train\", 10000)\n",
    "\n",
    "X_base_train, y_base_train = iit_MoNLI_dataset[0:2]\n",
    "iit_data_train = tuple(iit_MoNLI_dataset[2:])"
   ]
  },
  {
   "cell_type": "code",
   "execution_count": 12,
   "id": "870b1922",
   "metadata": {
    "scrolled": true
   },
   "outputs": [
    {
     "name": "stdout",
     "output_type": "stream",
     "text": [
      "torch.Size([10008, 1, 20]) torch.Size([10008, 1, 20]) torch.Size([10008]) torch.Size([10008, 1, 20]) torch.Size([10008, 1, 20]) torch.Size([10008]) torch.Size([10008])\n"
     ]
    },
    {
     "name": "stderr",
     "output_type": "stream",
     "text": [
      "Finished epoch 2 of 2; error is 870.7685129642487"
     ]
    }
   ],
   "source": [
    "LEXVAR = 0\n",
    "\n",
    "id_to_coords = {\n",
    "    LEXVAR: [{\"layer\": 4, \"start\": 0, \"end\": 512}]\n",
    "    }\n",
    "\n",
    "_ = LIM_trainer.fit(\n",
    "    X_base_train, \n",
    "    y_base_train, \n",
    "    iit_data=iit_data_train,\n",
    "    intervention_ids_to_coords=id_to_coords)"
   ]
  },
  {
   "cell_type": "code",
   "execution_count": null,
   "id": "e2ec9069",
   "metadata": {},
   "outputs": [],
   "source": [
    "base_preds = LIM_trainer.iit_predict(\n",
    "                        X_base_train,\n",
    "                        iit_data_train[0], \n",
    "                        iit_data_train[2], \n",
    "                        id_to_coords,\n",
    "                        device=\"cpu\")\n",
    "print(classification_report(iit_data_train[1], base_preds))"
   ]
  },
  {
   "cell_type": "code",
   "execution_count": null,
   "id": "546431cf",
   "metadata": {},
   "outputs": [],
   "source": [
    "iit_MoNLI_dataset = dataset_nli.get_IIT_MoNLI_dataset(encoding,\"test\", 10000)\n",
    "\n",
    "X_base_test, y_base_test = iit_MoNLI_dataset[0:2]\n",
    "iit_data_test = tuple(iit_MoNLI_dataset[2:])\n"
   ]
  },
  {
   "cell_type": "code",
   "execution_count": null,
   "id": "8af4529c",
   "metadata": {},
   "outputs": [],
   "source": [
    "base_preds = LIM_trainer.iit_predict(\n",
    "                        X_base_test,\n",
    "                        iit_data_test[0], \n",
    "                        iit_data_test[2], \n",
    "                        id_to_coords,\n",
    "                        device=\"cpu\")\n",
    "print(classification_report(iit_data_test[1], base_preds))"
   ]
  },
  {
   "cell_type": "code",
   "execution_count": null,
   "id": "58c11053",
   "metadata": {},
   "outputs": [],
   "source": []
  }
 ],
 "metadata": {
  "kernelspec": {
   "display_name": "Python 3 (ipykernel)",
   "language": "python",
   "name": "python3"
  },
  "language_info": {
   "codemirror_mode": {
    "name": "ipython",
    "version": 3
   },
   "file_extension": ".py",
   "mimetype": "text/x-python",
   "name": "python",
   "nbconvert_exporter": "python",
   "pygments_lexer": "ipython3",
   "version": "3.7.13"
  }
 },
 "nbformat": 4,
 "nbformat_minor": 5
}
