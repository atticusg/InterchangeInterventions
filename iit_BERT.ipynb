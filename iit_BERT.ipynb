{
 "cells": [
  {
   "cell_type": "code",
   "execution_count": 1,
   "id": "1fb36dcc",
   "metadata": {},
   "outputs": [],
   "source": [
    "import torch\n",
    "import random\n",
    "import copy\n",
    "import itertools\n",
    "import numpy as np\n",
    "import utils\n",
    "from trainer import BERTLIMTrainer\n",
    "\n",
    "from sklearn.metrics import classification_report\n",
    "from LIM_bert import LIMBERTClassifier\n",
    "import dataset_nli\n",
    "\n",
    "from transformers import BertModel, BertTokenizer"
   ]
  },
  {
   "cell_type": "code",
   "execution_count": 2,
   "id": "f446a99e",
   "metadata": {},
   "outputs": [
    {
     "name": "stderr",
     "output_type": "stream",
     "text": [
      "C:\\Users\\attic\\Documents\\GitHub\\InterchangeInterventions\\dataset_nli.py:104: FutureWarning: The input object of type 'Tensor' is an array-like implementing one of the corresponding protocols (`__array__`, `__array_interface__` or `__array_struct__`); but not a sequence (or 0-D). In the future, this object will be coerced as if it was first converted using `np.array(obj)`. To retain the old behaviour, you have to either modify the type 'Tensor', or assign to an empty array created with `np.empty(correct_shape, dtype=object)`.\n",
      "  self.y = np.array(y)\n",
      "C:\\Users\\attic\\Documents\\GitHub\\InterchangeInterventions\\dataset_nli.py:104: VisibleDeprecationWarning: Creating an ndarray from ragged nested sequences (which is a list-or-tuple of lists-or-tuples-or ndarrays with different lengths or shapes) is deprecated. If you meant to do this, you must specify 'dtype=object' when creating the ndarray.\n",
      "  self.y = np.array(y)\n"
     ]
    }
   ],
   "source": [
    "weights_name = \"bert-base-uncased\"\n",
    "bert_tokenizer = BertTokenizer.from_pretrained(weights_name)\n",
    "\n",
    "def encoding(X):\n",
    "    data = bert_tokenizer.batch_encode_plus(\n",
    "            X,\n",
    "            max_length=None,\n",
    "            add_special_tokens=True,\n",
    "            padding='longest',\n",
    "            return_attention_mask=True)\n",
    "    indices = torch.tensor(data['input_ids'])\n",
    "    mask = torch.tensor(data['attention_mask'])\n",
    "    return (indices, mask)\n",
    "\n",
    "iit_MoNLI_dataset = dataset_nli.get_IIT_MoNLI_dataset(encoding,\"train\", 100)\n",
    "\n",
    "X_base_train, y_base_train = iit_MoNLI_dataset[0:2]\n",
    "iit_data = tuple(iit_MoNLI_dataset[2:])"
   ]
  },
  {
   "cell_type": "code",
   "execution_count": 3,
   "id": "bd2cf713",
   "metadata": {},
   "outputs": [
    {
     "name": "stderr",
     "output_type": "stream",
     "text": [
      "Some weights of the model checkpoint at bert-base-uncased were not used when initializing BertModel: ['cls.predictions.transform.LayerNorm.weight', 'cls.predictions.decoder.weight', 'cls.seq_relationship.bias', 'cls.predictions.bias', 'cls.predictions.transform.LayerNorm.bias', 'cls.predictions.transform.dense.weight', 'cls.seq_relationship.weight', 'cls.predictions.transform.dense.bias']\n",
      "- This IS expected if you are initializing BertModel from the checkpoint of a model trained on another task or with another architecture (e.g. initializing a BertForSequenceClassification model from a BertForPreTraining model).\n",
      "- This IS NOT expected if you are initializing BertModel from the checkpoint of a model that you expect to be exactly identical (initializing a BertForSequenceClassification model from a BertForSequenceClassification model).\n"
     ]
    }
   ],
   "source": [
    "bert = BertModel.from_pretrained(weights_name)"
   ]
  },
  {
   "cell_type": "code",
   "execution_count": null,
   "id": "7f8fdec5",
   "metadata": {},
   "outputs": [],
   "source": [
    "LIM = LIMBERTClassifier(2, bert, 20)"
   ]
  },
  {
   "cell_type": "code",
   "execution_count": null,
   "id": "fd7b8e45",
   "metadata": {},
   "outputs": [],
   "source": [
    "LIM_trainer = BERTLIMTrainer(\n",
    "    LIM,\n",
    "    warm_start=True,\n",
    "    max_iter=4,\n",
    "    batch_size=16,\n",
    "    n_iter_no_change=10000,\n",
    "    shuffle_train=False,\n",
    "    eta=0.0001)"
   ]
  },
  {
   "cell_type": "code",
   "execution_count": null,
   "id": "cb384f19",
   "metadata": {},
   "outputs": [],
   "source": [
    "LEXVAR = 0\n",
    "\n",
    "id_to_coords = {\n",
    "    LEXVAR: [{\"layer\": 4, \"start\": 0, \"end\": 512}]\n",
    "    }\n",
    "\n",
    "_ = LIM_trainer.fit(\n",
    "    X_base_train, \n",
    "    y_base_train, \n",
    "    iit_data=None,\n",
    "    intervention_ids_to_coords=id_to_coords)"
   ]
  },
  {
   "cell_type": "code",
   "execution_count": null,
   "id": "546431cf",
   "metadata": {},
   "outputs": [],
   "source": []
  }
 ],
 "metadata": {
  "kernelspec": {
   "display_name": "Python 3 (ipykernel)",
   "language": "python",
   "name": "python3"
  },
  "language_info": {
   "codemirror_mode": {
    "name": "ipython",
    "version": 3
   },
   "file_extension": ".py",
   "mimetype": "text/x-python",
   "name": "python",
   "nbconvert_exporter": "python",
   "pygments_lexer": "ipython3",
   "version": "3.9.6"
  }
 },
 "nbformat": 4,
 "nbformat_minor": 5
}
