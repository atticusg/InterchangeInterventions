{
 "cells": [
  {
   "cell_type": "code",
   "execution_count": null,
   "metadata": {},
   "outputs": [],
   "source": [
    "# unverified\n",
    "def get_IIT_arithmetic_dataset_control_V1(\n",
    "    variable_range, seed,\n",
    "    data_size,\n",
    "    combiner_func\n",
    "):\n",
    "    base, base_y, source, source_y = get_IIT_arithmetic_dataset_factual_pairs(\n",
    "        variable_range, seed,\n",
    "        data_size,\n",
    "        combiner_func\n",
    "    )\n",
    "    \n",
    "    counterfactual_y = []\n",
    "    for i in range(len(base)):\n",
    "        c_y = combiner_func(source[i][0], base[i][1], base[i][-1])\n",
    "        counterfactual_y += [c_y]\n",
    "        \n",
    "    return torch.tensor(base, dtype=torch.long), \\\n",
    "        torch.tensor(base_y, dtype=torch.long), \\\n",
    "        torch.tensor(source, dtype=torch.long), \\\n",
    "        torch.tensor(counterfactual_y, dtype=torch.long), \\\n",
    "        torch.tensor([2 for _ in range(len(base))], dtype=torch.long)\n",
    "\n",
    "def get_IIT_arithmetic_dataset_control_V2(\n",
    "    variable_range, seed,\n",
    "    data_size,\n",
    "    combiner_func\n",
    "):\n",
    "    base, base_y, source, source_y = get_IIT_arithmetic_dataset_factual_pairs(\n",
    "        variable_range, seed,\n",
    "        data_size,\n",
    "        combiner_func\n",
    "    )\n",
    "    \n",
    "    counterfactual_y = []\n",
    "    for i in range(len(base)):\n",
    "        c_y = combiner_func(base[i][0], source[i][1], base[i][-1])\n",
    "        counterfactual_y += [c_y]\n",
    "        \n",
    "    return torch.tensor(base, dtype=torch.long), \\\n",
    "        torch.tensor(base_y, dtype=torch.long), \\\n",
    "        torch.tensor(source, dtype=torch.long), \\\n",
    "        torch.tensor(counterfactual_y, dtype=torch.long), \\\n",
    "        torch.tensor([2 for _ in range(len(base))], dtype=torch.long)\n",
    "\n",
    "def get_IIT_arithmetic_dataset_sum_first_V2(\n",
    "    variable_range, seed,\n",
    "    data_size,\n",
    "    combiner_func\n",
    "):\n",
    "    base, base_y, source, source_y = get_IIT_arithmetic_dataset_factual_pairs(\n",
    "        variable_range, seed,\n",
    "        data_size,\n",
    "        combiner_func\n",
    "    )\n",
    "    \n",
    "    counterfactual_y = []\n",
    "    for i in range(len(base)):\n",
    "        c_y = (base[i][0]+base[i][1])*source[i][-1]\n",
    "        counterfactual_y += [c_y]\n",
    "        \n",
    "    return torch.tensor(base, dtype=torch.long), \\\n",
    "        torch.tensor(base_y, dtype=torch.long), \\\n",
    "        torch.tensor(source, dtype=torch.long), \\\n",
    "        torch.tensor(counterfactual_y, dtype=torch.long), \\\n",
    "        torch.tensor([1 for _ in range(len(base))], dtype=torch.long)\n",
    "\n",
    "def get_IIT_arithmetic_dataset_prod_first_V1(\n",
    "    variable_range, seed,\n",
    "    data_size,\n",
    "    combiner_func\n",
    "):\n",
    "    base, base_y, source, source_y = get_IIT_arithmetic_dataset_factual_pairs(\n",
    "        variable_range, seed,\n",
    "        data_size,\n",
    "        combiner_func\n",
    "    )\n",
    "    \n",
    "    counterfactual_y = []\n",
    "    for i in range(len(base)):\n",
    "        c_y = (base[i][1]*base[i][-1])+(source[i][0]*source[i][-1])\n",
    "        counterfactual_y += [c_y]\n",
    "        \n",
    "    return torch.tensor(base, dtype=torch.long), \\\n",
    "        torch.tensor(base_y, dtype=torch.long), \\\n",
    "        torch.tensor(source, dtype=torch.long), \\\n",
    "        torch.tensor(counterfactual_y, dtype=torch.long), \\\n",
    "        torch.tensor([0 for _ in range(len(base))], dtype=torch.long)\n",
    "\n",
    "def get_IIT_arithmetic_dataset_prod_first_V2(\n",
    "    variable_range, seed,\n",
    "    data_size,\n",
    "    combiner_func\n",
    "):\n",
    "    base, base_y, source, source_y = get_IIT_arithmetic_dataset_factual_pairs(\n",
    "        variable_range, seed,\n",
    "        data_size,\n",
    "        combiner_func\n",
    "    )\n",
    "    \n",
    "    counterfactual_y = []\n",
    "    for i in range(len(base)):\n",
    "        c_y = (base[i][0]*base[i][-1])+(source[i][1]*source[i][-1])\n",
    "        counterfactual_y += [c_y]\n",
    "        \n",
    "    return torch.tensor(base, dtype=torch.long), \\\n",
    "        torch.tensor(base_y, dtype=torch.long), \\\n",
    "        torch.tensor(source, dtype=torch.long), \\\n",
    "        torch.tensor(counterfactual_y, dtype=torch.long), \\\n",
    "        torch.tensor([1 for _ in range(len(base))], dtype=torch.long)\n",
    "\n",
    "def get_IIT_arithmetic_dataset_control(\n",
    "    variable_range, seed,\n",
    "    data_size,\n",
    "    combiner_func\n",
    "):\n",
    "    base, base_y, source, source_y = get_IIT_arithmetic_dataset_factual_pairs(\n",
    "        variable_range, seed,\n",
    "        data_size,\n",
    "        combiner_func\n",
    "    )\n",
    "    \n",
    "    counterfactual_y = []\n",
    "    for i in range(len(base)):\n",
    "        c_y = source_y[i]\n",
    "        counterfactual_y += [c_y]\n",
    "        \n",
    "    return torch.tensor(base, dtype=torch.long), \\\n",
    "        torch.tensor(base_y, dtype=torch.long), \\\n",
    "        torch.tensor(source, dtype=torch.long), \\\n",
    "        torch.tensor(counterfactual_y, dtype=torch.long), \\\n",
    "        torch.tensor([2 for _ in range(len(base))], dtype=torch.long)\n",
    "\n",
    "def get_IIT_arithmetic_dataset_sum_first_V1(\n",
    "    variable_range, seed,\n",
    "    data_size,\n",
    "    combiner_func\n",
    "):\n",
    "    base, base_y, source, source_y = get_IIT_arithmetic_dataset_factual_pairs(\n",
    "        variable_range, seed,\n",
    "        data_size,\n",
    "        combiner_func\n",
    "    )\n",
    "    \n",
    "    source_sum = []\n",
    "    for s in source:\n",
    "        s_sum = s[0]+s[1]\n",
    "        source_sum += [s_sum]\n",
    "    \n",
    "    counterfactual_y = []\n",
    "    for i in range(len(base)):\n",
    "        c_y = source_sum[i]*base[i][-1]\n",
    "        counterfactual_y += [c_y]\n",
    "        \n",
    "    return torch.tensor(base, dtype=torch.long), \\\n",
    "        torch.tensor(base_y, dtype=torch.long), \\\n",
    "        torch.tensor(source, dtype=torch.long), \\\n",
    "        torch.tensor(counterfactual_y, dtype=torch.long), \\\n",
    "        torch.tensor([0 for _ in range(len(base))], dtype=torch.long)\n"
   ]
  },
  {
   "cell_type": "code",
   "execution_count": 33,
   "metadata": {},
   "outputs": [],
   "source": [
    "from random import randrange\n",
    "import torch, gc\n",
    "import random\n",
    "import copy\n",
    "import itertools\n",
    "import numpy as np\n",
    "import utils\n",
    "from trainer import LIMTrainer\n",
    "import numpy as np\n",
    "import matplotlib.pyplot as plt\n",
    "\n",
    "from sklearn.metrics import classification_report\n",
    "from LIM_deep_neural_classifier import LIMDeepNeuralClassifier\n",
    "import dataset_equality\n",
    "\n",
    "gc.collect()\n",
    "torch.cuda.empty_cache()\n",
    "utils.fix_random_seeds()\n",
    "\n",
    "def ab_c(a, b, c):\n",
    "    return (a+b)*c\n",
    "\n",
    "def get_IIT_arithmetic_dataset_factuals(\n",
    "    variable_range, seed,\n",
    "    data_size,\n",
    "    combiner_func\n",
    "):\n",
    "    random.seed(seed)\n",
    "    base = [[random.randint(\n",
    "        variable_range[0], variable_range[1]\n",
    "    ) for _ in range(3)] for _ in range(data_size)]\n",
    "    base_y = []\n",
    "    for b in base:\n",
    "        b_y = combiner_func(*b)\n",
    "        base_y += [b_y]\n",
    "        \n",
    "    return torch.tensor(base, dtype=torch.long), torch.tensor(base_y, dtype=torch.long)\n",
    "\n",
    "def get_IIT_arithmetic_dataset_factual_pairs(\n",
    "    variable_range, seed,\n",
    "    data_size,\n",
    "    combiner_func\n",
    "):\n",
    "    random.seed(seed)\n",
    "    base = [[random.randint(\n",
    "        variable_range[0], variable_range[1]\n",
    "    ) for _ in range(3)] for _ in range(data_size)]\n",
    "    base_y = []\n",
    "    for b in base:\n",
    "        b_y = combiner_func(*b)\n",
    "        base_y += [b_y]\n",
    "        \n",
    "    source = [[random.randint(\n",
    "        variable_range[0], variable_range[1]\n",
    "    ) for _ in range(3)] for _ in range(data_size)]\n",
    "    source_y = []\n",
    "    for s in source:\n",
    "        s_y = combiner_func(*s)\n",
    "        source_y += [s_y]\n",
    "        \n",
    "    return base, \\\n",
    "        base_y, \\\n",
    "        source, \\\n",
    "        source_y\n",
    "\n",
    "def get_IIT_arithmetic_dataset_sum_first_V1(\n",
    "    variable_range, seed,\n",
    "    data_size,\n",
    "    combiner_func\n",
    "):\n",
    "    base, base_y, source, source_y = get_IIT_arithmetic_dataset_factual_pairs(\n",
    "        variable_range, seed,\n",
    "        data_size,\n",
    "        combiner_func\n",
    "    )\n",
    "    \n",
    "    source_sum = []\n",
    "    for s in source:\n",
    "        s_sum = s[0]+s[1]\n",
    "        source_sum += [s_sum]\n",
    "    \n",
    "    counterfactual_y = []\n",
    "    for i in range(len(base)):\n",
    "        c_y = source_sum[i]*base[i][-1]\n",
    "        counterfactual_y += [c_y]\n",
    "        \n",
    "    return torch.tensor(base, dtype=torch.long), \\\n",
    "        torch.tensor(base_y, dtype=torch.long), \\\n",
    "        [torch.tensor(source, dtype=torch.long), torch.tensor(source, dtype=torch.long)], \\\n",
    "        torch.tensor(counterfactual_y, dtype=torch.long), \\\n",
    "        torch.tensor([0 for _ in range(len(base))], dtype=torch.long)\n",
    "\n",
    "def get_IIT_arithmetic_dataset_sum_first_V2(\n",
    "    variable_range, seed,\n",
    "    data_size,\n",
    "    combiner_func\n",
    "):\n",
    "    base, base_y, source, source_y = get_IIT_arithmetic_dataset_factual_pairs(\n",
    "        variable_range, seed,\n",
    "        data_size,\n",
    "        combiner_func\n",
    "    )\n",
    "    \n",
    "    counterfactual_y = []\n",
    "    for i in range(len(base)):\n",
    "        c_y = (base[i][0]+base[i][1])*source[i][-1]\n",
    "        counterfactual_y += [c_y]\n",
    "        \n",
    "    return torch.tensor(base, dtype=torch.long), \\\n",
    "        torch.tensor(base_y, dtype=torch.long), \\\n",
    "        [torch.tensor(source, dtype=torch.long), torch.tensor(source, dtype=torch.long)], \\\n",
    "        torch.tensor(counterfactual_y, dtype=torch.long), \\\n",
    "        torch.tensor([1 for _ in range(len(base))], dtype=torch.long)\n",
    "\n",
    "def get_IIT_arithmetic_dataset_sum_first_V1_V2(\n",
    "    variable_range, seed,\n",
    "    data_size,\n",
    "    combiner_func\n",
    "):\n",
    "    base_1, base_y_1, source_1, source_y_1 = get_IIT_arithmetic_dataset_factual_pairs(\n",
    "        variable_range, seed,\n",
    "        data_size,\n",
    "        combiner_func\n",
    "    )\n",
    "    base_2, base_y_2, source_2, source_y_2 = get_IIT_arithmetic_dataset_factual_pairs(\n",
    "        variable_range, seed+1,\n",
    "        data_size,\n",
    "        combiner_func\n",
    "    )\n",
    "    \n",
    "    source_sum_1 = []\n",
    "    for s in source_1:\n",
    "        s_sum = s[0]+s[1]\n",
    "        source_sum_1 += [s_sum]\n",
    "    \n",
    "    counterfactual_y = []\n",
    "    for i in range(len(source_2)):\n",
    "        c_y = source_sum_1[i]*source_2[i][-1]\n",
    "        counterfactual_y += [c_y]\n",
    "    \n",
    "    return torch.tensor(base_1, dtype=torch.long), \\\n",
    "        torch.tensor(base_y_1, dtype=torch.long), \\\n",
    "        [torch.tensor(source_1, dtype=torch.long), torch.tensor(source_2, dtype=torch.long)], \\\n",
    "        torch.tensor(counterfactual_y, dtype=torch.long), \\\n",
    "        torch.tensor([2 for _ in range(len(base_1))], dtype=torch.long)\n",
    "\n",
    "def get_IIT_arithmetic_dataset_sum_first(\n",
    "    variable_range, seed,\n",
    "    data_size,\n",
    "    combiner_func\n",
    "):\n",
    "    V1_dataset = get_IIT_arithmetic_dataset_sum_first_V1(\n",
    "        variable_range, seed,\n",
    "        data_size,\n",
    "        combiner_func\n",
    "    )\n",
    "    V2_dataset = get_IIT_arithmetic_dataset_sum_first_V2(\n",
    "        variable_range, seed,\n",
    "        data_size,\n",
    "        combiner_func\n",
    "    )\n",
    "    both_dataset = get_IIT_arithmetic_dataset_sum_first_V1_V2(\n",
    "        variable_range, seed,\n",
    "        data_size,\n",
    "        combiner_func\n",
    "    )\n",
    "    combined_dataset = [torch.cat((V1_dataset[0],\n",
    "                                    V2_dataset[0],\n",
    "                                    both_dataset[0])),\n",
    "                       torch.cat((V1_dataset[1],\n",
    "                                    V2_dataset[1],\n",
    "                                    both_dataset[1])),\n",
    "                       [torch.cat((V1_dataset[2][0],\n",
    "                                    V2_dataset[2][0],\n",
    "                                    both_dataset[2][0])),\n",
    "                       torch.cat((V1_dataset[2][0],\n",
    "                                    V2_dataset[2][0],\n",
    "                                    both_dataset[2][1]))],\n",
    "                       torch.cat((V1_dataset[3],\n",
    "                                    V2_dataset[3],\n",
    "                                    both_dataset[3])),\n",
    "                       torch.cat((V1_dataset[4],\n",
    "                                    V2_dataset[4],\n",
    "                                    both_dataset[4]))]\n",
    "    return combined_dataset"
   ]
  },
  {
   "cell_type": "markdown",
   "metadata": {},
   "source": [
    "### Train Factual Models"
   ]
  },
  {
   "cell_type": "code",
   "execution_count": 3,
   "metadata": {},
   "outputs": [],
   "source": [
    "# Fixed variables\n",
    "device = \"cpu\"\n",
    "data_size = 6400\n",
    "num_layers = 3\n",
    "max_iter = 500\n",
    "variable_range = [1, 6]\n",
    "\n",
    "embedding_dim = variable_range[1]-variable_range[0]+1\n",
    "input_dim = embedding_dim * 3\n",
    "min_y = (variable_range[0]+variable_range[0])*variable_range[0]\n",
    "max_y = (variable_range[1]+variable_range[1])*variable_range[1]\n",
    "classes = sorted(set([i for i in range(min_y, max_y+1)]))\n",
    "n_classes = (variable_range[1]+variable_range[1])*variable_range[1]\n",
    "class2index = dict(zip(classes, range(n_classes)))"
   ]
  },
  {
   "cell_type": "code",
   "execution_count": 4,
   "metadata": {},
   "outputs": [
    {
     "name": "stdout",
     "output_type": "stream",
     "text": [
      "training factual model for seed=88\n",
      "unfreezing the embedding layer as well.\n"
     ]
    },
    {
     "name": "stderr",
     "output_type": "stream",
     "text": [
      "Finished epoch 2 of 500; error is 4.2484803199768073973346"
     ]
    },
    {
     "name": "stdout",
     "output_type": "stream",
     "text": [
      "training factual model for seed=88\n",
      "unfreezing the embedding layer as well.\n"
     ]
    },
    {
     "name": "stderr",
     "output_type": "stream",
     "text": [
      "Finished epoch 1 of 500; error is 4.3115525245666517369097"
     ]
    },
    {
     "name": "stdout",
     "output_type": "stream",
     "text": [
      "training factual model for seed=42\n",
      "unfreezing the embedding layer as well.\n"
     ]
    },
    {
     "name": "stderr",
     "output_type": "stream",
     "text": [
      "Finished epoch 2 of 500; error is 4.2513957023620605326117"
     ]
    },
    {
     "name": "stdout",
     "output_type": "stream",
     "text": [
      "training factual model for seed=42\n",
      "unfreezing the embedding layer as well.\n"
     ]
    },
    {
     "name": "stderr",
     "output_type": "stream",
     "text": [
      "Finished epoch 1 of 500; error is 4.2826848030090335912848"
     ]
    },
    {
     "name": "stdout",
     "output_type": "stream",
     "text": [
      "training factual model for seed=77\n",
      "unfreezing the embedding layer as well.\n"
     ]
    },
    {
     "name": "stderr",
     "output_type": "stream",
     "text": [
      "Finished epoch 3 of 500; error is 4.162506580352783568093"
     ]
    },
    {
     "name": "stdout",
     "output_type": "stream",
     "text": [
      "training factual model for seed=77\n",
      "unfreezing the embedding layer as well.\n"
     ]
    },
    {
     "name": "stderr",
     "output_type": "stream",
     "text": [
      "Finished epoch 500 of 500; error is 0.00023455559858120978"
     ]
    }
   ],
   "source": [
    "for seed in {42, 77, 88}:\n",
    "    for hidden_dim in {18, 36}: # {18, 36}\n",
    "        utils.fix_random_seeds(seed=seed)\n",
    "        print(f\"training factual model for seed={seed}\")\n",
    "        X_base_train, y_base_train = get_IIT_arithmetic_dataset_factuals(\n",
    "            variable_range, seed, data_size, ab_c\n",
    "        )\n",
    "        LIM = LIMDeepNeuralClassifier(\n",
    "            hidden_dim=hidden_dim, \n",
    "            hidden_activation=torch.nn.ReLU(), \n",
    "            num_layers=num_layers,\n",
    "            input_dim=input_dim,\n",
    "            n_classes=n_classes,\n",
    "            device=device,\n",
    "            vocab_size=variable_range[1]-variable_range[0]+1,\n",
    "            embed_dim=embedding_dim,\n",
    "        )\n",
    "        \n",
    "        LIM_trainer = LIMTrainer(\n",
    "            LIM,\n",
    "            warm_start=True,\n",
    "            max_iter=max_iter,\n",
    "            batch_size=6400,\n",
    "            n_iter_no_change=10000,\n",
    "            shuffle_train=False,\n",
    "            eta=0.01,\n",
    "            input_as_ids=True,\n",
    "            device=device,\n",
    "            class2index=class2index,\n",
    "            save_checkpoint_per_epoch=True,\n",
    "            seed=seed\n",
    "        )\n",
    "        \n",
    "        _ = LIM_trainer.fit(\n",
    "            X_base_train, \n",
    "            y_base_train, \n",
    "            iit_data=None,\n",
    "            intervention_ids_to_coords=None\n",
    "        )\n",
    "        \n",
    "        PATH = f\"./saved_models_arithmetic/basemodel-last-{num_layers}-{hidden_dim}-{seed}.bin\"\n",
    "        torch.save(LIM_trainer.model.state_dict(), PATH)"
   ]
  },
  {
   "cell_type": "markdown",
   "metadata": {},
   "source": [
    "### IIT Dataset Generation"
   ]
  },
  {
   "cell_type": "markdown",
   "metadata": {},
   "source": [
    "### Train Oracle Models"
   ]
  },
  {
   "cell_type": "code",
   "execution_count": null,
   "metadata": {},
   "outputs": [
    {
     "name": "stdout",
     "output_type": "stream",
     "text": [
      "id_to_coords:  {0: [{'layer': 0, 'start': 0, 'end': 2}], 1: [{'layer': 0, 'start': 2, 'end': 3}], 2: [{'layer': 0, 'start': 0, 'end': 2}, {'layer': 0, 'start': 2, 'end': 3}]}\n",
      "Training 1/135 model aligned with oracle hlm with params:\n",
      "seed=88\n",
      "hidden_dim_per_concept=1\n",
      "iit_layer=0\n",
      "epoch=100\n",
      "unfreezing the embedding layer as well.\n",
      "freezing the embedding layer as well.\n"
     ]
    },
    {
     "name": "stderr",
     "output_type": "stream",
     "text": [
      "Finished epoch 50 of 50; error is 411.95255422592163"
     ]
    },
    {
     "name": "stdout",
     "output_type": "stream",
     "text": [
      "Training 2/135 model aligned with oracle hlm with params:\n",
      "seed=88\n",
      "hidden_dim_per_concept=1\n",
      "iit_layer=0\n",
      "epoch=200\n",
      "unfreezing the embedding layer as well.\n",
      "freezing the embedding layer as well.\n"
     ]
    },
    {
     "name": "stderr",
     "output_type": "stream",
     "text": [
      "Finished epoch 50 of 50; error is 572.7030506134033"
     ]
    },
    {
     "name": "stdout",
     "output_type": "stream",
     "text": [
      "Training 3/135 model aligned with oracle hlm with params:\n",
      "seed=88\n",
      "hidden_dim_per_concept=1\n",
      "iit_layer=0\n",
      "epoch=300\n",
      "unfreezing the embedding layer as well.\n",
      "freezing the embedding layer as well.\n"
     ]
    },
    {
     "name": "stderr",
     "output_type": "stream",
     "text": [
      "Finished epoch 50 of 50; error is 626.5766534805298"
     ]
    },
    {
     "name": "stdout",
     "output_type": "stream",
     "text": [
      "Training 4/135 model aligned with oracle hlm with params:\n",
      "seed=88\n",
      "hidden_dim_per_concept=1\n",
      "iit_layer=0\n",
      "epoch=400\n",
      "unfreezing the embedding layer as well.\n",
      "freezing the embedding layer as well.\n"
     ]
    },
    {
     "name": "stderr",
     "output_type": "stream",
     "text": [
      "Finished epoch 50 of 50; error is 661.6401453018188"
     ]
    },
    {
     "name": "stdout",
     "output_type": "stream",
     "text": [
      "Training 5/135 model aligned with oracle hlm with params:\n",
      "seed=88\n",
      "hidden_dim_per_concept=1\n",
      "iit_layer=0\n",
      "epoch=500\n",
      "unfreezing the embedding layer as well.\n",
      "freezing the embedding layer as well.\n"
     ]
    },
    {
     "name": "stderr",
     "output_type": "stream",
     "text": [
      "Finished epoch 50 of 50; error is 688.7528185844421"
     ]
    },
    {
     "name": "stdout",
     "output_type": "stream",
     "text": [
      "id_to_coords:  {0: [{'layer': 1, 'start': 0, 'end': 2}], 1: [{'layer': 1, 'start': 2, 'end': 3}], 2: [{'layer': 1, 'start': 0, 'end': 2}, {'layer': 1, 'start': 2, 'end': 3}]}\n",
      "Training 6/135 model aligned with oracle hlm with params:\n",
      "seed=88\n",
      "hidden_dim_per_concept=1\n",
      "iit_layer=1\n",
      "epoch=100\n",
      "unfreezing the embedding layer as well.\n",
      "freezing the embedding layer as well.\n"
     ]
    },
    {
     "name": "stderr",
     "output_type": "stream",
     "text": [
      "Finished epoch 50 of 50; error is 539.7150354385376"
     ]
    },
    {
     "name": "stdout",
     "output_type": "stream",
     "text": [
      "Training 7/135 model aligned with oracle hlm with params:\n",
      "seed=88\n",
      "hidden_dim_per_concept=1\n",
      "iit_layer=1\n",
      "epoch=200\n",
      "unfreezing the embedding layer as well.\n",
      "freezing the embedding layer as well.\n"
     ]
    },
    {
     "name": "stderr",
     "output_type": "stream",
     "text": [
      "Finished epoch 50 of 50; error is 758.1618146896362"
     ]
    },
    {
     "name": "stdout",
     "output_type": "stream",
     "text": [
      "Training 8/135 model aligned with oracle hlm with params:\n",
      "seed=88\n",
      "hidden_dim_per_concept=1\n",
      "iit_layer=1\n",
      "epoch=300\n",
      "unfreezing the embedding layer as well.\n",
      "freezing the embedding layer as well.\n"
     ]
    },
    {
     "name": "stderr",
     "output_type": "stream",
     "text": [
      "Finished epoch 50 of 50; error is 832.0212450027466"
     ]
    },
    {
     "name": "stdout",
     "output_type": "stream",
     "text": [
      "Training 9/135 model aligned with oracle hlm with params:\n",
      "seed=88\n",
      "hidden_dim_per_concept=1\n",
      "iit_layer=1\n",
      "epoch=400\n",
      "unfreezing the embedding layer as well.\n",
      "freezing the embedding layer as well.\n"
     ]
    },
    {
     "name": "stderr",
     "output_type": "stream",
     "text": [
      "Finished epoch 50 of 50; error is 880.5514698028564"
     ]
    },
    {
     "name": "stdout",
     "output_type": "stream",
     "text": [
      "Training 10/135 model aligned with oracle hlm with params:\n",
      "seed=88\n",
      "hidden_dim_per_concept=1\n",
      "iit_layer=1\n",
      "epoch=500\n",
      "unfreezing the embedding layer as well.\n",
      "freezing the embedding layer as well.\n"
     ]
    },
    {
     "name": "stderr",
     "output_type": "stream",
     "text": [
      "Finished epoch 50 of 50; error is 917.6477174758911"
     ]
    },
    {
     "name": "stdout",
     "output_type": "stream",
     "text": [
      "id_to_coords:  {0: [{'layer': 2, 'start': 0, 'end': 2}], 1: [{'layer': 2, 'start': 2, 'end': 3}], 2: [{'layer': 2, 'start': 0, 'end': 2}, {'layer': 2, 'start': 2, 'end': 3}]}\n",
      "Training 11/135 model aligned with oracle hlm with params:\n",
      "seed=88\n",
      "hidden_dim_per_concept=1\n",
      "iit_layer=2\n",
      "epoch=100\n",
      "unfreezing the embedding layer as well.\n",
      "freezing the embedding layer as well.\n"
     ]
    },
    {
     "name": "stderr",
     "output_type": "stream",
     "text": [
      "Finished epoch 50 of 50; error is 695.5848913192749"
     ]
    },
    {
     "name": "stdout",
     "output_type": "stream",
     "text": [
      "Training 12/135 model aligned with oracle hlm with params:\n",
      "seed=88\n",
      "hidden_dim_per_concept=1\n",
      "iit_layer=2\n",
      "epoch=200\n",
      "unfreezing the embedding layer as well.\n",
      "freezing the embedding layer as well.\n"
     ]
    },
    {
     "name": "stderr",
     "output_type": "stream",
     "text": [
      "Finished epoch 50 of 50; error is 981.4391422271729"
     ]
    },
    {
     "name": "stdout",
     "output_type": "stream",
     "text": [
      "Training 13/135 model aligned with oracle hlm with params:\n",
      "seed=88\n",
      "hidden_dim_per_concept=1\n",
      "iit_layer=2\n",
      "epoch=300\n",
      "unfreezing the embedding layer as well.\n",
      "freezing the embedding layer as well.\n"
     ]
    },
    {
     "name": "stderr",
     "output_type": "stream",
     "text": [
      "Finished epoch 50 of 50; error is 1078.1681632995605"
     ]
    },
    {
     "name": "stdout",
     "output_type": "stream",
     "text": [
      "Training 14/135 model aligned with oracle hlm with params:\n",
      "seed=88\n",
      "hidden_dim_per_concept=1\n",
      "iit_layer=2\n",
      "epoch=400\n",
      "unfreezing the embedding layer as well.\n",
      "freezing the embedding layer as well.\n"
     ]
    },
    {
     "name": "stderr",
     "output_type": "stream",
     "text": [
      "Finished epoch 50 of 50; error is 1140.9983234405518"
     ]
    },
    {
     "name": "stdout",
     "output_type": "stream",
     "text": [
      "Training 15/135 model aligned with oracle hlm with params:\n",
      "seed=88\n",
      "hidden_dim_per_concept=1\n",
      "iit_layer=2\n",
      "epoch=500\n",
      "unfreezing the embedding layer as well.\n",
      "freezing the embedding layer as well.\n"
     ]
    },
    {
     "name": "stderr",
     "output_type": "stream",
     "text": [
      "Finished epoch 50 of 50; error is 1189.4396591186523"
     ]
    },
    {
     "name": "stdout",
     "output_type": "stream",
     "text": [
      "id_to_coords:  {0: [{'layer': 0, 'start': 0, 'end': 4}], 1: [{'layer': 0, 'start': 4, 'end': 6}], 2: [{'layer': 0, 'start': 0, 'end': 4}, {'layer': 0, 'start': 4, 'end': 6}]}\n",
      "Training 16/135 model aligned with oracle hlm with params:\n",
      "seed=88\n",
      "hidden_dim_per_concept=2\n",
      "iit_layer=0\n",
      "epoch=100\n",
      "unfreezing the embedding layer as well.\n",
      "freezing the embedding layer as well.\n"
     ]
    },
    {
     "name": "stderr",
     "output_type": "stream",
     "text": [
      "Finished epoch 50 of 50; error is 150.81303644180298"
     ]
    },
    {
     "name": "stdout",
     "output_type": "stream",
     "text": [
      "Training 17/135 model aligned with oracle hlm with params:\n",
      "seed=88\n",
      "hidden_dim_per_concept=2\n",
      "iit_layer=0\n",
      "epoch=200\n",
      "unfreezing the embedding layer as well.\n",
      "freezing the embedding layer as well.\n"
     ]
    },
    {
     "name": "stderr",
     "output_type": "stream",
     "text": [
      "Finished epoch 50 of 50; error is 203.06825733184814"
     ]
    },
    {
     "name": "stdout",
     "output_type": "stream",
     "text": [
      "Training 18/135 model aligned with oracle hlm with params:\n",
      "seed=88\n",
      "hidden_dim_per_concept=2\n",
      "iit_layer=0\n",
      "epoch=300\n",
      "unfreezing the embedding layer as well.\n",
      "freezing the embedding layer as well.\n"
     ]
    },
    {
     "name": "stderr",
     "output_type": "stream",
     "text": [
      "Finished epoch 50 of 50; error is 220.50993204116826"
     ]
    },
    {
     "name": "stdout",
     "output_type": "stream",
     "text": [
      "Training 19/135 model aligned with oracle hlm with params:\n",
      "seed=88\n",
      "hidden_dim_per_concept=2\n",
      "iit_layer=0\n",
      "epoch=400\n",
      "unfreezing the embedding layer as well.\n",
      "freezing the embedding layer as well.\n"
     ]
    },
    {
     "name": "stderr",
     "output_type": "stream",
     "text": [
      "Finished epoch 50 of 50; error is 232.00185823440552"
     ]
    },
    {
     "name": "stdout",
     "output_type": "stream",
     "text": [
      "Training 20/135 model aligned with oracle hlm with params:\n",
      "seed=88\n",
      "hidden_dim_per_concept=2\n",
      "iit_layer=0\n",
      "epoch=500\n",
      "unfreezing the embedding layer as well.\n",
      "freezing the embedding layer as well.\n"
     ]
    },
    {
     "name": "stderr",
     "output_type": "stream",
     "text": [
      "Finished epoch 50 of 50; error is 241.30772447586066"
     ]
    },
    {
     "name": "stdout",
     "output_type": "stream",
     "text": [
      "id_to_coords:  {0: [{'layer': 1, 'start': 0, 'end': 4}], 1: [{'layer': 1, 'start': 4, 'end': 6}], 2: [{'layer': 1, 'start': 0, 'end': 4}, {'layer': 1, 'start': 4, 'end': 6}]}\n",
      "Training 21/135 model aligned with oracle hlm with params:\n",
      "seed=88\n",
      "hidden_dim_per_concept=2\n",
      "iit_layer=1\n",
      "epoch=100\n",
      "unfreezing the embedding layer as well.\n",
      "freezing the embedding layer as well.\n"
     ]
    },
    {
     "name": "stderr",
     "output_type": "stream",
     "text": [
      "Finished epoch 50 of 50; error is 303.06117343902597"
     ]
    },
    {
     "name": "stdout",
     "output_type": "stream",
     "text": [
      "Training 22/135 model aligned with oracle hlm with params:\n",
      "seed=88\n",
      "hidden_dim_per_concept=2\n",
      "iit_layer=1\n",
      "epoch=200\n",
      "unfreezing the embedding layer as well.\n",
      "freezing the embedding layer as well.\n"
     ]
    },
    {
     "name": "stderr",
     "output_type": "stream",
     "text": [
      "Finished epoch 50 of 50; error is 425.14454174041756"
     ]
    },
    {
     "name": "stdout",
     "output_type": "stream",
     "text": [
      "Training 23/135 model aligned with oracle hlm with params:\n",
      "seed=88\n",
      "hidden_dim_per_concept=2\n",
      "iit_layer=1\n",
      "epoch=300\n",
      "unfreezing the embedding layer as well.\n",
      "freezing the embedding layer as well.\n"
     ]
    },
    {
     "name": "stderr",
     "output_type": "stream",
     "text": [
      "Finished epoch 50 of 50; error is 466.94393730163574"
     ]
    },
    {
     "name": "stdout",
     "output_type": "stream",
     "text": [
      "Training 24/135 model aligned with oracle hlm with params:\n",
      "seed=88\n",
      "hidden_dim_per_concept=2\n",
      "iit_layer=1\n",
      "epoch=400\n",
      "unfreezing the embedding layer as well.\n",
      "freezing the embedding layer as well.\n"
     ]
    },
    {
     "name": "stderr",
     "output_type": "stream",
     "text": [
      "Finished epoch 50 of 50; error is 494.55284500122074"
     ]
    },
    {
     "name": "stdout",
     "output_type": "stream",
     "text": [
      "Training 25/135 model aligned with oracle hlm with params:\n",
      "seed=88\n",
      "hidden_dim_per_concept=2\n",
      "iit_layer=1\n",
      "epoch=500\n",
      "unfreezing the embedding layer as well.\n",
      "freezing the embedding layer as well.\n"
     ]
    },
    {
     "name": "stderr",
     "output_type": "stream",
     "text": [
      "Finished epoch 50 of 50; error is 516.1283369064331"
     ]
    },
    {
     "name": "stdout",
     "output_type": "stream",
     "text": [
      "id_to_coords:  {0: [{'layer': 2, 'start': 0, 'end': 4}], 1: [{'layer': 2, 'start': 4, 'end': 6}], 2: [{'layer': 2, 'start': 0, 'end': 4}, {'layer': 2, 'start': 4, 'end': 6}]}\n",
      "Training 26/135 model aligned with oracle hlm with params:\n",
      "seed=88\n",
      "hidden_dim_per_concept=2\n",
      "iit_layer=2\n",
      "epoch=100\n",
      "unfreezing the embedding layer as well.\n",
      "freezing the embedding layer as well.\n"
     ]
    },
    {
     "name": "stderr",
     "output_type": "stream",
     "text": [
      "Finished epoch 50 of 50; error is 477.52953052520753"
     ]
    },
    {
     "name": "stdout",
     "output_type": "stream",
     "text": [
      "Training 27/135 model aligned with oracle hlm with params:\n",
      "seed=88\n",
      "hidden_dim_per_concept=2\n",
      "iit_layer=2\n",
      "epoch=200\n",
      "unfreezing the embedding layer as well.\n",
      "freezing the embedding layer as well.\n"
     ]
    },
    {
     "name": "stderr",
     "output_type": "stream",
     "text": [
      "Finished epoch 50 of 50; error is 678.8134593963623"
     ]
    },
    {
     "name": "stdout",
     "output_type": "stream",
     "text": [
      "Training 28/135 model aligned with oracle hlm with params:\n",
      "seed=88\n",
      "hidden_dim_per_concept=2\n",
      "iit_layer=2\n",
      "epoch=300\n",
      "unfreezing the embedding layer as well.\n",
      "freezing the embedding layer as well.\n"
     ]
    },
    {
     "name": "stderr",
     "output_type": "stream",
     "text": [
      "Finished epoch 50 of 50; error is 747.2480697631836"
     ]
    },
    {
     "name": "stdout",
     "output_type": "stream",
     "text": [
      "Training 29/135 model aligned with oracle hlm with params:\n",
      "seed=88\n",
      "hidden_dim_per_concept=2\n",
      "iit_layer=2\n",
      "epoch=400\n",
      "unfreezing the embedding layer as well.\n",
      "freezing the embedding layer as well.\n"
     ]
    },
    {
     "name": "stderr",
     "output_type": "stream",
     "text": [
      "Finished epoch 50 of 50; error is 792.1210575103764"
     ]
    },
    {
     "name": "stdout",
     "output_type": "stream",
     "text": [
      "Training 30/135 model aligned with oracle hlm with params:\n",
      "seed=88\n",
      "hidden_dim_per_concept=2\n",
      "iit_layer=2\n",
      "epoch=500\n",
      "unfreezing the embedding layer as well.\n",
      "freezing the embedding layer as well.\n"
     ]
    },
    {
     "name": "stderr",
     "output_type": "stream",
     "text": [
      "Finished epoch 50 of 50; error is 826.0849342346191"
     ]
    },
    {
     "name": "stdout",
     "output_type": "stream",
     "text": [
      "id_to_coords:  {0: [{'layer': 0, 'start': 0, 'end': 12}], 1: [{'layer': 0, 'start': 12, 'end': 18}], 2: [{'layer': 0, 'start': 0, 'end': 12}, {'layer': 0, 'start': 12, 'end': 18}]}\n",
      "Training 31/135 model aligned with oracle hlm with params:\n",
      "seed=88\n",
      "hidden_dim_per_concept=6\n",
      "iit_layer=0\n",
      "epoch=100\n",
      "unfreezing the embedding layer as well.\n",
      "freezing the embedding layer as well.\n"
     ]
    },
    {
     "name": "stderr",
     "output_type": "stream",
     "text": [
      "Finished epoch 50 of 50; error is 85.98796367645264"
     ]
    },
    {
     "name": "stdout",
     "output_type": "stream",
     "text": [
      "Training 32/135 model aligned with oracle hlm with params:\n",
      "seed=88\n",
      "hidden_dim_per_concept=6\n",
      "iit_layer=0\n",
      "epoch=200\n",
      "unfreezing the embedding layer as well.\n",
      "freezing the embedding layer as well.\n"
     ]
    },
    {
     "name": "stderr",
     "output_type": "stream",
     "text": [
      "Finished epoch 50 of 50; error is 115.32278704643251"
     ]
    },
    {
     "name": "stdout",
     "output_type": "stream",
     "text": [
      "Training 33/135 model aligned with oracle hlm with params:\n",
      "seed=88\n",
      "hidden_dim_per_concept=6\n",
      "iit_layer=0\n",
      "epoch=300\n",
      "unfreezing the embedding layer as well.\n",
      "freezing the embedding layer as well.\n"
     ]
    },
    {
     "name": "stderr",
     "output_type": "stream",
     "text": [
      "Finished epoch 50 of 50; error is 125.59534883499146"
     ]
    },
    {
     "name": "stdout",
     "output_type": "stream",
     "text": [
      "Training 34/135 model aligned with oracle hlm with params:\n",
      "seed=88\n",
      "hidden_dim_per_concept=6\n",
      "iit_layer=0\n",
      "epoch=400\n",
      "unfreezing the embedding layer as well.\n",
      "freezing the embedding layer as well.\n"
     ]
    },
    {
     "name": "stderr",
     "output_type": "stream",
     "text": [
      "Finished epoch 50 of 50; error is 132.25640106201172"
     ]
    },
    {
     "name": "stdout",
     "output_type": "stream",
     "text": [
      "Training 35/135 model aligned with oracle hlm with params:\n",
      "seed=88\n",
      "hidden_dim_per_concept=6\n",
      "iit_layer=0\n",
      "epoch=500\n",
      "unfreezing the embedding layer as well.\n",
      "freezing the embedding layer as well.\n"
     ]
    },
    {
     "name": "stderr",
     "output_type": "stream",
     "text": [
      "Finished epoch 50 of 50; error is 137.36888504028328"
     ]
    },
    {
     "name": "stdout",
     "output_type": "stream",
     "text": [
      "id_to_coords:  {0: [{'layer': 1, 'start': 0, 'end': 12}], 1: [{'layer': 1, 'start': 12, 'end': 18}], 2: [{'layer': 1, 'start': 0, 'end': 12}, {'layer': 1, 'start': 12, 'end': 18}]}\n",
      "Training 36/135 model aligned with oracle hlm with params:\n",
      "seed=88\n",
      "hidden_dim_per_concept=6\n",
      "iit_layer=1\n",
      "epoch=100\n",
      "unfreezing the embedding layer as well.\n",
      "freezing the embedding layer as well.\n"
     ]
    },
    {
     "name": "stderr",
     "output_type": "stream",
     "text": [
      "Finished epoch 50 of 50; error is 229.21826791763306"
     ]
    },
    {
     "name": "stdout",
     "output_type": "stream",
     "text": [
      "Training 37/135 model aligned with oracle hlm with params:\n",
      "seed=88\n",
      "hidden_dim_per_concept=6\n",
      "iit_layer=1\n",
      "epoch=200\n",
      "unfreezing the embedding layer as well.\n",
      "freezing the embedding layer as well.\n"
     ]
    },
    {
     "name": "stderr",
     "output_type": "stream",
     "text": [
      "Finished epoch 50 of 50; error is 323.01390647888184"
     ]
    },
    {
     "name": "stdout",
     "output_type": "stream",
     "text": [
      "Training 38/135 model aligned with oracle hlm with params:\n",
      "seed=88\n",
      "hidden_dim_per_concept=6\n",
      "iit_layer=1\n",
      "epoch=300\n",
      "unfreezing the embedding layer as well.\n",
      "freezing the embedding layer as well.\n"
     ]
    },
    {
     "name": "stderr",
     "output_type": "stream",
     "text": [
      "Finished epoch 50 of 50; error is 355.53859901428227"
     ]
    },
    {
     "name": "stdout",
     "output_type": "stream",
     "text": [
      "Training 39/135 model aligned with oracle hlm with params:\n",
      "seed=88\n",
      "hidden_dim_per_concept=6\n",
      "iit_layer=1\n",
      "epoch=400\n",
      "unfreezing the embedding layer as well.\n",
      "freezing the embedding layer as well.\n"
     ]
    },
    {
     "name": "stderr",
     "output_type": "stream",
     "text": [
      "Finished epoch 50 of 50; error is 376.96250247955324"
     ]
    },
    {
     "name": "stdout",
     "output_type": "stream",
     "text": [
      "Training 40/135 model aligned with oracle hlm with params:\n",
      "seed=88\n",
      "hidden_dim_per_concept=6\n",
      "iit_layer=1\n",
      "epoch=500\n",
      "unfreezing the embedding layer as well.\n",
      "freezing the embedding layer as well.\n"
     ]
    },
    {
     "name": "stderr",
     "output_type": "stream",
     "text": [
      "Finished epoch 50 of 50; error is 393.31921768188477"
     ]
    },
    {
     "name": "stdout",
     "output_type": "stream",
     "text": [
      "id_to_coords:  {0: [{'layer': 2, 'start': 0, 'end': 12}], 1: [{'layer': 2, 'start': 12, 'end': 18}], 2: [{'layer': 2, 'start': 0, 'end': 12}, {'layer': 2, 'start': 12, 'end': 18}]}\n",
      "Training 41/135 model aligned with oracle hlm with params:\n",
      "seed=88\n",
      "hidden_dim_per_concept=6\n",
      "iit_layer=2\n",
      "epoch=100\n",
      "unfreezing the embedding layer as well.\n",
      "freezing the embedding layer as well.\n"
     ]
    },
    {
     "name": "stderr",
     "output_type": "stream",
     "text": [
      "Finished epoch 50 of 50; error is 369.76997661590576"
     ]
    },
    {
     "name": "stdout",
     "output_type": "stream",
     "text": [
      "Training 42/135 model aligned with oracle hlm with params:\n",
      "seed=88\n",
      "hidden_dim_per_concept=6\n",
      "iit_layer=2\n",
      "epoch=200\n",
      "unfreezing the embedding layer as well.\n",
      "freezing the embedding layer as well.\n"
     ]
    },
    {
     "name": "stderr",
     "output_type": "stream",
     "text": [
      "Finished epoch 50 of 50; error is 526.0855560302734"
     ]
    },
    {
     "name": "stdout",
     "output_type": "stream",
     "text": [
      "Training 43/135 model aligned with oracle hlm with params:\n",
      "seed=88\n",
      "hidden_dim_per_concept=6\n",
      "iit_layer=2\n",
      "epoch=300\n",
      "unfreezing the embedding layer as well.\n",
      "freezing the embedding layer as well.\n"
     ]
    },
    {
     "name": "stderr",
     "output_type": "stream",
     "text": [
      "Finished epoch 50 of 50; error is 579.4110412597656"
     ]
    },
    {
     "name": "stdout",
     "output_type": "stream",
     "text": [
      "Training 44/135 model aligned with oracle hlm with params:\n",
      "seed=88\n",
      "hidden_dim_per_concept=6\n",
      "iit_layer=2\n",
      "epoch=400\n",
      "unfreezing the embedding layer as well.\n",
      "freezing the embedding layer as well.\n"
     ]
    },
    {
     "name": "stderr",
     "output_type": "stream",
     "text": [
      "Finished epoch 50 of 50; error is 614.3392124176025"
     ]
    },
    {
     "name": "stdout",
     "output_type": "stream",
     "text": [
      "Training 45/135 model aligned with oracle hlm with params:\n",
      "seed=88\n",
      "hidden_dim_per_concept=6\n",
      "iit_layer=2\n",
      "epoch=500\n",
      "unfreezing the embedding layer as well.\n",
      "freezing the embedding layer as well.\n"
     ]
    },
    {
     "name": "stderr",
     "output_type": "stream",
     "text": [
      "Finished epoch 50 of 50; error is 640.8710231781006"
     ]
    },
    {
     "name": "stdout",
     "output_type": "stream",
     "text": [
      "id_to_coords:  {0: [{'layer': 0, 'start': 0, 'end': 4}], 1: [{'layer': 0, 'start': 4, 'end': 6}], 2: [{'layer': 0, 'start': 0, 'end': 4}, {'layer': 0, 'start': 4, 'end': 6}]}\n",
      "Training 46/135 model aligned with oracle hlm with params:\n",
      "seed=88\n",
      "hidden_dim_per_concept=1\n",
      "iit_layer=0\n",
      "epoch=100\n",
      "unfreezing the embedding layer as well.\n",
      "freezing the embedding layer as well.\n"
     ]
    },
    {
     "name": "stderr",
     "output_type": "stream",
     "text": [
      "Finished epoch 50 of 50; error is 147.11697399616241"
     ]
    },
    {
     "name": "stdout",
     "output_type": "stream",
     "text": [
      "Training 47/135 model aligned with oracle hlm with params:\n",
      "seed=88\n",
      "hidden_dim_per_concept=1\n",
      "iit_layer=0\n",
      "epoch=200\n",
      "unfreezing the embedding layer as well.\n",
      "freezing the embedding layer as well.\n"
     ]
    },
    {
     "name": "stderr",
     "output_type": "stream",
     "text": [
      "Finished epoch 50 of 50; error is 158.71258890628815"
     ]
    },
    {
     "name": "stdout",
     "output_type": "stream",
     "text": [
      "Training 48/135 model aligned with oracle hlm with params:\n",
      "seed=88\n",
      "hidden_dim_per_concept=1\n",
      "iit_layer=0\n",
      "epoch=300\n",
      "unfreezing the embedding layer as well.\n",
      "freezing the embedding layer as well.\n"
     ]
    },
    {
     "name": "stderr",
     "output_type": "stream",
     "text": [
      "Finished epoch 50 of 50; error is 166.27842640876778"
     ]
    },
    {
     "name": "stdout",
     "output_type": "stream",
     "text": [
      "Training 49/135 model aligned with oracle hlm with params:\n",
      "seed=88\n",
      "hidden_dim_per_concept=1\n",
      "iit_layer=0\n",
      "epoch=400\n",
      "unfreezing the embedding layer as well.\n",
      "freezing the embedding layer as well.\n"
     ]
    },
    {
     "name": "stderr",
     "output_type": "stream",
     "text": [
      "Finished epoch 50 of 50; error is 173.15530395507812"
     ]
    },
    {
     "name": "stdout",
     "output_type": "stream",
     "text": [
      "Training 50/135 model aligned with oracle hlm with params:\n",
      "seed=88\n",
      "hidden_dim_per_concept=1\n",
      "iit_layer=0\n",
      "epoch=500\n",
      "unfreezing the embedding layer as well.\n",
      "freezing the embedding layer as well.\n"
     ]
    },
    {
     "name": "stderr",
     "output_type": "stream",
     "text": [
      "Finished epoch 50 of 50; error is 177.02464234828953"
     ]
    },
    {
     "name": "stdout",
     "output_type": "stream",
     "text": [
      "id_to_coords:  {0: [{'layer': 1, 'start': 0, 'end': 4}], 1: [{'layer': 1, 'start': 4, 'end': 6}], 2: [{'layer': 1, 'start': 0, 'end': 4}, {'layer': 1, 'start': 4, 'end': 6}]}\n",
      "Training 51/135 model aligned with oracle hlm with params:\n",
      "seed=88\n",
      "hidden_dim_per_concept=1\n",
      "iit_layer=1\n",
      "epoch=100\n",
      "unfreezing the embedding layer as well.\n",
      "freezing the embedding layer as well.\n"
     ]
    },
    {
     "name": "stderr",
     "output_type": "stream",
     "text": [
      "Finished epoch 50 of 50; error is 241.55724191665654"
     ]
    },
    {
     "name": "stdout",
     "output_type": "stream",
     "text": [
      "Training 52/135 model aligned with oracle hlm with params:\n",
      "seed=88\n",
      "hidden_dim_per_concept=1\n",
      "iit_layer=1\n",
      "epoch=200\n",
      "unfreezing the embedding layer as well.\n",
      "freezing the embedding layer as well.\n"
     ]
    },
    {
     "name": "stderr",
     "output_type": "stream",
     "text": [
      "Finished epoch 50 of 50; error is 269.59985876083374"
     ]
    },
    {
     "name": "stdout",
     "output_type": "stream",
     "text": [
      "Training 53/135 model aligned with oracle hlm with params:\n",
      "seed=88\n",
      "hidden_dim_per_concept=1\n",
      "iit_layer=1\n",
      "epoch=300\n",
      "unfreezing the embedding layer as well.\n",
      "freezing the embedding layer as well.\n"
     ]
    },
    {
     "name": "stderr",
     "output_type": "stream",
     "text": [
      "Finished epoch 50 of 50; error is 283.93979930877686"
     ]
    },
    {
     "name": "stdout",
     "output_type": "stream",
     "text": [
      "Training 54/135 model aligned with oracle hlm with params:\n",
      "seed=88\n",
      "hidden_dim_per_concept=1\n",
      "iit_layer=1\n",
      "epoch=400\n",
      "unfreezing the embedding layer as well.\n",
      "freezing the embedding layer as well.\n"
     ]
    },
    {
     "name": "stderr",
     "output_type": "stream",
     "text": [
      "Finished epoch 50 of 50; error is 294.98287534713745"
     ]
    },
    {
     "name": "stdout",
     "output_type": "stream",
     "text": [
      "Training 55/135 model aligned with oracle hlm with params:\n",
      "seed=88\n",
      "hidden_dim_per_concept=1\n",
      "iit_layer=1\n",
      "epoch=500\n",
      "unfreezing the embedding layer as well.\n",
      "freezing the embedding layer as well.\n"
     ]
    },
    {
     "name": "stderr",
     "output_type": "stream",
     "text": [
      "Finished epoch 50 of 50; error is 303.75937223434455"
     ]
    },
    {
     "name": "stdout",
     "output_type": "stream",
     "text": [
      "id_to_coords:  {0: [{'layer': 2, 'start': 0, 'end': 4}], 1: [{'layer': 2, 'start': 4, 'end': 6}], 2: [{'layer': 2, 'start': 0, 'end': 4}, {'layer': 2, 'start': 4, 'end': 6}]}\n",
      "Training 56/135 model aligned with oracle hlm with params:\n",
      "seed=88\n",
      "hidden_dim_per_concept=1\n",
      "iit_layer=2\n",
      "epoch=100\n",
      "unfreezing the embedding layer as well.\n",
      "freezing the embedding layer as well.\n"
     ]
    },
    {
     "name": "stderr",
     "output_type": "stream",
     "text": [
      "Finished epoch 50 of 50; error is 360.51910114288336"
     ]
    },
    {
     "name": "stdout",
     "output_type": "stream",
     "text": [
      "Training 57/135 model aligned with oracle hlm with params:\n",
      "seed=88\n",
      "hidden_dim_per_concept=1\n",
      "iit_layer=2\n",
      "epoch=200\n",
      "unfreezing the embedding layer as well.\n",
      "freezing the embedding layer as well.\n"
     ]
    },
    {
     "name": "stderr",
     "output_type": "stream",
     "text": [
      "Finished epoch 50 of 50; error is 406.56785869598397"
     ]
    },
    {
     "name": "stdout",
     "output_type": "stream",
     "text": [
      "Training 58/135 model aligned with oracle hlm with params:\n",
      "seed=88\n",
      "hidden_dim_per_concept=1\n",
      "iit_layer=2\n",
      "epoch=300\n",
      "unfreezing the embedding layer as well.\n",
      "freezing the embedding layer as well.\n"
     ]
    },
    {
     "name": "stderr",
     "output_type": "stream",
     "text": [
      "Finished epoch 50 of 50; error is 428.81589221954346"
     ]
    },
    {
     "name": "stdout",
     "output_type": "stream",
     "text": [
      "Training 59/135 model aligned with oracle hlm with params:\n",
      "seed=88\n",
      "hidden_dim_per_concept=1\n",
      "iit_layer=2\n",
      "epoch=400\n",
      "unfreezing the embedding layer as well.\n",
      "freezing the embedding layer as well.\n"
     ]
    },
    {
     "name": "stderr",
     "output_type": "stream",
     "text": [
      "Finished epoch 50 of 50; error is 446.11642646789553"
     ]
    },
    {
     "name": "stdout",
     "output_type": "stream",
     "text": [
      "Training 60/135 model aligned with oracle hlm with params:\n",
      "seed=88\n",
      "hidden_dim_per_concept=1\n",
      "iit_layer=2\n",
      "epoch=500\n",
      "unfreezing the embedding layer as well.\n",
      "freezing the embedding layer as well.\n"
     ]
    },
    {
     "name": "stderr",
     "output_type": "stream",
     "text": [
      "Finished epoch 50 of 50; error is 459.07650661468506"
     ]
    },
    {
     "name": "stdout",
     "output_type": "stream",
     "text": [
      "id_to_coords:  {0: [{'layer': 0, 'start': 0, 'end': 8}], 1: [{'layer': 0, 'start': 8, 'end': 12}], 2: [{'layer': 0, 'start': 0, 'end': 8}, {'layer': 0, 'start': 8, 'end': 12}]}\n",
      "Training 61/135 model aligned with oracle hlm with params:\n",
      "seed=88\n",
      "hidden_dim_per_concept=2\n",
      "iit_layer=0\n",
      "epoch=100\n",
      "unfreezing the embedding layer as well.\n",
      "freezing the embedding layer as well.\n"
     ]
    },
    {
     "name": "stderr",
     "output_type": "stream",
     "text": [
      "Finished epoch 50 of 50; error is 36.799917817115784"
     ]
    },
    {
     "name": "stdout",
     "output_type": "stream",
     "text": [
      "Training 62/135 model aligned with oracle hlm with params:\n",
      "seed=88\n",
      "hidden_dim_per_concept=2\n",
      "iit_layer=0\n",
      "epoch=200\n",
      "unfreezing the embedding layer as well.\n",
      "freezing the embedding layer as well.\n"
     ]
    },
    {
     "name": "stderr",
     "output_type": "stream",
     "text": [
      "Finished epoch 50 of 50; error is 38.977903127670295"
     ]
    },
    {
     "name": "stdout",
     "output_type": "stream",
     "text": [
      "Training 63/135 model aligned with oracle hlm with params:\n",
      "seed=88\n",
      "hidden_dim_per_concept=2\n",
      "iit_layer=0\n",
      "epoch=300\n",
      "unfreezing the embedding layer as well.\n",
      "freezing the embedding layer as well.\n"
     ]
    },
    {
     "name": "stderr",
     "output_type": "stream",
     "text": [
      "Finished epoch 50 of 50; error is 40.350726008415225"
     ]
    },
    {
     "name": "stdout",
     "output_type": "stream",
     "text": [
      "Training 64/135 model aligned with oracle hlm with params:\n",
      "seed=88\n",
      "hidden_dim_per_concept=2\n",
      "iit_layer=0\n",
      "epoch=400\n",
      "unfreezing the embedding layer as well.\n",
      "freezing the embedding layer as well.\n"
     ]
    },
    {
     "name": "stderr",
     "output_type": "stream",
     "text": [
      "Finished epoch 50 of 50; error is 41.460482835769654"
     ]
    },
    {
     "name": "stdout",
     "output_type": "stream",
     "text": [
      "Training 65/135 model aligned with oracle hlm with params:\n",
      "seed=88\n",
      "hidden_dim_per_concept=2\n",
      "iit_layer=0\n",
      "epoch=500\n",
      "unfreezing the embedding layer as well.\n",
      "freezing the embedding layer as well.\n"
     ]
    },
    {
     "name": "stderr",
     "output_type": "stream",
     "text": [
      "Finished epoch 50 of 50; error is 42.353849768638615"
     ]
    },
    {
     "name": "stdout",
     "output_type": "stream",
     "text": [
      "id_to_coords:  {0: [{'layer': 1, 'start': 0, 'end': 8}], 1: [{'layer': 1, 'start': 8, 'end': 12}], 2: [{'layer': 1, 'start': 0, 'end': 8}, {'layer': 1, 'start': 8, 'end': 12}]}\n",
      "Training 66/135 model aligned with oracle hlm with params:\n",
      "seed=88\n",
      "hidden_dim_per_concept=2\n",
      "iit_layer=1\n",
      "epoch=100\n",
      "unfreezing the embedding layer as well.\n",
      "freezing the embedding layer as well.\n"
     ]
    },
    {
     "name": "stderr",
     "output_type": "stream",
     "text": [
      "Finished epoch 50 of 50; error is 139.53102016448975"
     ]
    },
    {
     "name": "stdout",
     "output_type": "stream",
     "text": [
      "Training 67/135 model aligned with oracle hlm with params:\n",
      "seed=88\n",
      "hidden_dim_per_concept=2\n",
      "iit_layer=1\n",
      "epoch=200\n",
      "unfreezing the embedding layer as well.\n",
      "freezing the embedding layer as well.\n"
     ]
    },
    {
     "name": "stderr",
     "output_type": "stream",
     "text": [
      "Finished epoch 50 of 50; error is 155.74793481826782"
     ]
    },
    {
     "name": "stdout",
     "output_type": "stream",
     "text": [
      "Training 68/135 model aligned with oracle hlm with params:\n",
      "seed=88\n",
      "hidden_dim_per_concept=2\n",
      "iit_layer=1\n",
      "epoch=300\n",
      "unfreezing the embedding layer as well.\n",
      "freezing the embedding layer as well.\n"
     ]
    },
    {
     "name": "stderr",
     "output_type": "stream",
     "text": [
      "Finished epoch 50 of 50; error is 163.91495800018312"
     ]
    },
    {
     "name": "stdout",
     "output_type": "stream",
     "text": [
      "Training 69/135 model aligned with oracle hlm with params:\n",
      "seed=88\n",
      "hidden_dim_per_concept=2\n",
      "iit_layer=1\n",
      "epoch=400\n",
      "unfreezing the embedding layer as well.\n",
      "freezing the embedding layer as well.\n"
     ]
    },
    {
     "name": "stderr",
     "output_type": "stream",
     "text": [
      "Finished epoch 50 of 50; error is 170.09002828598022"
     ]
    },
    {
     "name": "stdout",
     "output_type": "stream",
     "text": [
      "Training 70/135 model aligned with oracle hlm with params:\n",
      "seed=88\n",
      "hidden_dim_per_concept=2\n",
      "iit_layer=1\n",
      "epoch=500\n",
      "unfreezing the embedding layer as well.\n",
      "freezing the embedding layer as well.\n"
     ]
    },
    {
     "name": "stderr",
     "output_type": "stream",
     "text": [
      "Finished epoch 50 of 50; error is 174.81683492660522"
     ]
    },
    {
     "name": "stdout",
     "output_type": "stream",
     "text": [
      "id_to_coords:  {0: [{'layer': 2, 'start': 0, 'end': 8}], 1: [{'layer': 2, 'start': 8, 'end': 12}], 2: [{'layer': 2, 'start': 0, 'end': 8}, {'layer': 2, 'start': 8, 'end': 12}]}\n",
      "Training 71/135 model aligned with oracle hlm with params:\n",
      "seed=88\n",
      "hidden_dim_per_concept=2\n",
      "iit_layer=2\n",
      "epoch=100\n",
      "unfreezing the embedding layer as well.\n",
      "freezing the embedding layer as well.\n"
     ]
    },
    {
     "name": "stderr",
     "output_type": "stream",
     "text": [
      "Finished epoch 50 of 50; error is 251.95168542861938"
     ]
    },
    {
     "name": "stdout",
     "output_type": "stream",
     "text": [
      "Training 72/135 model aligned with oracle hlm with params:\n",
      "seed=88\n",
      "hidden_dim_per_concept=2\n",
      "iit_layer=2\n",
      "epoch=200\n",
      "unfreezing the embedding layer as well.\n",
      "freezing the embedding layer as well.\n"
     ]
    },
    {
     "name": "stderr",
     "output_type": "stream",
     "text": [
      "Finished epoch 50 of 50; error is 282.98951911926277"
     ]
    },
    {
     "name": "stdout",
     "output_type": "stream",
     "text": [
      "Training 73/135 model aligned with oracle hlm with params:\n",
      "seed=88\n",
      "hidden_dim_per_concept=2\n",
      "iit_layer=2\n",
      "epoch=300\n",
      "unfreezing the embedding layer as well.\n",
      "freezing the embedding layer as well.\n"
     ]
    },
    {
     "name": "stderr",
     "output_type": "stream",
     "text": [
      "Finished epoch 50 of 50; error is 298.96478366851807"
     ]
    },
    {
     "name": "stdout",
     "output_type": "stream",
     "text": [
      "Training 74/135 model aligned with oracle hlm with params:\n",
      "seed=88\n",
      "hidden_dim_per_concept=2\n",
      "iit_layer=2\n",
      "epoch=400\n",
      "unfreezing the embedding layer as well.\n",
      "freezing the embedding layer as well.\n"
     ]
    },
    {
     "name": "stderr",
     "output_type": "stream",
     "text": [
      "Finished epoch 50 of 50; error is 311.26944732666016"
     ]
    },
    {
     "name": "stdout",
     "output_type": "stream",
     "text": [
      "Training 75/135 model aligned with oracle hlm with params:\n",
      "seed=88\n",
      "hidden_dim_per_concept=2\n",
      "iit_layer=2\n",
      "epoch=500\n",
      "unfreezing the embedding layer as well.\n",
      "freezing the embedding layer as well.\n"
     ]
    },
    {
     "name": "stderr",
     "output_type": "stream",
     "text": [
      "Finished epoch 50 of 50; error is 321.29469871520996"
     ]
    },
    {
     "name": "stdout",
     "output_type": "stream",
     "text": [
      "id_to_coords:  {0: [{'layer': 0, 'start': 0, 'end': 24}], 1: [{'layer': 0, 'start': 24, 'end': 36}], 2: [{'layer': 0, 'start': 0, 'end': 24}, {'layer': 0, 'start': 24, 'end': 36}]}\n",
      "Training 76/135 model aligned with oracle hlm with params:\n",
      "seed=88\n",
      "hidden_dim_per_concept=6\n",
      "iit_layer=0\n",
      "epoch=100\n",
      "unfreezing the embedding layer as well.\n",
      "freezing the embedding layer as well.\n"
     ]
    },
    {
     "name": "stderr",
     "output_type": "stream",
     "text": [
      "Finished epoch 50 of 50; error is 31.878461599349976"
     ]
    },
    {
     "name": "stdout",
     "output_type": "stream",
     "text": [
      "Training 77/135 model aligned with oracle hlm with params:\n",
      "seed=88\n",
      "hidden_dim_per_concept=6\n",
      "iit_layer=0\n",
      "epoch=200\n",
      "unfreezing the embedding layer as well.\n",
      "freezing the embedding layer as well.\n"
     ]
    },
    {
     "name": "stderr",
     "output_type": "stream",
     "text": [
      "Finished epoch 50 of 50; error is 33.598668694496155"
     ]
    },
    {
     "name": "stdout",
     "output_type": "stream",
     "text": [
      "Training 78/135 model aligned with oracle hlm with params:\n",
      "seed=88\n",
      "hidden_dim_per_concept=6\n",
      "iit_layer=0\n",
      "epoch=300\n",
      "unfreezing the embedding layer as well.\n",
      "freezing the embedding layer as well.\n"
     ]
    },
    {
     "name": "stderr",
     "output_type": "stream",
     "text": [
      "Finished epoch 50 of 50; error is 34.734269261360175"
     ]
    },
    {
     "name": "stdout",
     "output_type": "stream",
     "text": [
      "Training 79/135 model aligned with oracle hlm with params:\n",
      "seed=88\n",
      "hidden_dim_per_concept=6\n",
      "iit_layer=0\n",
      "epoch=400\n",
      "unfreezing the embedding layer as well.\n",
      "freezing the embedding layer as well.\n"
     ]
    },
    {
     "name": "stderr",
     "output_type": "stream",
     "text": [
      "Finished epoch 50 of 50; error is 35.701239585876465"
     ]
    },
    {
     "name": "stdout",
     "output_type": "stream",
     "text": [
      "Training 80/135 model aligned with oracle hlm with params:\n",
      "seed=88\n",
      "hidden_dim_per_concept=6\n",
      "iit_layer=0\n",
      "epoch=500\n",
      "unfreezing the embedding layer as well.\n",
      "freezing the embedding layer as well.\n"
     ]
    },
    {
     "name": "stderr",
     "output_type": "stream",
     "text": [
      "Finished epoch 50 of 50; error is 36.486105680465744"
     ]
    },
    {
     "name": "stdout",
     "output_type": "stream",
     "text": [
      "id_to_coords:  {0: [{'layer': 1, 'start': 0, 'end': 24}], 1: [{'layer': 1, 'start': 24, 'end': 36}], 2: [{'layer': 1, 'start': 0, 'end': 24}, {'layer': 1, 'start': 24, 'end': 36}]}\n",
      "Training 81/135 model aligned with oracle hlm with params:\n",
      "seed=88\n",
      "hidden_dim_per_concept=6\n",
      "iit_layer=1\n",
      "epoch=100\n",
      "unfreezing the embedding layer as well.\n",
      "freezing the embedding layer as well.\n"
     ]
    },
    {
     "name": "stderr",
     "output_type": "stream",
     "text": [
      "Finished epoch 50 of 50; error is 130.55049467086792"
     ]
    },
    {
     "name": "stdout",
     "output_type": "stream",
     "text": [
      "Training 82/135 model aligned with oracle hlm with params:\n",
      "seed=88\n",
      "hidden_dim_per_concept=6\n",
      "iit_layer=1\n",
      "epoch=200\n",
      "unfreezing the embedding layer as well.\n",
      "freezing the embedding layer as well.\n"
     ]
    },
    {
     "name": "stderr",
     "output_type": "stream",
     "text": [
      "Finished epoch 50 of 50; error is 145.67108488082886"
     ]
    },
    {
     "name": "stdout",
     "output_type": "stream",
     "text": [
      "Training 83/135 model aligned with oracle hlm with params:\n",
      "seed=88\n",
      "hidden_dim_per_concept=6\n",
      "iit_layer=1\n",
      "epoch=300\n",
      "unfreezing the embedding layer as well.\n",
      "freezing the embedding layer as well.\n"
     ]
    },
    {
     "name": "stderr",
     "output_type": "stream",
     "text": [
      "Finished epoch 50 of 50; error is 153.41310262680054"
     ]
    },
    {
     "name": "stdout",
     "output_type": "stream",
     "text": [
      "Training 84/135 model aligned with oracle hlm with params:\n",
      "seed=88\n",
      "hidden_dim_per_concept=6\n",
      "iit_layer=1\n",
      "epoch=400\n",
      "unfreezing the embedding layer as well.\n",
      "freezing the embedding layer as well.\n"
     ]
    },
    {
     "name": "stderr",
     "output_type": "stream",
     "text": [
      "Finished epoch 50 of 50; error is 159.21724605560303"
     ]
    },
    {
     "name": "stdout",
     "output_type": "stream",
     "text": [
      "Training 85/135 model aligned with oracle hlm with params:\n",
      "seed=88\n",
      "hidden_dim_per_concept=6\n",
      "iit_layer=1\n",
      "epoch=500\n",
      "unfreezing the embedding layer as well.\n",
      "freezing the embedding layer as well.\n"
     ]
    },
    {
     "name": "stderr",
     "output_type": "stream",
     "text": [
      "Finished epoch 50 of 50; error is 163.78655052185068"
     ]
    },
    {
     "name": "stdout",
     "output_type": "stream",
     "text": [
      "id_to_coords:  {0: [{'layer': 2, 'start': 0, 'end': 24}], 1: [{'layer': 2, 'start': 24, 'end': 36}], 2: [{'layer': 2, 'start': 0, 'end': 24}, {'layer': 2, 'start': 24, 'end': 36}]}\n",
      "Training 86/135 model aligned with oracle hlm with params:\n",
      "seed=88\n",
      "hidden_dim_per_concept=6\n",
      "iit_layer=2\n",
      "epoch=100\n",
      "unfreezing the embedding layer as well.\n",
      "freezing the embedding layer as well.\n"
     ]
    },
    {
     "name": "stderr",
     "output_type": "stream",
     "text": [
      "Finished epoch 50 of 50; error is 225.50022697448739"
     ]
    },
    {
     "name": "stdout",
     "output_type": "stream",
     "text": [
      "Training 87/135 model aligned with oracle hlm with params:\n",
      "seed=88\n",
      "hidden_dim_per_concept=6\n",
      "iit_layer=2\n",
      "epoch=200\n",
      "unfreezing the embedding layer as well.\n",
      "freezing the embedding layer as well.\n"
     ]
    },
    {
     "name": "stderr",
     "output_type": "stream",
     "text": [
      "Finished epoch 50 of 50; error is 252.13322830200195"
     ]
    },
    {
     "name": "stdout",
     "output_type": "stream",
     "text": [
      "Training 88/135 model aligned with oracle hlm with params:\n",
      "seed=88\n",
      "hidden_dim_per_concept=6\n",
      "iit_layer=2\n",
      "epoch=300\n",
      "unfreezing the embedding layer as well.\n",
      "freezing the embedding layer as well.\n"
     ]
    },
    {
     "name": "stderr",
     "output_type": "stream",
     "text": [
      "Finished epoch 50 of 50; error is 265.76341819763184"
     ]
    },
    {
     "name": "stdout",
     "output_type": "stream",
     "text": [
      "Training 89/135 model aligned with oracle hlm with params:\n",
      "seed=88\n",
      "hidden_dim_per_concept=6\n",
      "iit_layer=2\n",
      "epoch=400\n",
      "unfreezing the embedding layer as well.\n",
      "freezing the embedding layer as well.\n"
     ]
    },
    {
     "name": "stderr",
     "output_type": "stream",
     "text": [
      "Finished epoch 50 of 50; error is 275.93786239624023"
     ]
    },
    {
     "name": "stdout",
     "output_type": "stream",
     "text": [
      "Training 90/135 model aligned with oracle hlm with params:\n",
      "seed=88\n",
      "hidden_dim_per_concept=6\n",
      "iit_layer=2\n",
      "epoch=500\n",
      "unfreezing the embedding layer as well.\n",
      "freezing the embedding layer as well.\n"
     ]
    },
    {
     "name": "stderr",
     "output_type": "stream",
     "text": [
      "Finished epoch 50 of 50; error is 284.19998168945317"
     ]
    },
    {
     "name": "stdout",
     "output_type": "stream",
     "text": [
      "id_to_coords:  {0: [{'layer': 0, 'start': 0, 'end': 2}], 1: [{'layer': 0, 'start': 2, 'end': 3}], 2: [{'layer': 0, 'start': 0, 'end': 2}, {'layer': 0, 'start': 2, 'end': 3}]}\n",
      "Training 91/135 model aligned with oracle hlm with params:\n",
      "seed=42\n",
      "hidden_dim_per_concept=1\n",
      "iit_layer=0\n",
      "epoch=100\n",
      "unfreezing the embedding layer as well.\n",
      "freezing the embedding layer as well.\n"
     ]
    },
    {
     "name": "stderr",
     "output_type": "stream",
     "text": [
      "Finished epoch 50 of 50; error is 380.10940790176397"
     ]
    },
    {
     "name": "stdout",
     "output_type": "stream",
     "text": [
      "Training 92/135 model aligned with oracle hlm with params:\n",
      "seed=42\n",
      "hidden_dim_per_concept=1\n",
      "iit_layer=0\n",
      "epoch=200\n",
      "unfreezing the embedding layer as well.\n",
      "freezing the embedding layer as well.\n"
     ]
    },
    {
     "name": "stderr",
     "output_type": "stream",
     "text": [
      "Finished epoch 50 of 50; error is 494.76228141784677"
     ]
    },
    {
     "name": "stdout",
     "output_type": "stream",
     "text": [
      "Training 93/135 model aligned with oracle hlm with params:\n",
      "seed=42\n",
      "hidden_dim_per_concept=1\n",
      "iit_layer=0\n",
      "epoch=300\n",
      "unfreezing the embedding layer as well.\n",
      "freezing the embedding layer as well.\n"
     ]
    },
    {
     "name": "stderr",
     "output_type": "stream",
     "text": [
      "Finished epoch 50 of 50; error is 533.9683370590217"
     ]
    },
    {
     "name": "stdout",
     "output_type": "stream",
     "text": [
      "Training 94/135 model aligned with oracle hlm with params:\n",
      "seed=42\n",
      "hidden_dim_per_concept=1\n",
      "iit_layer=0\n",
      "epoch=400\n",
      "unfreezing the embedding layer as well.\n",
      "freezing the embedding layer as well.\n"
     ]
    },
    {
     "name": "stderr",
     "output_type": "stream",
     "text": [
      "Finished epoch 50 of 50; error is 559.7851696014404"
     ]
    },
    {
     "name": "stdout",
     "output_type": "stream",
     "text": [
      "Training 95/135 model aligned with oracle hlm with params:\n",
      "seed=42\n",
      "hidden_dim_per_concept=1\n",
      "iit_layer=0\n",
      "epoch=500\n",
      "unfreezing the embedding layer as well.\n",
      "freezing the embedding layer as well.\n"
     ]
    },
    {
     "name": "stderr",
     "output_type": "stream",
     "text": [
      "Finished epoch 50 of 50; error is 578.3565816879272"
     ]
    },
    {
     "name": "stdout",
     "output_type": "stream",
     "text": [
      "id_to_coords:  {0: [{'layer': 1, 'start': 0, 'end': 2}], 1: [{'layer': 1, 'start': 2, 'end': 3}], 2: [{'layer': 1, 'start': 0, 'end': 2}, {'layer': 1, 'start': 2, 'end': 3}]}\n",
      "Training 96/135 model aligned with oracle hlm with params:\n",
      "seed=42\n",
      "hidden_dim_per_concept=1\n",
      "iit_layer=1\n",
      "epoch=100\n",
      "unfreezing the embedding layer as well.\n",
      "freezing the embedding layer as well.\n"
     ]
    },
    {
     "name": "stderr",
     "output_type": "stream",
     "text": [
      "Finished epoch 50 of 50; error is 497.07378578186035"
     ]
    },
    {
     "name": "stdout",
     "output_type": "stream",
     "text": [
      "Training 97/135 model aligned with oracle hlm with params:\n",
      "seed=42\n",
      "hidden_dim_per_concept=1\n",
      "iit_layer=1\n",
      "epoch=200\n",
      "unfreezing the embedding layer as well.\n",
      "freezing the embedding layer as well.\n"
     ]
    },
    {
     "name": "stderr",
     "output_type": "stream",
     "text": [
      "Finished epoch 50 of 50; error is 654.0128164291382"
     ]
    },
    {
     "name": "stdout",
     "output_type": "stream",
     "text": [
      "Training 98/135 model aligned with oracle hlm with params:\n",
      "seed=42\n",
      "hidden_dim_per_concept=1\n",
      "iit_layer=1\n",
      "epoch=300\n",
      "unfreezing the embedding layer as well.\n",
      "freezing the embedding layer as well.\n"
     ]
    },
    {
     "name": "stderr",
     "output_type": "stream",
     "text": [
      "Finished epoch 50 of 50; error is 706.6598844528198"
     ]
    },
    {
     "name": "stdout",
     "output_type": "stream",
     "text": [
      "Training 99/135 model aligned with oracle hlm with params:\n",
      "seed=42\n",
      "hidden_dim_per_concept=1\n",
      "iit_layer=1\n",
      "epoch=400\n",
      "unfreezing the embedding layer as well.\n",
      "freezing the embedding layer as well.\n"
     ]
    },
    {
     "name": "stderr",
     "output_type": "stream",
     "text": [
      "Finished epoch 50 of 50; error is 740.9037094116211"
     ]
    },
    {
     "name": "stdout",
     "output_type": "stream",
     "text": [
      "Training 100/135 model aligned with oracle hlm with params:\n",
      "seed=42\n",
      "hidden_dim_per_concept=1\n",
      "iit_layer=1\n",
      "epoch=500\n",
      "unfreezing the embedding layer as well.\n",
      "freezing the embedding layer as well.\n"
     ]
    },
    {
     "name": "stderr",
     "output_type": "stream",
     "text": [
      "Finished epoch 50 of 50; error is 768.2439575195312"
     ]
    },
    {
     "name": "stdout",
     "output_type": "stream",
     "text": [
      "id_to_coords:  {0: [{'layer': 2, 'start': 0, 'end': 2}], 1: [{'layer': 2, 'start': 2, 'end': 3}], 2: [{'layer': 2, 'start': 0, 'end': 2}, {'layer': 2, 'start': 2, 'end': 3}]}\n",
      "Training 101/135 model aligned with oracle hlm with params:\n",
      "seed=42\n",
      "hidden_dim_per_concept=1\n",
      "iit_layer=2\n",
      "epoch=100\n",
      "unfreezing the embedding layer as well.\n",
      "freezing the embedding layer as well.\n"
     ]
    },
    {
     "name": "stderr",
     "output_type": "stream",
     "text": [
      "Finished epoch 50 of 50; error is 649.2654361724854"
     ]
    },
    {
     "name": "stdout",
     "output_type": "stream",
     "text": [
      "Training 102/135 model aligned with oracle hlm with params:\n",
      "seed=42\n",
      "hidden_dim_per_concept=1\n",
      "iit_layer=2\n",
      "epoch=200\n",
      "unfreezing the embedding layer as well.\n",
      "freezing the embedding layer as well.\n"
     ]
    },
    {
     "name": "stderr",
     "output_type": "stream",
     "text": [
      "Finished epoch 50 of 50; error is 871.2497692108154"
     ]
    },
    {
     "name": "stdout",
     "output_type": "stream",
     "text": [
      "Training 103/135 model aligned with oracle hlm with params:\n",
      "seed=42\n",
      "hidden_dim_per_concept=1\n",
      "iit_layer=2\n",
      "epoch=300\n",
      "unfreezing the embedding layer as well.\n",
      "freezing the embedding layer as well.\n"
     ]
    },
    {
     "name": "stderr",
     "output_type": "stream",
     "text": [
      "Finished epoch 50 of 50; error is 939.5038089752197"
     ]
    },
    {
     "name": "stdout",
     "output_type": "stream",
     "text": [
      "Training 104/135 model aligned with oracle hlm with params:\n",
      "seed=42\n",
      "hidden_dim_per_concept=1\n",
      "iit_layer=2\n",
      "epoch=400\n",
      "unfreezing the embedding layer as well.\n",
      "freezing the embedding layer as well.\n"
     ]
    },
    {
     "name": "stderr",
     "output_type": "stream",
     "text": [
      "Finished epoch 50 of 50; error is 983.1575794219971"
     ]
    },
    {
     "name": "stdout",
     "output_type": "stream",
     "text": [
      "Training 105/135 model aligned with oracle hlm with params:\n",
      "seed=42\n",
      "hidden_dim_per_concept=1\n",
      "iit_layer=2\n",
      "epoch=500\n",
      "unfreezing the embedding layer as well.\n",
      "freezing the embedding layer as well.\n"
     ]
    },
    {
     "name": "stderr",
     "output_type": "stream",
     "text": [
      "Finished epoch 50 of 50; error is 1016.3219032287598"
     ]
    },
    {
     "name": "stdout",
     "output_type": "stream",
     "text": [
      "id_to_coords:  {0: [{'layer': 0, 'start': 0, 'end': 4}], 1: [{'layer': 0, 'start': 4, 'end': 6}], 2: [{'layer': 0, 'start': 0, 'end': 4}, {'layer': 0, 'start': 4, 'end': 6}]}\n",
      "Training 106/135 model aligned with oracle hlm with params:\n",
      "seed=42\n",
      "hidden_dim_per_concept=2\n",
      "iit_layer=0\n",
      "epoch=100\n",
      "unfreezing the embedding layer as well.\n",
      "freezing the embedding layer as well.\n"
     ]
    },
    {
     "name": "stderr",
     "output_type": "stream",
     "text": [
      "Finished epoch 50 of 50; error is 177.70809030532837"
     ]
    },
    {
     "name": "stdout",
     "output_type": "stream",
     "text": [
      "Training 107/135 model aligned with oracle hlm with params:\n",
      "seed=42\n",
      "hidden_dim_per_concept=2\n",
      "iit_layer=0\n",
      "epoch=200\n",
      "unfreezing the embedding layer as well.\n",
      "freezing the embedding layer as well.\n"
     ]
    },
    {
     "name": "stderr",
     "output_type": "stream",
     "text": [
      "Finished epoch 50 of 50; error is 230.80376577377324"
     ]
    },
    {
     "name": "stdout",
     "output_type": "stream",
     "text": [
      "Training 108/135 model aligned with oracle hlm with params:\n",
      "seed=42\n",
      "hidden_dim_per_concept=2\n",
      "iit_layer=0\n",
      "epoch=300\n",
      "unfreezing the embedding layer as well.\n",
      "freezing the embedding layer as well.\n"
     ]
    },
    {
     "name": "stderr",
     "output_type": "stream",
     "text": [
      "Finished epoch 50 of 50; error is 250.01080369949343"
     ]
    },
    {
     "name": "stdout",
     "output_type": "stream",
     "text": [
      "Training 109/135 model aligned with oracle hlm with params:\n",
      "seed=42\n",
      "hidden_dim_per_concept=2\n",
      "iit_layer=0\n",
      "epoch=400\n",
      "unfreezing the embedding layer as well.\n",
      "freezing the embedding layer as well.\n"
     ]
    },
    {
     "name": "stderr",
     "output_type": "stream",
     "text": [
      "Finished epoch 50 of 50; error is 262.56237506866455"
     ]
    },
    {
     "name": "stdout",
     "output_type": "stream",
     "text": [
      "Training 110/135 model aligned with oracle hlm with params:\n",
      "seed=42\n",
      "hidden_dim_per_concept=2\n",
      "iit_layer=0\n",
      "epoch=500\n",
      "unfreezing the embedding layer as well.\n",
      "freezing the embedding layer as well.\n"
     ]
    },
    {
     "name": "stderr",
     "output_type": "stream",
     "text": [
      "Finished epoch 50 of 50; error is 272.02842998504644"
     ]
    },
    {
     "name": "stdout",
     "output_type": "stream",
     "text": [
      "id_to_coords:  {0: [{'layer': 1, 'start': 0, 'end': 4}], 1: [{'layer': 1, 'start': 4, 'end': 6}], 2: [{'layer': 1, 'start': 0, 'end': 4}, {'layer': 1, 'start': 4, 'end': 6}]}\n",
      "Training 111/135 model aligned with oracle hlm with params:\n",
      "seed=42\n",
      "hidden_dim_per_concept=2\n",
      "iit_layer=1\n",
      "epoch=100\n",
      "unfreezing the embedding layer as well.\n",
      "freezing the embedding layer as well.\n"
     ]
    },
    {
     "name": "stderr",
     "output_type": "stream",
     "text": [
      "Finished epoch 50 of 50; error is 351.57971096038827"
     ]
    },
    {
     "name": "stdout",
     "output_type": "stream",
     "text": [
      "Training 112/135 model aligned with oracle hlm with params:\n",
      "seed=42\n",
      "hidden_dim_per_concept=2\n",
      "iit_layer=1\n",
      "epoch=200\n",
      "unfreezing the embedding layer as well.\n",
      "freezing the embedding layer as well.\n"
     ]
    },
    {
     "name": "stderr",
     "output_type": "stream",
     "text": [
      "Finished epoch 50 of 50; error is 465.32497406005867"
     ]
    },
    {
     "name": "stdout",
     "output_type": "stream",
     "text": [
      "Training 113/135 model aligned with oracle hlm with params:\n",
      "seed=42\n",
      "hidden_dim_per_concept=2\n",
      "iit_layer=1\n",
      "epoch=300\n",
      "unfreezing the embedding layer as well.\n",
      "freezing the embedding layer as well.\n"
     ]
    },
    {
     "name": "stderr",
     "output_type": "stream",
     "text": [
      "Finished epoch 50 of 50; error is 503.67544937133794"
     ]
    },
    {
     "name": "stdout",
     "output_type": "stream",
     "text": [
      "Training 114/135 model aligned with oracle hlm with params:\n",
      "seed=42\n",
      "hidden_dim_per_concept=2\n",
      "iit_layer=1\n",
      "epoch=400\n",
      "unfreezing the embedding layer as well.\n",
      "freezing the embedding layer as well.\n"
     ]
    },
    {
     "name": "stderr",
     "output_type": "stream",
     "text": [
      "Finished epoch 50 of 50; error is 528.8927249908447"
     ]
    },
    {
     "name": "stdout",
     "output_type": "stream",
     "text": [
      "Training 115/135 model aligned with oracle hlm with params:\n",
      "seed=42\n",
      "hidden_dim_per_concept=2\n",
      "iit_layer=1\n",
      "epoch=500\n",
      "unfreezing the embedding layer as well.\n",
      "freezing the embedding layer as well.\n"
     ]
    },
    {
     "name": "stderr",
     "output_type": "stream",
     "text": [
      "Finished epoch 50 of 50; error is 547.9612922668457"
     ]
    },
    {
     "name": "stdout",
     "output_type": "stream",
     "text": [
      "id_to_coords:  {0: [{'layer': 2, 'start': 0, 'end': 4}], 1: [{'layer': 2, 'start': 4, 'end': 6}], 2: [{'layer': 2, 'start': 0, 'end': 4}, {'layer': 2, 'start': 4, 'end': 6}]}\n",
      "Training 116/135 model aligned with oracle hlm with params:\n",
      "seed=42\n",
      "hidden_dim_per_concept=2\n",
      "iit_layer=2\n",
      "epoch=100\n",
      "unfreezing the embedding layer as well.\n",
      "freezing the embedding layer as well.\n"
     ]
    },
    {
     "name": "stderr",
     "output_type": "stream",
     "text": [
      "Finished epoch 50 of 50; error is 503.48859691619873"
     ]
    },
    {
     "name": "stdout",
     "output_type": "stream",
     "text": [
      "Training 117/135 model aligned with oracle hlm with params:\n",
      "seed=42\n",
      "hidden_dim_per_concept=2\n",
      "iit_layer=2\n",
      "epoch=200\n",
      "unfreezing the embedding layer as well.\n",
      "freezing the embedding layer as well.\n"
     ]
    },
    {
     "name": "stderr",
     "output_type": "stream",
     "text": [
      "Finished epoch 50 of 50; error is 665.7344932556152"
     ]
    },
    {
     "name": "stdout",
     "output_type": "stream",
     "text": [
      "Training 118/135 model aligned with oracle hlm with params:\n",
      "seed=42\n",
      "hidden_dim_per_concept=2\n",
      "iit_layer=2\n",
      "epoch=300\n",
      "unfreezing the embedding layer as well.\n",
      "freezing the embedding layer as well.\n"
     ]
    },
    {
     "name": "stderr",
     "output_type": "stream",
     "text": [
      "Finished epoch 50 of 50; error is 719.7861938476562"
     ]
    },
    {
     "name": "stdout",
     "output_type": "stream",
     "text": [
      "Training 119/135 model aligned with oracle hlm with params:\n",
      "seed=42\n",
      "hidden_dim_per_concept=2\n",
      "iit_layer=2\n",
      "epoch=400\n",
      "unfreezing the embedding layer as well.\n",
      "freezing the embedding layer as well.\n"
     ]
    },
    {
     "name": "stderr",
     "output_type": "stream",
     "text": [
      "Finished epoch 50 of 50; error is 755.6554298400879"
     ]
    },
    {
     "name": "stdout",
     "output_type": "stream",
     "text": [
      "Training 120/135 model aligned with oracle hlm with params:\n",
      "seed=42\n",
      "hidden_dim_per_concept=2\n",
      "iit_layer=2\n",
      "epoch=500\n",
      "unfreezing the embedding layer as well.\n",
      "freezing the embedding layer as well.\n"
     ]
    },
    {
     "name": "stderr",
     "output_type": "stream",
     "text": [
      "Finished epoch 50 of 50; error is 781.8156929016113"
     ]
    },
    {
     "name": "stdout",
     "output_type": "stream",
     "text": [
      "id_to_coords:  {0: [{'layer': 0, 'start': 0, 'end': 12}], 1: [{'layer': 0, 'start': 12, 'end': 18}], 2: [{'layer': 0, 'start': 0, 'end': 12}, {'layer': 0, 'start': 12, 'end': 18}]}\n",
      "Training 121/135 model aligned with oracle hlm with params:\n",
      "seed=42\n",
      "hidden_dim_per_concept=6\n",
      "iit_layer=0\n",
      "epoch=100\n",
      "unfreezing the embedding layer as well.\n",
      "freezing the embedding layer as well.\n"
     ]
    },
    {
     "name": "stderr",
     "output_type": "stream",
     "text": [
      "Finished epoch 50 of 50; error is 115.38773655891418"
     ]
    },
    {
     "name": "stdout",
     "output_type": "stream",
     "text": [
      "Training 122/135 model aligned with oracle hlm with params:\n",
      "seed=42\n",
      "hidden_dim_per_concept=6\n",
      "iit_layer=0\n",
      "epoch=200\n",
      "unfreezing the embedding layer as well.\n",
      "freezing the embedding layer as well.\n"
     ]
    },
    {
     "name": "stderr",
     "output_type": "stream",
     "text": [
      "Finished epoch 50 of 50; error is 147.13434696197516"
     ]
    },
    {
     "name": "stdout",
     "output_type": "stream",
     "text": [
      "Training 123/135 model aligned with oracle hlm with params:\n",
      "seed=42\n",
      "hidden_dim_per_concept=6\n",
      "iit_layer=0\n",
      "epoch=300\n",
      "unfreezing the embedding layer as well.\n",
      "freezing the embedding layer as well.\n"
     ]
    },
    {
     "name": "stderr",
     "output_type": "stream",
     "text": [
      "Finished epoch 50 of 50; error is 157.81579732894897"
     ]
    },
    {
     "name": "stdout",
     "output_type": "stream",
     "text": [
      "Training 124/135 model aligned with oracle hlm with params:\n",
      "seed=42\n",
      "hidden_dim_per_concept=6\n",
      "iit_layer=0\n",
      "epoch=400\n",
      "unfreezing the embedding layer as well.\n",
      "freezing the embedding layer as well.\n"
     ]
    },
    {
     "name": "stderr",
     "output_type": "stream",
     "text": [
      "Finished epoch 50 of 50; error is 164.69864130020142"
     ]
    },
    {
     "name": "stdout",
     "output_type": "stream",
     "text": [
      "Training 125/135 model aligned with oracle hlm with params:\n",
      "seed=42\n",
      "hidden_dim_per_concept=6\n",
      "iit_layer=0\n",
      "epoch=500\n",
      "unfreezing the embedding layer as well.\n",
      "freezing the embedding layer as well.\n"
     ]
    },
    {
     "name": "stderr",
     "output_type": "stream",
     "text": [
      "Finished epoch 50 of 50; error is 169.96059846878052"
     ]
    },
    {
     "name": "stdout",
     "output_type": "stream",
     "text": [
      "id_to_coords:  {0: [{'layer': 1, 'start': 0, 'end': 12}], 1: [{'layer': 1, 'start': 12, 'end': 18}], 2: [{'layer': 1, 'start': 0, 'end': 12}, {'layer': 1, 'start': 12, 'end': 18}]}\n",
      "Training 126/135 model aligned with oracle hlm with params:\n",
      "seed=42\n",
      "hidden_dim_per_concept=6\n",
      "iit_layer=1\n",
      "epoch=100\n",
      "unfreezing the embedding layer as well.\n",
      "freezing the embedding layer as well.\n"
     ]
    },
    {
     "name": "stderr",
     "output_type": "stream",
     "text": [
      "Finished epoch 50 of 50; error is 251.44878578186035"
     ]
    },
    {
     "name": "stdout",
     "output_type": "stream",
     "text": [
      "Training 127/135 model aligned with oracle hlm with params:\n",
      "seed=42\n",
      "hidden_dim_per_concept=6\n",
      "iit_layer=1\n",
      "epoch=200\n",
      "unfreezing the embedding layer as well.\n",
      "freezing the embedding layer as well.\n"
     ]
    },
    {
     "name": "stderr",
     "output_type": "stream",
     "text": [
      "Finished epoch 50 of 50; error is 335.62110042572025"
     ]
    },
    {
     "name": "stdout",
     "output_type": "stream",
     "text": [
      "Training 128/135 model aligned with oracle hlm with params:\n",
      "seed=42\n",
      "hidden_dim_per_concept=6\n",
      "iit_layer=1\n",
      "epoch=300\n",
      "unfreezing the embedding layer as well.\n",
      "freezing the embedding layer as well.\n"
     ]
    },
    {
     "name": "stderr",
     "output_type": "stream",
     "text": [
      "Finished epoch 50 of 50; error is 363.87579250335693"
     ]
    },
    {
     "name": "stdout",
     "output_type": "stream",
     "text": [
      "Training 129/135 model aligned with oracle hlm with params:\n",
      "seed=42\n",
      "hidden_dim_per_concept=6\n",
      "iit_layer=1\n",
      "epoch=400\n",
      "unfreezing the embedding layer as well.\n",
      "freezing the embedding layer as well.\n"
     ]
    },
    {
     "name": "stderr",
     "output_type": "stream",
     "text": [
      "Finished epoch 50 of 50; error is 382.58265686035156"
     ]
    },
    {
     "name": "stdout",
     "output_type": "stream",
     "text": [
      "Training 130/135 model aligned with oracle hlm with params:\n",
      "seed=42\n",
      "hidden_dim_per_concept=6\n",
      "iit_layer=1\n",
      "epoch=500\n",
      "unfreezing the embedding layer as well.\n",
      "freezing the embedding layer as well.\n"
     ]
    },
    {
     "name": "stderr",
     "output_type": "stream",
     "text": [
      "Finished epoch 50 of 50; error is 396.24800395965576"
     ]
    },
    {
     "name": "stdout",
     "output_type": "stream",
     "text": [
      "id_to_coords:  {0: [{'layer': 2, 'start': 0, 'end': 12}], 1: [{'layer': 2, 'start': 12, 'end': 18}], 2: [{'layer': 2, 'start': 0, 'end': 12}, {'layer': 2, 'start': 12, 'end': 18}]}\n",
      "Training 131/135 model aligned with oracle hlm with params:\n",
      "seed=42\n",
      "hidden_dim_per_concept=6\n",
      "iit_layer=2\n",
      "epoch=100\n",
      "unfreezing the embedding layer as well.\n",
      "freezing the embedding layer as well.\n"
     ]
    },
    {
     "name": "stderr",
     "output_type": "stream",
     "text": [
      "Finished epoch 50 of 50; error is 407.64117431640625"
     ]
    },
    {
     "name": "stdout",
     "output_type": "stream",
     "text": [
      "Training 132/135 model aligned with oracle hlm with params:\n",
      "seed=42\n",
      "hidden_dim_per_concept=6\n",
      "iit_layer=2\n",
      "epoch=200\n",
      "unfreezing the embedding layer as well.\n",
      "freezing the embedding layer as well.\n"
     ]
    },
    {
     "name": "stderr",
     "output_type": "stream",
     "text": [
      "Finished epoch 50 of 50; error is 542.8772239685059"
     ]
    },
    {
     "name": "stdout",
     "output_type": "stream",
     "text": [
      "Training 133/135 model aligned with oracle hlm with params:\n",
      "seed=42\n",
      "hidden_dim_per_concept=6\n",
      "iit_layer=2\n",
      "epoch=300\n",
      "unfreezing the embedding layer as well.\n",
      "freezing the embedding layer as well.\n"
     ]
    },
    {
     "name": "stderr",
     "output_type": "stream",
     "text": [
      "Finished epoch 50 of 50; error is 588.4010028839111"
     ]
    },
    {
     "name": "stdout",
     "output_type": "stream",
     "text": [
      "Training 134/135 model aligned with oracle hlm with params:\n",
      "seed=42\n",
      "hidden_dim_per_concept=6\n",
      "iit_layer=2\n",
      "epoch=400\n",
      "unfreezing the embedding layer as well.\n",
      "freezing the embedding layer as well.\n"
     ]
    },
    {
     "name": "stderr",
     "output_type": "stream",
     "text": [
      "Finished epoch 50 of 50; error is 618.4066715240479"
     ]
    },
    {
     "name": "stdout",
     "output_type": "stream",
     "text": [
      "Training 135/135 model aligned with oracle hlm with params:\n",
      "seed=42\n",
      "hidden_dim_per_concept=6\n",
      "iit_layer=2\n",
      "epoch=500\n",
      "unfreezing the embedding layer as well.\n",
      "freezing the embedding layer as well.\n"
     ]
    },
    {
     "name": "stderr",
     "output_type": "stream",
     "text": [
      "Finished epoch 50 of 50; error is 640.5735588073731"
     ]
    },
    {
     "name": "stdout",
     "output_type": "stream",
     "text": [
      "id_to_coords:  {0: [{'layer': 0, 'start': 0, 'end': 4}], 1: [{'layer': 0, 'start': 4, 'end': 6}], 2: [{'layer': 0, 'start': 0, 'end': 4}, {'layer': 0, 'start': 4, 'end': 6}]}\n",
      "Training 136/135 model aligned with oracle hlm with params:\n",
      "seed=42\n",
      "hidden_dim_per_concept=1\n",
      "iit_layer=0\n",
      "epoch=100\n",
      "unfreezing the embedding layer as well.\n",
      "freezing the embedding layer as well.\n"
     ]
    },
    {
     "name": "stderr",
     "output_type": "stream",
     "text": [
      "Finished epoch 50 of 50; error is 191.27067136764526"
     ]
    },
    {
     "name": "stdout",
     "output_type": "stream",
     "text": [
      "Training 137/135 model aligned with oracle hlm with params:\n",
      "seed=42\n",
      "hidden_dim_per_concept=1\n",
      "iit_layer=0\n",
      "epoch=200\n",
      "unfreezing the embedding layer as well.\n",
      "freezing the embedding layer as well.\n"
     ]
    },
    {
     "name": "stderr",
     "output_type": "stream",
     "text": [
      "Finished epoch 50 of 50; error is 216.68982219696045"
     ]
    },
    {
     "name": "stdout",
     "output_type": "stream",
     "text": [
      "Training 138/135 model aligned with oracle hlm with params:\n",
      "seed=42\n",
      "hidden_dim_per_concept=1\n",
      "iit_layer=0\n",
      "epoch=300\n",
      "unfreezing the embedding layer as well.\n",
      "freezing the embedding layer as well.\n"
     ]
    },
    {
     "name": "stderr",
     "output_type": "stream",
     "text": [
      "Finished epoch 50 of 50; error is 229.32872295379644"
     ]
    },
    {
     "name": "stdout",
     "output_type": "stream",
     "text": [
      "Training 139/135 model aligned with oracle hlm with params:\n",
      "seed=42\n",
      "hidden_dim_per_concept=1\n",
      "iit_layer=0\n",
      "epoch=400\n",
      "unfreezing the embedding layer as well.\n",
      "freezing the embedding layer as well.\n"
     ]
    },
    {
     "name": "stderr",
     "output_type": "stream",
     "text": [
      "Finished epoch 16 of 50; error is 240.49215030670166"
     ]
    }
   ],
   "source": [
    "dataset_fun = get_IIT_arithmetic_dataset_sum_first\n",
    "iit_data_size = 64000\n",
    "iit_max_iter = 50\n",
    "model_c = 1\n",
    "total_model_c = 135\n",
    "for seed in {42, 77, 88}: # {42, 77, 88}\n",
    "    utils.fix_random_seeds(seed=seed)\n",
    "    train_datasetIIT = get_IIT_arithmetic_dataset_sum_first(\n",
    "        variable_range, seed, iit_data_size, ab_c\n",
    "    )\n",
    "    X_base_train, y_base_train = train_datasetIIT[0:2]\n",
    "    iit_data = tuple(train_datasetIIT[2:])\n",
    "    for hidden_dim in {18, 36}: # {18, 36}\n",
    "        for hidden_dim_per_concept in {1, 2, 6}: # {1, 2, 6}\n",
    "            for iit_layer in [0, 1, 2]: # [0, 1, 2]\n",
    "                scale_factor = hidden_dim/9\n",
    "                small_scale_factor = hidden_dim/18\n",
    "                id_to_coords = {\n",
    "                    0: [{\"layer\": iit_layer, \"start\": 0, \"end\": int(scale_factor*hidden_dim_per_concept)}],\n",
    "                    1: [{\"layer\": iit_layer, \"start\":  int(scale_factor*hidden_dim_per_concept), \"end\": int((scale_factor+small_scale_factor)*hidden_dim_per_concept)}],\n",
    "                    2: [{\"layer\": iit_layer, \"start\": 0, \"end\": int(scale_factor*hidden_dim_per_concept)}, \n",
    "                        {\"layer\": iit_layer, \"start\":  int(scale_factor*hidden_dim_per_concept), \"end\": int((scale_factor+small_scale_factor)*hidden_dim_per_concept)}],\n",
    "                }\n",
    "                print(\"id_to_coords: \", id_to_coords)\n",
    "                for i in [100, 200, 300, 400, 500]:\n",
    "                    print(f\"Training {model_c}/{total_model_c} model aligned with oracle hlm with params:\")\n",
    "                    print(f\"seed={seed}\")\n",
    "                    print(f\"hidden_dim_per_concept={hidden_dim_per_concept}\")\n",
    "                    print(f\"iit_layer={iit_layer}\")\n",
    "                    print(f\"epoch={i}\")\n",
    "                    LIM = LIMDeepNeuralClassifier(\n",
    "                        hidden_dim=hidden_dim, \n",
    "                        hidden_activation=torch.nn.ReLU(), \n",
    "                        num_layers=num_layers,\n",
    "                        input_dim=input_dim,\n",
    "                        n_classes=n_classes,\n",
    "                        device=device,\n",
    "                        vocab_size=variable_range[1]-variable_range[0]+1,\n",
    "                        embed_dim=embedding_dim,\n",
    "                    )\n",
    "                    LIM_trainer = LIMTrainer(\n",
    "                        LIM,\n",
    "                        warm_start=True,\n",
    "                        max_iter=iit_max_iter,\n",
    "                        batch_size=6400,\n",
    "                        n_iter_no_change=10000,\n",
    "                        shuffle_train=False,\n",
    "                        eta=0.01,\n",
    "                        input_as_ids=True,\n",
    "                        device=device,\n",
    "                        class2index=class2index,\n",
    "                        save_checkpoint_per_epoch=False,\n",
    "                        seed=seed\n",
    "                    )\n",
    "        \n",
    "                    PATH = f\"./saved_models_arithmetic/basemodel-{i}-{num_layers}-{hidden_dim}-{seed}.bin\"\n",
    "                    LIM_trainer.model.load_state_dict(torch.load(PATH))\n",
    "                    LIM_trainer.model.set_analysis_mode(True)\n",
    "\n",
    "                    _ = LIM_trainer.fit(\n",
    "                        X_base_train, \n",
    "                        y_base_train, \n",
    "                        iit_data=iit_data,\n",
    "                        intervention_ids_to_coords=id_to_coords)\n",
    "                    \n",
    "                    iit_layer_out = iit_layer + 1\n",
    "                    PATH = f\"./saved_models_arithmetic/iit-oraclemodel-epoch{i}-\"\\\n",
    "                           f\"{iit_layer_out}-{hidden_dim}-{hidden_dim_per_concept}-\"\\\n",
    "                           f\"{seed}.bin\"\n",
    "                    torch.save(LIM_trainer.model.state_dict(), PATH)\n",
    "\n",
    "                    model_c += 1\n",
    "                    \n",
    "                    "
   ]
  },
  {
   "cell_type": "code",
   "execution_count": 54,
   "metadata": {},
   "outputs": [
    {
     "data": {
      "text/plain": [
       "1"
      ]
     },
     "execution_count": 54,
     "metadata": {},
     "output_type": "execute_result"
    }
   ],
   "source": [
    "1"
   ]
  },
  {
   "cell_type": "markdown",
   "metadata": {},
   "source": [
    "### Eval Oracle Models"
   ]
  },
  {
   "cell_type": "code",
   "execution_count": 51,
   "metadata": {},
   "outputs": [
    {
     "name": "stdout",
     "output_type": "stream",
     "text": [
      "id_to_coords:  {0: [{'layer': 0, 'start': 0, 'end': 24}], 1: [{'layer': 0, 'start': 24, 'end': 36}], 2: [{'layer': 0, 'start': 0, 'end': 24}, {'layer': 0, 'start': 24, 'end': 36}]}\n",
      "unfreezing the embedding layer as well.\n",
      "freezing the embedding layer as well.\n",
      "1.0\n",
      "0.5389900169054678\n"
     ]
    }
   ],
   "source": [
    "oracle_results = []\n",
    "dataset_fun = get_IIT_arithmetic_dataset_sum_first\n",
    "model_c = 1\n",
    "total_model_c = 135\n",
    "iit_test_data_size = 6400\n",
    "for seed in {77}: # {42, 77, 88}\n",
    "    utils.fix_random_seeds(seed=seed)\n",
    "    base_test, y_base_test, sources_test, y_IIT_test, intervention_ids_test  = \\\n",
    "        get_IIT_arithmetic_dataset_sum_first(\n",
    "            variable_range, seed+1, iit_test_data_size, ab_c\n",
    "        )\n",
    "    for hidden_dim in {36}: # {18, 36}\n",
    "        for hidden_dim_per_concept in {6}: # {1, 2, 6}\n",
    "            for iit_layer in [0]: # [0, 1, 2]\n",
    "                scale_factor = hidden_dim/9\n",
    "                small_scale_factor = hidden_dim/18\n",
    "                id_to_coords = {\n",
    "                    0: [{\"layer\": iit_layer, \"start\": 0, \"end\": int(scale_factor*hidden_dim_per_concept)}],\n",
    "                    1: [{\"layer\": iit_layer, \"start\":  int(scale_factor*hidden_dim_per_concept), \"end\": int((scale_factor+small_scale_factor)*hidden_dim_per_concept)}],\n",
    "                    2: [{\"layer\": iit_layer, \"start\": 0, \"end\": int(scale_factor*hidden_dim_per_concept)}, \n",
    "                        {\"layer\": iit_layer, \"start\":  int(scale_factor*hidden_dim_per_concept), \"end\": int((scale_factor+small_scale_factor)*hidden_dim_per_concept)}],\n",
    "                }\n",
    "                print(\"id_to_coords: \", id_to_coords)\n",
    "                for i in [500]:\n",
    "                    LIM = LIMDeepNeuralClassifier(\n",
    "                        hidden_dim=hidden_dim, \n",
    "                        hidden_activation=torch.nn.ReLU(), \n",
    "                        num_layers=num_layers,\n",
    "                        input_dim=input_dim,\n",
    "                        n_classes=n_classes,\n",
    "                        device=device,\n",
    "                        vocab_size=variable_range[1]-variable_range[0]+1,\n",
    "                        embed_dim=embedding_dim,\n",
    "                    )\n",
    "                    LIM_trainer = LIMTrainer(\n",
    "                        LIM,\n",
    "                        warm_start=True,\n",
    "                        max_iter=max_iter,\n",
    "                        batch_size=6400,\n",
    "                        n_iter_no_change=10000,\n",
    "                        shuffle_train=False,\n",
    "                        eta=0.01,\n",
    "                        input_as_ids=True,\n",
    "                        device=device,\n",
    "                        class2index=class2index,\n",
    "                        save_checkpoint_per_epoch=False,\n",
    "                        seed=seed\n",
    "                    )\n",
    "                    \n",
    "                    iit_layer_out = iit_layer + 1\n",
    "                    PATH = f\"./saved_models_arithmetic/iit-oraclemodel-epoch{i}-\"\\\n",
    "                           f\"{iit_layer_out}-{hidden_dim}-{hidden_dim_per_concept}-\"\\\n",
    "                           f\"{seed}.bin\"\n",
    "                    LIM_trainer.model.load_state_dict(torch.load(PATH))\n",
    "                    LIM_trainer.model.set_analysis_mode(True)\n",
    "                    \n",
    "                    # test data eval\n",
    "                    base_preds = LIM_trainer.predict(\n",
    "                        base_test, device=\"cpu\"\n",
    "                    )\n",
    "                    IIT_preds = LIM_trainer.iit_predict(\n",
    "                        base_test, sources_test, \n",
    "                        intervention_ids_test, \n",
    "                        id_to_coords, device=\"cpu\"\n",
    "                    )\n",
    "                    r1 = classification_report(y_base_test, base_preds, output_dict=True)\n",
    "                    r2 = classification_report(y_IIT_test, IIT_preds, output_dict=True)\n",
    "                    \n",
    "                    print(r1[\"weighted avg\"][\"f1-score\"])\n",
    "                    print(r2[\"weighted avg\"][\"f1-score\"])\n",
    "                    "
   ]
  },
  {
   "cell_type": "code",
   "execution_count": 234,
   "metadata": {},
   "outputs": [],
   "source": [
    "X_base_test, y_base_test, X_sources_test, y_IIT_test, intervention_ids_test = \\\n",
    "    dataset_fun(\n",
    "    variable_range, 42, 1000, ab_c\n",
    ")"
   ]
  },
  {
   "cell_type": "code",
   "execution_count": 237,
   "metadata": {},
   "outputs": [
    {
     "name": "stderr",
     "output_type": "stream",
     "text": [
      "Finished epoch 500 of 500; error is 2.2967379093170166"
     ]
    }
   ],
   "source": [
    "_ = LIM_trainer.fit(\n",
    "    X_base_train, \n",
    "    y_base_train, \n",
    "    iit_data=iit_data,\n",
    "    intervention_ids_to_coords=id_to_coords)"
   ]
  },
  {
   "cell_type": "code",
   "execution_count": 238,
   "metadata": {},
   "outputs": [
    {
     "name": "stderr",
     "output_type": "stream",
     "text": [
      "/afs/cs.stanford.edu/u/wuzhengx/.local/lib/python3.7/site-packages/ipykernel_launcher.py:87: UserWarning: To copy construct from a tensor, it is recommended to use sourceTensor.clone().detach() or sourceTensor.clone().detach().requires_grad_(True), rather than torch.tensor(sourceTensor).\n",
      "/afs/cs.stanford.edu/u/wuzhengx/.local/lib/python3.7/site-packages/ipykernel_launcher.py:88: UserWarning: To copy construct from a tensor, it is recommended to use sourceTensor.clone().detach() or sourceTensor.clone().detach().requires_grad_(True), rather than torch.tensor(sourceTensor).\n",
      "/afs/cs.stanford.edu/u/wuzhengx/.local/lib/python3.7/site-packages/ipykernel_launcher.py:89: UserWarning: To copy construct from a tensor, it is recommended to use sourceTensor.clone().detach() or sourceTensor.clone().detach().requires_grad_(True), rather than torch.tensor(sourceTensor).\n"
     ]
    }
   ],
   "source": [
    "X_base_test, y_base_test, X_sources_test, y_IIT_test, intervention_ids_test = \\\n",
    "    dataset_fun(\n",
    "    variable_range, 42, 1000, ab_c\n",
    ")"
   ]
  },
  {
   "cell_type": "code",
   "execution_count": 239,
   "metadata": {},
   "outputs": [],
   "source": [
    "IIT_preds = LIM_trainer.iit_predict(\n",
    "    X_base_test, [X_sources_test], \n",
    "    intervention_ids_test, \n",
    "    id_to_coords, device=\"cpu\"\n",
    ")"
   ]
  },
  {
   "cell_type": "code",
   "execution_count": 240,
   "metadata": {},
   "outputs": [
    {
     "name": "stdout",
     "output_type": "stream",
     "text": [
      "              precision    recall  f1-score   support\n",
      "\n",
      "           2       1.00      0.50      0.67         2\n",
      "           3       1.00      0.25      0.40        12\n",
      "           4       0.86      0.46      0.60        13\n",
      "           5       0.36      0.25      0.30        16\n",
      "           6       0.51      0.70      0.59        30\n",
      "           7       0.90      0.63      0.75        30\n",
      "           8       0.57      0.57      0.57        23\n",
      "           9       0.61      0.52      0.56        27\n",
      "          10       0.53      0.66      0.59        38\n",
      "          11       0.71      0.86      0.77        14\n",
      "          12       0.55      0.57      0.56        54\n",
      "          14       0.65      0.74      0.69        23\n",
      "          15       0.69      0.92      0.79        24\n",
      "          16       0.62      0.57      0.59        28\n",
      "          18       0.58      0.62      0.60        58\n",
      "          20       0.59      0.59      0.59        49\n",
      "          21       0.67      0.60      0.63        20\n",
      "          22       0.67      0.80      0.73        10\n",
      "          24       0.71      0.72      0.72        75\n",
      "          25       1.00      0.68      0.81        22\n",
      "          27       0.88      0.54      0.67        28\n",
      "          28       0.67      0.69      0.68        29\n",
      "          30       0.40      0.64      0.49        53\n",
      "          32       0.89      0.78      0.83        32\n",
      "          33       0.80      1.00      0.89         8\n",
      "          35       0.96      0.79      0.87        29\n",
      "          36       0.47      0.56      0.51        41\n",
      "          40       0.60      0.74      0.67        35\n",
      "          42       0.75      0.58      0.66        36\n",
      "          44       0.67      0.44      0.53         9\n",
      "          45       0.74      0.88      0.80        16\n",
      "          48       0.75      0.77      0.76        31\n",
      "          50       0.75      0.88      0.81        17\n",
      "          54       0.68      0.71      0.70        21\n",
      "          55       1.00      0.42      0.59        12\n",
      "          60       1.00      0.38      0.55        24\n",
      "          66       1.00      0.43      0.60         7\n",
      "          72       1.00      0.75      0.86         4\n",
      "\n",
      "    accuracy                           0.65      1000\n",
      "   macro avg       0.73      0.64      0.66      1000\n",
      "weighted avg       0.68      0.65      0.65      1000\n",
      "\n"
     ]
    }
   ],
   "source": [
    "print(classification_report(y_IIT_test, IIT_preds))"
   ]
  },
  {
   "cell_type": "markdown",
   "metadata": {},
   "source": [
    "control setting"
   ]
  },
  {
   "cell_type": "code",
   "execution_count": 241,
   "metadata": {},
   "outputs": [],
   "source": [
    "control_dataset_fun = get_IIT_arithmetic_dataset_control_V1"
   ]
  },
  {
   "cell_type": "code",
   "execution_count": 242,
   "metadata": {},
   "outputs": [
    {
     "name": "stderr",
     "output_type": "stream",
     "text": [
      "/afs/cs.stanford.edu/u/wuzhengx/.local/lib/python3.7/site-packages/ipykernel_launcher.py:39: UserWarning: To copy construct from a tensor, it is recommended to use sourceTensor.clone().detach() or sourceTensor.clone().detach().requires_grad_(True), rather than torch.tensor(sourceTensor).\n",
      "/afs/cs.stanford.edu/u/wuzhengx/.local/lib/python3.7/site-packages/ipykernel_launcher.py:40: UserWarning: To copy construct from a tensor, it is recommended to use sourceTensor.clone().detach() or sourceTensor.clone().detach().requires_grad_(True), rather than torch.tensor(sourceTensor).\n",
      "/afs/cs.stanford.edu/u/wuzhengx/.local/lib/python3.7/site-packages/ipykernel_launcher.py:41: UserWarning: To copy construct from a tensor, it is recommended to use sourceTensor.clone().detach() or sourceTensor.clone().detach().requires_grad_(True), rather than torch.tensor(sourceTensor).\n"
     ]
    }
   ],
   "source": [
    "X_base_train, y_base_train, X_sources_train, y_IIT_train, intervention_ids_train = \\\n",
    "    control_dataset_fun(\n",
    "    variable_range, 42, 6400, ab_c\n",
    ")"
   ]
  },
  {
   "cell_type": "code",
   "execution_count": 243,
   "metadata": {},
   "outputs": [
    {
     "name": "stderr",
     "output_type": "stream",
     "text": [
      "/afs/cs.stanford.edu/u/wuzhengx/.local/lib/python3.7/site-packages/ipykernel_launcher.py:39: UserWarning: To copy construct from a tensor, it is recommended to use sourceTensor.clone().detach() or sourceTensor.clone().detach().requires_grad_(True), rather than torch.tensor(sourceTensor).\n",
      "/afs/cs.stanford.edu/u/wuzhengx/.local/lib/python3.7/site-packages/ipykernel_launcher.py:40: UserWarning: To copy construct from a tensor, it is recommended to use sourceTensor.clone().detach() or sourceTensor.clone().detach().requires_grad_(True), rather than torch.tensor(sourceTensor).\n",
      "/afs/cs.stanford.edu/u/wuzhengx/.local/lib/python3.7/site-packages/ipykernel_launcher.py:41: UserWarning: To copy construct from a tensor, it is recommended to use sourceTensor.clone().detach() or sourceTensor.clone().detach().requires_grad_(True), rather than torch.tensor(sourceTensor).\n"
     ]
    }
   ],
   "source": [
    "X_base_test, y_base_test, X_sources_test, y_IIT_test, intervention_ids_test = \\\n",
    "    control_dataset_fun(\n",
    "    variable_range, 66, 1000, ab_c\n",
    ")"
   ]
  },
  {
   "cell_type": "code",
   "execution_count": 244,
   "metadata": {},
   "outputs": [
    {
     "name": "stdout",
     "output_type": "stream",
     "text": [
      "unfreezing the embedding layer as well.\n",
      "freezing the embedding layer as well.\n"
     ]
    }
   ],
   "source": [
    "layer = 0\n",
    "id_to_coords = {\n",
    "    2: [{\"layer\": layer, \"start\": 0*embedding_dim, \"end\": 1*embedding_dim}],\n",
    "    # 2: [{\"layer\": layer, \"start\": 1*embedding_dim, \"end\": 2*embedding_dim}],\n",
    "}\n",
    "iit_data = ([X_sources_train], y_IIT_train, intervention_ids_train)\n",
    "\n",
    "LIM = LIMDeepNeuralClassifier(\n",
    "    hidden_dim=hidden_dim_per_slice*3, \n",
    "    hidden_activation=torch.nn.ReLU(), \n",
    "    num_layers=3,\n",
    "    input_dim=embedding_dim*3,\n",
    "    n_classes=n_classes,\n",
    "    device=device,\n",
    "    vocab_size=(variable_range[1]-variable_range[0]+1),\n",
    "    embed_dim=embedding_dim,\n",
    ")\n",
    "\n",
    "LIM_trainer = LIMTrainer(\n",
    "    LIM,\n",
    "    warm_start=True,\n",
    "    max_iter=500,\n",
    "    batch_size=6400,\n",
    "    n_iter_no_change=10000,\n",
    "    shuffle_train=False,\n",
    "    eta=0.1,\n",
    "    save_checkpoint_per_epoch=False,\n",
    "    input_as_ids=True,\n",
    "    device=device,\n",
    "    class2index=class2index,\n",
    ")\n",
    "\n",
    "PATH = f\"./saved_models_arithmetic/test.bin\"\n",
    "LIM_trainer.model.load_state_dict(torch.load(PATH))\n",
    "LIM_trainer.model.set_analysis_mode(True)"
   ]
  },
  {
   "cell_type": "code",
   "execution_count": 245,
   "metadata": {},
   "outputs": [
    {
     "name": "stderr",
     "output_type": "stream",
     "text": [
      "Finished epoch 500 of 500; error is 8.179171562194824"
     ]
    }
   ],
   "source": [
    "_ = LIM_trainer.fit(\n",
    "    X_base_train, \n",
    "    y_base_train, \n",
    "    iit_data=iit_data,\n",
    "    intervention_ids_to_coords=id_to_coords)"
   ]
  },
  {
   "cell_type": "code",
   "execution_count": 246,
   "metadata": {},
   "outputs": [],
   "source": [
    "IIT_preds = LIM_trainer.iit_predict(\n",
    "    X_base_test, [X_sources_test], \n",
    "    intervention_ids_test, \n",
    "    id_to_coords, device=\"cpu\"\n",
    ")"
   ]
  },
  {
   "cell_type": "code",
   "execution_count": 247,
   "metadata": {},
   "outputs": [
    {
     "name": "stdout",
     "output_type": "stream",
     "text": [
      "              precision    recall  f1-score   support\n",
      "\n",
      "           2       0.00      0.00      0.00         2\n",
      "           3       0.50      0.18      0.27        11\n",
      "           4       0.50      0.15      0.23        20\n",
      "           5       0.18      0.12      0.15        16\n",
      "           6       0.33      0.46      0.38        39\n",
      "           7       0.33      0.21      0.26        28\n",
      "           8       0.18      0.23      0.21        30\n",
      "           9       0.39      0.34      0.37        32\n",
      "          10       0.26      0.40      0.32        30\n",
      "          11       0.40      0.22      0.29         9\n",
      "          12       0.32      0.28      0.30        64\n",
      "          14       0.42      0.38      0.40        26\n",
      "          15       0.33      0.28      0.30        25\n",
      "          16       0.24      0.30      0.27        27\n",
      "          18       0.29      0.33      0.31        42\n",
      "          20       0.23      0.23      0.23        44\n",
      "          21       0.42      0.41      0.41        32\n",
      "          22       0.00      0.00      0.00        10\n",
      "          24       0.29      0.34      0.31        58\n",
      "          25       0.38      0.36      0.37        25\n",
      "          27       0.15      0.12      0.13        17\n",
      "          28       0.19      0.23      0.20        22\n",
      "          30       0.31      0.44      0.36        57\n",
      "          32       0.17      0.18      0.18        22\n",
      "          33       0.33      0.40      0.36         5\n",
      "          35       0.32      0.31      0.32        29\n",
      "          36       0.36      0.39      0.37        54\n",
      "          40       0.29      0.32      0.30        31\n",
      "          42       0.39      0.33      0.36        33\n",
      "          44       0.33      0.30      0.32        10\n",
      "          45       0.26      0.35      0.30        20\n",
      "          48       0.42      0.37      0.39        41\n",
      "          50       0.50      0.22      0.30        23\n",
      "          54       0.22      0.38      0.28        13\n",
      "          55       0.08      0.10      0.09        10\n",
      "          60       0.20      0.11      0.14        18\n",
      "          66       0.14      0.06      0.08        17\n",
      "          72       0.00      0.00      0.00         8\n",
      "\n",
      "    accuracy                           0.30      1000\n",
      "   macro avg       0.28      0.26      0.26      1000\n",
      "weighted avg       0.31      0.30      0.29      1000\n",
      "\n"
     ]
    }
   ],
   "source": [
    "print(classification_report(y_IIT_test, IIT_preds))"
   ]
  },
  {
   "cell_type": "code",
   "execution_count": null,
   "metadata": {},
   "outputs": [],
   "source": []
  }
 ],
 "metadata": {
  "kernelspec": {
   "display_name": "Python 3",
   "language": "python",
   "name": "python3"
  }
 },
 "nbformat": 4,
 "nbformat_minor": 4
}
