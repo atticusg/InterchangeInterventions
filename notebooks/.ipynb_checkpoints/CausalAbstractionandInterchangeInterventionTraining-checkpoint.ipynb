{
 "cells": [
  {
   "cell_type": "markdown",
   "metadata": {},
   "source": [
    "# Introduction to Causal Abstraction, Interchange Intervention Training, Distributed Alignment Search "
   ]
  },
  {
   "cell_type": "code",
   "execution_count": 1,
   "metadata": {},
   "outputs": [],
   "source": [
    "__author__ = \"Atticus Geiger\""
   ]
  },
  {
   "cell_type": "markdown",
   "metadata": {
    "tags": []
   },
   "source": [
    "## Contents\n",
    "\n",
    "1. [The hierarchical equality task](#The-hierarchical-equality-task)\n",
    "    1. [An Algorithm that Solves the Equality Task](#An-Algorithm-that-Solves-the-Equality-Task)\n",
    "        1. [The algorithm with no intervention](#The-algorithm-with-no-intervention)\n",
    "        1. [The algorithm with an intervention](#The-algorithm-with-an-intervention)\n",
    "        1. [The algorithm with an interchange intervention](#The-algorithm-with-an-interchange-intervention)\n",
    "    1. [Hand Crafting an MLP to Solve Hierarchical Equality](#Hand-Crafting-an-MLP-to-Solve-Hierarchical-Equality)        \n",
    "    1. [Training an MLP to Solve Hierarchical Equality](#Training-an-MLP-to-Solve-Hierarchical-Equality)\n",
    "1. [Causal abstraction Analysis](#Causal-abstraction)\n",
    "    1. [Basic intervention: zeroing out part of a hidden layer](#Basic-intervention:-zeroing-out-part-of-a-hidden-layer)\n",
    "    1. [An interchange intervention](#An-interchange-intervention)\n",
    "    1. [Alignment](#Alignment)\n",
    "    1. [Evaluating an Alignment](#Evaluation)\n",
    "1. [Interchange Intervention Training (IIT)](#Interchange-Intervention-Training-(IIT))\n",
    "1. [Distributed Alignment Search (DAS)](#Distributed-Alignment-Search-(DAS))"
   ]
  },
  {
   "cell_type": "markdown",
   "metadata": {},
   "source": [
    "## Set-up\n",
    "\n",
    "This notebook is a hands-on introduction to __causal abstraction analysis__ and __interchange intervention training__ with neural networks.\n",
    "\n",
    "In causal abstraction analysis, we assess whether trained models conform to high-level causal models that we specify, not just in terms of their input–output behavior, but also in terms of their internal dynamics. The core technique is the __interchange intervention__, in which a causal model is provided an input and then intermediate variables are fixed to take on the values they would have for a second input.\n",
    "\n",
    "To motivate and illustrate these concepts, we're going to focus on a hierarchical equality task, building on work by [Geiger, Carstensen, Frank, and Potts (2020)](https://arxiv.org/abs/2006.07968)."
   ]
  },
  {
   "cell_type": "code",
   "execution_count": 2,
   "metadata": {},
   "outputs": [],
   "source": [
    "import sys\n",
    "sys.path.append('C:\\\\Users\\\\attic\\\\Documents\\\\GitHub\\\\InterchangeInterventions')"
   ]
  },
  {
   "cell_type": "code",
   "execution_count": 3,
   "metadata": {},
   "outputs": [
    {
     "name": "stderr",
     "output_type": "stream",
     "text": [
      "C:\\Users\\attic\\anaconda3\\envs\\bigkid\\lib\\site-packages\\scipy\\__init__.py:146: UserWarning: A NumPy version >=1.16.5 and <1.23.0 is required for this version of SciPy (detected version 1.23.4\n",
      "  warnings.warn(f\"A NumPy version >={np_minversion} and <{np_maxversion}\"\n"
     ]
    }
   ],
   "source": [
    "import torch\n",
    "import random\n",
    "import copy\n",
    "import itertools\n",
    "import numpy as np\n",
    "import utils\n",
    "from causal_model import CausalModel\n",
    "from sklearn.metrics import classification_report\n",
    "from models.LIM_deep_neural_classifier import LIMDeepNeuralClassifier\n",
    "import causalmodels.equality\n",
    "from trainer import LIMTrainer"
   ]
  },
  {
   "cell_type": "code",
   "execution_count": 4,
   "metadata": {},
   "outputs": [],
   "source": [
    "utils.fix_random_seeds()\n",
    "embedding_dim = 2\n",
    "number_of_entities = 1000"
   ]
  },
  {
   "cell_type": "markdown",
   "metadata": {},
   "source": [
    "## The hierarchical equality task\n",
    "\n",
    "This section builds on results presented in [Geiger, Carstensen, Frank, and Potts (2020)](https://arxiv.org/abs/2006.07968). We will use a hierarchical equality task ([Premack 1983](https://www.cambridge.org/core/services/aop-cambridge-core/content/view/7DF6F2D22838F7546AF7279679F3571D/S0140525X00015077a.pdf/div-class-title-the-codes-of-man-and-beasts-div.pdf)) to present interchange intervention training (IIT). \n",
    "\n",
    "We define the hierarchical equality task as follows: The input is two pairs of objects and the output is **True** if both pairs contain the same object or if both pairs contain different objects and **False** otherwise.  For example, `AABB` and `ABCD` are both labeled **True**, while `ABCC` and `BBCD` are both labeled **False**. "
   ]
  },
  {
   "cell_type": "markdown",
   "metadata": {},
   "source": [
    "## An Algorithm that Solves the Equality Task\n",
    "\n",
    "Let $\\mathcal{A}$ be the simple tree-structured algorithm that solves this task by applying a simple equality relation three times: Compute whether the first two inputs are equal, compute whether the second two inputs are equal, then compute whether the truth-valued outputs of these first two computations are equal. "
   ]
  },
  {
   "cell_type": "markdown",
   "metadata": {},
   "source": [
    "And here's a Python implementation of $\\mathcal{A}$ that supports the interventions we'll want to do:"
   ]
  },
  {
   "cell_type": "code",
   "execution_count": 5,
   "metadata": {},
   "outputs": [],
   "source": [
    "variables =  [\"W\", \"X\", \"Y\", \"Z\", \"WX\", \"YZ\", \"O\"]\n",
    "\n",
    "reps = [utils.randvec(embedding_dim) for _ in range(number_of_entities)]\n",
    "values = {variable:reps for variable in [\"W\",\"X\", \"Y\", \"Z\"]}\n",
    "values[\"WX\"] = [True, False]\n",
    "values[\"YZ\"] = [True, False]\n",
    "values[\"O\"] = [True, False]\n",
    "\n",
    "parents = {\"W\":[],\"X\":[], \"Y\":[], \"Z\":[], \n",
    "           \"WX\":[\"W\", \"X\"], \"YZ\":[\"Y\", \"Z\"], \n",
    "           \"O\":[\"WX\", \"YZ\"]}\n",
    "\n",
    "def FILLER():\n",
    "    return reps[0]\n",
    "\n",
    "functions = {\"W\":FILLER,\"X\":FILLER, \"Y\":FILLER, \"Z\":FILLER, \n",
    "             \"WX\": lambda x,y: np.array_equal(x,y), \n",
    "             \"YZ\":lambda x,y: np.array_equal(x,y), \n",
    "             \"O\": lambda x,y: x==y}\n",
    "\n",
    "pos = {\"W\":(0.2,0),\"X\":(1,0.1), \"Y\":(2,0.2), \"Z\":(2.8,0), \n",
    "           \"WX\":(1,2), \"YZ\":(2,2), \n",
    "           \"O\":(1.5,3)}\n",
    "\n",
    "equiv_classes = {}\n",
    "\n",
    "equality_model = CausalModel(variables, values, parents, functions, pos = pos)"
   ]
  },
  {
   "cell_type": "markdown",
   "metadata": {},
   "source": [
    "Here's a visual depiction of the algorithm:"
   ]
  },
  {
   "cell_type": "code",
   "execution_count": 6,
   "metadata": {},
   "outputs": [
    {
     "data": {
      "image/png": "[encoded data removed]",
      "text/plain": [
       "<Figure size 720x720 with 1 Axes>"
      ]
     },
     "metadata": {},
     "output_type": "display_data"
    },
    {
     "name": "stdout",
     "output_type": "stream",
     "text": [
      "Timesteps: {'W': 0, 'X': 0, 'Y': 0, 'Z': 0, 'WX': 1, 'YZ': 1, 'O': 3}\n"
     ]
    }
   ],
   "source": [
    "equality_model.print_structure()\n",
    "print(\"Timesteps:\", equality_model.timesteps)"
   ]
  },
  {
   "cell_type": "markdown",
   "metadata": {},
   "source": [
    "### The algorithm with no intervention\n",
    "\n",
    "Let's first observe the behavior of the algorithm when we provide the input `BBCD` with no interventions. Here is a visual depiction:"
   ]
  },
  {
   "cell_type": "code",
   "execution_count": 7,
   "metadata": {},
   "outputs": [
    {
     "name": "stdout",
     "output_type": "stream",
     "text": [
      "No intervention:\n",
      " defaultdict(None, {'W': array([ 0.1394268 , -0.47498924]), 'X': array([ 0.1394268 , -0.47498924]), 'Y': array([-0.22497068, -0.27678926]), 'Z': array([ 0.39217957, -0.41306117]), 'WX': True, 'YZ': False, 'O': False}) \n",
      "\n"
     ]
    },
    {
     "data": {
      "image/png": "[encoded data removed]",
      "text/plain": [
       "<Figure size 720x720 with 1 Axes>"
      ]
     },
     "metadata": {},
     "output_type": "display_data"
    }
   ],
   "source": [
    "setting = equality_model.run_forward({\"W\":reps[0], \"X\":reps[0], \"Y\":reps[1], \"Z\":reps[3]})\n",
    "print(\"No intervention:\\n\", setting, \"\\n\")\n",
    "equality_model.print_setting(setting)"
   ]
  },
  {
   "cell_type": "markdown",
   "metadata": {},
   "source": [
    "### The algorithm with an intervention\n",
    "\n",
    "Let's now see the behavior of the algorithm when we provide the input `BBCD` with an intervention setting **WX** to **False**. First, a visual depiction:\n",
    "\n",
    "<img src=\"fig/IIT/PremackIntervention.png\" width=\"500\"/>\n",
    "\n",
    "And then the same computation with `compute_A`:"
   ]
  },
  {
   "cell_type": "code",
   "execution_count": 8,
   "metadata": {},
   "outputs": [
    {
     "name": "stdout",
     "output_type": "stream",
     "text": [
      "Intervention setting WX to TRUE:\n",
      "\n"
     ]
    },
    {
     "data": {
      "image/png": "[encoded data removed]",
      "text/plain": [
       "<Figure size 720x720 with 1 Axes>"
      ]
     },
     "metadata": {},
     "output_type": "display_data"
    }
   ],
   "source": [
    "print(\"Intervention setting WX to TRUE:\\n\", )\n",
    "equality_model.print_setting(equality_model.run_forward({\"W\":reps[0], \"X\":reps[0], \"Y\":reps[1], \"Z\":reps[3], \"WX\":False}))"
   ]
  },
  {
   "cell_type": "markdown",
   "metadata": {},
   "source": [
    "Notice that, in this example, even though the left two inputs are not the same, the intervention has changed the intermediate prediction for those two inputs from **False** to **True**, and thus the algorithm outputs **True**, since its output is determined by **WX** and **YZ**."
   ]
  },
  {
   "cell_type": "markdown",
   "metadata": {},
   "source": [
    "### The algorithm with an interchange intervention\n",
    "\n",
    "Finally, let's observe the behavior of the algorithm when we provide the base input `BBCD` with an intervention setting **WX** to be the value it would be for the source input `ABCC`."
   ]
  },
  {
   "cell_type": "code",
   "execution_count": 9,
   "metadata": {},
   "outputs": [
    {
     "data": {
      "image/png": "[encoded data removed]",
      "text/plain": [
       "<Figure size 720x720 with 1 Axes>"
      ]
     },
     "metadata": {},
     "output_type": "display_data"
    }
   ],
   "source": [
    "base = {\"W\":reps[0], \"X\":reps[0], \"Y\":reps[1], \"Z\":reps[3]}\n",
    "source = {\"W\":reps[0], \"X\":reps[1], \"Y\":reps[2], \"Z\":reps[2]}\n",
    "setting = equality_model.run_interchange(base, {\"WX\":source})\n",
    "equality_model.print_setting(setting)"
   ]
  },
  {
   "cell_type": "markdown",
   "metadata": {},
   "source": [
    "# Hand Crafting an MLP to Solve Hierarchical Equality"
   ]
  },
  {
   "cell_type": "code",
   "execution_count": 10,
   "metadata": {},
   "outputs": [],
   "source": [
    "n_examples = 100000\n",
    "\n",
    "X, y = equality_model.generate_factual_dataset(n_examples,equality_model.sample_input_tree_balanced)"
   ]
  },
  {
   "cell_type": "code",
   "execution_count": 11,
   "metadata": {},
   "outputs": [],
   "source": [
    "handcrafted = LIMDeepNeuralClassifier(\n",
    "    hidden_dim=embedding_dim*4, \n",
    "    hidden_activation=torch.nn.ReLU(), \n",
    "    num_layers=2,\n",
    "    input_dim=embedding_dim*4,\n",
    "    n_classes=2\n",
    "    )\n",
    "handcrafted_trainer = LIMTrainer(\n",
    "    handcrafted,\n",
    "    warm_start=True,\n",
    "    max_iter=10,\n",
    "    batch_size=64,\n",
    "    n_iter_no_change=10000,\n",
    "    shuffle_train=False,\n",
    "    eta=0.001)"
   ]
  },
  {
   "cell_type": "code",
   "execution_count": 12,
   "metadata": {},
   "outputs": [],
   "source": [
    "handcrafted.labeled_layers[0][\"model\"].linear.weight = torch.nn.Parameter(torch.FloatTensor([[1,0,-1,0,0,0,0,0],\n",
    "                                                                                             [0,1,0,-1,0,0,0,0],\n",
    "                                                                                             [-1,0,1,0,0,0,0,0],\n",
    "                                                                                             [0,-1,0,1,0,0,0,0],\n",
    "                                                                                             [0,0,0,0,1,0,-1,0],\n",
    "                                                                                             [0,0,0,0,0,1,0,-1],\n",
    "                                                                                             [0,0,0,0,-1,0,1,0],\n",
    "                                                                                             [0,0,0,0,0,-1,0,1]]))\n",
    "handcrafted.labeled_layers[0][\"model\"].linear.bias = torch.nn.Parameter(torch.FloatTensor([0,0,0,0,0,0,0,0]))\n",
    "\n",
    "handcrafted.labeled_layers[1][\"model\"].linear.weight = torch.nn.Parameter(torch.FloatTensor([[1, 0,-1,0, 0,0,0,1],\n",
    "                                                                                             [1, 0,-1,0, 0,0,0,1],\n",
    "                                                                                             [1, 0,-1,0, 0,0,0,1],\n",
    "                                                                                             [1, 0,-1,0, 0,0,0,1],\n",
    "                                                                                             [-1,0, 1,0, 1,0,0,0],\n",
    "                                                                                             [-1,0, 1,0, 1,0,0,0],\n",
    "                                                                                             [-1,0, 1,0, 1,0,0,0],\n",
    "                                                                                             [-1,0, 1,0, 1,0,0,0]]).transpose(0,1))\n",
    "handcrafted.labeled_layers[1][\"model\"].linear.bias = torch.nn.Parameter(torch.FloatTensor([0,0,0,0,0,0,0,0]))\n",
    "\n",
    "handcrafted.labeled_layers[2][\"model\"].weight = torch.nn.Parameter(torch.FloatTensor([[1,0],\n",
    "                                                                                             [0,0],\n",
    "                                                                                             [1,0],\n",
    "                                                                                             [0,0],\n",
    "                                                                                             [-0.5,0],\n",
    "                                                                                             [0,0],\n",
    "                                                                                             [0,0],\n",
    "                                                                                             [-0.5,0]]).transpose(0,1))\n",
    "handcrafted.labeled_layers[2][\"model\"].bias = torch.nn.Parameter(torch.FloatTensor([-0.001,0]))"
   ]
  },
  {
   "cell_type": "code",
   "execution_count": 13,
   "metadata": {},
   "outputs": [
    {
     "name": "stdout",
     "output_type": "stream",
     "text": [
      "tensor([0., 0., 0., 0., 1., 3., 0., 0.], grad_fn=<ReluBackward0>)\n",
      "tensor([0., 0., 4., 0., 4., 0., 0., 0.], grad_fn=<ReluBackward0>)\n",
      "tensor([1.9990, 0.0000], grad_fn=<AddBackward0>)\n",
      "tensor([1.9990, 0.0000], grad_fn=<AddBackward0>)\n"
     ]
    }
   ],
   "source": [
    "x = torch.FloatTensor([0.11, 0.23,0.11, 0.23,0.91, 1.84,-0.09, -1.16])\n",
    "print(handcrafted.model_layers[0](x))\n",
    "print(handcrafted.model_layers[1](handcrafted.model_layers[0](x)))\n",
    "print(handcrafted.model_layers[2](handcrafted.model_layers[1](handcrafted.model_layers[0](x))))\n",
    "print(handcrafted(x))"
   ]
  },
  {
   "cell_type": "code",
   "execution_count": 14,
   "metadata": {},
   "outputs": [
    {
     "name": "stdout",
     "output_type": "stream",
     "text": [
      "tensor([ 0.,  0.,  0.,  0.,  1.,  3., -1., -3.], grad_fn=<AddBackward0>)\n",
      "tensor([0., 0., 0., 0., 1., 3., 0., 0.], grad_fn=<ReluBackward0>)\n",
      "tensor([-4.,  0.,  4.,  0.,  4.,  0.,  0.,  0.], grad_fn=<AddBackward0>)\n",
      "tensor([0., 0., 4., 0., 4., 0., 0., 0.], grad_fn=<ReluBackward0>)\n",
      "tensor([1.9990, 0.0000], grad_fn=<AddBackward0>)\n",
      "True\n"
     ]
    }
   ],
   "source": [
    "\n",
    "h  = torch.matmul(x.cpu(), handcrafted.labeled_layers[0][\"model\"].linear.weight.cpu()) + handcrafted.labeled_layers[0][\"model\"].linear.bias.cpu()\n",
    "print(h)\n",
    "hactive = torch.relu(h)\n",
    "print(hactive)\n",
    "h2 = torch.matmul(hactive.cpu(), handcrafted.labeled_layers[1][\"model\"].linear.weight.cpu().transpose(0,1)) + handcrafted.labeled_layers[1][\"model\"].linear.bias.cpu()\n",
    "print(h2)\n",
    "hactive2 = torch.relu(h2)\n",
    "print(hactive2)\n",
    "logits = torch.matmul(handcrafted.labeled_layers[2][\"model\"].weight.cpu(),hactive2.cpu()) + handcrafted.labeled_layers[2][\"model\"].bias.cpu()\n",
    "print(logits)\n",
    "if logits[0] >= logits[1]:\n",
    "    print(\"True\")\n",
    "else:\n",
    "    print(\"False\")"
   ]
  },
  {
   "cell_type": "code",
   "execution_count": 15,
   "metadata": {},
   "outputs": [
    {
     "name": "stdout",
     "output_type": "stream",
     "text": [
      "Train Results\n",
      "              precision    recall  f1-score   support\n",
      "\n",
      "         0.0       0.91      1.00      0.95     49794\n",
      "         1.0       1.00      0.91      0.95     50206\n",
      "\n",
      "    accuracy                           0.95    100000\n",
      "   macro avg       0.96      0.95      0.95    100000\n",
      "weighted avg       0.96      0.95      0.95    100000\n",
      "\n"
     ]
    }
   ],
   "source": [
    "preds = handcrafted_trainer.predict(X, device=\"cpu\")\n",
    "\n",
    "print(\"Train Results\")\n",
    "print(classification_report(y, preds.cpu()))"
   ]
  },
  {
   "cell_type": "markdown",
   "metadata": {},
   "source": [
    "# Training an MLP to Solve Hierarchical Equality\n",
    "\n",
    "We've now seen how interventions work in our high-level causal model. We turn now to doing parallel work in our neural network, which will be a fully-connected feed-forward neural network with three hidden layers. The following code simply extends `TorchDeepNeuralClassifier` with a method `retrieve_activations` that supports interventions on PyTorch computation graphs:"
   ]
  },
  {
   "cell_type": "markdown",
   "metadata": {},
   "source": [
    "The module `iit` provides some dataset functions for equality learning. Here we define a simple an equality dataset:"
   ]
  },
  {
   "cell_type": "markdown",
   "metadata": {},
   "source": [
    "The examples in this dataset are 8-dimensional vectors: the concatenation of 4 2-dimensional vectors. Here's the first example with its label:"
   ]
  },
  {
   "cell_type": "code",
   "execution_count": 16,
   "metadata": {},
   "outputs": [
    {
     "data": {
      "text/plain": [
       "(tensor([ 0.4766,  0.0246,  0.0902,  0.3697, -0.4805,  0.4291,  0.1735,  0.0444]),\n",
       " tensor([1.]))"
      ]
     },
     "execution_count": 16,
     "metadata": {},
     "output_type": "execute_result"
    }
   ],
   "source": [
    "X[0], y[0]"
   ]
  },
  {
   "cell_type": "markdown",
   "metadata": {},
   "source": [
    "The label for this example is determined by whether the equality value for the first two inputs matches the equality value for the second two inputs:"
   ]
  },
  {
   "cell_type": "code",
   "execution_count": 17,
   "metadata": {},
   "outputs": [
    {
     "data": {
      "text/plain": [
       "False"
      ]
     },
     "execution_count": 17,
     "metadata": {},
     "output_type": "execute_result"
    }
   ],
   "source": [
    "left = torch.equal(\n",
    "    X[0][: embedding_dim],\n",
    "    X[0][embedding_dim: embedding_dim*2])\n",
    "\n",
    "left"
   ]
  },
  {
   "cell_type": "code",
   "execution_count": 18,
   "metadata": {},
   "outputs": [
    {
     "data": {
      "text/plain": [
       "False"
      ]
     },
     "execution_count": 18,
     "metadata": {},
     "output_type": "execute_result"
    }
   ],
   "source": [
    "right = torch.equal(\n",
    "    X[0][embedding_dim*2: embedding_dim*3],\n",
    "    X[0][embedding_dim*3: ])\n",
    "\n",
    "right"
   ]
  },
  {
   "cell_type": "code",
   "execution_count": 19,
   "metadata": {},
   "outputs": [
    {
     "data": {
      "text/plain": [
       "1"
      ]
     },
     "execution_count": 19,
     "metadata": {},
     "output_type": "execute_result"
    }
   ],
   "source": [
    "int(left == right)"
   ]
  },
  {
   "cell_type": "markdown",
   "metadata": {},
   "source": [
    "Let's see how our model does out-of-the-box on this task:"
   ]
  },
  {
   "cell_type": "code",
   "execution_count": 20,
   "metadata": {
    "scrolled": true
   },
   "outputs": [],
   "source": [
    "LIM = LIMDeepNeuralClassifier(\n",
    "    hidden_dim=embedding_dim*4, \n",
    "    hidden_activation=torch.nn.ReLU(), \n",
    "    num_layers=3,\n",
    "    input_dim=embedding_dim*4,\n",
    "    n_classes=2\n",
    "    )\n",
    "LIM_trainer = LIMTrainer(\n",
    "    LIM,\n",
    "    warm_start=True,\n",
    "    max_iter=10,\n",
    "    batch_size=64,\n",
    "    n_iter_no_change=10000,\n",
    "    shuffle_train=False,\n",
    "    eta=0.001)"
   ]
  },
  {
   "cell_type": "code",
   "execution_count": 21,
   "metadata": {},
   "outputs": [
    {
     "name": "stderr",
     "output_type": "stream",
     "text": [
      "Finished epoch 10 of 10; error is 155.06558223068714"
     ]
    }
   ],
   "source": [
    "_ = LIM_trainer.fit(X, y)"
   ]
  },
  {
   "cell_type": "markdown",
   "metadata": {},
   "source": [
    "This neural network achieves near perfect performance on its train set:"
   ]
  },
  {
   "cell_type": "code",
   "execution_count": 22,
   "metadata": {},
   "outputs": [
    {
     "name": "stdout",
     "output_type": "stream",
     "text": [
      "Train Results\n",
      "              precision    recall  f1-score   support\n",
      "\n",
      "         0.0       0.97      0.98      0.97     49794\n",
      "         1.0       0.98      0.97      0.97     50206\n",
      "\n",
      "    accuracy                           0.97    100000\n",
      "   macro avg       0.97      0.97      0.97    100000\n",
      "weighted avg       0.97      0.97      0.97    100000\n",
      "\n"
     ]
    }
   ],
   "source": [
    "preds = LIM_trainer.predict(X, device=\"cpu\")\n",
    "\n",
    "\n",
    "print(\"Train Results\")\n",
    "print(classification_report(y, preds.cpu()))"
   ]
  },
  {
   "cell_type": "markdown",
   "metadata": {},
   "source": [
    "And it generalizes perfectly to a test set consisting of distinct vectors:"
   ]
  },
  {
   "cell_type": "code",
   "execution_count": 23,
   "metadata": {},
   "outputs": [],
   "source": [
    "variables =  [\"W\", \"X\", \"Y\", \"Z\", \"WX\", \"YZ\", \"O\"]\n",
    "\n",
    "number_of__test_entities = 100\n",
    "\n",
    "reps = [utils.randvec(embedding_dim).round(2)  for _ in range(number_of__test_entities)]\n",
    "values = {variable:reps for variable in [\"W\",\"X\", \"Y\", \"Z\"]}\n",
    "values[\"WX\"] = [True, False]\n",
    "values[\"YZ\"] = [True, False]\n",
    "values[\"O\"] = [True, False]\n",
    "\n",
    "parents = {\"W\":[],\"X\":[], \"Y\":[], \"Z\":[], \n",
    "           \"WX\":[\"W\", \"X\"], \"YZ\":[\"Y\", \"Z\"], \n",
    "           \"O\":[\"WX\", \"YZ\"]}\n",
    "\n",
    "def FILLER():\n",
    "    return reps[0]\n",
    "\n",
    "functions = {\"W\":FILLER,\"X\":FILLER, \"Y\":FILLER, \"Z\":FILLER, \n",
    "             \"WX\": lambda x,y: np.array_equal(x,y), \"YZ\":lambda x,y: np.array_equal(x,y), \n",
    "             \"O\": lambda x,y: x==y}\n",
    "\n",
    "pos = {\"W\":(0,0),\"X\":(1,0.1), \"Y\":(2,0.2), \"Z\":(3,0), \n",
    "           \"WX\":(1,2), \"YZ\":(2,2), \n",
    "           \"O\":(1.5,3)}\n",
    "\n",
    "test_equality_model = CausalModel(variables, values, parents, functions, pos = pos)"
   ]
  },
  {
   "cell_type": "code",
   "execution_count": 24,
   "metadata": {},
   "outputs": [
    {
     "name": "stdout",
     "output_type": "stream",
     "text": [
      "Test Results\n",
      "              precision    recall  f1-score   support\n",
      "\n",
      "         0.0       0.97      0.97      0.97      5067\n",
      "         1.0       0.97      0.97      0.97      4933\n",
      "\n",
      "    accuracy                           0.97     10000\n",
      "   macro avg       0.97      0.97      0.97     10000\n",
      "weighted avg       0.97      0.97      0.97     10000\n",
      "\n"
     ]
    }
   ],
   "source": [
    "X_test, y_test = test_equality_model.generate_factual_dataset(10000,equality_model.sample_input_tree_balanced)\n",
    "print(\"Test Results\")\n",
    "\n",
    "test_preds = LIM_trainer.predict(X_test, device=\"cpu\")\n",
    "\n",
    "print(classification_report(y_test, test_preds.cpu()))"
   ]
  },
  {
   "cell_type": "markdown",
   "metadata": {},
   "source": [
    "Does it implement our high-level model of the problem, though?"
   ]
  },
  {
   "cell_type": "markdown",
   "metadata": {},
   "source": [
    "# Causal abstraction\n",
    "\n",
    "To recap:\n",
    "\n",
    "1. We defined a **high-level causal model** (a tree-structured algorithm) that solves the hierarchical equality task.\n",
    "\n",
    "1. We trained a **low-level fully connected neural network** that seeks to solv the hierarchical equality task.\n",
    "\n",
    "1. We peformed illustrative interventions on both these networks to begin to get a feel for whether the high-level model is an abstraction of the lower-level neural one.\n",
    "\n",
    "The formal theory of **causal abstraction** describes the conditions that must hold for the high-level tree structured algorithm to be a **simplified and faithful description** of the neural network. \n",
    "\n",
    "In essence: an high-level model is a causal abstraction of a neural network if and only if for all base and source inputs, the algorithm and network provides the same output, for some alignment between these two models.\n",
    "\n",
    "Below, we define an alignment between the neural network and the algorithm and a function to compute the **interchange intervention accuracy** (II accuracy) for a high-level variable: the percentage of aligned interchange interventions that the network and algorithm produce the same output on. When the II accuracy is 100%, the causal abstraction relation holds between the network and a simplified version of the algorithm where only one high-level variable exists."
   ]
  },
  {
   "cell_type": "markdown",
   "metadata": {},
   "source": [
    "## Basic intervention: zeroing out part of a hidden layer\n",
    "\n",
    "To begin to build towards the full interchange intervention, let's consider a simpler intervention, where we zero out the first `embedding_dim` neurons in the first hidden layer.\n",
    "\n",
    "Our basic inputs are random vectors:"
   ]
  },
  {
   "cell_type": "code",
   "execution_count": 25,
   "metadata": {},
   "outputs": [],
   "source": [
    "a = X[0][: embedding_dim]\n",
    "b = X[1][: embedding_dim]\n",
    "c = X[2][: embedding_dim]\n",
    "\n",
    "X_same_different = torch.cat((a, a, b, c)).unsqueeze(0)\n",
    "\n",
    "X_different_same = torch.cat((a, b, c, c)).unsqueeze(0)"
   ]
  },
  {
   "cell_type": "markdown",
   "metadata": {},
   "source": [
    "And here we define two different inputs for use in later examples. We'll use training examples so that we are sure to see the full logic of these interventions; the next section will consider test examples in the context of a full abstraction analysis:"
   ]
  },
  {
   "cell_type": "markdown",
   "metadata": {},
   "source": [
    "For the intervention, we first specify that we want it target layer 1 (the outer key), and then we give a list of specifications for interventions at that layer (here we will do just one). So that we can study the full layer before and after the intervention, we specify the entire layer:"
   ]
  },
  {
   "cell_type": "code",
   "execution_count": 26,
   "metadata": {},
   "outputs": [],
   "source": [
    "zeroing_get_coord = {\n",
    "    \"layer\": 1,\n",
    "    \"start\": 0, \n",
    "    \"end\": \n",
    "    embedding_dim*4\n",
    "}"
   ]
  },
  {
   "cell_type": "markdown",
   "metadata": {},
   "source": [
    "Next, we specify the intervention itself: in layer 1, the first `embedding_layer` inputs will be turned into 0s:"
   ]
  },
  {
   "cell_type": "code",
   "execution_count": 27,
   "metadata": {},
   "outputs": [],
   "source": [
    "zeroing_intervention = [{\n",
    "    \"layer\": 1,\n",
    "    \"start\": 0,  \n",
    "    \"end\": embedding_dim, \n",
    "    \"intervention\": torch.zeros((1,embedding_dim))\n",
    "}]"
   ]
  },
  {
   "cell_type": "markdown",
   "metadata": {},
   "source": [
    "For the `X_same_different` input, the network computes the following values at our intervention site, without any intervention:"
   ]
  },
  {
   "cell_type": "code",
   "execution_count": 28,
   "metadata": {},
   "outputs": [
    {
     "data": {
      "text/plain": [
       "tensor([[0.0000, 0.1525, 0.0000, 0.0000, 0.0000, 0.1621, 0.5090, 0.0000]],\n",
       "       device='cuda:0', grad_fn=<SliceBackward0>)"
      ]
     },
     "execution_count": 28,
     "metadata": {},
     "output_type": "execute_result"
    }
   ],
   "source": [
    "LIM_trainer.model.retrieve_activations(X_same_different, zeroing_get_coord, None)"
   ]
  },
  {
   "cell_type": "markdown",
   "metadata": {},
   "source": [
    "And here are the values computed with the intervention:"
   ]
  },
  {
   "cell_type": "code",
   "execution_count": 29,
   "metadata": {
    "scrolled": true
   },
   "outputs": [
    {
     "data": {
      "text/plain": [
       "tensor([[0.0000, 0.1525, 0.0000, 0.0000, 0.0000, 0.1621, 0.5090, 0.0000]],\n",
       "       device='cuda:0', grad_fn=<SliceBackward0>)"
      ]
     },
     "execution_count": 29,
     "metadata": {},
     "output_type": "execute_result"
    }
   ],
   "source": [
    "LIM_trainer.model.retrieve_activations(X_same_different, zeroing_get_coord, zeroing_intervention)"
   ]
  },
  {
   "cell_type": "markdown",
   "metadata": {},
   "source": [
    "We can also see how the intervention affects outputs. To that, we specify the final layer (the two logits) as the coordinate:"
   ]
  },
  {
   "cell_type": "code",
   "execution_count": 30,
   "metadata": {},
   "outputs": [],
   "source": [
    "zeroing_output_coord = {\n",
    "    \"layer\": 3, \n",
    "    \"start\": 0, \n",
    "    \"end\": 2}"
   ]
  },
  {
   "cell_type": "markdown",
   "metadata": {},
   "source": [
    "Here are the outputs without an intervention:"
   ]
  },
  {
   "cell_type": "code",
   "execution_count": 31,
   "metadata": {},
   "outputs": [
    {
     "data": {
      "text/plain": [
       "tensor([[ 1.9580, -1.6312]], device='cuda:0', grad_fn=<SliceBackward0>)"
      ]
     },
     "execution_count": 31,
     "metadata": {},
     "output_type": "execute_result"
    }
   ],
   "source": [
    "LIM_trainer.model.retrieve_activations(X_same_different, zeroing_output_coord, sets=None)"
   ]
  },
  {
   "cell_type": "markdown",
   "metadata": {},
   "source": [
    "And with the intervention we specified above:"
   ]
  },
  {
   "cell_type": "code",
   "execution_count": 32,
   "metadata": {},
   "outputs": [
    {
     "data": {
      "text/plain": [
       "tensor([[-0.6731,  0.9067]], device='cuda:0', grad_fn=<SliceBackward0>)"
      ]
     },
     "execution_count": 32,
     "metadata": {},
     "output_type": "execute_result"
    }
   ],
   "source": [
    "LIM_trainer.model.retrieve_activations(X_same_different, zeroing_output_coord, zeroing_intervention)"
   ]
  },
  {
   "cell_type": "markdown",
   "metadata": {},
   "source": [
    "## An interchange intervention\n",
    "\n",
    "We're now ready to do a full interchange intervention. The only change from the above is that, instead of simply zeroing out some neurons, we'll replace them with the corresponding values determined by a distinct input."
   ]
  },
  {
   "cell_type": "markdown",
   "metadata": {},
   "source": [
    "We'll again target the first `embedding_dim` units in the first hidden layer:"
   ]
  },
  {
   "cell_type": "code",
   "execution_count": 33,
   "metadata": {},
   "outputs": [],
   "source": [
    "ii_coord = {\"layer\": 1, \"start\": 0, \"end\": embedding_dim}"
   ]
  },
  {
   "cell_type": "markdown",
   "metadata": {},
   "source": [
    "For our **source** input, we'll use `X_different_same`. The first step is to get the activations for this input at our coordinate:"
   ]
  },
  {
   "cell_type": "code",
   "execution_count": 34,
   "metadata": {},
   "outputs": [
    {
     "data": {
      "text/plain": [
       "tensor([[0.0000, 0.4098]], device='cuda:0', grad_fn=<SliceBackward0>)"
      ]
     },
     "execution_count": 34,
     "metadata": {},
     "output_type": "execute_result"
    }
   ],
   "source": [
    "intervention_get = LIM_trainer.model.retrieve_activations(X_different_same, ii_coord, None)\n",
    "\n",
    "intervention_get"
   ]
  },
  {
   "cell_type": "markdown",
   "metadata": {},
   "source": [
    "Then we define the intervention using these values:"
   ]
  },
  {
   "cell_type": "code",
   "execution_count": 35,
   "metadata": {},
   "outputs": [],
   "source": [
    "ii_set = [{\n",
    "    \"layer\": 1, \n",
    "    \"start\": 0, \n",
    "    \"end\": embedding_dim, \n",
    "    \"intervention\": intervention_get}]"
   ]
  },
  {
   "cell_type": "markdown",
   "metadata": {},
   "source": [
    "We now turn to our __base__ input, which will be `X_same_different`. With no intervention, this has the following values at our intervention site:"
   ]
  },
  {
   "cell_type": "code",
   "execution_count": 36,
   "metadata": {},
   "outputs": [
    {
     "data": {
      "text/plain": [
       "tensor([[0.0000, 0.1525]], device='cuda:0', grad_fn=<SliceBackward0>)"
      ]
     },
     "execution_count": 36,
     "metadata": {},
     "output_type": "execute_result"
    }
   ],
   "source": [
    "LIM_trainer.model.retrieve_activations(X_same_different, ii_coord, None)"
   ]
  },
  {
   "cell_type": "markdown",
   "metadata": {},
   "source": [
    "And then we can verify that the intervention works as we intended it to; these values should be the same as `intervention_get` above:"
   ]
  },
  {
   "cell_type": "code",
   "execution_count": 37,
   "metadata": {},
   "outputs": [
    {
     "data": {
      "text/plain": [
       "tensor([[0.0000, 0.1525]], device='cuda:0', grad_fn=<SliceBackward0>)"
      ]
     },
     "execution_count": 37,
     "metadata": {},
     "output_type": "execute_result"
    }
   ],
   "source": [
    "LIM_trainer.model.retrieve_activations(X_same_different, ii_coord, ii_set)"
   ]
  },
  {
   "cell_type": "markdown",
   "metadata": {},
   "source": [
    "Finally, we can see what the intervention does to the network's predictions. We specify the coordinates of the output logits:"
   ]
  },
  {
   "cell_type": "code",
   "execution_count": 38,
   "metadata": {},
   "outputs": [],
   "source": [
    "ii_output_coord = {\"layer\": 3, \"start\": 0, \"end\": 2}"
   ]
  },
  {
   "cell_type": "markdown",
   "metadata": {},
   "source": [
    "With no intervention, the input `X_same_different` delivers:"
   ]
  },
  {
   "cell_type": "code",
   "execution_count": 39,
   "metadata": {},
   "outputs": [
    {
     "data": {
      "text/plain": [
       "tensor([[ 1.9580, -1.6312]], device='cuda:0', grad_fn=<SliceBackward0>)"
      ]
     },
     "execution_count": 39,
     "metadata": {},
     "output_type": "execute_result"
    }
   ],
   "source": [
    "LIM_trainer.model.retrieve_activations(X_same_different, ii_output_coord, None)"
   ]
  },
  {
   "cell_type": "markdown",
   "metadata": {},
   "source": [
    "With the intervention, that same input delivers:"
   ]
  },
  {
   "cell_type": "code",
   "execution_count": 40,
   "metadata": {},
   "outputs": [
    {
     "data": {
      "text/plain": [
       "tensor([[ 2.4450, -2.1454]], device='cuda:0', grad_fn=<SliceBackward0>)"
      ]
     },
     "execution_count": 40,
     "metadata": {},
     "output_type": "execute_result"
    }
   ],
   "source": [
    "LIM_trainer.model.retrieve_activations(X_same_different, ii_output_coord, ii_set)"
   ]
  },
  {
   "cell_type": "markdown",
   "metadata": {},
   "source": [
    "If our target coordinates for the intervention were a modular encoding of the value for the first two inputs, then this intervention would have change the network's prediction from `0` to `1`, since we would have effectively created a **(different, different)** input. It's unlikely that this happened, suggesting that our hypothesis about where this information is encoded is false. A full-fledged causal abstraction analysis will allow us to assess this more comprehensively."
   ]
  },
  {
   "cell_type": "markdown",
   "metadata": {},
   "source": [
    "In essence, this reflects a hypothesis that we will find the equality label for the first two inputs in the first four neurons in layer 1, and that we'll find the equality label for the second two inputs in the next four neurons in layer 1. This is of course just one of a great many hypotheses we could state. "
   ]
  },
  {
   "cell_type": "markdown",
   "metadata": {},
   "source": [
    "The function `interchange_intervention` packages up the multi-step process we walked through above:"
   ]
  },
  {
   "cell_type": "code",
   "execution_count": 41,
   "metadata": {},
   "outputs": [],
   "source": [
    "def interchange_intervention(model, base, source, get_coord, output_coord):\n",
    "    intervention = model.retrieve_activations(source, get_coord, None)\n",
    "    get_coord[\"intervention\"] = intervention\n",
    "    return model.retrieve_activations(base, output_coord, [get_coord])"
   ]
  },
  {
   "cell_type": "code",
   "execution_count": 42,
   "metadata": {},
   "outputs": [],
   "source": [
    "output_coord = {\"layer\": 3, \"start\": 0, \"end\": 2}"
   ]
  },
  {
   "cell_type": "markdown",
   "metadata": {},
   "source": [
    "Example: "
   ]
  },
  {
   "cell_type": "code",
   "execution_count": 43,
   "metadata": {},
   "outputs": [
    {
     "data": {
      "text/plain": [
       "tensor([[ 2.4450, -2.1454]], device='cuda:0', grad_fn=<SliceBackward0>)"
      ]
     },
     "execution_count": 43,
     "metadata": {},
     "output_type": "execute_result"
    }
   ],
   "source": [
    "interchange_intervention(\n",
    "    LIM_trainer.model, \n",
    "    base=X_same_different, \n",
    "    source=X_different_same, \n",
    "    get_coord=ii_coord, \n",
    "    output_coord=output_coord)"
   ]
  },
  {
   "cell_type": "markdown",
   "metadata": {},
   "source": [
    "## Alignment"
   ]
  },
  {
   "cell_type": "markdown",
   "metadata": {},
   "source": [
    "The first step is to specify an alignment:"
   ]
  },
  {
   "cell_type": "code",
   "execution_count": 44,
   "metadata": {},
   "outputs": [],
   "source": [
    "WX = 0\n",
    "YZ = 1\n",
    "WXYZ = 2\n",
    "\n",
    "id_to_coords = {\n",
    "    WX: [{\"layer\": 0, \"start\": 0, \"end\": 2*embedding_dim}],\n",
    "    YZ: [{\"layer\": 0, \"start\": 2*embedding_dim, \"end\":embedding_dim*4 }], \n",
    "    WXYZ: [{\"layer\": 0, \"start\": 0, \"end\": 2*embedding_dim}, {\"layer\": 0, \"start\": 2*embedding_dim, \"end\":embedding_dim*4 }],\n",
    "}"
   ]
  },
  {
   "cell_type": "markdown",
   "metadata": {},
   "source": [
    "Next we create a counterfactual equality dataset that includes interchange intervention examples:"
   ]
  },
  {
   "cell_type": "code",
   "execution_count": 45,
   "metadata": {},
   "outputs": [],
   "source": [
    "def intervention_id(intervention):\n",
    "    if \"WX\" in intervention and \"YZ\" in intervention:\n",
    "        return WXYZ\n",
    "    if \"WX\" in intervention:\n",
    "        return WX\n",
    "    if \"YZ\" in intervention:\n",
    "        return YZ"
   ]
  },
  {
   "cell_type": "code",
   "execution_count": 46,
   "metadata": {},
   "outputs": [
    {
     "name": "stdout",
     "output_type": "stream",
     "text": [
      "torch.Size([100032, 8])\n",
      "torch.Size([100032, 1])\n",
      "torch.Size([100032, 2, 8])\n",
      "torch.Size([100032, 1])\n",
      "torch.Size([100032, 1])\n"
     ]
    }
   ],
   "source": [
    "data_size = 100000\n",
    "\n",
    "X_base, y_base, X_sources, y_II, interventions = equality_model.generate_counterfactual_dataset(data_size,\n",
    "                                                                                                intervention_id,\n",
    "                                                                                                64,\n",
    "                                                                                                sampler=equality_model.sample_input_tree_balanced)\n",
    "\n",
    "print(X_base.shape)\n",
    "print(y_base.shape)\n",
    "print(X_sources.shape)\n",
    "print(y_II.shape)\n",
    "print(interventions.shape)"
   ]
  },
  {
   "cell_type": "code",
   "execution_count": 47,
   "metadata": {},
   "outputs": [
    {
     "name": "stdout",
     "output_type": "stream",
     "text": [
      "tensor([ 0.3075, -0.3096, -0.4630,  0.0023,  0.0846,  0.3978, -0.2265, -0.3781])\n",
      "tensor([1.])\n",
      "tensor([[-0.4540,  0.2961, -0.3300, -0.4210,  0.0640, -0.2820,  0.0640, -0.2820],\n",
      "        [ 0.0000,  0.0000,  0.0000,  0.0000,  0.0000,  0.0000,  0.0000,  0.0000]])\n",
      "tensor([1.])\n",
      "tensor([0]) \n",
      "\n",
      "tensor([ 0.1874,  0.4239,  0.0193,  0.3011, -0.4365, -0.1184, -0.2776,  0.3166])\n",
      "tensor([1.])\n",
      "tensor([[ 0.4346, -0.4310,  0.1555, -0.3229, -0.3319,  0.0105, -0.3319,  0.0105],\n",
      "        [ 0.0000,  0.0000,  0.0000,  0.0000,  0.0000,  0.0000,  0.0000,  0.0000]])\n",
      "tensor([1.])\n",
      "tensor([0]) \n",
      "\n",
      "tensor([-0.2786, -0.4368, -0.2786, -0.4368,  0.3221, -0.0993,  0.3270,  0.0153])\n",
      "tensor([0.])\n",
      "tensor([[-0.4199,  0.1609, -0.4028,  0.3873, -0.2316,  0.3517,  0.4515, -0.4673],\n",
      "        [ 0.0000,  0.0000,  0.0000,  0.0000,  0.0000,  0.0000,  0.0000,  0.0000]])\n",
      "tensor([1.])\n",
      "tensor([0]) \n",
      "\n",
      "tensor([ 0.3496,  0.3223,  0.2365,  0.1767, -0.4581,  0.4334, -0.4581,  0.4334])\n",
      "tensor([0.])\n",
      "tensor([[-0.3919, -0.4743, -0.3919, -0.4743, -0.1316,  0.1738, -0.0386, -0.3825],\n",
      "        [ 0.0000,  0.0000,  0.0000,  0.0000,  0.0000,  0.0000,  0.0000,  0.0000]])\n",
      "tensor([1.])\n",
      "tensor([0]) \n",
      "\n",
      "tensor([-0.0674,  0.4107, -0.0977, -0.2657,  0.4132, -0.3249,  0.4132, -0.3249])\n",
      "tensor([0.])\n",
      "tensor([[-0.2170, -0.3995, -0.2170, -0.3995, -0.0592,  0.0796, -0.0592,  0.0796],\n",
      "        [ 0.0000,  0.0000,  0.0000,  0.0000,  0.0000,  0.0000,  0.0000,  0.0000]])\n",
      "tensor([1.])\n",
      "tensor([0]) \n",
      "\n",
      "tensor([-0.3930,  0.0532, -0.3930,  0.0532,  0.0504,  0.4291,  0.0504,  0.4291])\n",
      "tensor([1.])\n",
      "tensor([[-0.3300, -0.4210, -0.4475, -0.0867, -0.0781, -0.2215, -0.0083, -0.4088],\n",
      "        [ 0.0000,  0.0000,  0.0000,  0.0000,  0.0000,  0.0000,  0.0000,  0.0000]])\n",
      "tensor([0.])\n",
      "tensor([0]) \n",
      "\n",
      "tensor([-0.1482,  0.2535, -0.1482,  0.2535,  0.1511,  0.2670, -0.1639,  0.1791])\n",
      "tensor([0.])\n",
      "tensor([[ 0.2198, -0.1997, -0.0305,  0.4692, -0.2171, -0.0912, -0.2171, -0.0912],\n",
      "        [ 0.0000,  0.0000,  0.0000,  0.0000,  0.0000,  0.0000,  0.0000,  0.0000]])\n",
      "tensor([1.])\n",
      "tensor([0]) \n",
      "\n",
      "tensor([ 0.2612, -0.1209,  0.2612, -0.1209,  0.1723,  0.0846,  0.1723,  0.0846])\n",
      "tensor([1.])\n",
      "tensor([[ 0.3239,  0.4094,  0.3239,  0.4094, -0.4972,  0.3584,  0.4346, -0.4310],\n",
      "        [ 0.0000,  0.0000,  0.0000,  0.0000,  0.0000,  0.0000,  0.0000,  0.0000]])\n",
      "tensor([1.])\n",
      "tensor([0]) \n",
      "\n",
      "tensor([-0.2460, -0.2447, -0.4623, -0.1632,  0.3959, -0.0503,  0.3959, -0.0503])\n",
      "tensor([0.])\n",
      "tensor([[ 0.3922, -0.4131,  0.3989, -0.2899, -0.3413, -0.1271, -0.4431,  0.3317],\n",
      "        [ 0.0000,  0.0000,  0.0000,  0.0000,  0.0000,  0.0000,  0.0000,  0.0000]])\n",
      "tensor([0.])\n",
      "tensor([0]) \n",
      "\n",
      "tensor([ 0.4799,  0.0837, -0.0674,  0.4107, -0.0062, -0.4196, -0.0062, -0.4196])\n",
      "tensor([0.])\n",
      "tensor([[ 0.0558,  0.2184,  0.0558,  0.2184,  0.4640, -0.4392, -0.4898,  0.4481],\n",
      "        [ 0.0000,  0.0000,  0.0000,  0.0000,  0.0000,  0.0000,  0.0000,  0.0000]])\n",
      "tensor([1.])\n",
      "tensor([0]) \n",
      "\n",
      "tensor([0.1637, 0.3207, 0.1637, 0.3207, 0.0029, 0.3527, 0.0029, 0.3527])\n",
      "tensor([1.])\n",
      "tensor([[-0.0992, -0.3581, -0.0992, -0.3581,  0.0340, -0.1905,  0.0340, -0.1905],\n",
      "        [ 0.0000,  0.0000,  0.0000,  0.0000,  0.0000,  0.0000,  0.0000,  0.0000]])\n",
      "tensor([1.])\n",
      "tensor([0]) \n",
      "\n",
      "tensor([ 0.1317,  0.3115, -0.2203,  0.4891, -0.1295,  0.0617, -0.1295,  0.0617])\n",
      "tensor([0.])\n",
      "tensor([[-0.4428,  0.0842, -0.4428,  0.0842, -0.0851, -0.4010, -0.0851, -0.4010],\n",
      "        [ 0.0000,  0.0000,  0.0000,  0.0000,  0.0000,  0.0000,  0.0000,  0.0000]])\n",
      "tensor([1.])\n",
      "tensor([0]) \n",
      "\n",
      "tensor([-0.1614,  0.1927, -0.2751,  0.4729, -0.2382, -0.2397,  0.2780,  0.0132])\n",
      "tensor([1.])\n",
      "tensor([[-0.3569, -0.0389, -0.3569, -0.0389,  0.2459, -0.1692, -0.0840, -0.4049],\n",
      "        [ 0.0000,  0.0000,  0.0000,  0.0000,  0.0000,  0.0000,  0.0000,  0.0000]])\n",
      "tensor([0.])\n",
      "tensor([0]) \n",
      "\n",
      "tensor([-0.0533,  0.2038, -0.0533,  0.2038, -0.3319,  0.0105, -0.3319,  0.0105])\n",
      "tensor([1.])\n",
      "tensor([[-0.0958,  0.0146, -0.0958,  0.0146,  0.4993,  0.3360,  0.4961,  0.0291],\n",
      "        [ 0.0000,  0.0000,  0.0000,  0.0000,  0.0000,  0.0000,  0.0000,  0.0000]])\n",
      "tensor([1.])\n",
      "tensor([0]) \n",
      "\n",
      "tensor([-0.0716, -0.1294, -0.0716, -0.1294, -0.1764, -0.2520, -0.1764, -0.2520])\n",
      "tensor([1.])\n",
      "tensor([[-0.2463, -0.4838, -0.2463, -0.4838, -0.4436,  0.0039, -0.4436,  0.0039],\n",
      "        [ 0.0000,  0.0000,  0.0000,  0.0000,  0.0000,  0.0000,  0.0000,  0.0000]])\n",
      "tensor([1.])\n",
      "tensor([0]) \n",
      "\n",
      "tensor([ 0.0257,  0.2692,  0.0257,  0.2692,  0.2573, -0.3245,  0.2573, -0.3245])\n",
      "tensor([1.])\n",
      "tensor([[-0.2795, -0.2806, -0.0810,  0.2475,  0.3313,  0.2711,  0.3118,  0.0564],\n",
      "        [ 0.0000,  0.0000,  0.0000,  0.0000,  0.0000,  0.0000,  0.0000,  0.0000]])\n",
      "tensor([0.])\n",
      "tensor([0]) \n",
      "\n",
      "tensor([ 0.0426, -0.0868,  0.3022,  0.3641,  0.4380, -0.1904,  0.4380, -0.1904])\n",
      "tensor([0.])\n",
      "tensor([[ 0.2393, -0.2008,  0.2393, -0.2008, -0.1890, -0.3826,  0.4582, -0.1033],\n",
      "        [ 0.0000,  0.0000,  0.0000,  0.0000,  0.0000,  0.0000,  0.0000,  0.0000]])\n",
      "tensor([1.])\n",
      "tensor([0]) \n",
      "\n",
      "tensor([ 0.4386,  0.3511,  0.0255, -0.1862, -0.1956, -0.0074, -0.1956, -0.0074])\n",
      "tensor([0.])\n",
      "tensor([[-0.1838,  0.2519, -0.1838,  0.2519,  0.4996,  0.2189,  0.4996,  0.2189],\n",
      "        [ 0.0000,  0.0000,  0.0000,  0.0000,  0.0000,  0.0000,  0.0000,  0.0000]])\n",
      "tensor([1.])\n",
      "tensor([0]) \n",
      "\n",
      "tensor([-0.3930,  0.0532, -0.0115,  0.4053, -0.4716, -0.4545,  0.2237,  0.1566])\n",
      "tensor([1.])\n",
      "tensor([[-0.2203,  0.4891,  0.3722,  0.3586,  0.2520,  0.3319,  0.0071, -0.0373],\n",
      "        [ 0.0000,  0.0000,  0.0000,  0.0000,  0.0000,  0.0000,  0.0000,  0.0000]])\n",
      "tensor([1.])\n",
      "tensor([0]) \n",
      "\n",
      "tensor([-0.2721, -0.2106, -0.2710, -0.4679, -0.3786, -0.2990, -0.4972,  0.3584])\n",
      "tensor([1.])\n",
      "tensor([[-0.4750,  0.3842,  0.2029, -0.2291, -0.1295,  0.0617,  0.0835, -0.3295],\n",
      "        [ 0.0000,  0.0000,  0.0000,  0.0000,  0.0000,  0.0000,  0.0000,  0.0000]])\n",
      "tensor([1.])\n",
      "tensor([0]) \n",
      "\n",
      "tensor([-0.2066, -0.1252, -0.4464, -0.3508,  0.3412, -0.3522,  0.3412, -0.3522])\n",
      "tensor([0.])\n",
      "tensor([[ 0.2663, -0.3690,  0.2663, -0.3690, -0.4438,  0.0073, -0.4438,  0.0073],\n",
      "        [ 0.0000,  0.0000,  0.0000,  0.0000,  0.0000,  0.0000,  0.0000,  0.0000]])\n",
      "tensor([1.])\n",
      "tensor([0]) \n",
      "\n",
      "tensor([ 0.4051,  0.0967,  0.4051,  0.0967,  0.2064, -0.4358,  0.2064, -0.4358])\n",
      "tensor([1.])\n",
      "tensor([[ 0.2231,  0.4367, -0.4796, -0.3476,  0.0386,  0.4330,  0.0386,  0.4330],\n",
      "        [ 0.0000,  0.0000,  0.0000,  0.0000,  0.0000,  0.0000,  0.0000,  0.0000]])\n",
      "tensor([0.])\n",
      "tensor([0]) \n",
      "\n",
      "tensor([-0.2592,  0.4128, -0.2592,  0.4128, -0.3413, -0.1271, -0.1981,  0.2229])\n",
      "tensor([0.])\n",
      "tensor([[-0.1577, -0.1457, -0.1577, -0.1457,  0.1906,  0.1459, -0.1605, -0.1669],\n",
      "        [ 0.0000,  0.0000,  0.0000,  0.0000,  0.0000,  0.0000,  0.0000,  0.0000]])\n",
      "tensor([0.])\n",
      "tensor([0]) \n",
      "\n",
      "tensor([ 0.3699,  0.0663, -0.4259,  0.1294,  0.1561, -0.4945, -0.0107, -0.0919])\n",
      "tensor([1.])\n",
      "tensor([[0.1887, 0.1997, 0.1887, 0.1997, 0.0228, 0.4347, 0.0228, 0.4347],\n",
      "        [0.0000, 0.0000, 0.0000, 0.0000, 0.0000, 0.0000, 0.0000, 0.0000]])\n",
      "tensor([0.])\n",
      "tensor([0]) \n",
      "\n",
      "tensor([ 0.3069,  0.2233,  0.3617,  0.0774, -0.3612,  0.2055, -0.3612,  0.2055])\n",
      "tensor([0.])\n",
      "tensor([[ 0.1567, -0.2758,  0.0741,  0.3072,  0.3764, -0.1853,  0.4273,  0.1377],\n",
      "        [ 0.0000,  0.0000,  0.0000,  0.0000,  0.0000,  0.0000,  0.0000,  0.0000]])\n",
      "tensor([0.])\n",
      "tensor([0]) \n",
      "\n",
      "tensor([-0.2392, -0.2645, -0.2392, -0.2645, -0.4906,  0.3046, -0.4906,  0.3046])\n",
      "tensor([1.])\n",
      "tensor([[-0.3138,  0.2366, -0.3138,  0.2366, -0.0856,  0.1298, -0.0856,  0.1298],\n",
      "        [ 0.0000,  0.0000,  0.0000,  0.0000,  0.0000,  0.0000,  0.0000,  0.0000]])\n",
      "tensor([1.])\n",
      "tensor([0]) \n",
      "\n",
      "tensor([-0.1597,  0.3803, -0.1597,  0.3803, -0.1752,  0.3013, -0.0701, -0.2168])\n",
      "tensor([0.])\n",
      "tensor([[-0.3572,  0.1076, -0.3008, -0.1153, -0.4906,  0.3046, -0.4906,  0.3046],\n",
      "        [ 0.0000,  0.0000,  0.0000,  0.0000,  0.0000,  0.0000,  0.0000,  0.0000]])\n",
      "tensor([1.])\n",
      "tensor([0]) \n",
      "\n",
      "tensor([-0.3491, -0.4381,  0.2324, -0.4099, -0.2922, -0.2890, -0.2922, -0.2890])\n",
      "tensor([0.])\n",
      "tensor([[ 0.2150, -0.4240,  0.2150, -0.4240, -0.3989,  0.2709,  0.4028,  0.1155],\n",
      "        [ 0.0000,  0.0000,  0.0000,  0.0000,  0.0000,  0.0000,  0.0000,  0.0000]])\n",
      "tensor([1.])\n",
      "tensor([0]) \n",
      "\n",
      "tensor([ 0.4572, -0.1634,  0.4572, -0.1634, -0.3991, -0.4664, -0.3991, -0.4664])\n",
      "tensor([1.])\n",
      "tensor([[ 0.3193,  0.4647,  0.3193,  0.4647,  0.1459, -0.0796, -0.1767,  0.4702],\n",
      "        [ 0.0000,  0.0000,  0.0000,  0.0000,  0.0000,  0.0000,  0.0000,  0.0000]])\n",
      "tensor([1.])\n",
      "tensor([0]) \n",
      "\n",
      "tensor([-0.0732,  0.1651, -0.0732,  0.1651,  0.4975,  0.0095,  0.4975,  0.0095])\n",
      "tensor([1.])\n",
      "tensor([[-0.4836,  0.0154, -0.2170, -0.3995, -0.3341, -0.1924, -0.3341, -0.1924],\n",
      "        [ 0.0000,  0.0000,  0.0000,  0.0000,  0.0000,  0.0000,  0.0000,  0.0000]])\n",
      "tensor([0.])\n",
      "tensor([0]) \n",
      "\n",
      "tensor([ 0.1282,  0.4034,  0.1282,  0.4034, -0.2349,  0.3724, -0.2349,  0.3724])\n",
      "tensor([1.])\n",
      "tensor([[-0.2382, -0.2397, -0.1702,  0.1937, -0.3624, -0.2131,  0.2479, -0.3855],\n",
      "        [ 0.0000,  0.0000,  0.0000,  0.0000,  0.0000,  0.0000,  0.0000,  0.0000]])\n",
      "tensor([0.])\n",
      "tensor([0]) \n",
      "\n",
      "tensor([ 0.2600, -0.2964,  0.2600, -0.2964, -0.3322,  0.1072, -0.3322,  0.1072])\n",
      "tensor([1.])\n",
      "tensor([[ 0.3108,  0.3814, -0.4581,  0.4334,  0.1858,  0.2447,  0.1974, -0.3737],\n",
      "        [ 0.0000,  0.0000,  0.0000,  0.0000,  0.0000,  0.0000,  0.0000,  0.0000]])\n",
      "tensor([0.])\n",
      "tensor([0]) \n",
      "\n",
      "tensor([ 0.0043,  0.2644,  0.0043,  0.2644, -0.3501, -0.1719, -0.3501, -0.1719])\n",
      "tensor([1.])\n",
      "tensor([[ 0.4663,  0.3169, -0.3322,  0.1072,  0.0226, -0.0495,  0.4039,  0.0456],\n",
      "        [ 0.0000,  0.0000,  0.0000,  0.0000,  0.0000,  0.0000,  0.0000,  0.0000]])\n",
      "tensor([0.])\n",
      "tensor([0]) \n",
      "\n",
      "tensor([ 0.4482, -0.3901,  0.2538,  0.4540, -0.4016,  0.1337, -0.4016,  0.1337])\n",
      "tensor([0.])\n",
      "tensor([[-0.1896, -0.0481,  0.4982, -0.2254,  0.4895,  0.1400,  0.4482, -0.3901],\n",
      "        [ 0.0000,  0.0000,  0.0000,  0.0000,  0.0000,  0.0000,  0.0000,  0.0000]])\n",
      "tensor([0.])\n",
      "tensor([0]) \n",
      "\n",
      "tensor([ 0.1817,  0.0370,  0.1817,  0.0370, -0.1614,  0.1927, -0.2114, -0.3756])\n",
      "tensor([0.])\n",
      "tensor([[ 0.3321, -0.0016,  0.1701,  0.3577, -0.1504, -0.4733, -0.1504, -0.4733],\n",
      "        [ 0.0000,  0.0000,  0.0000,  0.0000,  0.0000,  0.0000,  0.0000,  0.0000]])\n",
      "tensor([1.])\n",
      "tensor([0]) \n",
      "\n",
      "tensor([-0.4250,  0.1375, -0.4250,  0.1375,  0.0841,  0.1955, -0.0573,  0.3602])\n",
      "tensor([0.])\n",
      "tensor([[-0.2118,  0.4452, -0.2118,  0.4452, -0.1678,  0.4308, -0.0452,  0.1728],\n",
      "        [ 0.0000,  0.0000,  0.0000,  0.0000,  0.0000,  0.0000,  0.0000,  0.0000]])\n",
      "tensor([0.])\n",
      "tensor([0]) \n",
      "\n",
      "tensor([-0.2687,  0.1939, -0.2687,  0.1939,  0.3108,  0.3814,  0.2174, -0.3995])\n",
      "tensor([0.])\n",
      "tensor([[-0.4233,  0.3643, -0.3945,  0.4608,  0.4338, -0.4683,  0.4338, -0.4683],\n",
      "        [ 0.0000,  0.0000,  0.0000,  0.0000,  0.0000,  0.0000,  0.0000,  0.0000]])\n",
      "tensor([1.])\n",
      "tensor([0]) \n",
      "\n",
      "tensor([-0.4513,  0.2405,  0.2271, -0.4211,  0.2490,  0.0692, -0.1925, -0.4421])\n",
      "tensor([1.])\n",
      "tensor([[ 0.1611, -0.4742, -0.3572,  0.1076, -0.3009, -0.4756,  0.0513, -0.1164],\n",
      "        [ 0.0000,  0.0000,  0.0000,  0.0000,  0.0000,  0.0000,  0.0000,  0.0000]])\n",
      "tensor([1.])\n",
      "tensor([0]) \n",
      "\n",
      "tensor([0.3360, 0.0752, 0.3360, 0.0752, 0.0154, 0.4891, 0.0154, 0.4891])\n",
      "tensor([1.])\n",
      "tensor([[-0.1838,  0.2519, -0.1838,  0.2519, -0.1526, -0.4351, -0.1526, -0.4351],\n",
      "        [ 0.0000,  0.0000,  0.0000,  0.0000,  0.0000,  0.0000,  0.0000,  0.0000]])\n",
      "tensor([1.])\n",
      "tensor([0]) \n",
      "\n",
      "tensor([ 0.1518,  0.2542,  0.1518,  0.2542,  0.4477, -0.0137,  0.4477, -0.0137])\n",
      "tensor([1.])\n",
      "tensor([[ 0.4900, -0.1946,  0.4900, -0.1946,  0.2663, -0.3690,  0.2663, -0.3690],\n",
      "        [ 0.0000,  0.0000,  0.0000,  0.0000,  0.0000,  0.0000,  0.0000,  0.0000]])\n",
      "tensor([1.])\n",
      "tensor([0]) \n",
      "\n",
      "tensor([ 0.2324, -0.4099,  0.1858,  0.2447,  0.0340, -0.1905, -0.2445, -0.1719])\n",
      "tensor([1.])\n",
      "tensor([[ 0.4392, -0.3847,  0.1974, -0.3737, -0.1861,  0.3480, -0.1861,  0.3480],\n",
      "        [ 0.0000,  0.0000,  0.0000,  0.0000,  0.0000,  0.0000,  0.0000,  0.0000]])\n",
      "tensor([1.])\n",
      "tensor([0]) \n",
      "\n",
      "tensor([0.1854, 0.0264, 0.1854, 0.0264, 0.1317, 0.3115, 0.1317, 0.3115])\n",
      "tensor([1.])\n",
      "tensor([[-0.3643, -0.0464, -0.3643, -0.0464,  0.2291,  0.1734, -0.2238,  0.2900],\n",
      "        [ 0.0000,  0.0000,  0.0000,  0.0000,  0.0000,  0.0000,  0.0000,  0.0000]])\n",
      "tensor([1.])\n",
      "tensor([0]) \n",
      "\n",
      "tensor([-0.1675, -0.4557, -0.3454,  0.4299,  0.3553,  0.1150,  0.3132,  0.1701])\n",
      "tensor([1.])\n",
      "tensor([[-0.1298, -0.2905, -0.1298, -0.2905,  0.2510,  0.2700, -0.4540,  0.2961],\n",
      "        [ 0.0000,  0.0000,  0.0000,  0.0000,  0.0000,  0.0000,  0.0000,  0.0000]])\n",
      "tensor([0.])\n",
      "tensor([0]) \n",
      "\n",
      "tensor([ 0.3914,  0.1127,  0.3914,  0.1127,  0.1928, -0.4379,  0.4392, -0.3847])\n",
      "tensor([0.])\n",
      "tensor([[-0.2592,  0.4128, -0.2592,  0.4128, -0.3586, -0.1502,  0.2291,  0.1734],\n",
      "        [ 0.0000,  0.0000,  0.0000,  0.0000,  0.0000,  0.0000,  0.0000,  0.0000]])\n",
      "tensor([0.])\n",
      "tensor([0]) \n",
      "\n",
      "tensor([ 0.1463, -0.1911,  0.1463, -0.1911, -0.1471, -0.4495,  0.2211,  0.4684])\n",
      "tensor([0.])\n",
      "tensor([[ 0.4496, -0.3006, -0.0326, -0.3724, -0.3536, -0.3027, -0.3536, -0.3027],\n",
      "        [ 0.0000,  0.0000,  0.0000,  0.0000,  0.0000,  0.0000,  0.0000,  0.0000]])\n",
      "tensor([1.])\n",
      "tensor([0]) \n",
      "\n",
      "tensor([-0.3860,  0.0100, -0.3860,  0.0100, -0.0423, -0.2066, -0.0423, -0.2066])\n",
      "tensor([1.])\n",
      "tensor([[ 2.8264e-01, -1.5280e-01,  2.0367e-01,  2.6235e-04,  4.5056e-01,\n",
      "          3.5545e-01, -4.1989e-01, -3.1418e-01],\n",
      "        [ 0.0000e+00,  0.0000e+00,  0.0000e+00,  0.0000e+00,  0.0000e+00,\n",
      "          0.0000e+00,  0.0000e+00,  0.0000e+00]])\n",
      "tensor([0.])\n",
      "tensor([0]) \n",
      "\n",
      "tensor([ 0.2832,  0.3670,  0.3351, -0.1322,  0.4663,  0.3169,  0.4663,  0.3169])\n",
      "tensor([0.])\n",
      "tensor([[ 0.0393,  0.2299,  0.0393,  0.2299, -0.1382, -0.1374, -0.1485, -0.4576],\n",
      "        [ 0.0000,  0.0000,  0.0000,  0.0000,  0.0000,  0.0000,  0.0000,  0.0000]])\n",
      "tensor([1.])\n",
      "tensor([0]) \n",
      "\n",
      "tensor([-0.1861,  0.3480, -0.1861,  0.3480, -0.4208, -0.2441,  0.0180, -0.4498])\n",
      "tensor([0.])\n",
      "tensor([[-0.3904,  0.1274, -0.3904,  0.1274, -0.4087,  0.4619, -0.4087,  0.4619],\n",
      "        [ 0.0000,  0.0000,  0.0000,  0.0000,  0.0000,  0.0000,  0.0000,  0.0000]])\n",
      "tensor([0.])\n",
      "tensor([0]) \n",
      "\n",
      "tensor([-0.3934, -0.0749,  0.2166,  0.0089, -0.1060,  0.0644, -0.1060,  0.0644])\n",
      "tensor([0.])\n",
      "tensor([[ 0.0902,  0.3697,  0.0902,  0.3697, -0.2523, -0.0622, -0.2523, -0.0622],\n",
      "        [ 0.0000,  0.0000,  0.0000,  0.0000,  0.0000,  0.0000,  0.0000,  0.0000]])\n",
      "tensor([1.])\n",
      "tensor([0]) \n",
      "\n",
      "tensor([-0.2114, -0.3756, -0.0062, -0.4196,  0.3461, -0.4077, -0.3789,  0.4838])\n",
      "tensor([1.])\n",
      "tensor([[-0.1257, -0.3474, -0.0842, -0.2932, -0.0452, -0.1855, -0.0452, -0.1855],\n",
      "        [ 0.0000,  0.0000,  0.0000,  0.0000,  0.0000,  0.0000,  0.0000,  0.0000]])\n",
      "tensor([1.])\n",
      "tensor([0]) \n",
      "\n",
      "tensor([ 0.3098,  0.1518,  0.3098,  0.1518, -0.2517,  0.3653, -0.2517,  0.3653])\n",
      "tensor([1.])\n",
      "tensor([[ 0.2533, -0.3089, -0.3413, -0.1271, -0.0808,  0.0837, -0.0808,  0.0837],\n",
      "        [ 0.0000,  0.0000,  0.0000,  0.0000,  0.0000,  0.0000,  0.0000,  0.0000]])\n",
      "tensor([0.])\n",
      "tensor([0]) \n",
      "\n",
      "tensor([-0.3789,  0.4838, -0.3789,  0.4838,  0.3809,  0.3793,  0.3809,  0.3793])\n",
      "tensor([1.])\n",
      "tensor([[-0.2751,  0.4729,  0.2612, -0.1209, -0.4152,  0.0155,  0.0393,  0.2299],\n",
      "        [ 0.0000,  0.0000,  0.0000,  0.0000,  0.0000,  0.0000,  0.0000,  0.0000]])\n",
      "tensor([0.])\n",
      "tensor([0]) \n",
      "\n",
      "tensor([-0.4750,  0.3842, -0.0569,  0.3613,  0.1634,  0.4389,  0.1634,  0.4389])\n",
      "tensor([0.])\n",
      "tensor([[ 0.0558,  0.2184, -0.3366, -0.1205,  0.1062,  0.0114,  0.1062,  0.0114],\n",
      "        [ 0.0000,  0.0000,  0.0000,  0.0000,  0.0000,  0.0000,  0.0000,  0.0000]])\n",
      "tensor([0.])\n",
      "tensor([0]) \n",
      "\n",
      "tensor([-0.2049,  0.2475, -0.2103,  0.4567,  0.2271, -0.4211, -0.2095, -0.2124])\n",
      "tensor([1.])\n",
      "tensor([[ 0.3075, -0.3096,  0.4883,  0.0542, -0.1413, -0.1019,  0.4711,  0.3608],\n",
      "        [ 0.0000,  0.0000,  0.0000,  0.0000,  0.0000,  0.0000,  0.0000,  0.0000]])\n",
      "tensor([1.])\n",
      "tensor([0]) \n",
      "\n",
      "tensor([-0.2349,  0.3724, -0.2349,  0.3724, -0.4073, -0.4033, -0.4073, -0.4033])\n",
      "tensor([1.])\n",
      "tensor([[ 0.1642, -0.1698,  0.2447,  0.2052, -0.1544,  0.0876, -0.1544,  0.0876],\n",
      "        [ 0.0000,  0.0000,  0.0000,  0.0000,  0.0000,  0.0000,  0.0000,  0.0000]])\n",
      "tensor([0.])\n",
      "tensor([0]) \n",
      "\n",
      "tensor([-0.0764, -0.2233,  0.4355,  0.0710,  0.3247, -0.0182, -0.4630,  0.0023])\n",
      "tensor([1.])\n",
      "tensor([[-0.0976, -0.2043, -0.0976, -0.2043, -0.1382, -0.1374, -0.3790, -0.2753],\n",
      "        [ 0.0000,  0.0000,  0.0000,  0.0000,  0.0000,  0.0000,  0.0000,  0.0000]])\n",
      "tensor([0.])\n",
      "tensor([0]) \n",
      "\n",
      "tensor([-0.2685,  0.2070,  0.3294,  0.1185, -0.0691,  0.3825,  0.3922, -0.4131])\n",
      "tensor([1.])\n",
      "tensor([[ 0.3429,  0.2760,  0.2961,  0.3607,  0.3731, -0.4181,  0.1024,  0.2602],\n",
      "        [ 0.0000,  0.0000,  0.0000,  0.0000,  0.0000,  0.0000,  0.0000,  0.0000]])\n",
      "tensor([1.])\n",
      "tensor([0]) \n",
      "\n",
      "tensor([ 0.4291,  0.3295,  0.4291,  0.3295, -0.0115,  0.4053, -0.0115,  0.4053])\n",
      "tensor([1.])\n",
      "tensor([[-0.3375,  0.4906,  0.2892,  0.1473, -0.1972, -0.2253, -0.1978, -0.0917],\n",
      "        [ 0.0000,  0.0000,  0.0000,  0.0000,  0.0000,  0.0000,  0.0000,  0.0000]])\n",
      "tensor([0.])\n",
      "tensor([0]) \n",
      "\n",
      "tensor([-0.4540,  0.2961, -0.4540,  0.2961, -0.1764, -0.2520,  0.0504,  0.4291])\n",
      "tensor([0.])\n",
      "tensor([[ 0.2423, -0.3455, -0.0254,  0.4671,  0.2095, -0.0823,  0.2095, -0.0823],\n",
      "        [ 0.0000,  0.0000,  0.0000,  0.0000,  0.0000,  0.0000,  0.0000,  0.0000]])\n",
      "tensor([1.])\n",
      "tensor([0]) \n",
      "\n",
      "tensor([-0.2238,  0.2900, -0.2238,  0.2900, -0.4973, -0.0495, -0.4973, -0.0495])\n",
      "tensor([1.])\n",
      "tensor([[ 0.2479, -0.3855,  0.2479, -0.3855,  0.3959, -0.0503,  0.4923,  0.4129],\n",
      "        [ 0.0000,  0.0000,  0.0000,  0.0000,  0.0000,  0.0000,  0.0000,  0.0000]])\n",
      "tensor([1.])\n",
      "tensor([0]) \n",
      "\n",
      "tensor([-0.0320, -0.3072, -0.0320, -0.3072, -0.2928, -0.2840, -0.2928, -0.2840])\n",
      "tensor([1.])\n",
      "tensor([[ 0.1389, -0.0757,  0.2073, -0.0645, -0.3624, -0.2131, -0.3624, -0.2131],\n",
      "        [ 0.0000,  0.0000,  0.0000,  0.0000,  0.0000,  0.0000,  0.0000,  0.0000]])\n",
      "tensor([0.])\n",
      "tensor([0]) \n",
      "\n",
      "tensor([ 0.2612, -0.1209,  0.0516,  0.1119, -0.3789,  0.4838, -0.3789,  0.4838])\n",
      "tensor([0.])\n",
      "tensor([[ 0.3136,  0.0501,  0.3136,  0.0501, -0.3927,  0.4830, -0.3927,  0.4830],\n",
      "        [ 0.0000,  0.0000,  0.0000,  0.0000,  0.0000,  0.0000,  0.0000,  0.0000]])\n",
      "tensor([1.])\n",
      "tensor([0]) \n",
      "\n",
      "tensor([-0.1809, -0.0335,  0.2315, -0.1811,  0.4427,  0.0005,  0.3553,  0.1150])\n",
      "tensor([1.])\n",
      "tensor([[-0.3657, -0.3846, -0.3657, -0.3846, -0.4836,  0.0154,  0.2012, -0.2237],\n",
      "        [ 0.0000,  0.0000,  0.0000,  0.0000,  0.0000,  0.0000,  0.0000,  0.0000]])\n",
      "tensor([0.])\n",
      "tensor([0]) \n",
      "\n",
      "tensor([-0.0958,  0.0146, -0.2255,  0.0659, -0.0533,  0.2038, -0.0533,  0.2038])\n",
      "tensor([0.])\n",
      "tensor([[-0.2445, -0.1719,  0.0359,  0.2622, -0.1978, -0.0917, -0.1978, -0.0917],\n",
      "        [ 0.0000,  0.0000,  0.0000,  0.0000,  0.0000,  0.0000,  0.0000,  0.0000]])\n",
      "tensor([0.])\n",
      "tensor([0]) \n",
      "\n"
     ]
    }
   ],
   "source": [
    "for i in range(128,128+64):\n",
    "    print(X_base[i])\n",
    "    print(y_base[i])\n",
    "    print(X_sources[i])\n",
    "    print(y_II[i])\n",
    "    print(interventions[i], \"\\n\")"
   ]
  },
  {
   "cell_type": "markdown",
   "metadata": {},
   "source": [
    "This dataset has the following components:\n",
    "\n",
    "* `X_base_train`: a regular set of train examples\n",
    "* `y_base_train`: a regular set of train labels\n",
    "* `X_sources_train`: a list additional train sets (here, a singleton list of them) for counterfactuals\n",
    "* `y_IIT_train`: a list of labels for the examples in `X_sources_train`.\n",
    "* `interventions`: a list of intervention sites (here, all `0` corresponding to our key for \"V1\")"
   ]
  },
  {
   "cell_type": "markdown",
   "metadata": {},
   "source": [
    "Our model is a deep classifier like the one we used above, but now one that can do IIT:"
   ]
  },
  {
   "cell_type": "markdown",
   "metadata": {},
   "source": [
    "The model is fit using our IIT dataset:"
   ]
  },
  {
   "cell_type": "code",
   "execution_count": 48,
   "metadata": {},
   "outputs": [],
   "source": [
    "base_preds = LIM_trainer.predict(X_base,device=\"cpu\")\n",
    "\n",
    "II_preds = LIM_trainer.iit_predict(X_base,\n",
    "                                    X_sources,\n",
    "                                    interventions,\n",
    "                                    id_to_coords,\n",
    "                                    device=\"cpu\")"
   ]
  },
  {
   "cell_type": "code",
   "execution_count": 49,
   "metadata": {},
   "outputs": [
    {
     "name": "stdout",
     "output_type": "stream",
     "text": [
      "              precision    recall  f1-score   support\n",
      "\n",
      "         0.0       0.97      0.97      0.97     49998\n",
      "         1.0       0.97      0.97      0.97     50034\n",
      "\n",
      "    accuracy                           0.97    100032\n",
      "   macro avg       0.97      0.97      0.97    100032\n",
      "weighted avg       0.97      0.97      0.97    100032\n",
      "\n"
     ]
    }
   ],
   "source": [
    "print(classification_report(y_base, base_preds.cpu()))"
   ]
  },
  {
   "cell_type": "code",
   "execution_count": 50,
   "metadata": {
    "scrolled": true
   },
   "outputs": [
    {
     "name": "stdout",
     "output_type": "stream",
     "text": [
      "              precision    recall  f1-score   support\n",
      "\n",
      "         0.0       0.60      0.41      0.49     50030\n",
      "         1.0       0.55      0.72      0.63     50002\n",
      "\n",
      "    accuracy                           0.57    100032\n",
      "   macro avg       0.57      0.57      0.56    100032\n",
      "weighted avg       0.57      0.57      0.56    100032\n",
      "\n"
     ]
    }
   ],
   "source": [
    "print(classification_report(y_II, II_preds.cpu()))"
   ]
  },
  {
   "cell_type": "markdown",
   "metadata": {},
   "source": [
    "# Interchange Intervention Training (IIT)\n",
    "\n",
    "Interchange Intervention Training (IIT) is a method for training a neural network to conform to the causal structure of a high-level algorithm. Conceptually, it is a direct extension of the causal abstraction analysis we just performed, except instead of **evaluating** whether the neural network and algorithm produce the same outputs under aligned interchange interventions, we are now **training** the neural network to produce the output of the algorithm under aligned interchange interventions.\n",
    "\n",
    "IIT was developed by [Geiger\\*, Wu\\*, Lu\\*, Rozner, Kreiss, Icard, Goodman, and Potts (2021)](https://arxiv.org/abs/2112.00826), and it is used for model distillation [ Wu\\*, Geiger\\*, Rozner, Kreiss, Lu, Icard, Goodman, and Potts (2022)](https://arxiv.org/abs/2112.02505)."
   ]
  },
  {
   "cell_type": "code",
   "execution_count": 51,
   "metadata": {
    "scrolled": true
   },
   "outputs": [
    {
     "name": "stderr",
     "output_type": "stream",
     "text": [
      "Finished epoch 10 of 10; error is 523.0388405621052"
     ]
    }
   ],
   "source": [
    "_ = LIM_trainer.fit(\n",
    "    X_base, \n",
    "    y_base.long(), \n",
    "    iit_data=(X_sources,\n",
    "             y_II.long(),\n",
    "             interventions),\n",
    "    intervention_ids_to_coords=id_to_coords)"
   ]
  },
  {
   "cell_type": "code",
   "execution_count": 52,
   "metadata": {},
   "outputs": [],
   "source": [
    "base_preds = LIM_trainer.predict(X_base,device=\"cpu\")\n",
    "\n",
    "II_preds = LIM_trainer.iit_predict(X_base,\n",
    "                                    X_sources,\n",
    "                                    interventions,\n",
    "                                    id_to_coords,\n",
    "                                    device=\"cpu\")"
   ]
  },
  {
   "cell_type": "code",
   "execution_count": 53,
   "metadata": {},
   "outputs": [
    {
     "name": "stdout",
     "output_type": "stream",
     "text": [
      "              precision    recall  f1-score   support\n",
      "\n",
      "         0.0       0.95      0.96      0.95     49998\n",
      "         1.0       0.96      0.95      0.95     50034\n",
      "\n",
      "    accuracy                           0.95    100032\n",
      "   macro avg       0.95      0.95      0.95    100032\n",
      "weighted avg       0.95      0.95      0.95    100032\n",
      "\n"
     ]
    }
   ],
   "source": [
    "print(classification_report(y_base, base_preds.cpu()))"
   ]
  },
  {
   "cell_type": "code",
   "execution_count": 54,
   "metadata": {
    "scrolled": true
   },
   "outputs": [
    {
     "name": "stdout",
     "output_type": "stream",
     "text": [
      "              precision    recall  f1-score   support\n",
      "\n",
      "         0.0       0.95      0.94      0.95     50030\n",
      "         1.0       0.94      0.95      0.95     50002\n",
      "\n",
      "    accuracy                           0.95    100032\n",
      "   macro avg       0.95      0.95      0.95    100032\n",
      "weighted avg       0.95      0.95      0.95    100032\n",
      "\n"
     ]
    }
   ],
   "source": [
    "print(classification_report(y_II, II_preds.cpu()))"
   ]
  },
  {
   "cell_type": "markdown",
   "metadata": {},
   "source": [
    "To evaluate this model, we create a fresh IIT equality dataset consisting of 100 examples:"
   ]
  },
  {
   "cell_type": "code",
   "execution_count": 55,
   "metadata": {},
   "outputs": [
    {
     "name": "stdout",
     "output_type": "stream",
     "text": [
      "torch.Size([10048, 8])\n",
      "torch.Size([10048, 1])\n",
      "torch.Size([10048, 2, 8])\n",
      "torch.Size([10048, 1])\n",
      "torch.Size([10048, 1])\n"
     ]
    }
   ],
   "source": [
    "data_size = 10000\n",
    "\n",
    "data = test_equality_model.generate_counterfactual_dataset(10000,\n",
    "                                                           intervention_id,\n",
    "                                                           64,\n",
    "                                                           equality_model.sample_input_tree_balanced)\n",
    "X_base_test, y_base_test, X_sources_test, y_II_test, interventions_test = data\n",
    "\n",
    "print(X_base_test.shape)\n",
    "print(y_base_test.shape)\n",
    "print(X_sources_test.shape)\n",
    "print(y_II_test.shape)\n",
    "print(interventions_test.shape)"
   ]
  },
  {
   "cell_type": "code",
   "execution_count": 56,
   "metadata": {},
   "outputs": [],
   "source": [
    "base_preds_test = LIM_trainer.predict(X_base_test,device=\"cpu\")\n",
    "\n",
    "II_preds_test = LIM_trainer.iit_predict(X_base_test,\n",
    "                                    X_sources_test,\n",
    "                                    interventions_test,\n",
    "                                    id_to_coords,\n",
    "                                    device=\"cpu\")"
   ]
  },
  {
   "cell_type": "markdown",
   "metadata": {},
   "source": [
    "This IIT-trained model does well in terms of a standard behavioral tests:"
   ]
  },
  {
   "cell_type": "code",
   "execution_count": 57,
   "metadata": {},
   "outputs": [
    {
     "name": "stdout",
     "output_type": "stream",
     "text": [
      "              precision    recall  f1-score   support\n",
      "\n",
      "         0.0       0.96      0.96      0.96      5028\n",
      "         1.0       0.96      0.96      0.96      5020\n",
      "\n",
      "    accuracy                           0.96     10048\n",
      "   macro avg       0.96      0.96      0.96     10048\n",
      "weighted avg       0.96      0.96      0.96     10048\n",
      "\n"
     ]
    }
   ],
   "source": [
    "print(classification_report(y_base_test, base_preds_test.cpu()))"
   ]
  },
  {
   "cell_type": "markdown",
   "metadata": {},
   "source": [
    "Importantly, it _also_ performs perfectly on counterfactual examples – certainly a marked improvement over the model we studied above that did no IIT:"
   ]
  },
  {
   "cell_type": "code",
   "execution_count": 58,
   "metadata": {},
   "outputs": [
    {
     "name": "stdout",
     "output_type": "stream",
     "text": [
      "              precision    recall  f1-score   support\n",
      "\n",
      "         0.0       0.95      0.94      0.95      4935\n",
      "         1.0       0.94      0.95      0.95      5113\n",
      "\n",
      "    accuracy                           0.95     10048\n",
      "   macro avg       0.95      0.95      0.95     10048\n",
      "weighted avg       0.95      0.95      0.95     10048\n",
      "\n"
     ]
    }
   ],
   "source": [
    "print(classification_report(y_II_test, II_preds_test.cpu()))"
   ]
  },
  {
   "cell_type": "code",
   "execution_count": null,
   "metadata": {},
   "outputs": [],
   "source": []
  }
 ],
 "metadata": {
  "interpreter": {
   "hash": "933b0a94e0d88ac80a17cb26ca3d8d36930c12815b02a2885c1925c2b1ae3c33"
  },
  "kernelspec": {
   "display_name": "Python 3 (ipykernel)",
   "language": "python",
   "name": "python3"
  },
  "language_info": {
   "codemirror_mode": {
    "name": "ipython",
    "version": 3
   },
   "file_extension": ".py",
   "mimetype": "text/x-python",
   "name": "python",
   "nbconvert_exporter": "python",
   "pygments_lexer": "ipython3",
   "version": "3.9.6"
  }
 },
 "nbformat": 4,
 "nbformat_minor": 4
}
