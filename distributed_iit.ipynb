{
 "cells": [
  {
   "cell_type": "code",
   "execution_count": 1,
   "metadata": {},
   "outputs": [
    {
     "name": "stderr",
     "output_type": "stream",
     "text": [
      "c:\\Users\\amirz\\.conda\\envs\\interchange\\lib\\site-packages\\tqdm\\auto.py:22: TqdmWarning: IProgress not found. Please update jupyter and ipywidgets. See https://ipywidgets.readthedocs.io/en/stable/user_install.html\n",
      "  from .autonotebook import tqdm as notebook_tqdm\n"
     ]
    }
   ],
   "source": [
    "import torch\n",
    "import random\n",
    "import copy\n",
    "import itertools\n",
    "import numpy as np\n",
    "import utils\n",
    "from trainer import LIMTrainer\n",
    "\n",
    "from sklearn.metrics import classification_report\n",
    "from LIM_deep_neural_classifier import LIMDeepNeuralClassifier\n",
    "import dataset_equality"
   ]
  },
  {
   "cell_type": "code",
   "execution_count": 2,
   "metadata": {},
   "outputs": [],
   "source": [
    "utils.fix_random_seeds()\n",
    "debug = True\n",
    "\n",
    "def print_weights(LIM, n, verbose=False):\n",
    "    for i, layer in enumerate(LIM.labeled_layers):\n",
    "        print(f\"\\n\\n\\n\\n -----      Layer {i}      -----\")\n",
    "        for name, param in layer[\"model\"].named_parameters():\n",
    "            print(name,param.data.shape, param.requires_grad)\n",
    "            if verbose:\n",
    "                print(param.data)\n",
    "        if \"disentangle\" in layer:\n",
    "            w = layer[\"disentangle\"].weight\n",
    "            print(w.requires_grad)\n",
    "            if verbose:\n",
    "                print(w.data)\n",
    "            print(torch.dist(w.T @ w.data, torch.eye(16).to(\"cuda\")))"
   ]
  },
  {
   "cell_type": "markdown",
   "metadata": {},
   "source": [
    "# Training a Feed-Forward Neural Network with no IIT"
   ]
  },
  {
   "cell_type": "code",
   "execution_count": 3,
   "metadata": {},
   "outputs": [],
   "source": [
    "embedding_dim = 4\n",
    "V1 = 0\n",
    "V2 = 1\n",
    "both = 2\n",
    "control = 3\n",
    "\n",
    "id_to_coords = {\n",
    "    V1: [{\"layer\": 1, \"start\": 0, \"end\": 2*embedding_dim}],\n",
    "    V2: [{\"layer\": 1, \"start\":  2*embedding_dim, \"end\": 4*embedding_dim}],\n",
    "    both:[{\"layer\": 1, \"start\": 0, \"end\": 2*embedding_dim},{\"layer\": 0, \"start\":  2*embedding_dim, \"end\": 4*embedding_dim}],\n",
    "    control:[{\"layer\": 0, \"start\": 0, \"end\": 2*embedding_dim}]\n",
    "}"
   ]
  },
  {
   "cell_type": "code",
   "execution_count": 4,
   "metadata": {},
   "outputs": [],
   "source": [
    "if debug:\n",
    "    data_size = 64\n",
    "else:\n",
    "    data_size = 640000\n",
    "\n",
    "data_size = 640\n",
    "\n",
    "iit_equality_dataset = \\\n",
    "    dataset_equality.get_IIT_equality_dataset_all(embedding_dim, \n",
    "                                                    data_size)\n",
    "\n",
    "X_base_train, y_base_train = iit_equality_dataset[0:2]\n",
    "iit_data = tuple(iit_equality_dataset[2:])"
   ]
  },
  {
   "cell_type": "code",
   "execution_count": null,
   "metadata": {},
   "outputs": [],
   "source": [
    "LIM = LIMDeepNeuralClassifier(\n",
    "    hidden_dim=embedding_dim*4, \n",
    "    hidden_activation=torch.nn.ReLU(), \n",
    "    num_layers=2,\n",
    "    input_dim=embedding_dim*4,\n",
    "    n_classes=2,\n",
    "    device=\"cuda:0\"\n",
    ")"
   ]
  },
  {
   "cell_type": "code",
   "execution_count": 8,
   "metadata": {},
   "outputs": [
    {
     "data": {
      "text/plain": [
       "device(type='cuda', index=0)"
      ]
     },
     "execution_count": 8,
     "metadata": {},
     "output_type": "execute_result"
    }
   ],
   "source": [
    "LIM.device"
   ]
  },
  {
   "cell_type": "code",
   "execution_count": null,
   "metadata": {},
   "outputs": [],
   "source": []
  },
  {
   "cell_type": "code",
   "execution_count": 18,
   "metadata": {},
   "outputs": [],
   "source": [
    "LIM_trainer = LIMTrainer(\n",
    "    LIM,\n",
    "    warm_start=True,\n",
    "    max_iter=10,\n",
    "    batch_size=64,\n",
    "    n_iter_no_change=10000,\n",
    "    shuffle_train=False,\n",
    "    eta=0.001)"
   ]
  },
  {
   "cell_type": "code",
   "execution_count": 19,
   "metadata": {},
   "outputs": [
    {
     "name": "stdout",
     "output_type": "stream",
     "text": [
      "\n",
      "\n",
      "\n",
      "\n",
      " -----      Layer 0      -----\n",
      "linear.weight torch.Size([16, 16]) True\n",
      "linear.bias torch.Size([16]) True\n",
      "False\n",
      "tensor(1.0292e-06, device='cuda:0')\n",
      "\n",
      "\n",
      "\n",
      "\n",
      " -----      Layer 1      -----\n",
      "linear.weight torch.Size([16, 16]) True\n",
      "linear.bias torch.Size([16]) True\n",
      "False\n",
      "tensor(1.3388e-06, device='cuda:0')\n",
      "\n",
      "\n",
      "\n",
      "\n",
      " -----      Layer 2      -----\n",
      "weight torch.Size([2, 16]) True\n",
      "bias torch.Size([2]) True\n"
     ]
    }
   ],
   "source": [
    "print_weights(LIM,embedding_dim*4)"
   ]
  },
  {
   "cell_type": "code",
   "execution_count": 31,
   "metadata": {},
   "outputs": [
    {
     "name": "stderr",
     "output_type": "stream",
     "text": [
      "Finished epoch 10 of 10; error is 31.468547663436084"
     ]
    }
   ],
   "source": [
    "_ = LIM_trainer.fit(\n",
    "    X_base_train, \n",
    "    y_base_train, \n",
    "    iit_data=None,\n",
    "    intervention_ids_to_coords=id_to_coords)"
   ]
  },
  {
   "cell_type": "code",
   "execution_count": 32,
   "metadata": {},
   "outputs": [
    {
     "name": "stdout",
     "output_type": "stream",
     "text": [
      "              precision    recall  f1-score   support\n",
      "\n",
      "           0       1.00      1.00      1.00    959839\n",
      "           1       1.00      1.00      1.00    960161\n",
      "\n",
      "    accuracy                           1.00   1920000\n",
      "   macro avg       1.00      1.00      1.00   1920000\n",
      "weighted avg       1.00      1.00      1.00   1920000\n",
      "\n"
     ]
    }
   ],
   "source": [
    "base_preds = LIM_trainer.predict(X_base_train, device=\"cpu\")\n",
    "print(classification_report(y_base_train, base_preds))"
   ]
  },
  {
   "cell_type": "code",
   "execution_count": 33,
   "metadata": {},
   "outputs": [
    {
     "name": "stdout",
     "output_type": "stream",
     "text": [
      "              precision    recall  f1-score   support\n",
      "\n",
      "           0       0.54      0.41      0.46    960316\n",
      "           1       0.52      0.65      0.58    959684\n",
      "\n",
      "    accuracy                           0.53   1920000\n",
      "   macro avg       0.53      0.53      0.52   1920000\n",
      "weighted avg       0.53      0.53      0.52   1920000\n",
      "\n"
     ]
    }
   ],
   "source": [
    "IIT_preds = LIM_trainer.iit_predict(X_base_train, iit_data[0], iit_data[2] , id_to_coords, device=\"cpu\")\n",
    "print(classification_report(iit_data[1], IIT_preds))"
   ]
  },
  {
   "cell_type": "code",
   "execution_count": 34,
   "metadata": {},
   "outputs": [],
   "source": [
    "datasetIIT = dataset_equality.get_IIT_equality_dataset_both(embedding_dim, 1000)\n",
    "\n",
    "base_test, y_base_test, sources_test, y_IIT_test, intervention_ids_test = datasetIIT\n",
    "\n",
    "base_preds = LIM_trainer.predict(base_test, device=\"cpu\")\n",
    "\n",
    "IIT_preds = LIM_trainer.iit_predict(base_test, sources_test, intervention_ids_test, id_to_coords, device=\"cpu\")"
   ]
  },
  {
   "cell_type": "code",
   "execution_count": 35,
   "metadata": {},
   "outputs": [
    {
     "name": "stdout",
     "output_type": "stream",
     "text": [
      "              precision    recall  f1-score   support\n",
      "\n",
      "           0       1.00      1.00      1.00       518\n",
      "           1       1.00      1.00      1.00       482\n",
      "\n",
      "    accuracy                           1.00      1000\n",
      "   macro avg       1.00      1.00      1.00      1000\n",
      "weighted avg       1.00      1.00      1.00      1000\n",
      "\n"
     ]
    }
   ],
   "source": [
    "print(classification_report(y_base_test, base_preds))"
   ]
  },
  {
   "cell_type": "code",
   "execution_count": 36,
   "metadata": {},
   "outputs": [
    {
     "name": "stdout",
     "output_type": "stream",
     "text": [
      "              precision    recall  f1-score   support\n",
      "\n",
      "           0       0.49      0.41      0.44       496\n",
      "           1       0.50      0.58      0.53       504\n",
      "\n",
      "    accuracy                           0.49      1000\n",
      "   macro avg       0.49      0.49      0.49      1000\n",
      "weighted avg       0.49      0.49      0.49      1000\n",
      "\n"
     ]
    }
   ],
   "source": [
    "print(classification_report(y_IIT_test, IIT_preds))"
   ]
  },
  {
   "cell_type": "markdown",
   "metadata": {},
   "source": [
    "# Set Analysis Mode to True and Verify Nothing Changes"
   ]
  },
  {
   "cell_type": "code",
   "execution_count": 37,
   "metadata": {},
   "outputs": [
    {
     "name": "stdout",
     "output_type": "stream",
     "text": [
      "\n",
      "\n",
      "\n",
      "\n",
      " -----      Layer 0      -----\n",
      "linear.weight torch.Size([16, 16]) False\n",
      "linear.bias torch.Size([16]) False\n",
      "True\n",
      "tensor(1.2184e-06, device='cuda:0', grad_fn=<DistBackward0>)\n",
      "\n",
      "\n",
      "\n",
      "\n",
      " -----      Layer 1      -----\n",
      "linear.weight torch.Size([16, 16]) False\n",
      "linear.bias torch.Size([16]) False\n",
      "True\n",
      "tensor(1.3366e-06, device='cuda:0', grad_fn=<DistBackward0>)\n",
      "\n",
      "\n",
      "\n",
      "\n",
      " -----      Layer 2      -----\n",
      "weight torch.Size([2, 16]) False\n",
      "bias torch.Size([2]) False\n"
     ]
    }
   ],
   "source": [
    "LIM_trainer.model.set_analysis_mode(True)\n",
    "print_weights(LIM,embedding_dim*4)"
   ]
  },
  {
   "cell_type": "code",
   "execution_count": 38,
   "metadata": {},
   "outputs": [
    {
     "name": "stdout",
     "output_type": "stream",
     "text": [
      "              precision    recall  f1-score   support\n",
      "\n",
      "           0       1.00      1.00      1.00       518\n",
      "           1       1.00      1.00      1.00       482\n",
      "\n",
      "    accuracy                           1.00      1000\n",
      "   macro avg       1.00      1.00      1.00      1000\n",
      "weighted avg       1.00      1.00      1.00      1000\n",
      "\n"
     ]
    }
   ],
   "source": [
    "base_preds = LIM_trainer.predict(base_test, device=\"cpu\")\n",
    "\n",
    "IIT_preds = LIM_trainer.iit_predict(base_test, sources_test, intervention_ids_test, id_to_coords, device=\"cpu\")\n",
    "print(classification_report(y_base_test, base_preds))"
   ]
  },
  {
   "cell_type": "code",
   "execution_count": 39,
   "metadata": {},
   "outputs": [
    {
     "name": "stdout",
     "output_type": "stream",
     "text": [
      "              precision    recall  f1-score   support\n",
      "\n",
      "           0       0.50      0.40      0.44       496\n",
      "           1       0.51      0.61      0.55       504\n",
      "\n",
      "    accuracy                           0.50      1000\n",
      "   macro avg       0.50      0.50      0.50      1000\n",
      "weighted avg       0.50      0.50      0.50      1000\n",
      "\n"
     ]
    }
   ],
   "source": [
    "print(classification_report(y_IIT_test, IIT_preds))"
   ]
  },
  {
   "cell_type": "code",
   "execution_count": 40,
   "metadata": {},
   "outputs": [
    {
     "name": "stdout",
     "output_type": "stream",
     "text": [
      "odict_keys(['model_layers.0.linear.weight', 'model_layers.0.linear.bias', 'model_layers.1.linear.weight', 'model_layers.1.linear.bias', 'model_layers.2.weight', 'model_layers.2.bias', 'analysis_model.0.linear.weight', 'analysis_model.0.linear.bias', 'analysis_model.1.parametrizations.weight.original', 'analysis_model.1.parametrizations.weight.0.base', 'analysis_model.2.lin_layer.parametrizations.weight.original', 'analysis_model.2.lin_layer.parametrizations.weight.0.base', 'analysis_model.3.linear.weight', 'analysis_model.3.linear.bias', 'analysis_model.4.parametrizations.weight.original', 'analysis_model.4.parametrizations.weight.0.base', 'analysis_model.5.lin_layer.parametrizations.weight.original', 'analysis_model.5.lin_layer.parametrizations.weight.0.base', 'analysis_model.6.weight', 'analysis_model.6.bias', 'normal_model.0.linear.weight', 'normal_model.0.linear.bias', 'normal_model.1.linear.weight', 'normal_model.1.linear.bias', 'normal_model.2.weight', 'normal_model.2.bias'])\n"
     ]
    },
    {
     "data": {
      "text/plain": [
       "<All keys matched successfully>"
      ]
     },
     "execution_count": 40,
     "metadata": {},
     "output_type": "execute_result"
    }
   ],
   "source": [
    "PATH = \"basemodel\"\n",
    "print(LIM_trainer.model.state_dict().keys())\n",
    "torch.save(LIM_trainer.model.state_dict(), PATH)\n",
    "LIM_trainer.model.load_state_dict(torch.load(PATH))\n"
   ]
  },
  {
   "cell_type": "markdown",
   "metadata": {},
   "source": [
    "# Train a Basis Agnostic Alignment"
   ]
  },
  {
   "cell_type": "code",
   "execution_count": 41,
   "metadata": {},
   "outputs": [
    {
     "name": "stderr",
     "output_type": "stream",
     "text": [
      "Finished epoch 10 of 10; error is 268353.20465135574"
     ]
    }
   ],
   "source": [
    "id_to_coords = {\n",
    "    V1: [{\"layer\": 1, \"start\": 0, \"end\": 2*embedding_dim}],\n",
    "    V2: [{\"layer\": 1, \"start\":  2*embedding_dim, \"end\": 4*embedding_dim}],\n",
    "    both:[{\"layer\": 1, \"start\": 0, \"end\": 2*embedding_dim},{\"layer\": 0, \"start\":  2*embedding_dim, \"end\": 4*embedding_dim}],\n",
    "    control:[{\"layer\": 1, \"start\": 0, \"end\": 2*embedding_dim}]\n",
    "}\n",
    "_ = LIM_trainer.fit(\n",
    "    X_base_train, \n",
    "    y_base_train, \n",
    "    iit_data=iit_data,\n",
    "    intervention_ids_to_coords=id_to_coords)"
   ]
  },
  {
   "cell_type": "code",
   "execution_count": 42,
   "metadata": {},
   "outputs": [
    {
     "name": "stdout",
     "output_type": "stream",
     "text": [
      "\n",
      "\n",
      "\n",
      "\n",
      " -----      Layer 0      -----\n",
      "linear.weight torch.Size([16, 16]) False\n",
      "linear.bias torch.Size([16]) False\n",
      "True\n",
      "tensor(2.4018e-06, device='cuda:0', grad_fn=<DistBackward0>)\n",
      "\n",
      "\n",
      "\n",
      "\n",
      " -----      Layer 1      -----\n",
      "linear.weight torch.Size([16, 16]) False\n",
      "linear.bias torch.Size([16]) False\n",
      "True\n",
      "tensor(2.9071e-06, device='cuda:0', grad_fn=<DistBackward0>)\n",
      "\n",
      "\n",
      "\n",
      "\n",
      " -----      Layer 2      -----\n",
      "weight torch.Size([2, 16]) False\n",
      "bias torch.Size([2]) False\n"
     ]
    }
   ],
   "source": [
    "print_weights(LIM,embedding_dim*4)"
   ]
  },
  {
   "cell_type": "code",
   "execution_count": 43,
   "metadata": {},
   "outputs": [
    {
     "name": "stdout",
     "output_type": "stream",
     "text": [
      "              precision    recall  f1-score   support\n",
      "\n",
      "           0       1.00      1.00      1.00    959839\n",
      "           1       1.00      1.00      1.00    960161\n",
      "\n",
      "    accuracy                           1.00   1920000\n",
      "   macro avg       1.00      1.00      1.00   1920000\n",
      "weighted avg       1.00      1.00      1.00   1920000\n",
      "\n"
     ]
    }
   ],
   "source": [
    "base_preds = LIM_trainer.predict(X_base_train, device=\"cpu\")\n",
    "print(classification_report(y_base_train, base_preds))"
   ]
  },
  {
   "cell_type": "code",
   "execution_count": 44,
   "metadata": {},
   "outputs": [
    {
     "name": "stdout",
     "output_type": "stream",
     "text": [
      "              precision    recall  f1-score   support\n",
      "\n",
      "           0       0.49      0.40      0.44    960316\n",
      "           1       0.50      0.59      0.54    959684\n",
      "\n",
      "    accuracy                           0.49   1920000\n",
      "   macro avg       0.49      0.49      0.49   1920000\n",
      "weighted avg       0.49      0.49      0.49   1920000\n",
      "\n"
     ]
    }
   ],
   "source": [
    "IIT_preds = LIM_trainer.iit_predict(X_base_train, iit_data[0], iit_data[2] , id_to_coords, device=\"cpu\")\n",
    "print(classification_report(iit_data[1], IIT_preds))\n"
   ]
  },
  {
   "cell_type": "code",
   "execution_count": 45,
   "metadata": {},
   "outputs": [
    {
     "name": "stdout",
     "output_type": "stream",
     "text": [
      "              precision    recall  f1-score   support\n",
      "\n",
      "           0       1.00      1.00      1.00       518\n",
      "           1       1.00      1.00      1.00       482\n",
      "\n",
      "    accuracy                           1.00      1000\n",
      "   macro avg       1.00      1.00      1.00      1000\n",
      "weighted avg       1.00      1.00      1.00      1000\n",
      "\n"
     ]
    }
   ],
   "source": [
    "base_preds = LIM_trainer.predict(base_test, device=\"cpu\")\n",
    "\n",
    "IIT_preds = LIM_trainer.iit_predict(base_test, sources_test, intervention_ids_test, id_to_coords, device=\"cpu\")\n",
    "print(classification_report(y_base_test, base_preds))"
   ]
  },
  {
   "cell_type": "code",
   "execution_count": 46,
   "metadata": {},
   "outputs": [
    {
     "name": "stdout",
     "output_type": "stream",
     "text": [
      "              precision    recall  f1-score   support\n",
      "\n",
      "           0       0.49      0.42      0.45       496\n",
      "           1       0.50      0.58      0.54       504\n",
      "\n",
      "    accuracy                           0.50      1000\n",
      "   macro avg       0.50      0.50      0.50      1000\n",
      "weighted avg       0.50      0.50      0.50      1000\n",
      "\n"
     ]
    }
   ],
   "source": [
    "print(classification_report(y_IIT_test, IIT_preds))"
   ]
  },
  {
   "cell_type": "markdown",
   "metadata": {},
   "source": [
    "# Systematic Evaluation with Control Experiments\n"
   ]
  },
  {
   "cell_type": "code",
   "execution_count": 24,
   "metadata": {},
   "outputs": [
    {
     "name": "stdout",
     "output_type": "stream",
     "text": [
      "\n",
      "\n",
      "\n",
      "\n",
      "Control Experiment \n",
      " Layer: 0\n",
      " Key:{'left': (), 'right': 0}\n",
      "\n",
      "\n"
     ]
    },
    {
     "name": "stderr",
     "output_type": "stream",
     "text": [
      "Finished epoch 10 of 10; error is 220117.40471696854"
     ]
    },
    {
     "name": "stdout",
     "output_type": "stream",
     "text": [
      "              precision    recall  f1-score   support\n",
      "\n",
      "           0       1.00      1.00      1.00    639766\n",
      "           1       1.00      1.00      1.00    640234\n",
      "\n",
      "    accuracy                           1.00   1280000\n",
      "   macro avg       1.00      1.00      1.00   1280000\n",
      "weighted avg       1.00      1.00      1.00   1280000\n",
      "\n",
      "              precision    recall  f1-score   support\n",
      "\n",
      "           0       0.49      0.48      0.48    639869\n",
      "           1       0.49      0.50      0.49    640131\n",
      "\n",
      "    accuracy                           0.49   1280000\n",
      "   macro avg       0.49      0.49      0.49   1280000\n",
      "weighted avg       0.49      0.49      0.49   1280000\n",
      "\n",
      "              precision    recall  f1-score   support\n",
      "\n",
      "           0       1.00      1.00      1.00       497\n",
      "           1       1.00      1.00      1.00       503\n",
      "\n",
      "    accuracy                           1.00      1000\n",
      "   macro avg       1.00      1.00      1.00      1000\n",
      "weighted avg       1.00      1.00      1.00      1000\n",
      "\n",
      "              precision    recall  f1-score   support\n",
      "\n",
      "           0       0.50      0.46      0.48       500\n",
      "           1       0.50      0.54      0.52       500\n",
      "\n",
      "    accuracy                           0.50      1000\n",
      "   macro avg       0.50      0.50      0.50      1000\n",
      "weighted avg       0.50      0.50      0.50      1000\n",
      "\n",
      "\n",
      "\n",
      "\n",
      "\n",
      "Control Experiment \n",
      " Layer: 0\n",
      " Key:{'left': (), 'right': 1}\n",
      "\n",
      "\n"
     ]
    },
    {
     "name": "stderr",
     "output_type": "stream",
     "text": [
      "Finished epoch 10 of 10; error is 220116.79436731339"
     ]
    },
    {
     "name": "stdout",
     "output_type": "stream",
     "text": [
      "              precision    recall  f1-score   support\n",
      "\n",
      "           0       1.00      1.00      1.00    639515\n",
      "           1       1.00      1.00      1.00    640485\n",
      "\n",
      "    accuracy                           1.00   1280000\n",
      "   macro avg       1.00      1.00      1.00   1280000\n",
      "weighted avg       1.00      1.00      1.00   1280000\n",
      "\n",
      "              precision    recall  f1-score   support\n",
      "\n",
      "           0       0.50      0.45      0.47    639862\n",
      "           1       0.50      0.54      0.52    640138\n",
      "\n",
      "    accuracy                           0.50   1280000\n",
      "   macro avg       0.50      0.50      0.50   1280000\n",
      "weighted avg       0.50      0.50      0.50   1280000\n",
      "\n",
      "              precision    recall  f1-score   support\n",
      "\n",
      "           0       1.00      1.00      1.00       510\n",
      "           1       1.00      1.00      1.00       490\n",
      "\n",
      "    accuracy                           1.00      1000\n",
      "   macro avg       1.00      1.00      1.00      1000\n",
      "weighted avg       1.00      1.00      1.00      1000\n",
      "\n",
      "              precision    recall  f1-score   support\n",
      "\n",
      "           0       0.51      0.48      0.49       488\n",
      "           1       0.53      0.57      0.55       512\n",
      "\n",
      "    accuracy                           0.53      1000\n",
      "   macro avg       0.52      0.52      0.52      1000\n",
      "weighted avg       0.52      0.53      0.52      1000\n",
      "\n",
      "\n",
      "\n",
      "\n",
      "\n",
      "Control Experiment \n",
      " Layer: 0\n",
      " Key:{'left': 0, 'right': ()}\n",
      "\n",
      "\n"
     ]
    },
    {
     "name": "stderr",
     "output_type": "stream",
     "text": [
      "Finished epoch 10 of 10; error is 207670.32550239563"
     ]
    },
    {
     "name": "stdout",
     "output_type": "stream",
     "text": [
      "              precision    recall  f1-score   support\n",
      "\n",
      "           0       1.00      1.00      1.00    640243\n",
      "           1       1.00      1.00      1.00    639757\n",
      "\n",
      "    accuracy                           1.00   1280000\n",
      "   macro avg       1.00      1.00      1.00   1280000\n",
      "weighted avg       1.00      1.00      1.00   1280000\n",
      "\n",
      "              precision    recall  f1-score   support\n",
      "\n",
      "           0       0.49      0.52      0.51    638913\n",
      "           1       0.50      0.47      0.48    641087\n",
      "\n",
      "    accuracy                           0.49   1280000\n",
      "   macro avg       0.49      0.49      0.49   1280000\n",
      "weighted avg       0.49      0.49      0.49   1280000\n",
      "\n",
      "              precision    recall  f1-score   support\n",
      "\n",
      "           0       1.00      1.00      1.00       516\n",
      "           1       1.00      1.00      1.00       484\n",
      "\n",
      "    accuracy                           1.00      1000\n",
      "   macro avg       1.00      1.00      1.00      1000\n",
      "weighted avg       1.00      1.00      1.00      1000\n",
      "\n",
      "              precision    recall  f1-score   support\n",
      "\n",
      "           0       0.48      0.52      0.50       505\n",
      "           1       0.46      0.42      0.44       495\n",
      "\n",
      "    accuracy                           0.47      1000\n",
      "   macro avg       0.47      0.47      0.47      1000\n",
      "weighted avg       0.47      0.47      0.47      1000\n",
      "\n",
      "\n",
      "\n",
      "\n",
      "\n",
      "Control Experiment \n",
      " Layer: 0\n",
      " Key:{'left': 0, 'right': 0}\n",
      "\n",
      "\n"
     ]
    },
    {
     "name": "stderr",
     "output_type": "stream",
     "text": [
      "Finished epoch 10 of 10; error is 192920.76829314232"
     ]
    },
    {
     "name": "stdout",
     "output_type": "stream",
     "text": [
      "              precision    recall  f1-score   support\n",
      "\n",
      "           0       1.00      1.00      1.00    640460\n",
      "           1       1.00      1.00      1.00    639540\n",
      "\n",
      "    accuracy                           1.00   1280000\n",
      "   macro avg       1.00      1.00      1.00   1280000\n",
      "weighted avg       1.00      1.00      1.00   1280000\n",
      "\n",
      "              precision    recall  f1-score   support\n",
      "\n",
      "           0       0.51      0.47      0.49    640507\n",
      "           1       0.51      0.54      0.53    639493\n",
      "\n",
      "    accuracy                           0.51   1280000\n",
      "   macro avg       0.51      0.51      0.51   1280000\n",
      "weighted avg       0.51      0.51      0.51   1280000\n",
      "\n",
      "              precision    recall  f1-score   support\n",
      "\n",
      "           0       1.00      1.00      1.00       483\n",
      "           1       1.00      1.00      1.00       517\n",
      "\n",
      "    accuracy                           1.00      1000\n",
      "   macro avg       1.00      1.00      1.00      1000\n",
      "weighted avg       1.00      1.00      1.00      1000\n",
      "\n",
      "              precision    recall  f1-score   support\n",
      "\n",
      "           0       0.50      0.43      0.47       496\n",
      "           1       0.51      0.58      0.54       504\n",
      "\n",
      "    accuracy                           0.51      1000\n",
      "   macro avg       0.51      0.51      0.50      1000\n",
      "weighted avg       0.51      0.51      0.50      1000\n",
      "\n",
      "\n",
      "\n",
      "\n",
      "\n",
      "Control Experiment \n",
      " Layer: 0\n",
      " Key:{'left': 0, 'right': 1}\n",
      "\n",
      "\n"
     ]
    },
    {
     "name": "stderr",
     "output_type": "stream",
     "text": [
      "Finished epoch 10 of 10; error is 192843.94300985336"
     ]
    },
    {
     "name": "stdout",
     "output_type": "stream",
     "text": [
      "              precision    recall  f1-score   support\n",
      "\n",
      "           0       1.00      1.00      1.00    640286\n",
      "           1       1.00      1.00      1.00    639714\n",
      "\n",
      "    accuracy                           1.00   1280000\n",
      "   macro avg       1.00      1.00      1.00   1280000\n",
      "weighted avg       1.00      1.00      1.00   1280000\n",
      "\n",
      "              precision    recall  f1-score   support\n",
      "\n",
      "           0       0.52      0.50      0.51    641138\n",
      "           1       0.51      0.53      0.52    638862\n",
      "\n",
      "    accuracy                           0.52   1280000\n",
      "   macro avg       0.52      0.52      0.52   1280000\n",
      "weighted avg       0.52      0.52      0.52   1280000\n",
      "\n",
      "              precision    recall  f1-score   support\n",
      "\n",
      "           0       1.00      1.00      1.00       508\n",
      "           1       1.00      1.00      1.00       492\n",
      "\n",
      "    accuracy                           1.00      1000\n",
      "   macro avg       1.00      1.00      1.00      1000\n",
      "weighted avg       1.00      1.00      1.00      1000\n",
      "\n",
      "              precision    recall  f1-score   support\n",
      "\n",
      "           0       0.52      0.51      0.51       498\n",
      "           1       0.53      0.54      0.53       502\n",
      "\n",
      "    accuracy                           0.53      1000\n",
      "   macro avg       0.52      0.52      0.52      1000\n",
      "weighted avg       0.52      0.53      0.52      1000\n",
      "\n",
      "\n",
      "\n",
      "\n",
      "\n",
      "Control Experiment \n",
      " Layer: 0\n",
      " Key:{'left': 0, 'right': (0, 1)}\n",
      "\n",
      "\n"
     ]
    },
    {
     "name": "stderr",
     "output_type": "stream",
     "text": [
      "Finished epoch 10 of 10; error is 214561.59795832634"
     ]
    },
    {
     "name": "stdout",
     "output_type": "stream",
     "text": [
      "              precision    recall  f1-score   support\n",
      "\n",
      "           0       1.00      1.00      1.00    641004\n",
      "           1       1.00      1.00      1.00    638996\n",
      "\n",
      "    accuracy                           1.00   1280000\n",
      "   macro avg       1.00      1.00      1.00   1280000\n",
      "weighted avg       1.00      1.00      1.00   1280000\n",
      "\n",
      "              precision    recall  f1-score   support\n",
      "\n",
      "           0       0.48      0.47      0.47    639762\n",
      "           1       0.48      0.48      0.48    640238\n",
      "\n",
      "    accuracy                           0.48   1280000\n",
      "   macro avg       0.48      0.48      0.48   1280000\n",
      "weighted avg       0.48      0.48      0.48   1280000\n",
      "\n",
      "              precision    recall  f1-score   support\n",
      "\n",
      "           0       1.00      1.00      1.00       505\n",
      "           1       1.00      1.00      1.00       495\n",
      "\n",
      "    accuracy                           1.00      1000\n",
      "   macro avg       1.00      1.00      1.00      1000\n",
      "weighted avg       1.00      1.00      1.00      1000\n",
      "\n",
      "              precision    recall  f1-score   support\n",
      "\n",
      "           0       0.50      0.50      0.50       514\n",
      "           1       0.47      0.48      0.47       486\n",
      "\n",
      "    accuracy                           0.49      1000\n",
      "   macro avg       0.49      0.49      0.49      1000\n",
      "weighted avg       0.49      0.49      0.49      1000\n",
      "\n",
      "\n",
      "\n",
      "\n",
      "\n",
      "Control Experiment \n",
      " Layer: 0\n",
      " Key:{'left': 1, 'right': ()}\n",
      "\n",
      "\n"
     ]
    },
    {
     "name": "stderr",
     "output_type": "stream",
     "text": [
      "Finished epoch 10 of 10; error is 206817.31916427612"
     ]
    },
    {
     "name": "stdout",
     "output_type": "stream",
     "text": [
      "              precision    recall  f1-score   support\n",
      "\n",
      "           0       1.00      1.00      1.00    640407\n",
      "           1       1.00      1.00      1.00    639593\n",
      "\n",
      "    accuracy                           1.00   1280000\n",
      "   macro avg       1.00      1.00      1.00   1280000\n",
      "weighted avg       1.00      1.00      1.00   1280000\n",
      "\n",
      "              precision    recall  f1-score   support\n",
      "\n",
      "           0       0.49      0.49      0.49    639149\n",
      "           1       0.49      0.49      0.49    640851\n",
      "\n",
      "    accuracy                           0.49   1280000\n",
      "   macro avg       0.49      0.49      0.49   1280000\n",
      "weighted avg       0.49      0.49      0.49   1280000\n",
      "\n",
      "              precision    recall  f1-score   support\n",
      "\n",
      "           0       1.00      1.00      1.00       517\n",
      "           1       1.00      1.00      1.00       483\n",
      "\n",
      "    accuracy                           1.00      1000\n",
      "   macro avg       1.00      1.00      1.00      1000\n",
      "weighted avg       1.00      1.00      1.00      1000\n",
      "\n",
      "              precision    recall  f1-score   support\n",
      "\n",
      "           0       0.47      0.53      0.50       466\n",
      "           1       0.54      0.47      0.50       534\n",
      "\n",
      "    accuracy                           0.50      1000\n",
      "   macro avg       0.50      0.50      0.50      1000\n",
      "weighted avg       0.50      0.50      0.50      1000\n",
      "\n",
      "\n",
      "\n",
      "\n",
      "\n",
      "Control Experiment \n",
      " Layer: 0\n",
      " Key:{'left': 1, 'right': 0}\n",
      "\n",
      "\n"
     ]
    },
    {
     "name": "stderr",
     "output_type": "stream",
     "text": [
      "Finished epoch 10 of 10; error is 192324.12076485157"
     ]
    },
    {
     "name": "stdout",
     "output_type": "stream",
     "text": [
      "              precision    recall  f1-score   support\n",
      "\n",
      "           0       1.00      1.00      1.00    639468\n",
      "           1       1.00      1.00      1.00    640532\n",
      "\n",
      "    accuracy                           1.00   1280000\n",
      "   macro avg       1.00      1.00      1.00   1280000\n",
      "weighted avg       1.00      1.00      1.00   1280000\n",
      "\n",
      "              precision    recall  f1-score   support\n",
      "\n",
      "           0       0.51      0.50      0.51    639018\n",
      "           1       0.51      0.53      0.52    640982\n",
      "\n",
      "    accuracy                           0.51   1280000\n",
      "   macro avg       0.51      0.51      0.51   1280000\n",
      "weighted avg       0.51      0.51      0.51   1280000\n",
      "\n",
      "              precision    recall  f1-score   support\n",
      "\n",
      "           0       1.00      1.00      1.00       489\n",
      "           1       1.00      1.00      1.00       511\n",
      "\n",
      "    accuracy                           1.00      1000\n",
      "   macro avg       1.00      1.00      1.00      1000\n",
      "weighted avg       1.00      1.00      1.00      1000\n",
      "\n",
      "              precision    recall  f1-score   support\n",
      "\n",
      "           0       0.52      0.50      0.51       512\n",
      "           1       0.49      0.51      0.50       488\n",
      "\n",
      "    accuracy                           0.51      1000\n",
      "   macro avg       0.51      0.51      0.51      1000\n",
      "weighted avg       0.51      0.51      0.51      1000\n",
      "\n",
      "\n",
      "\n",
      "\n",
      "\n",
      "Control Experiment \n",
      " Layer: 0\n",
      " Key:{'left': 1, 'right': 1}\n",
      "\n",
      "\n"
     ]
    },
    {
     "name": "stderr",
     "output_type": "stream",
     "text": [
      "Finished epoch 10 of 10; error is 192921.82252907753"
     ]
    },
    {
     "name": "stdout",
     "output_type": "stream",
     "text": [
      "              precision    recall  f1-score   support\n",
      "\n",
      "           0       1.00      1.00      1.00    639960\n",
      "           1       1.00      1.00      1.00    640040\n",
      "\n",
      "    accuracy                           1.00   1280000\n",
      "   macro avg       1.00      1.00      1.00   1280000\n",
      "weighted avg       1.00      1.00      1.00   1280000\n",
      "\n",
      "              precision    recall  f1-score   support\n",
      "\n",
      "           0       0.52      0.49      0.50    640266\n",
      "           1       0.51      0.54      0.53    639734\n",
      "\n",
      "    accuracy                           0.52   1280000\n",
      "   macro avg       0.52      0.52      0.51   1280000\n",
      "weighted avg       0.52      0.52      0.51   1280000\n",
      "\n",
      "              precision    recall  f1-score   support\n",
      "\n",
      "           0       1.00      1.00      1.00       484\n",
      "           1       1.00      1.00      1.00       516\n",
      "\n",
      "    accuracy                           1.00      1000\n",
      "   macro avg       1.00      1.00      1.00      1000\n",
      "weighted avg       1.00      1.00      1.00      1000\n",
      "\n",
      "              precision    recall  f1-score   support\n",
      "\n",
      "           0       0.54      0.51      0.53       509\n",
      "           1       0.52      0.55      0.54       491\n",
      "\n",
      "    accuracy                           0.53      1000\n",
      "   macro avg       0.53      0.53      0.53      1000\n",
      "weighted avg       0.53      0.53      0.53      1000\n",
      "\n",
      "\n",
      "\n",
      "\n",
      "\n",
      "Control Experiment \n",
      " Layer: 0\n",
      " Key:{'left': 1, 'right': (0, 1)}\n",
      "\n",
      "\n"
     ]
    },
    {
     "name": "stderr",
     "output_type": "stream",
     "text": [
      "Finished epoch 10 of 10; error is 214622.39066910744"
     ]
    },
    {
     "name": "stdout",
     "output_type": "stream",
     "text": [
      "              precision    recall  f1-score   support\n",
      "\n",
      "           0       1.00      1.00      1.00    639213\n",
      "           1       1.00      1.00      1.00    640787\n",
      "\n",
      "    accuracy                           1.00   1280000\n",
      "   macro avg       1.00      1.00      1.00   1280000\n",
      "weighted avg       1.00      1.00      1.00   1280000\n",
      "\n",
      "              precision    recall  f1-score   support\n",
      "\n",
      "           0       0.47      0.47      0.47    639547\n",
      "           1       0.48      0.48      0.48    640453\n",
      "\n",
      "    accuracy                           0.48   1280000\n",
      "   macro avg       0.48      0.48      0.48   1280000\n",
      "weighted avg       0.48      0.48      0.48   1280000\n",
      "\n",
      "              precision    recall  f1-score   support\n",
      "\n",
      "           0       1.00      1.00      1.00       535\n",
      "           1       1.00      1.00      1.00       465\n",
      "\n",
      "    accuracy                           1.00      1000\n",
      "   macro avg       1.00      1.00      1.00      1000\n",
      "weighted avg       1.00      1.00      1.00      1000\n",
      "\n",
      "              precision    recall  f1-score   support\n",
      "\n",
      "           0       0.47      0.48      0.48       508\n",
      "           1       0.46      0.45      0.45       492\n",
      "\n",
      "    accuracy                           0.47      1000\n",
      "   macro avg       0.46      0.46      0.46      1000\n",
      "weighted avg       0.46      0.47      0.46      1000\n",
      "\n",
      "\n",
      "\n",
      "\n",
      "\n",
      "Control Experiment \n",
      " Layer: 0\n",
      " Key:{'left': (0, 1), 'right': 0}\n",
      "\n",
      "\n"
     ]
    },
    {
     "name": "stderr",
     "output_type": "stream",
     "text": [
      "Finished epoch 10 of 10; error is 206268.4818727978"
     ]
    },
    {
     "name": "stdout",
     "output_type": "stream",
     "text": [
      "              precision    recall  f1-score   support\n",
      "\n",
      "           0       1.00      1.00      1.00    640070\n",
      "           1       1.00      1.00      1.00    639930\n",
      "\n",
      "    accuracy                           1.00   1280000\n",
      "   macro avg       1.00      1.00      1.00   1280000\n",
      "weighted avg       1.00      1.00      1.00   1280000\n",
      "\n",
      "              precision    recall  f1-score   support\n",
      "\n",
      "           0       0.48      0.47      0.48    638957\n",
      "           1       0.48      0.50      0.49    641043\n",
      "\n",
      "    accuracy                           0.48   1280000\n",
      "   macro avg       0.48      0.48      0.48   1280000\n",
      "weighted avg       0.48      0.48      0.48   1280000\n",
      "\n",
      "              precision    recall  f1-score   support\n",
      "\n",
      "           0       1.00      1.00      1.00       489\n",
      "           1       1.00      1.00      1.00       511\n",
      "\n",
      "    accuracy                           1.00      1000\n",
      "   macro avg       1.00      1.00      1.00      1000\n",
      "weighted avg       1.00      1.00      1.00      1000\n",
      "\n",
      "              precision    recall  f1-score   support\n",
      "\n",
      "           0       0.49      0.45      0.47       522\n",
      "           1       0.45      0.49      0.47       478\n",
      "\n",
      "    accuracy                           0.47      1000\n",
      "   macro avg       0.47      0.47      0.47      1000\n",
      "weighted avg       0.47      0.47      0.47      1000\n",
      "\n",
      "\n",
      "\n",
      "\n",
      "\n",
      "Control Experiment \n",
      " Layer: 0\n",
      " Key:{'left': (0, 1), 'right': 1}\n",
      "\n",
      "\n"
     ]
    },
    {
     "name": "stderr",
     "output_type": "stream",
     "text": [
      "Finished epoch 10 of 10; error is 217133.8563835621"
     ]
    },
    {
     "name": "stdout",
     "output_type": "stream",
     "text": [
      "              precision    recall  f1-score   support\n",
      "\n",
      "           0       1.00      1.00      1.00    639670\n",
      "           1       1.00      1.00      1.00    640330\n",
      "\n",
      "    accuracy                           1.00   1280000\n",
      "   macro avg       1.00      1.00      1.00   1280000\n",
      "weighted avg       1.00      1.00      1.00   1280000\n",
      "\n",
      "              precision    recall  f1-score   support\n",
      "\n",
      "           0       0.47      0.45      0.46    640052\n",
      "           1       0.48      0.50      0.49    639948\n",
      "\n",
      "    accuracy                           0.47   1280000\n",
      "   macro avg       0.47      0.47      0.47   1280000\n",
      "weighted avg       0.47      0.47      0.47   1280000\n",
      "\n",
      "              precision    recall  f1-score   support\n",
      "\n",
      "           0       1.00      1.00      1.00       510\n",
      "           1       1.00      1.00      1.00       490\n",
      "\n",
      "    accuracy                           1.00      1000\n",
      "   macro avg       1.00      1.00      1.00      1000\n",
      "weighted avg       1.00      1.00      1.00      1000\n",
      "\n",
      "              precision    recall  f1-score   support\n",
      "\n",
      "           0       0.51      0.49      0.50       521\n",
      "           1       0.47      0.49      0.48       479\n",
      "\n",
      "    accuracy                           0.49      1000\n",
      "   macro avg       0.49      0.49      0.49      1000\n",
      "weighted avg       0.49      0.49      0.49      1000\n",
      "\n",
      "\n",
      "\n",
      "\n",
      "\n",
      "Control Experiment \n",
      " Layer: 0\n",
      " Key:{'left': (0, 1), 'right': (0, 1)}\n",
      "\n",
      "\n"
     ]
    },
    {
     "name": "stderr",
     "output_type": "stream",
     "text": [
      "Finished epoch 10 of 10; error is 31.213749848928273"
     ]
    },
    {
     "name": "stdout",
     "output_type": "stream",
     "text": [
      "              precision    recall  f1-score   support\n",
      "\n",
      "           0       1.00      1.00      1.00    640592\n",
      "           1       1.00      1.00      1.00    639408\n",
      "\n",
      "    accuracy                           1.00   1280000\n",
      "   macro avg       1.00      1.00      1.00   1280000\n",
      "weighted avg       1.00      1.00      1.00   1280000\n",
      "\n",
      "              precision    recall  f1-score   support\n",
      "\n",
      "           0       1.00      1.00      1.00    641588\n",
      "           1       1.00      1.00      1.00    638412\n",
      "\n",
      "    accuracy                           1.00   1280000\n",
      "   macro avg       1.00      1.00      1.00   1280000\n",
      "weighted avg       1.00      1.00      1.00   1280000\n",
      "\n",
      "              precision    recall  f1-score   support\n",
      "\n",
      "           0       1.00      1.00      1.00       497\n",
      "           1       1.00      1.00      1.00       503\n",
      "\n",
      "    accuracy                           1.00      1000\n",
      "   macro avg       1.00      1.00      1.00      1000\n",
      "weighted avg       1.00      1.00      1.00      1000\n",
      "\n",
      "              precision    recall  f1-score   support\n",
      "\n",
      "           0       1.00      1.00      1.00       487\n",
      "           1       1.00      1.00      1.00       513\n",
      "\n",
      "    accuracy                           1.00      1000\n",
      "   macro avg       1.00      1.00      1.00      1000\n",
      "weighted avg       1.00      1.00      1.00      1000\n",
      "\n",
      "\n",
      "\n",
      "\n",
      "\n",
      "Control Experiment \n",
      " Layer: 1\n",
      " Key:{'left': (), 'right': 0}\n",
      "\n",
      "\n"
     ]
    },
    {
     "name": "stderr",
     "output_type": "stream",
     "text": [
      "Finished epoch 10 of 10; error is 195597.37672793865"
     ]
    },
    {
     "name": "stdout",
     "output_type": "stream",
     "text": [
      "              precision    recall  f1-score   support\n",
      "\n",
      "           0       1.00      1.00      1.00    640024\n",
      "           1       1.00      1.00      1.00    639976\n",
      "\n",
      "    accuracy                           1.00   1280000\n",
      "   macro avg       1.00      1.00      1.00   1280000\n",
      "weighted avg       1.00      1.00      1.00   1280000\n",
      "\n",
      "              precision    recall  f1-score   support\n",
      "\n",
      "           0       0.51      0.40      0.45    640546\n",
      "           1       0.50      0.61      0.55    639454\n",
      "\n",
      "    accuracy                           0.50   1280000\n",
      "   macro avg       0.50      0.50      0.50   1280000\n",
      "weighted avg       0.50      0.50      0.50   1280000\n",
      "\n",
      "              precision    recall  f1-score   support\n",
      "\n",
      "           0       1.00      1.00      1.00       501\n",
      "           1       1.00      1.00      1.00       499\n",
      "\n",
      "    accuracy                           1.00      1000\n",
      "   macro avg       1.00      1.00      1.00      1000\n",
      "weighted avg       1.00      1.00      1.00      1000\n",
      "\n",
      "              precision    recall  f1-score   support\n",
      "\n",
      "           0       0.51      0.41      0.45       512\n",
      "           1       0.49      0.59      0.54       488\n",
      "\n",
      "    accuracy                           0.50      1000\n",
      "   macro avg       0.50      0.50      0.49      1000\n",
      "weighted avg       0.50      0.50      0.49      1000\n",
      "\n",
      "\n",
      "\n",
      "\n",
      "\n",
      "Control Experiment \n",
      " Layer: 1\n",
      " Key:{'left': (), 'right': 1}\n",
      "\n",
      "\n"
     ]
    },
    {
     "name": "stderr",
     "output_type": "stream",
     "text": [
      "Finished epoch 10 of 10; error is 195872.3507528305"
     ]
    },
    {
     "name": "stdout",
     "output_type": "stream",
     "text": [
      "              precision    recall  f1-score   support\n",
      "\n",
      "           0       1.00      1.00      1.00    639415\n",
      "           1       1.00      1.00      1.00    640585\n",
      "\n",
      "    accuracy                           1.00   1280000\n",
      "   macro avg       1.00      1.00      1.00   1280000\n",
      "weighted avg       1.00      1.00      1.00   1280000\n",
      "\n",
      "              precision    recall  f1-score   support\n",
      "\n",
      "           0       0.51      0.40      0.45    639974\n",
      "           1       0.51      0.62      0.56    640026\n",
      "\n",
      "    accuracy                           0.51   1280000\n",
      "   macro avg       0.51      0.51      0.50   1280000\n",
      "weighted avg       0.51      0.51      0.50   1280000\n",
      "\n",
      "              precision    recall  f1-score   support\n",
      "\n",
      "           0       1.00      1.00      1.00       499\n",
      "           1       1.00      1.00      1.00       501\n",
      "\n",
      "    accuracy                           1.00      1000\n",
      "   macro avg       1.00      1.00      1.00      1000\n",
      "weighted avg       1.00      1.00      1.00      1000\n",
      "\n",
      "              precision    recall  f1-score   support\n",
      "\n",
      "           0       0.53      0.42      0.47       534\n",
      "           1       0.47      0.58      0.52       466\n",
      "\n",
      "    accuracy                           0.49      1000\n",
      "   macro avg       0.50      0.50      0.49      1000\n",
      "weighted avg       0.50      0.49      0.49      1000\n",
      "\n",
      "\n",
      "\n",
      "\n",
      "\n",
      "Control Experiment \n",
      " Layer: 1\n",
      " Key:{'left': 0, 'right': ()}\n",
      "\n",
      "\n"
     ]
    },
    {
     "name": "stderr",
     "output_type": "stream",
     "text": [
      "Finished epoch 10 of 10; error is 195723.79802203178"
     ]
    },
    {
     "name": "stdout",
     "output_type": "stream",
     "text": [
      "              precision    recall  f1-score   support\n",
      "\n",
      "           0       1.00      1.00      1.00    640540\n",
      "           1       1.00      1.00      1.00    639460\n",
      "\n",
      "    accuracy                           1.00   1280000\n",
      "   macro avg       1.00      1.00      1.00   1280000\n",
      "weighted avg       1.00      1.00      1.00   1280000\n",
      "\n",
      "              precision    recall  f1-score   support\n",
      "\n",
      "           0       0.52      0.37      0.43    639718\n",
      "           1       0.51      0.65      0.57    640282\n",
      "\n",
      "    accuracy                           0.51   1280000\n",
      "   macro avg       0.51      0.51      0.50   1280000\n",
      "weighted avg       0.51      0.51      0.50   1280000\n",
      "\n",
      "              precision    recall  f1-score   support\n",
      "\n",
      "           0       1.00      1.00      1.00       519\n",
      "           1       1.00      1.00      1.00       481\n",
      "\n",
      "    accuracy                           1.00      1000\n",
      "   macro avg       1.00      1.00      1.00      1000\n",
      "weighted avg       1.00      1.00      1.00      1000\n",
      "\n",
      "              precision    recall  f1-score   support\n",
      "\n",
      "           0       0.55      0.40      0.46       503\n",
      "           1       0.52      0.67      0.59       497\n",
      "\n",
      "    accuracy                           0.53      1000\n",
      "   macro avg       0.54      0.53      0.53      1000\n",
      "weighted avg       0.54      0.53      0.53      1000\n",
      "\n",
      "\n",
      "\n",
      "\n",
      "\n",
      "Control Experiment \n",
      " Layer: 1\n",
      " Key:{'left': 0, 'right': 0}\n",
      "\n",
      "\n"
     ]
    },
    {
     "name": "stderr",
     "output_type": "stream",
     "text": [
      "Finished epoch 10 of 10; error is 175666.71449959278"
     ]
    },
    {
     "name": "stdout",
     "output_type": "stream",
     "text": [
      "              precision    recall  f1-score   support\n",
      "\n",
      "           0       1.00      1.00      1.00    640235\n",
      "           1       1.00      1.00      1.00    639765\n",
      "\n",
      "    accuracy                           1.00   1280000\n",
      "   macro avg       1.00      1.00      1.00   1280000\n",
      "weighted avg       1.00      1.00      1.00   1280000\n",
      "\n",
      "              precision    recall  f1-score   support\n",
      "\n",
      "           0       0.58      0.52      0.55    640232\n",
      "           1       0.57      0.63      0.60    639768\n",
      "\n",
      "    accuracy                           0.57   1280000\n",
      "   macro avg       0.58      0.58      0.57   1280000\n",
      "weighted avg       0.58      0.57      0.57   1280000\n",
      "\n",
      "              precision    recall  f1-score   support\n",
      "\n",
      "           0       1.00      1.00      1.00       500\n",
      "           1       1.00      1.00      1.00       500\n",
      "\n",
      "    accuracy                           1.00      1000\n",
      "   macro avg       1.00      1.00      1.00      1000\n",
      "weighted avg       1.00      1.00      1.00      1000\n",
      "\n",
      "              precision    recall  f1-score   support\n",
      "\n",
      "           0       0.58      0.50      0.54       517\n",
      "           1       0.53      0.60      0.56       483\n",
      "\n",
      "    accuracy                           0.55      1000\n",
      "   macro avg       0.55      0.55      0.55      1000\n",
      "weighted avg       0.55      0.55      0.55      1000\n",
      "\n",
      "\n",
      "\n",
      "\n",
      "\n",
      "Control Experiment \n",
      " Layer: 1\n",
      " Key:{'left': 0, 'right': 1}\n",
      "\n",
      "\n"
     ]
    },
    {
     "name": "stderr",
     "output_type": "stream",
     "text": [
      "Finished epoch 10 of 10; error is 175798.73180627823"
     ]
    },
    {
     "name": "stdout",
     "output_type": "stream",
     "text": [
      "              precision    recall  f1-score   support\n",
      "\n",
      "           0       1.00      1.00      1.00    640789\n",
      "           1       1.00      1.00      1.00    639211\n",
      "\n",
      "    accuracy                           1.00   1280000\n",
      "   macro avg       1.00      1.00      1.00   1280000\n",
      "weighted avg       1.00      1.00      1.00   1280000\n",
      "\n",
      "              precision    recall  f1-score   support\n",
      "\n",
      "           0       0.59      0.50      0.54    640437\n",
      "           1       0.57      0.66      0.61    639563\n",
      "\n",
      "    accuracy                           0.58   1280000\n",
      "   macro avg       0.58      0.58      0.57   1280000\n",
      "weighted avg       0.58      0.58      0.57   1280000\n",
      "\n",
      "              precision    recall  f1-score   support\n",
      "\n",
      "           0       1.00      1.00      1.00       487\n",
      "           1       1.00      1.00      1.00       513\n",
      "\n",
      "    accuracy                           1.00      1000\n",
      "   macro avg       1.00      1.00      1.00      1000\n",
      "weighted avg       1.00      1.00      1.00      1000\n",
      "\n",
      "              precision    recall  f1-score   support\n",
      "\n",
      "           0       0.64      0.51      0.57       508\n",
      "           1       0.58      0.70      0.64       492\n",
      "\n",
      "    accuracy                           0.60      1000\n",
      "   macro avg       0.61      0.61      0.60      1000\n",
      "weighted avg       0.61      0.60      0.60      1000\n",
      "\n",
      "\n",
      "\n",
      "\n",
      "\n",
      "Control Experiment \n",
      " Layer: 1\n",
      " Key:{'left': 0, 'right': (0, 1)}\n",
      "\n",
      "\n"
     ]
    },
    {
     "name": "stderr",
     "output_type": "stream",
     "text": [
      "Finished epoch 10 of 10; error is 222602.39616918564"
     ]
    },
    {
     "name": "stdout",
     "output_type": "stream",
     "text": [
      "              precision    recall  f1-score   support\n",
      "\n",
      "           0       1.00      1.00      1.00    639300\n",
      "           1       1.00      1.00      1.00    640700\n",
      "\n",
      "    accuracy                           1.00   1280000\n",
      "   macro avg       1.00      1.00      1.00   1280000\n",
      "weighted avg       1.00      1.00      1.00   1280000\n",
      "\n",
      "              precision    recall  f1-score   support\n",
      "\n",
      "           0       0.44      0.38      0.41    640709\n",
      "           1       0.45      0.51      0.48    639291\n",
      "\n",
      "    accuracy                           0.44   1280000\n",
      "   macro avg       0.44      0.44      0.44   1280000\n",
      "weighted avg       0.44      0.44      0.44   1280000\n",
      "\n",
      "              precision    recall  f1-score   support\n",
      "\n",
      "           0       1.00      1.00      1.00       482\n",
      "           1       1.00      1.00      1.00       518\n",
      "\n",
      "    accuracy                           1.00      1000\n",
      "   macro avg       1.00      1.00      1.00      1000\n",
      "weighted avg       1.00      1.00      1.00      1000\n",
      "\n",
      "              precision    recall  f1-score   support\n",
      "\n",
      "           0       0.40      0.34      0.37       487\n",
      "           1       0.45      0.51      0.48       513\n",
      "\n",
      "    accuracy                           0.43      1000\n",
      "   macro avg       0.43      0.43      0.43      1000\n",
      "weighted avg       0.43      0.43      0.43      1000\n",
      "\n",
      "\n",
      "\n",
      "\n",
      "\n",
      "Control Experiment \n",
      " Layer: 1\n",
      " Key:{'left': 1, 'right': ()}\n",
      "\n",
      "\n"
     ]
    },
    {
     "name": "stderr",
     "output_type": "stream",
     "text": [
      "Finished epoch 10 of 10; error is 195894.61722552776"
     ]
    },
    {
     "name": "stdout",
     "output_type": "stream",
     "text": [
      "              precision    recall  f1-score   support\n",
      "\n",
      "           0       1.00      1.00      1.00    639367\n",
      "           1       1.00      1.00      1.00    640633\n",
      "\n",
      "    accuracy                           1.00   1280000\n",
      "   macro avg       1.00      1.00      1.00   1280000\n",
      "weighted avg       1.00      1.00      1.00   1280000\n",
      "\n",
      "              precision    recall  f1-score   support\n",
      "\n",
      "           0       0.51      0.40      0.45    639965\n",
      "           1       0.51      0.62      0.56    640035\n",
      "\n",
      "    accuracy                           0.51   1280000\n",
      "   macro avg       0.51      0.51      0.50   1280000\n",
      "weighted avg       0.51      0.51      0.50   1280000\n",
      "\n",
      "              precision    recall  f1-score   support\n",
      "\n",
      "           0       1.00      1.00      1.00       500\n",
      "           1       1.00      1.00      1.00       500\n",
      "\n",
      "    accuracy                           1.00      1000\n",
      "   macro avg       1.00      1.00      1.00      1000\n",
      "weighted avg       1.00      1.00      1.00      1000\n",
      "\n",
      "              precision    recall  f1-score   support\n",
      "\n",
      "           0       0.46      0.36      0.41       481\n",
      "           1       0.50      0.60      0.55       519\n",
      "\n",
      "    accuracy                           0.49      1000\n",
      "   macro avg       0.48      0.48      0.48      1000\n",
      "weighted avg       0.48      0.49      0.48      1000\n",
      "\n",
      "\n",
      "\n",
      "\n",
      "\n",
      "Control Experiment \n",
      " Layer: 1\n",
      " Key:{'left': 1, 'right': 0}\n",
      "\n",
      "\n"
     ]
    },
    {
     "name": "stderr",
     "output_type": "stream",
     "text": [
      "Finished epoch 10 of 10; error is 175971.83953773975"
     ]
    },
    {
     "name": "stdout",
     "output_type": "stream",
     "text": [
      "              precision    recall  f1-score   support\n",
      "\n",
      "           0       1.00      1.00      1.00    639937\n",
      "           1       1.00      1.00      1.00    640063\n",
      "\n",
      "    accuracy                           1.00   1280000\n",
      "   macro avg       1.00      1.00      1.00   1280000\n",
      "weighted avg       1.00      1.00      1.00   1280000\n",
      "\n",
      "              precision    recall  f1-score   support\n",
      "\n",
      "           0       0.61      0.46      0.52    640321\n",
      "           1       0.57      0.70      0.63    639679\n",
      "\n",
      "    accuracy                           0.58   1280000\n",
      "   macro avg       0.59      0.58      0.58   1280000\n",
      "weighted avg       0.59      0.58      0.58   1280000\n",
      "\n",
      "              precision    recall  f1-score   support\n",
      "\n",
      "           0       1.00      1.00      1.00       542\n",
      "           1       1.00      1.00      1.00       458\n",
      "\n",
      "    accuracy                           1.00      1000\n",
      "   macro avg       1.00      1.00      1.00      1000\n",
      "weighted avg       1.00      1.00      1.00      1000\n",
      "\n",
      "              precision    recall  f1-score   support\n",
      "\n",
      "           0       0.63      0.49      0.55       510\n",
      "           1       0.57      0.71      0.63       490\n",
      "\n",
      "    accuracy                           0.59      1000\n",
      "   macro avg       0.60      0.60      0.59      1000\n",
      "weighted avg       0.60      0.59      0.59      1000\n",
      "\n",
      "\n",
      "\n",
      "\n",
      "\n",
      "Control Experiment \n",
      " Layer: 1\n",
      " Key:{'left': 1, 'right': 1}\n",
      "\n",
      "\n"
     ]
    },
    {
     "name": "stderr",
     "output_type": "stream",
     "text": [
      "Finished epoch 10 of 10; error is 175637.39994168282"
     ]
    },
    {
     "name": "stdout",
     "output_type": "stream",
     "text": [
      "              precision    recall  f1-score   support\n",
      "\n",
      "           0       1.00      1.00      1.00    640060\n",
      "           1       1.00      1.00      1.00    639940\n",
      "\n",
      "    accuracy                           1.00   1280000\n",
      "   macro avg       1.00      1.00      1.00   1280000\n",
      "weighted avg       1.00      1.00      1.00   1280000\n",
      "\n",
      "              precision    recall  f1-score   support\n",
      "\n",
      "           0       0.61      0.45      0.52    639712\n",
      "           1       0.57      0.71      0.63    640288\n",
      "\n",
      "    accuracy                           0.58   1280000\n",
      "   macro avg       0.59      0.58      0.58   1280000\n",
      "weighted avg       0.59      0.58      0.58   1280000\n",
      "\n",
      "              precision    recall  f1-score   support\n",
      "\n",
      "           0       1.00      1.00      1.00       508\n",
      "           1       1.00      1.00      1.00       492\n",
      "\n",
      "    accuracy                           1.00      1000\n",
      "   macro avg       1.00      1.00      1.00      1000\n",
      "weighted avg       1.00      1.00      1.00      1000\n",
      "\n",
      "              precision    recall  f1-score   support\n",
      "\n",
      "           0       0.63      0.46      0.53       495\n",
      "           1       0.58      0.74      0.65       505\n",
      "\n",
      "    accuracy                           0.60      1000\n",
      "   macro avg       0.61      0.60      0.59      1000\n",
      "weighted avg       0.61      0.60      0.59      1000\n",
      "\n",
      "\n",
      "\n",
      "\n",
      "\n",
      "Control Experiment \n",
      " Layer: 1\n",
      " Key:{'left': 1, 'right': (0, 1)}\n",
      "\n",
      "\n"
     ]
    },
    {
     "name": "stderr",
     "output_type": "stream",
     "text": [
      "Finished epoch 10 of 10; error is 222719.59947657585"
     ]
    },
    {
     "name": "stdout",
     "output_type": "stream",
     "text": [
      "              precision    recall  f1-score   support\n",
      "\n",
      "           0       1.00      1.00      1.00    640981\n",
      "           1       1.00      1.00      1.00    639019\n",
      "\n",
      "    accuracy                           1.00   1280000\n",
      "   macro avg       1.00      1.00      1.00   1280000\n",
      "weighted avg       1.00      1.00      1.00   1280000\n",
      "\n",
      "              precision    recall  f1-score   support\n",
      "\n",
      "           0       0.43      0.39      0.41    639974\n",
      "           1       0.44      0.48      0.46    640026\n",
      "\n",
      "    accuracy                           0.44   1280000\n",
      "   macro avg       0.44      0.44      0.44   1280000\n",
      "weighted avg       0.44      0.44      0.44   1280000\n",
      "\n",
      "              precision    recall  f1-score   support\n",
      "\n",
      "           0       1.00      1.00      1.00       478\n",
      "           1       1.00      1.00      1.00       522\n",
      "\n",
      "    accuracy                           1.00      1000\n",
      "   macro avg       1.00      1.00      1.00      1000\n",
      "weighted avg       1.00      1.00      1.00      1000\n",
      "\n",
      "              precision    recall  f1-score   support\n",
      "\n",
      "           0       0.45      0.38      0.41       511\n",
      "           1       0.44      0.51      0.47       489\n",
      "\n",
      "    accuracy                           0.44      1000\n",
      "   macro avg       0.44      0.44      0.44      1000\n",
      "weighted avg       0.44      0.44      0.44      1000\n",
      "\n",
      "\n",
      "\n",
      "\n",
      "\n",
      "Control Experiment \n",
      " Layer: 1\n",
      " Key:{'left': (0, 1), 'right': 0}\n",
      "\n",
      "\n"
     ]
    },
    {
     "name": "stderr",
     "output_type": "stream",
     "text": [
      "Finished epoch 10 of 10; error is 222120.2862625122"
     ]
    },
    {
     "name": "stdout",
     "output_type": "stream",
     "text": [
      "              precision    recall  f1-score   support\n",
      "\n",
      "           0       1.00      1.00      1.00    639833\n",
      "           1       1.00      1.00      1.00    640167\n",
      "\n",
      "    accuracy                           1.00   1280000\n",
      "   macro avg       1.00      1.00      1.00   1280000\n",
      "weighted avg       1.00      1.00      1.00   1280000\n",
      "\n",
      "              precision    recall  f1-score   support\n",
      "\n",
      "           0       0.44      0.39      0.41    640353\n",
      "           1       0.45      0.49      0.47    639647\n",
      "\n",
      "    accuracy                           0.44   1280000\n",
      "   macro avg       0.44      0.44      0.44   1280000\n",
      "weighted avg       0.44      0.44      0.44   1280000\n",
      "\n",
      "              precision    recall  f1-score   support\n",
      "\n",
      "           0       1.00      1.00      1.00       511\n",
      "           1       1.00      1.00      1.00       489\n",
      "\n",
      "    accuracy                           1.00      1000\n",
      "   macro avg       1.00      1.00      1.00      1000\n",
      "weighted avg       1.00      1.00      1.00      1000\n",
      "\n",
      "              precision    recall  f1-score   support\n",
      "\n",
      "           0       0.44      0.40      0.42       506\n",
      "           1       0.44      0.49      0.47       494\n",
      "\n",
      "    accuracy                           0.44      1000\n",
      "   macro avg       0.44      0.44      0.44      1000\n",
      "weighted avg       0.44      0.44      0.44      1000\n",
      "\n",
      "\n",
      "\n",
      "\n",
      "\n",
      "Control Experiment \n",
      " Layer: 1\n",
      " Key:{'left': (0, 1), 'right': 1}\n",
      "\n",
      "\n"
     ]
    },
    {
     "name": "stderr",
     "output_type": "stream",
     "text": [
      "Finished epoch 10 of 10; error is 223148.11044883728"
     ]
    },
    {
     "name": "stdout",
     "output_type": "stream",
     "text": [
      "              precision    recall  f1-score   support\n",
      "\n",
      "           0       1.00      1.00      1.00    639345\n",
      "           1       1.00      1.00      1.00    640655\n",
      "\n",
      "    accuracy                           1.00   1280000\n",
      "   macro avg       1.00      1.00      1.00   1280000\n",
      "weighted avg       1.00      1.00      1.00   1280000\n",
      "\n",
      "              precision    recall  f1-score   support\n",
      "\n",
      "           0       0.42      0.38      0.40    639261\n",
      "           1       0.44      0.48      0.46    640739\n",
      "\n",
      "    accuracy                           0.43   1280000\n",
      "   macro avg       0.43      0.43      0.43   1280000\n",
      "weighted avg       0.43      0.43      0.43   1280000\n",
      "\n",
      "              precision    recall  f1-score   support\n",
      "\n",
      "           0       1.00      1.00      1.00       484\n",
      "           1       1.00      1.00      1.00       516\n",
      "\n",
      "    accuracy                           1.00      1000\n",
      "   macro avg       1.00      1.00      1.00      1000\n",
      "weighted avg       1.00      1.00      1.00      1000\n",
      "\n",
      "              precision    recall  f1-score   support\n",
      "\n",
      "           0       0.44      0.38      0.41       504\n",
      "           1       0.44      0.50      0.47       496\n",
      "\n",
      "    accuracy                           0.44      1000\n",
      "   macro avg       0.44      0.44      0.44      1000\n",
      "weighted avg       0.44      0.44      0.44      1000\n",
      "\n",
      "\n",
      "\n",
      "\n",
      "\n",
      "Control Experiment \n",
      " Layer: 1\n",
      " Key:{'left': (0, 1), 'right': (0, 1)}\n",
      "\n",
      "\n"
     ]
    },
    {
     "name": "stderr",
     "output_type": "stream",
     "text": [
      "Finished epoch 10 of 10; error is 31.056622040126967"
     ]
    },
    {
     "name": "stdout",
     "output_type": "stream",
     "text": [
      "              precision    recall  f1-score   support\n",
      "\n",
      "           0       1.00      1.00      1.00    638799\n",
      "           1       1.00      1.00      1.00    641201\n",
      "\n",
      "    accuracy                           1.00   1280000\n",
      "   macro avg       1.00      1.00      1.00   1280000\n",
      "weighted avg       1.00      1.00      1.00   1280000\n",
      "\n",
      "              precision    recall  f1-score   support\n",
      "\n",
      "           0       1.00      1.00      1.00    639823\n",
      "           1       1.00      1.00      1.00    640177\n",
      "\n",
      "    accuracy                           1.00   1280000\n",
      "   macro avg       1.00      1.00      1.00   1280000\n",
      "weighted avg       1.00      1.00      1.00   1280000\n",
      "\n",
      "              precision    recall  f1-score   support\n",
      "\n",
      "           0       1.00      1.00      1.00       509\n",
      "           1       1.00      1.00      1.00       491\n",
      "\n",
      "    accuracy                           1.00      1000\n",
      "   macro avg       1.00      1.00      1.00      1000\n",
      "weighted avg       1.00      1.00      1.00      1000\n",
      "\n",
      "              precision    recall  f1-score   support\n",
      "\n",
      "           0       1.00      1.00      1.00       503\n",
      "           1       1.00      1.00      1.00       497\n",
      "\n",
      "    accuracy                           1.00      1000\n",
      "   macro avg       1.00      1.00      1.00      1000\n",
      "weighted avg       1.00      1.00      1.00      1000\n",
      "\n"
     ]
    }
   ],
   "source": [
    "\n",
    "\n",
    "def enum_keys():\n",
    "    for left in [(), 0,1, (0,1)]:\n",
    "        for right in [(), 0,1, (0,1)]:\n",
    "            if (left,right) not in [((),()), \n",
    "                                    ((),(0,1)), \n",
    "                                    ((0,1),())]:\n",
    "                yield {\"left\":left,\n",
    "                       \"right\":right}\n",
    "\n",
    "\n",
    "if not debug:\n",
    "    data_size = 1280000\n",
    "    for k in [0,1]:\n",
    "        for key in enum_keys():\n",
    "            \n",
    "            print(f\"\\n\\n\\n\\nControl Experiment \\n Layer: {k}\\n Key:{key}\\n\\n\")\n",
    "            train_datasetIIT = \\\n",
    "                dataset_equality.get_IIT_equality_dataset_control(key, \n",
    "                                                            embedding_dim,   \n",
    "                                                            data_size)\n",
    "            X_base_train, y_base_train = train_datasetIIT[0:2]\n",
    "            iit_data = tuple(train_datasetIIT[2:])\n",
    "            test_datasetIIT = \\\n",
    "                dataset_equality.get_IIT_equality_dataset_control(key, \n",
    "                                                            embedding_dim, \n",
    "                                                            1000)\n",
    "            base_test, y_base_test, sources_test, y_IIT_test, intervention_ids_test = test_datasetIIT\n",
    "\n",
    "\n",
    "            if key[\"left\"] in [0,1] and key[\"right\"] in [0,1]:\n",
    "                key_size = 2\n",
    "            elif key[\"left\"] == (0,1) and key[\"right\"] == (0,1):\n",
    "                key_size = 4\n",
    "            elif key[\"left\"] == () or key[\"right\"] == ():\n",
    "                key_size = 1\n",
    "            else:\n",
    "                key_size = 3\n",
    "            id_to_coords = {\n",
    "                control:[{\"layer\": k, \"start\": 0, \"end\": key_size*embedding_dim}]\n",
    "            }\n",
    "            \n",
    "            LIM_trainer.model.load_state_dict(torch.load(PATH))\n",
    "\n",
    "            _ = LIM_trainer.fit(\n",
    "                X_base_train, \n",
    "                y_base_train, \n",
    "                iit_data=iit_data,\n",
    "                intervention_ids_to_coords=id_to_coords)\n",
    "            base_preds = LIM_trainer.predict(X_base_train, device=\"cpu\")\n",
    "            print(classification_report(y_base_train, base_preds))\n",
    "            IIT_preds = LIM_trainer.iit_predict(X_base_train, iit_data[0], iit_data[2] , id_to_coords, device=\"cpu\")\n",
    "            print(classification_report(iit_data[1], IIT_preds))\n",
    "            base_preds = LIM_trainer.predict(base_test, device=\"cpu\")\n",
    "            IIT_preds = LIM_trainer.iit_predict(base_test, sources_test, intervention_ids_test, id_to_coords, device=\"cpu\")\n",
    "            print(classification_report(y_base_test, base_preds))\n",
    "            print(classification_report(y_IIT_test, IIT_preds))\n",
    "\n",
    "            "
   ]
  },
  {
   "cell_type": "markdown",
   "metadata": {},
   "source": [
    "# Training Bert with No IIT"
   ]
  },
  {
   "cell_type": "code",
   "execution_count": null,
   "metadata": {},
   "outputs": [],
   "source": []
  },
  {
   "cell_type": "code",
   "execution_count": 1,
   "metadata": {},
   "outputs": [],
   "source": [
    "from LIM_bert import LIMBERTClassifier\n",
    "from trainer import BERTLIMTrainer\n",
    "from transformers import BertModel, BertTokenizer\n",
    "\n",
    "import torch\n",
    "import random\n",
    "import dataset_equality\n",
    "from sklearn.metrics import classification_report\n",
    "debug = True"
   ]
  },
  {
   "cell_type": "code",
   "execution_count": 2,
   "metadata": {},
   "outputs": [],
   "source": [
    "weights_name = \"bert-base-uncased\"\n",
    "bert_tokenizer = BertTokenizer.from_pretrained(weights_name)\n",
    "n_classes = 2"
   ]
  },
  {
   "cell_type": "code",
   "execution_count": 3,
   "metadata": {},
   "outputs": [],
   "source": [
    "vocab = bert_tokenizer.get_vocab()\n",
    "\n",
    "tokens = list(vocab.keys())\n",
    "\n",
    "random.shuffle(tokens)\n",
    "\n",
    "cutoff = int(0.9 * len(tokens))\n",
    "\n",
    "\n",
    "\n",
    "train_ids = bert_tokenizer.convert_tokens_to_ids(tokens[:cutoff])\n",
    "\n",
    "test_ids = bert_tokenizer.convert_tokens_to_ids(tokens[cutoff:])\n",
    "\n"
   ]
  },
  {
   "cell_type": "code",
   "execution_count": 4,
   "metadata": {},
   "outputs": [],
   "source": [
    "if debug:\n",
    "    train_size = 12\n",
    "else:\n",
    "    train_size = 20000\n",
    "    \n",
    "if debug:\n",
    "    test_size = 12\n",
    "else:\n",
    "    test_size = 5000\n",
    "\n",
    "\n",
    "iit_train_dataset = dataset_equality.get_IIT_equality_dataset_all(768, \n",
    "                                                             train_size,\n",
    "                                                             token_ids=train_ids)\n",
    "\n",
    "iit_test_dataset = dataset_equality.get_IIT_equality_dataset_all(768, \n",
    "                                                             test_size, \n",
    "                                                             token_ids=test_ids)\n",
    "X_base_train = (iit_train_dataset[0], iit_train_dataset[1])\n",
    "y_base_train = iit_train_dataset[2]\n",
    "X_sources_train = (iit_train_dataset[3], iit_train_dataset[4])\n",
    "y_IIT_train = iit_train_dataset[5]\n",
    "intervention_ids_train = iit_train_dataset[6]\n",
    "\n",
    "X_base_test = (iit_test_dataset[0], iit_test_dataset[1])\n",
    "y_base_test  = iit_test_dataset[2]\n",
    "X_sources_test  = (iit_test_dataset[3], iit_test_dataset[4])\n",
    "y_IIT_test  = iit_test_dataset[5]\n",
    "intervention_ids_test  = iit_test_dataset[6]"
   ]
  },
  {
   "cell_type": "code",
   "execution_count": 5,
   "metadata": {},
   "outputs": [
    {
     "name": "stderr",
     "output_type": "stream",
     "text": [
      "Some weights of the model checkpoint at bert-base-uncased were not used when initializing BertModel: ['cls.predictions.decoder.weight', 'cls.predictions.transform.LayerNorm.weight', 'cls.predictions.transform.dense.weight', 'cls.predictions.bias', 'cls.predictions.transform.LayerNorm.bias', 'cls.seq_relationship.bias', 'cls.seq_relationship.weight', 'cls.predictions.transform.dense.bias']\n",
      "- This IS expected if you are initializing BertModel from the checkpoint of a model trained on another task or with another architecture (e.g. initializing a BertForSequenceClassification model from a BertForPreTraining model).\n",
      "- This IS NOT expected if you are initializing BertModel from the checkpoint of a model that you expect to be exactly identical (initializing a BertForSequenceClassification model from a BertForSequenceClassification model).\n"
     ]
    }
   ],
   "source": [
    "bert = BertModel.from_pretrained(weights_name)"
   ]
  },
  {
   "cell_type": "code",
   "execution_count": 6,
   "metadata": {},
   "outputs": [],
   "source": [
    "max_length = 4\n",
    "embeddin_dim = 768\n",
    "LIM = LIMBERTClassifier(n_classes,\n",
    "                        bert,\n",
    "                        max_length=max_length,\n",
    "                        debug=debug,\n",
    "                        use_wrapper=True)"
   ]
  },
  {
   "cell_type": "code",
   "execution_count": 7,
   "metadata": {},
   "outputs": [],
   "source": [
    "LIM_trainer = BERTLIMTrainer(\n",
    "    LIM,\n",
    "    warm_start=True,\n",
    "    max_iter=3,\n",
    "    batch_size=16,\n",
    "    n_iter_no_change=10000,\n",
    "    shuffle_train=True,\n",
    "    eta=0.00001)\n"
   ]
  },
  {
   "cell_type": "code",
   "execution_count": null,
   "metadata": {},
   "outputs": [],
   "source": []
  },
  {
   "cell_type": "code",
   "execution_count": 8,
   "metadata": {},
   "outputs": [
    {
     "ename": "TypeError",
     "evalue": "'NoneType' object is not subscriptable",
     "output_type": "error",
     "traceback": [
      "\u001b[0;31m---------------------------------------------------------------------------\u001b[0m",
      "\u001b[0;31mTypeError\u001b[0m                                 Traceback (most recent call last)",
      "\u001b[0;32m/tmp/ipykernel_2720618/3355813172.py\u001b[0m in \u001b[0;36m<module>\u001b[0;34m\u001b[0m\n\u001b[1;32m      5\u001b[0m              \u001b[0my_IIT_train\u001b[0m\u001b[0;34m,\u001b[0m\u001b[0;34m\u001b[0m\u001b[0;34m\u001b[0m\u001b[0m\n\u001b[1;32m      6\u001b[0m              intervention_ids_train),\n\u001b[0;32m----> 7\u001b[0;31m     intervention_ids_to_coords=None)\n\u001b[0m",
      "\u001b[0;32m/juice/scr/atticusg/InterchangeInterventions/trainer.py\u001b[0m in \u001b[0;36mfit\u001b[0;34m(self, base, base_labels, iit_data, intervention_ids_to_coords, device)\u001b[0m\n\u001b[1;32m    354\u001b[0m                                     \u001b[0msources_batch\u001b[0m\u001b[0;34m,\u001b[0m\u001b[0;34m\u001b[0m\u001b[0;34m\u001b[0m\u001b[0m\n\u001b[1;32m    355\u001b[0m                                     \u001b[0mintervention_ids_batch\u001b[0m\u001b[0;34m,\u001b[0m\u001b[0;34m\u001b[0m\u001b[0;34m\u001b[0m\u001b[0m\n\u001b[0;32m--> 356\u001b[0;31m                                     intervention_ids_to_coords)\n\u001b[0m\u001b[1;32m    357\u001b[0m                     \u001b[0merr\u001b[0m \u001b[0;34m+=\u001b[0m \u001b[0mself\u001b[0m\u001b[0;34m.\u001b[0m\u001b[0mloss\u001b[0m\u001b[0;34m(\u001b[0m\u001b[0mbatch_iit_preds\u001b[0m\u001b[0;34m,\u001b[0m \u001b[0miit_labels_batch\u001b[0m\u001b[0;34m)\u001b[0m\u001b[0;34m\u001b[0m\u001b[0;34m\u001b[0m\u001b[0m\n\u001b[1;32m    358\u001b[0m                 \u001b[0;32mif\u001b[0m \u001b[0mself\u001b[0m\u001b[0;34m.\u001b[0m\u001b[0mgradient_accumulation_steps\u001b[0m \u001b[0;34m>\u001b[0m \u001b[0;36m1\u001b[0m \u001b[0;32mand\u001b[0m\u001b[0;31m \u001b[0m\u001b[0;31m\\\u001b[0m\u001b[0;34m\u001b[0m\u001b[0;34m\u001b[0m\u001b[0m\n",
      "\u001b[0;32m/juice/scr/atticusg/InterchangeInterventions/LIM_bert.py\u001b[0m in \u001b[0;36miit_forward\u001b[0;34m(self, base_pair, sources_pair, intervention_ids, intervention_ids_to_coords)\u001b[0m\n\u001b[1;32m    227\u001b[0m            for j in range(sources_input.shape[1])]\n\u001b[1;32m    228\u001b[0m         \u001b[0;31m#translate intervention_ids to coordinates\u001b[0m\u001b[0;34m\u001b[0m\u001b[0;34m\u001b[0m\u001b[0;34m\u001b[0m\u001b[0m\n\u001b[0;32m--> 229\u001b[0;31m         \u001b[0mgets\u001b[0m \u001b[0;34m=\u001b[0m  \u001b[0mintervention_ids_to_coords\u001b[0m\u001b[0;34m[\u001b[0m\u001b[0mint\u001b[0m\u001b[0;34m(\u001b[0m\u001b[0mintervention_ids\u001b[0m\u001b[0;34m.\u001b[0m\u001b[0mflatten\u001b[0m\u001b[0;34m(\u001b[0m\u001b[0;34m)\u001b[0m\u001b[0;34m[\u001b[0m\u001b[0;36m0\u001b[0m\u001b[0;34m]\u001b[0m\u001b[0;34m)\u001b[0m\u001b[0;34m]\u001b[0m\u001b[0;34m\u001b[0m\u001b[0;34m\u001b[0m\u001b[0m\n\u001b[0m\u001b[1;32m    230\u001b[0m         \u001b[0msets\u001b[0m \u001b[0;34m=\u001b[0m \u001b[0mcopy\u001b[0m\u001b[0;34m.\u001b[0m\u001b[0mdeepcopy\u001b[0m\u001b[0;34m(\u001b[0m\u001b[0mgets\u001b[0m\u001b[0;34m)\u001b[0m\u001b[0;34m\u001b[0m\u001b[0;34m\u001b[0m\u001b[0m\n\u001b[1;32m    231\u001b[0m         \u001b[0mself\u001b[0m\u001b[0;34m.\u001b[0m\u001b[0mactivation\u001b[0m \u001b[0;34m=\u001b[0m \u001b[0mdict\u001b[0m\u001b[0;34m(\u001b[0m\u001b[0;34m)\u001b[0m\u001b[0;34m\u001b[0m\u001b[0;34m\u001b[0m\u001b[0m\n",
      "\u001b[0;31mTypeError\u001b[0m: 'NoneType' object is not subscriptable"
     ]
    }
   ],
   "source": [
    "_ = LIM_trainer.fit(\n",
    "    X_base_train, \n",
    "    y_base_train, \n",
    "    iit_data=(X_sources_train,\n",
    "             y_IIT_train,\n",
    "             intervention_ids_train),\n",
    "    intervention_ids_to_coords=None)"
   ]
  },
  {
   "cell_type": "code",
   "execution_count": null,
   "metadata": {
    "scrolled": true
   },
   "outputs": [],
   "source": [
    "for input in X_base_train[0]:\n",
    "    input.cpu()\n",
    "for mask in X_base_train[1]:\n",
    "    mask.cpu()\n",
    "\n",
    "preds = LIM_trainer.predict(X_base_train,device=\"cpu\")\n",
    "print(classification_report(y_base_train, preds))"
   ]
  },
  {
   "cell_type": "code",
   "execution_count": null,
   "metadata": {},
   "outputs": [],
   "source": [
    "preds = LIM_trainer.predict(X_base_test, device=\"cpu\")\n",
    "print(classification_report(y_base_test, preds.cpu()))"
   ]
  },
  {
   "cell_type": "code",
   "execution_count": null,
   "metadata": {},
   "outputs": [],
   "source": [
    "V1 = 0\n",
    "V2 = 1\n",
    "both = 2\n",
    "control = 3\n",
    "embedding_dim = 768\n",
    "target_layer = 0\n",
    "id_to_coords = {\n",
    "    V1: [{\"layer\": target_layer, \"start\": 0, \"end\": 2*embedding_dim}],\n",
    "    V2: [{\"layer\": target_layer, \"start\":  2*embedding_dim, \"end\": 4*embedding_dim}],\n",
    "    both:[{\"layer\": target_layer, \"start\": 0, \"end\": 2*embedding_dim},\n",
    "          {\"layer\": target_layer, \"start\":  2*embedding_dim, \"end\": 4*embedding_dim}],\n",
    "    control:[{\"layer\": target_layer, \"start\": 0, \"end\": 2*embedding_dim}]\n",
    "}\n",
    "for inputs in X_sources_train[0]:\n",
    "    for input in inputs:\n",
    "        input.cpu()\n",
    "for masks in X_sources_train[0]:\n",
    "    for mask in masks:\n",
    "        mask.cpu()\n",
    "\n",
    "IIT_preds = LIM_trainer.iit_predict(X_base_train,\n",
    "                                    X_sources_train,\n",
    "                                    intervention_ids_train,\n",
    "                                    id_to_coords, \n",
    "                                    device=\"cpu\")\n",
    "print(classification_report(y_IIT_train, IIT_preds))"
   ]
  },
  {
   "cell_type": "markdown",
   "metadata": {},
   "source": [
    "# Set Analysis Mode to True and Verify Nothing Changes"
   ]
  },
  {
   "cell_type": "code",
   "execution_count": null,
   "metadata": {},
   "outputs": [],
   "source": [
    "LIM_trainer.model.unfreeze_disentangling_parameters(layer_num=target_layer)\n",
    "LIM_trainer.model.freeze_model_parameters()"
   ]
  },
  {
   "cell_type": "code",
   "execution_count": null,
   "metadata": {},
   "outputs": [],
   "source": [
    "for input in X_base_test[0]:\n",
    "    input.cpu()\n",
    "for mask in X_base_test[1]:\n",
    "    mask.cpu()\n",
    "\n",
    "base_preds = LIM_trainer.predict(X_base_test, device=\"cpu\")\n",
    "print(classification_report(y_base_test, base_preds.cpu()))"
   ]
  },
  {
   "cell_type": "code",
   "execution_count": null,
   "metadata": {},
   "outputs": [],
   "source": [
    "IIT_preds = LIM_trainer.iit_predict(X_base_test,\n",
    "                                    X_sources_test,\n",
    "                                    intervention_ids_test,\n",
    "                                    id_to_coords,\n",
    "                                    device=\"cpu\")\n",
    "print(classification_report(y_IIT_test, IIT_preds.cpu()))"
   ]
  },
  {
   "cell_type": "markdown",
   "metadata": {},
   "source": [
    "# Train a Basis Agnostic Alignment"
   ]
  },
  {
   "cell_type": "code",
   "execution_count": null,
   "metadata": {},
   "outputs": [],
   "source": [
    "LIM_trainer.model.bert.embeddings.dropout.p = 0.0\n",
    "\n",
    "for l in LIM_trainer.model.bert.encoder.layers:\n",
    "    l.layer.attention.self.dropout.p = 0.0\n",
    "    l.layer.attention.output.dropout.p = 0.0\n",
    "    l.layer.output.dropout.p = 0.0\n",
    "\n",
    "for g in LIM_trainer.optimizer.param_groups:\n",
    "    g['lr'] = 0.001"
   ]
  },
  {
   "cell_type": "code",
   "execution_count": null,
   "metadata": {},
   "outputs": [],
   "source": [
    "\n",
    "\n",
    "LIM_trainer.max_iter = 50\n",
    "_ = LIM_trainer.fit(\n",
    "    X_base_train, \n",
    "    y_base_train, \n",
    "    iit_data=(X_sources_train,\n",
    "             y_IIT_train,\n",
    "             intervention_ids_train),\n",
    "    intervention_ids_to_coords=id_to_coords)"
   ]
  },
  {
   "cell_type": "code",
   "execution_count": null,
   "metadata": {},
   "outputs": [],
   "source": [
    "base_preds = LIM_trainer.predict(X_base_train, device=\"cpu\")\n",
    "print(classification_report(y_base_train, base_preds.cpu()))"
   ]
  },
  {
   "cell_type": "code",
   "execution_count": null,
   "metadata": {},
   "outputs": [],
   "source": [
    "IIT_preds = LIM_trainer.iit_predict(X_base_train,\n",
    "                                    X_sources_train,\n",
    "                                    intervention_ids_train,\n",
    "                                    id_to_coords,\n",
    "                                    device=\"cpu\")\n"
   ]
  },
  {
   "cell_type": "code",
   "execution_count": null,
   "metadata": {},
   "outputs": [],
   "source": [
    "print(classification_report(y_IIT_train, IIT_preds.cpu()))"
   ]
  },
  {
   "cell_type": "code",
   "execution_count": null,
   "metadata": {},
   "outputs": [],
   "source": [
    "base_preds = LIM_trainer.predict(X_base_test, device=\"cpu\")\n",
    "print(classification_report(y_base_test, base_preds.cpu()))"
   ]
  },
  {
   "cell_type": "code",
   "execution_count": null,
   "metadata": {},
   "outputs": [],
   "source": [
    "IIT_preds = LIM_trainer.iit_predict(X_base_test,\n",
    "                                    X_sources_test,\n",
    "                                    intervention_ids_test,\n",
    "                                    id_to_coords,\n",
    "                                    device=\"cpu\")\n",
    "print(classification_report(y_IIT_test, IIT_preds.cpu()))"
   ]
  },
  {
   "cell_type": "code",
   "execution_count": null,
   "metadata": {},
   "outputs": [],
   "source": []
  },
  {
   "cell_type": "code",
   "execution_count": null,
   "metadata": {},
   "outputs": [],
   "source": []
  },
  {
   "cell_type": "code",
   "execution_count": null,
   "metadata": {},
   "outputs": [],
   "source": []
  }
 ],
 "metadata": {
  "kernelspec": {
   "display_name": "interchange",
   "language": "python",
   "name": "python3"
  },
  "language_info": {
   "codemirror_mode": {
    "name": "ipython",
    "version": 3
   },
   "file_extension": ".py",
   "mimetype": "text/x-python",
   "name": "python",
   "nbconvert_exporter": "python",
   "pygments_lexer": "ipython3",
   "version": "3.9.13"
  },
  "vscode": {
   "interpreter": {
    "hash": "d283f86b5d2fbc31f35f78f73be4d0bb5be67dfbb54fdd34f287f29d60f844e5"
   }
  }
 },
 "nbformat": 4,
 "nbformat_minor": 5
}
