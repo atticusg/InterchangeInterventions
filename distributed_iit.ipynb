{
 "cells": [
  {
   "cell_type": "code",
   "execution_count": 1,
   "id": "f1394185",
   "metadata": {},
   "outputs": [],
   "source": [
    "import torch\n",
    "import random\n",
    "import copy\n",
    "import itertools\n",
    "import numpy as np\n",
    "import utils\n",
    "from trainer import LIMTrainer\n",
    "\n",
    "from sklearn.metrics import classification_report\n",
    "from LIM_deep_neural_classifier import LIMDeepNeuralClassifier\n",
    "import dataset_equality"
   ]
  },
  {
   "cell_type": "code",
   "execution_count": 2,
   "id": "9c884d19",
   "metadata": {},
   "outputs": [],
   "source": [
    "utils.fix_random_seeds()\n",
    "\n",
    "def print_weights(LIM, n, verbose=False):\n",
    "    for i, layer in enumerate(LIM.labeled_layers):\n",
    "        print(f\"\\n\\n\\n\\n -----      Layer {i}      -----\")\n",
    "        for name, param in layer[\"model\"].named_parameters():\n",
    "            print(name,param.data.shape, param.requires_grad)\n",
    "            if verbose:\n",
    "                print(param.data)\n",
    "        if \"disentangle\" in layer:\n",
    "            w = layer[\"disentangle\"].weight\n",
    "            print(w.requires_grad)\n",
    "            if verbose:\n",
    "                print(w.data)\n",
    "            print(torch.dist(w.T @ w.data, torch.eye(16).to(\"cuda\")))"
   ]
  },
  {
   "cell_type": "markdown",
   "id": "09568a16",
   "metadata": {},
   "source": [
    "# Training a Model with no IIT"
   ]
  },
  {
   "cell_type": "code",
   "execution_count": 3,
   "id": "7819a777",
   "metadata": {},
   "outputs": [],
   "source": [
    "embedding_dim = 4\n",
    "V1 = 0\n",
    "V2 = 1\n",
    "both = 2\n",
    "control13 = 3\n",
    "\n",
    "id_to_coords = {\n",
    "    V1: [{\"layer\": 0, \"start\": 0, \"end\": 2*embedding_dim}],\n",
    "    V2: [{\"layer\": 0, \"start\":  2*embedding_dim, \"end\": 4*embedding_dim}],\n",
    "    both:[{\"layer\": 0, \"start\": 0, \"end\": 2*embedding_dim},{\"layer\": 0, \"start\":  2*embedding_dim, \"end\": 4*embedding_dim}],\n",
    "    control13:[{\"layer\": 0, \"start\": 0, \"end\": 2*embedding_dim}]\n",
    "}"
   ]
  },
  {
   "cell_type": "code",
   "execution_count": 4,
   "id": "ff731e63",
   "metadata": {},
   "outputs": [],
   "source": [
    "control = False\n",
    "AB = True\n",
    "if control:\n",
    "    data_size = 1280000\n",
    "    iit_equality_dataset = dataset_equality.get_IIT_equality_dataset_control13(embedding_dim, data_size)\n",
    "elif AB:\n",
    "    data_size = 640000\n",
    "    iit_equality_datasetA = \\\n",
    "        dataset_equality.get_IIT_equality_dataset(\"V1\", embedding_dim, data_size)\n",
    "    iit_equality_datasetB = \\\n",
    "        dataset_equality.get_IIT_equality_dataset(\"V2\", embedding_dim, data_size)\n",
    "\n",
    "    iit_equality_dataset = (torch.cat((iit_equality_datasetA[0], iit_equality_datasetB[0])),\n",
    "                       torch.cat((iit_equality_datasetA[1], iit_equality_datasetB[1])), \n",
    "                       [torch.cat((iit_equality_datasetA[2][0], iit_equality_datasetB[2][0]))], \n",
    "                       torch.cat((iit_equality_datasetA[3], iit_equality_datasetB[3])), \n",
    "                       torch.cat((iit_equality_datasetA[4], iit_equality_datasetB[4])), \n",
    "                       )\n",
    "else:\n",
    "    data_size = 640000\n",
    "    iit_equality_dataset = \\\n",
    "        dataset_equality.get_IIT_equality_dataset(\"V1\", embedding_dim, data_size)\n",
    "\n",
    "X_base_train, y_base_train = iit_equality_dataset[0:2]\n",
    "iit_data = tuple(iit_equality_dataset[2:])\n",
    "\n"
   ]
  },
  {
   "cell_type": "code",
   "execution_count": 5,
   "id": "60da9665",
   "metadata": {},
   "outputs": [],
   "source": [
    "LIM = LIMDeepNeuralClassifier(\n",
    "    hidden_dim=embedding_dim*4, \n",
    "    hidden_activation=torch.nn.ReLU(), \n",
    "    num_layers=2,\n",
    "    input_dim=embedding_dim*4,\n",
    "    n_classes=2\n",
    "    )"
   ]
  },
  {
   "cell_type": "code",
   "execution_count": 6,
   "id": "b1b2992d",
   "metadata": {},
   "outputs": [],
   "source": [
    "LIM_trainer = LIMTrainer(\n",
    "    LIM,\n",
    "    warm_start=True,\n",
    "    max_iter=10,\n",
    "    batch_size=64,\n",
    "    n_iter_no_change=10000,\n",
    "    shuffle_train=False,\n",
    "    eta=0.001)"
   ]
  },
  {
   "cell_type": "code",
   "execution_count": 7,
   "id": "c8b23421",
   "metadata": {},
   "outputs": [
    {
     "name": "stdout",
     "output_type": "stream",
     "text": [
      "\n",
      "\n",
      "\n",
      "\n",
      " -----      Layer 0      -----\n",
      "linear.weight torch.Size([16, 16]) True\n",
      "linear.bias torch.Size([16]) True\n",
      "False\n",
      "tensor(1.0361e-06, device='cuda:0')\n",
      "\n",
      "\n",
      "\n",
      "\n",
      " -----      Layer 1      -----\n",
      "linear.weight torch.Size([16, 16]) True\n",
      "linear.bias torch.Size([16]) True\n",
      "False\n",
      "tensor(1.3227e-06, device='cuda:0')\n",
      "\n",
      "\n",
      "\n",
      "\n",
      " -----      Layer 2      -----\n",
      "weight torch.Size([2, 16]) True\n",
      "bias torch.Size([2]) True\n"
     ]
    }
   ],
   "source": [
    "print_weights(LIM,embedding_dim*4)"
   ]
  },
  {
   "cell_type": "code",
   "execution_count": 8,
   "id": "1886caf5",
   "metadata": {},
   "outputs": [
    {
     "name": "stderr",
     "output_type": "stream",
     "text": [
      "Finished epoch 10 of 10; error is 15.062122988900228"
     ]
    }
   ],
   "source": [
    "_ = LIM_trainer.fit(\n",
    "    X_base_train, \n",
    "    y_base_train, \n",
    "    iit_data=None,\n",
    "    intervention_ids_to_coords=id_to_coords)"
   ]
  },
  {
   "cell_type": "code",
   "execution_count": 9,
   "id": "42c7e94d",
   "metadata": {},
   "outputs": [
    {
     "name": "stdout",
     "output_type": "stream",
     "text": [
      "              precision    recall  f1-score   support\n",
      "\n",
      "           0       1.00      1.00      1.00    640000\n",
      "           1       1.00      1.00      1.00    640000\n",
      "\n",
      "    accuracy                           1.00   1280000\n",
      "   macro avg       1.00      1.00      1.00   1280000\n",
      "weighted avg       1.00      1.00      1.00   1280000\n",
      "\n"
     ]
    }
   ],
   "source": [
    "base_preds = LIM_trainer.predict(X_base_train, device=\"cpu\")\n",
    "print(classification_report(y_base_train, base_preds))"
   ]
  },
  {
   "cell_type": "code",
   "execution_count": 10,
   "id": "8b14de74",
   "metadata": {},
   "outputs": [
    {
     "name": "stdout",
     "output_type": "stream",
     "text": [
      "              precision    recall  f1-score   support\n",
      "\n",
      "           0       0.80      0.87      0.84    640000\n",
      "           1       0.86      0.78      0.82    640000\n",
      "\n",
      "    accuracy                           0.83   1280000\n",
      "   macro avg       0.83      0.83      0.83   1280000\n",
      "weighted avg       0.83      0.83      0.83   1280000\n",
      "\n"
     ]
    }
   ],
   "source": [
    "IIT_preds = LIM_trainer.iit_predict(X_base_train, iit_data[0], iit_data[2] , id_to_coords, device=\"cpu\")\n",
    "print(classification_report(iit_data[1], IIT_preds))"
   ]
  },
  {
   "cell_type": "code",
   "execution_count": 11,
   "id": "6dcbe32c",
   "metadata": {},
   "outputs": [],
   "source": [
    "datasetIIT = dataset_equality.get_IIT_equality_dataset_both(embedding_dim, 1000)\n",
    "\n",
    "base_test, y_base_test, sources_test, y_IIT_test, intervention_ids_test = datasetIIT\n",
    "\n",
    "base_preds = LIM_trainer.predict(base_test, device=\"cpu\")\n",
    "\n",
    "IIT_preds = LIM_trainer.iit_predict(base_test, sources_test, intervention_ids_test, id_to_coords, device=\"cpu\")"
   ]
  },
  {
   "cell_type": "code",
   "execution_count": 12,
   "id": "da318c55",
   "metadata": {},
   "outputs": [
    {
     "name": "stdout",
     "output_type": "stream",
     "text": [
      "              precision    recall  f1-score   support\n",
      "\n",
      "           0       1.00      1.00      1.00       500\n",
      "           1       1.00      1.00      1.00       500\n",
      "\n",
      "    accuracy                           1.00      1000\n",
      "   macro avg       1.00      1.00      1.00      1000\n",
      "weighted avg       1.00      1.00      1.00      1000\n",
      "\n"
     ]
    }
   ],
   "source": [
    "print(classification_report(y_base_test, base_preds))"
   ]
  },
  {
   "cell_type": "code",
   "execution_count": 13,
   "id": "84236f73",
   "metadata": {},
   "outputs": [
    {
     "name": "stdout",
     "output_type": "stream",
     "text": [
      "              precision    recall  f1-score   support\n",
      "\n",
      "           0       0.80      0.87      0.83       505\n",
      "           1       0.85      0.78      0.81       495\n",
      "\n",
      "    accuracy                           0.82      1000\n",
      "   macro avg       0.83      0.82      0.82      1000\n",
      "weighted avg       0.83      0.82      0.82      1000\n",
      "\n"
     ]
    }
   ],
   "source": [
    "print(classification_report(y_IIT_test, IIT_preds))"
   ]
  },
  {
   "cell_type": "markdown",
   "id": "dc958e51",
   "metadata": {},
   "source": [
    "# Set Analysis Mode to True and Verify Nothing Changes"
   ]
  },
  {
   "cell_type": "code",
   "execution_count": 14,
   "id": "e44dbce9",
   "metadata": {},
   "outputs": [
    {
     "name": "stdout",
     "output_type": "stream",
     "text": [
      "\n",
      "\n",
      "\n",
      "\n",
      " -----      Layer 0      -----\n",
      "linear.weight torch.Size([16, 16]) False\n",
      "linear.bias torch.Size([16]) False\n",
      "True\n",
      "tensor(1.0361e-06, device='cuda:0', grad_fn=<DistBackward0>)\n",
      "\n",
      "\n",
      "\n",
      "\n",
      " -----      Layer 1      -----\n",
      "linear.weight torch.Size([16, 16]) False\n",
      "linear.bias torch.Size([16]) False\n",
      "True\n",
      "tensor(1.3227e-06, device='cuda:0', grad_fn=<DistBackward0>)\n",
      "\n",
      "\n",
      "\n",
      "\n",
      " -----      Layer 2      -----\n",
      "weight torch.Size([2, 16]) False\n",
      "bias torch.Size([2]) False\n"
     ]
    }
   ],
   "source": [
    "LIM_trainer.model.set_analysis_mode(True)\n",
    "print_weights(LIM,embedding_dim*4)"
   ]
  },
  {
   "cell_type": "code",
   "execution_count": 15,
   "id": "e0a254e8",
   "metadata": {},
   "outputs": [
    {
     "name": "stdout",
     "output_type": "stream",
     "text": [
      "              precision    recall  f1-score   support\n",
      "\n",
      "           0       1.00      1.00      1.00       500\n",
      "           1       1.00      1.00      1.00       500\n",
      "\n",
      "    accuracy                           1.00      1000\n",
      "   macro avg       1.00      1.00      1.00      1000\n",
      "weighted avg       1.00      1.00      1.00      1000\n",
      "\n"
     ]
    }
   ],
   "source": [
    "base_preds = LIM_trainer.predict(base_test, device=\"cpu\")\n",
    "\n",
    "IIT_preds = LIM_trainer.iit_predict(base_test, sources_test, intervention_ids_test, id_to_coords, device=\"cpu\")\n",
    "print(classification_report(y_base_test, base_preds))"
   ]
  },
  {
   "cell_type": "code",
   "execution_count": 16,
   "id": "a73c92f8",
   "metadata": {},
   "outputs": [
    {
     "name": "stdout",
     "output_type": "stream",
     "text": [
      "              precision    recall  f1-score   support\n",
      "\n",
      "           0       0.64      0.44      0.52       505\n",
      "           1       0.57      0.75      0.64       495\n",
      "\n",
      "    accuracy                           0.59      1000\n",
      "   macro avg       0.60      0.59      0.58      1000\n",
      "weighted avg       0.60      0.59      0.58      1000\n",
      "\n"
     ]
    }
   ],
   "source": [
    "print(classification_report(y_IIT_test, IIT_preds))"
   ]
  },
  {
   "cell_type": "markdown",
   "id": "97b1885e",
   "metadata": {},
   "source": [
    "# Train a Basis Agnostic Alignment"
   ]
  },
  {
   "cell_type": "code",
   "execution_count": 17,
   "id": "0b420118",
   "metadata": {},
   "outputs": [
    {
     "name": "stderr",
     "output_type": "stream",
     "text": [
      "Finished epoch 10 of 10; error is 397.85884997464746"
     ]
    }
   ],
   "source": [
    "_ = LIM_trainer.fit(\n",
    "    X_base_train, \n",
    "    y_base_train, \n",
    "    iit_data=iit_data,\n",
    "    intervention_ids_to_coords=id_to_coords)"
   ]
  },
  {
   "cell_type": "code",
   "execution_count": 18,
   "id": "cfec0286",
   "metadata": {},
   "outputs": [
    {
     "name": "stdout",
     "output_type": "stream",
     "text": [
      "\n",
      "\n",
      "\n",
      "\n",
      " -----      Layer 0      -----\n",
      "linear.weight torch.Size([16, 16]) False\n",
      "linear.bias torch.Size([16]) False\n",
      "True\n",
      "tensor(2.1224e-06, device='cuda:0', grad_fn=<DistBackward0>)\n",
      "\n",
      "\n",
      "\n",
      "\n",
      " -----      Layer 1      -----\n",
      "linear.weight torch.Size([16, 16]) False\n",
      "linear.bias torch.Size([16]) False\n",
      "True\n",
      "tensor(3.7412e-06, device='cuda:0', grad_fn=<DistBackward0>)\n",
      "\n",
      "\n",
      "\n",
      "\n",
      " -----      Layer 2      -----\n",
      "weight torch.Size([2, 16]) False\n",
      "bias torch.Size([2]) False\n"
     ]
    }
   ],
   "source": [
    "print_weights(LIM,embedding_dim*4)"
   ]
  },
  {
   "cell_type": "code",
   "execution_count": 19,
   "id": "56182ac4",
   "metadata": {},
   "outputs": [
    {
     "name": "stdout",
     "output_type": "stream",
     "text": [
      "              precision    recall  f1-score   support\n",
      "\n",
      "           0       1.00      1.00      1.00    640000\n",
      "           1       1.00      1.00      1.00    640000\n",
      "\n",
      "    accuracy                           1.00   1280000\n",
      "   macro avg       1.00      1.00      1.00   1280000\n",
      "weighted avg       1.00      1.00      1.00   1280000\n",
      "\n"
     ]
    }
   ],
   "source": [
    "base_preds = LIM_trainer.predict(X_base_train, device=\"cpu\")\n",
    "print(classification_report(y_base_train, base_preds))"
   ]
  },
  {
   "cell_type": "code",
   "execution_count": 20,
   "id": "6b2ab1bc",
   "metadata": {},
   "outputs": [
    {
     "name": "stdout",
     "output_type": "stream",
     "text": [
      "              precision    recall  f1-score   support\n",
      "\n",
      "           0       0.99      1.00      0.99    640000\n",
      "           1       1.00      0.99      0.99    640000\n",
      "\n",
      "    accuracy                           0.99   1280000\n",
      "   macro avg       0.99      0.99      0.99   1280000\n",
      "weighted avg       0.99      0.99      0.99   1280000\n",
      "\n"
     ]
    }
   ],
   "source": [
    "IIT_preds = LIM_trainer.iit_predict(X_base_train, iit_data[0], iit_data[2] , id_to_coords, device=\"cpu\")\n",
    "print(classification_report(iit_data[1], IIT_preds))\n"
   ]
  },
  {
   "cell_type": "code",
   "execution_count": 21,
   "id": "d8f80aa4",
   "metadata": {},
   "outputs": [
    {
     "name": "stdout",
     "output_type": "stream",
     "text": [
      "              precision    recall  f1-score   support\n",
      "\n",
      "           0       1.00      1.00      1.00       500\n",
      "           1       1.00      1.00      1.00       500\n",
      "\n",
      "    accuracy                           1.00      1000\n",
      "   macro avg       1.00      1.00      1.00      1000\n",
      "weighted avg       1.00      1.00      1.00      1000\n",
      "\n"
     ]
    }
   ],
   "source": [
    "base_preds = LIM_trainer.predict(base_test, device=\"cpu\")\n",
    "\n",
    "IIT_preds = LIM_trainer.iit_predict(base_test, sources_test, intervention_ids_test, id_to_coords, device=\"cpu\")\n",
    "print(classification_report(y_base_test, base_preds))"
   ]
  },
  {
   "cell_type": "code",
   "execution_count": 22,
   "id": "a95660d1",
   "metadata": {},
   "outputs": [
    {
     "name": "stdout",
     "output_type": "stream",
     "text": [
      "              precision    recall  f1-score   support\n",
      "\n",
      "           0       0.98      0.99      0.99       505\n",
      "           1       0.99      0.98      0.99       495\n",
      "\n",
      "    accuracy                           0.99      1000\n",
      "   macro avg       0.99      0.99      0.99      1000\n",
      "weighted avg       0.99      0.99      0.99      1000\n",
      "\n"
     ]
    }
   ],
   "source": [
    "print(classification_report(y_IIT_test, IIT_preds))"
   ]
  },
  {
   "cell_type": "code",
   "execution_count": null,
   "id": "0a565919",
   "metadata": {},
   "outputs": [],
   "source": []
  }
 ],
 "metadata": {
  "kernelspec": {
   "display_name": "Python 3 (ipykernel)",
   "language": "python",
   "name": "python3"
  },
  "language_info": {
   "codemirror_mode": {
    "name": "ipython",
    "version": 3
   },
   "file_extension": ".py",
   "mimetype": "text/x-python",
   "name": "python",
   "nbconvert_exporter": "python",
   "pygments_lexer": "ipython3",
   "version": "3.9.6"
  }
 },
 "nbformat": 4,
 "nbformat_minor": 5
}
