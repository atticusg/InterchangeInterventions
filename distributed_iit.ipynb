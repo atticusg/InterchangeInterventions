{
 "cells": [
  {
   "cell_type": "code",
   "execution_count": 1,
   "id": "0c395bce",
   "metadata": {},
   "outputs": [],
   "source": [
    "import torch\n",
    "import random\n",
    "import copy\n",
    "import itertools\n",
    "import numpy as np\n",
    "import utils\n",
    "from trainer import LIMTrainer\n",
    "\n",
    "from sklearn.metrics import classification_report\n",
    "from LIM_deep_neural_classifier import LIMDeepNeuralClassifier\n",
    "import dataset_equality"
   ]
  },
  {
   "cell_type": "code",
   "execution_count": 2,
   "id": "25e1e4b2",
   "metadata": {},
   "outputs": [],
   "source": [
    "utils.fix_random_seeds()\n",
    "debug = True\n",
    "\n",
    "def print_weights(LIM, n, verbose=False):\n",
    "    for i, layer in enumerate(LIM.labeled_layers):\n",
    "        print(f\"\\n\\n\\n\\n -----      Layer {i}      -----\")\n",
    "        for name, param in layer[\"model\"].named_parameters():\n",
    "            print(name,param.data.shape, param.requires_grad)\n",
    "            if verbose:\n",
    "                print(param.data)\n",
    "        if \"disentangle\" in layer:\n",
    "            w = layer[\"disentangle\"].weight\n",
    "            print(w.requires_grad)\n",
    "            if verbose:\n",
    "                print(w.data)\n",
    "            print(torch.dist(w.T @ w.data, torch.eye(16).to(\"cuda\")))"
   ]
  },
  {
   "cell_type": "markdown",
   "id": "5c79e942",
   "metadata": {},
   "source": [
    "# Training a Feed-Forward Neural Network with no IIT"
   ]
  },
  {
   "cell_type": "code",
   "execution_count": 3,
   "id": "71b5b474",
   "metadata": {},
   "outputs": [],
   "source": [
    "embedding_dim = 4\n",
    "V1 = 0\n",
    "V2 = 1\n",
    "both = 2\n",
    "control13 = 3\n",
    "\n",
    "id_to_coords = {\n",
    "    V1: [{\"layer\": 0, \"start\": 0, \"end\": 2*embedding_dim}],\n",
    "    V2: [{\"layer\": 0, \"start\":  2*embedding_dim, \"end\": 4*embedding_dim}],\n",
    "    both:[{\"layer\": 0, \"start\": 0, \"end\": 2*embedding_dim},{\"layer\": 0, \"start\":  2*embedding_dim, \"end\": 4*embedding_dim}],\n",
    "    control13:[{\"layer\": 0, \"start\": 0, \"end\": 2*embedding_dim}]\n",
    "}"
   ]
  },
  {
   "cell_type": "code",
   "execution_count": 4,
   "id": "154281f2",
   "metadata": {},
   "outputs": [],
   "source": [
    "control = False\n",
    "if control:\n",
    "    if debug:\n",
    "        data_size = 128\n",
    "    else:\n",
    "        data_size = 1280000\n",
    "    iit_equality_dataset = \\\n",
    "        dataset_equality.get_IIT_equality_dataset_control13(embedding_dim, \n",
    "                                                            data_size)\n",
    "else:\n",
    "    if debug:\n",
    "        data_size = 64\n",
    "    else:\n",
    "        data_size = 640000\n",
    "    iit_equality_dataset = \\\n",
    "        dataset_equality.get_IIT_equality_dataset_all(embedding_dim, \n",
    "                                                      data_size)\n",
    "\n",
    "X_base_train, y_base_train = iit_equality_dataset[0:2]\n",
    "iit_data = tuple(iit_equality_dataset[2:])"
   ]
  },
  {
   "cell_type": "code",
   "execution_count": 5,
   "id": "3b63f14f",
   "metadata": {},
   "outputs": [],
   "source": [
    "LIM = LIMDeepNeuralClassifier(\n",
    "    hidden_dim=embedding_dim*4, \n",
    "    hidden_activation=torch.nn.ReLU(), \n",
    "    num_layers=2,\n",
    "    input_dim=embedding_dim*4,\n",
    "    n_classes=2\n",
    "    )"
   ]
  },
  {
   "cell_type": "code",
   "execution_count": 6,
   "id": "9880dbd6",
   "metadata": {},
   "outputs": [],
   "source": [
    "LIM_trainer = LIMTrainer(\n",
    "    LIM,\n",
    "    warm_start=True,\n",
    "    max_iter=10,\n",
    "    batch_size=64,\n",
    "    n_iter_no_change=10000,\n",
    "    shuffle_train=False,\n",
    "    eta=0.001)"
   ]
  },
  {
   "cell_type": "code",
   "execution_count": 7,
   "id": "9b845ca6",
   "metadata": {},
   "outputs": [
    {
     "name": "stdout",
     "output_type": "stream",
     "text": [
      "\n",
      "\n",
      "\n",
      "\n",
      " -----      Layer 0      -----\n",
      "linear.weight torch.Size([16, 16]) True\n",
      "linear.bias torch.Size([16]) True\n",
      "False\n",
      "tensor(1.1129e-06, device='cuda:0')\n",
      "\n",
      "\n",
      "\n",
      "\n",
      " -----      Layer 1      -----\n",
      "linear.weight torch.Size([16, 16]) True\n",
      "linear.bias torch.Size([16]) True\n",
      "False\n",
      "tensor(1.5595e-06, device='cuda:0')\n",
      "\n",
      "\n",
      "\n",
      "\n",
      " -----      Layer 2      -----\n",
      "weight torch.Size([2, 16]) True\n",
      "bias torch.Size([2]) True\n"
     ]
    }
   ],
   "source": [
    "print_weights(LIM,embedding_dim*4)"
   ]
  },
  {
   "cell_type": "code",
   "execution_count": 8,
   "id": "af9a3830",
   "metadata": {},
   "outputs": [
    {
     "name": "stderr",
     "output_type": "stream",
     "text": [
      "Finished epoch 10 of 10; error is 2.0710567235946655"
     ]
    }
   ],
   "source": [
    "_ = LIM_trainer.fit(\n",
    "    X_base_train, \n",
    "    y_base_train, \n",
    "    iit_data=None,\n",
    "    intervention_ids_to_coords=id_to_coords)"
   ]
  },
  {
   "cell_type": "code",
   "execution_count": 9,
   "id": "9cd786cd",
   "metadata": {},
   "outputs": [
    {
     "name": "stdout",
     "output_type": "stream",
     "text": [
      "              precision    recall  f1-score   support\n",
      "\n",
      "           0       0.77      0.11      0.19        94\n",
      "           1       0.53      0.97      0.69        98\n",
      "\n",
      "    accuracy                           0.55       192\n",
      "   macro avg       0.65      0.54      0.44       192\n",
      "weighted avg       0.65      0.55      0.44       192\n",
      "\n"
     ]
    }
   ],
   "source": [
    "base_preds = LIM_trainer.predict(X_base_train, device=\"cpu\")\n",
    "print(classification_report(y_base_train, base_preds))"
   ]
  },
  {
   "cell_type": "code",
   "execution_count": 10,
   "id": "e6d0c335",
   "metadata": {},
   "outputs": [
    {
     "name": "stdout",
     "output_type": "stream",
     "text": [
      "              precision    recall  f1-score   support\n",
      "\n",
      "           0       0.38      0.03      0.06        94\n",
      "           1       0.51      0.95      0.66        98\n",
      "\n",
      "    accuracy                           0.50       192\n",
      "   macro avg       0.44      0.49      0.36       192\n",
      "weighted avg       0.44      0.50      0.37       192\n",
      "\n"
     ]
    }
   ],
   "source": [
    "IIT_preds = LIM_trainer.iit_predict(X_base_train, iit_data[0], iit_data[2] , id_to_coords, device=\"cpu\")\n",
    "print(classification_report(iit_data[1], IIT_preds))"
   ]
  },
  {
   "cell_type": "code",
   "execution_count": 11,
   "id": "108f3605",
   "metadata": {},
   "outputs": [],
   "source": [
    "datasetIIT = dataset_equality.get_IIT_equality_dataset_both(embedding_dim, 1000)\n",
    "\n",
    "base_test, y_base_test, sources_test, y_IIT_test, intervention_ids_test = datasetIIT\n",
    "\n",
    "base_preds = LIM_trainer.predict(base_test, device=\"cpu\")\n",
    "\n",
    "IIT_preds = LIM_trainer.iit_predict(base_test, sources_test, intervention_ids_test, id_to_coords, device=\"cpu\")"
   ]
  },
  {
   "cell_type": "code",
   "execution_count": 12,
   "id": "583d1464",
   "metadata": {},
   "outputs": [
    {
     "name": "stdout",
     "output_type": "stream",
     "text": [
      "              precision    recall  f1-score   support\n",
      "\n",
      "           0       0.63      0.10      0.17       490\n",
      "           1       0.52      0.95      0.67       510\n",
      "\n",
      "    accuracy                           0.53      1000\n",
      "   macro avg       0.57      0.52      0.42      1000\n",
      "weighted avg       0.57      0.53      0.42      1000\n",
      "\n"
     ]
    }
   ],
   "source": [
    "print(classification_report(y_base_test, base_preds))"
   ]
  },
  {
   "cell_type": "code",
   "execution_count": 13,
   "id": "851f4a57",
   "metadata": {},
   "outputs": [
    {
     "name": "stdout",
     "output_type": "stream",
     "text": [
      "              precision    recall  f1-score   support\n",
      "\n",
      "           0       0.46      0.05      0.10       508\n",
      "           1       0.49      0.93      0.64       492\n",
      "\n",
      "    accuracy                           0.49      1000\n",
      "   macro avg       0.47      0.49      0.37      1000\n",
      "weighted avg       0.47      0.49      0.36      1000\n",
      "\n"
     ]
    }
   ],
   "source": [
    "print(classification_report(y_IIT_test, IIT_preds))"
   ]
  },
  {
   "cell_type": "markdown",
   "id": "1eb33e18",
   "metadata": {},
   "source": [
    "# Set Analysis Mode to True and Verify Nothing Changes"
   ]
  },
  {
   "cell_type": "code",
   "execution_count": 14,
   "id": "53780e8f",
   "metadata": {},
   "outputs": [
    {
     "name": "stdout",
     "output_type": "stream",
     "text": [
      "\n",
      "\n",
      "\n",
      "\n",
      " -----      Layer 0      -----\n",
      "linear.weight torch.Size([16, 16]) False\n",
      "linear.bias torch.Size([16]) False\n",
      "True\n",
      "tensor(1.1129e-06, device='cuda:0', grad_fn=<DistBackward0>)\n",
      "\n",
      "\n",
      "\n",
      "\n",
      " -----      Layer 1      -----\n",
      "linear.weight torch.Size([16, 16]) False\n",
      "linear.bias torch.Size([16]) False\n",
      "True\n",
      "tensor(1.5595e-06, device='cuda:0', grad_fn=<DistBackward0>)\n",
      "\n",
      "\n",
      "\n",
      "\n",
      " -----      Layer 2      -----\n",
      "weight torch.Size([2, 16]) False\n",
      "bias torch.Size([2]) False\n"
     ]
    }
   ],
   "source": [
    "LIM_trainer.model.set_analysis_mode(True)\n",
    "print_weights(LIM,embedding_dim*4)"
   ]
  },
  {
   "cell_type": "code",
   "execution_count": 15,
   "id": "a69a0adf",
   "metadata": {},
   "outputs": [
    {
     "name": "stdout",
     "output_type": "stream",
     "text": [
      "              precision    recall  f1-score   support\n",
      "\n",
      "           0       0.63      0.10      0.17       490\n",
      "           1       0.52      0.95      0.67       510\n",
      "\n",
      "    accuracy                           0.53      1000\n",
      "   macro avg       0.57      0.52      0.42      1000\n",
      "weighted avg       0.57      0.53      0.42      1000\n",
      "\n"
     ]
    }
   ],
   "source": [
    "base_preds = LIM_trainer.predict(base_test, device=\"cpu\")\n",
    "\n",
    "IIT_preds = LIM_trainer.iit_predict(base_test, sources_test, intervention_ids_test, id_to_coords, device=\"cpu\")\n",
    "print(classification_report(y_base_test, base_preds))"
   ]
  },
  {
   "cell_type": "code",
   "execution_count": 16,
   "id": "9510a8ae",
   "metadata": {},
   "outputs": [
    {
     "name": "stdout",
     "output_type": "stream",
     "text": [
      "              precision    recall  f1-score   support\n",
      "\n",
      "           0       0.49      0.07      0.13       508\n",
      "           1       0.49      0.92      0.64       492\n",
      "\n",
      "    accuracy                           0.49      1000\n",
      "   macro avg       0.49      0.50      0.38      1000\n",
      "weighted avg       0.49      0.49      0.38      1000\n",
      "\n"
     ]
    }
   ],
   "source": [
    "print(classification_report(y_IIT_test, IIT_preds))"
   ]
  },
  {
   "cell_type": "markdown",
   "id": "e2edc98e",
   "metadata": {},
   "source": [
    "# Train a Basis Agnostic Alignment"
   ]
  },
  {
   "cell_type": "code",
   "execution_count": 17,
   "id": "884104f1",
   "metadata": {},
   "outputs": [
    {
     "name": "stderr",
     "output_type": "stream",
     "text": [
      "Finished epoch 10 of 10; error is 4.149481773376465"
     ]
    }
   ],
   "source": [
    "_ = LIM_trainer.fit(\n",
    "    X_base_train, \n",
    "    y_base_train, \n",
    "    iit_data=iit_data,\n",
    "    intervention_ids_to_coords=id_to_coords)"
   ]
  },
  {
   "cell_type": "code",
   "execution_count": 18,
   "id": "78b1aae0",
   "metadata": {},
   "outputs": [
    {
     "name": "stdout",
     "output_type": "stream",
     "text": [
      "\n",
      "\n",
      "\n",
      "\n",
      " -----      Layer 0      -----\n",
      "linear.weight torch.Size([16, 16]) False\n",
      "linear.bias torch.Size([16]) False\n",
      "True\n",
      "tensor(1.2363e-06, device='cuda:0', grad_fn=<DistBackward0>)\n",
      "\n",
      "\n",
      "\n",
      "\n",
      " -----      Layer 1      -----\n",
      "linear.weight torch.Size([16, 16]) False\n",
      "linear.bias torch.Size([16]) False\n",
      "True\n",
      "tensor(1.6265e-06, device='cuda:0', grad_fn=<DistBackward0>)\n",
      "\n",
      "\n",
      "\n",
      "\n",
      " -----      Layer 2      -----\n",
      "weight torch.Size([2, 16]) False\n",
      "bias torch.Size([2]) False\n"
     ]
    }
   ],
   "source": [
    "print_weights(LIM,embedding_dim*4)"
   ]
  },
  {
   "cell_type": "code",
   "execution_count": 19,
   "id": "ab4b601c",
   "metadata": {},
   "outputs": [
    {
     "name": "stdout",
     "output_type": "stream",
     "text": [
      "              precision    recall  f1-score   support\n",
      "\n",
      "           0       0.77      0.11      0.19        94\n",
      "           1       0.53      0.97      0.69        98\n",
      "\n",
      "    accuracy                           0.55       192\n",
      "   macro avg       0.65      0.54      0.44       192\n",
      "weighted avg       0.65      0.55      0.44       192\n",
      "\n"
     ]
    }
   ],
   "source": [
    "base_preds = LIM_trainer.predict(X_base_train, device=\"cpu\")\n",
    "print(classification_report(y_base_train, base_preds))"
   ]
  },
  {
   "cell_type": "code",
   "execution_count": 20,
   "id": "3994216f",
   "metadata": {},
   "outputs": [
    {
     "name": "stdout",
     "output_type": "stream",
     "text": [
      "              precision    recall  f1-score   support\n",
      "\n",
      "           0       0.59      0.11      0.18        94\n",
      "           1       0.52      0.93      0.67        98\n",
      "\n",
      "    accuracy                           0.53       192\n",
      "   macro avg       0.55      0.52      0.42       192\n",
      "weighted avg       0.55      0.53      0.43       192\n",
      "\n"
     ]
    }
   ],
   "source": [
    "IIT_preds = LIM_trainer.iit_predict(X_base_train, iit_data[0], iit_data[2] , id_to_coords, device=\"cpu\")\n",
    "print(classification_report(iit_data[1], IIT_preds))\n"
   ]
  },
  {
   "cell_type": "code",
   "execution_count": 21,
   "id": "46e830c5",
   "metadata": {},
   "outputs": [
    {
     "name": "stdout",
     "output_type": "stream",
     "text": [
      "              precision    recall  f1-score   support\n",
      "\n",
      "           0       0.63      0.10      0.17       490\n",
      "           1       0.52      0.95      0.67       510\n",
      "\n",
      "    accuracy                           0.53      1000\n",
      "   macro avg       0.57      0.52      0.42      1000\n",
      "weighted avg       0.57      0.53      0.42      1000\n",
      "\n"
     ]
    }
   ],
   "source": [
    "base_preds = LIM_trainer.predict(base_test, device=\"cpu\")\n",
    "\n",
    "IIT_preds = LIM_trainer.iit_predict(base_test, sources_test, intervention_ids_test, id_to_coords, device=\"cpu\")\n",
    "print(classification_report(y_base_test, base_preds))"
   ]
  },
  {
   "cell_type": "code",
   "execution_count": 22,
   "id": "566de636",
   "metadata": {},
   "outputs": [
    {
     "name": "stdout",
     "output_type": "stream",
     "text": [
      "              precision    recall  f1-score   support\n",
      "\n",
      "           0       0.49      0.07      0.13       508\n",
      "           1       0.49      0.92      0.64       492\n",
      "\n",
      "    accuracy                           0.49      1000\n",
      "   macro avg       0.49      0.50      0.38      1000\n",
      "weighted avg       0.49      0.49      0.38      1000\n",
      "\n"
     ]
    }
   ],
   "source": [
    "print(classification_report(y_IIT_test, IIT_preds))"
   ]
  },
  {
   "cell_type": "markdown",
   "id": "f1e1be16",
   "metadata": {},
   "source": [
    "# Training Bert with No IIT"
   ]
  },
  {
   "cell_type": "code",
   "execution_count": 23,
   "id": "04e728b7",
   "metadata": {},
   "outputs": [],
   "source": [
    "from LIM_bert import LIMBERTClassifier\n",
    "from trainer import BERTLIMTrainer\n",
    "from transformers import BertModel, BertTokenizer\n",
    "\n",
    "import torch\n",
    "import random\n",
    "import dataset_equality\n",
    "from sklearn.metrics import classification_report\n",
    "debug = False"
   ]
  },
  {
   "cell_type": "code",
   "execution_count": 24,
   "id": "f891faac",
   "metadata": {},
   "outputs": [],
   "source": [
    "weights_name = \"bert-base-uncased\"\n",
    "bert_tokenizer = BertTokenizer.from_pretrained(weights_name)\n",
    "n_classes = 2"
   ]
  },
  {
   "cell_type": "code",
   "execution_count": 25,
   "id": "e1eb6a8e",
   "metadata": {},
   "outputs": [],
   "source": [
    "vocab = bert_tokenizer.get_vocab()\n",
    "\n",
    "tokens = list(vocab.keys())\n",
    "\n",
    "random.shuffle(tokens)\n",
    "\n",
    "cutoff = int(0.9 * len(tokens))\n",
    "\n",
    "\n",
    "\n",
    "train_ids = bert_tokenizer.convert_tokens_to_ids(tokens[:cutoff])\n",
    "\n",
    "test_ids = bert_tokenizer.convert_tokens_to_ids(tokens[cutoff:])\n",
    "\n"
   ]
  },
  {
   "cell_type": "code",
   "execution_count": 26,
   "id": "2c2f6a04",
   "metadata": {},
   "outputs": [],
   "source": [
    "if debug:\n",
    "    train_size = 12\n",
    "else:\n",
    "    train_size = 20000\n",
    "    \n",
    "if debug:\n",
    "    test_size = 12\n",
    "else:\n",
    "    test_size = 5000\n",
    "\n",
    "\n",
    "iit_train_dataset = dataset_equality.get_IIT_equality_dataset_all(768, \n",
    "                                                             train_size,\n",
    "                                                             token_ids=train_ids)\n",
    "\n",
    "iit_test_dataset = dataset_equality.get_IIT_equality_dataset_all(768, \n",
    "                                                             test_size, \n",
    "                                                             token_ids=test_ids)\n",
    "X_base_train = (iit_train_dataset[0], iit_train_dataset[1])\n",
    "y_base_train = iit_train_dataset[2]\n",
    "X_sources_train = (iit_train_dataset[3], iit_train_dataset[4])\n",
    "y_IIT_train = iit_train_dataset[5]\n",
    "intervention_ids_train = iit_train_dataset[6]\n",
    "\n",
    "X_base_test = (iit_test_dataset[0], iit_test_dataset[1])\n",
    "y_base_test  = iit_test_dataset[2]\n",
    "X_sources_test  = (iit_test_dataset[3], iit_test_dataset[4])\n",
    "y_IIT_test  = iit_test_dataset[5]\n",
    "intervention_ids_test  = iit_test_dataset[6]"
   ]
  },
  {
   "cell_type": "code",
   "execution_count": 27,
   "id": "e0542422",
   "metadata": {},
   "outputs": [
    {
     "name": "stderr",
     "output_type": "stream",
     "text": [
      "Some weights of the model checkpoint at bert-base-uncased were not used when initializing BertModel: ['cls.predictions.transform.LayerNorm.weight', 'cls.predictions.bias', 'cls.predictions.transform.dense.bias', 'cls.seq_relationship.bias', 'cls.predictions.decoder.weight', 'cls.seq_relationship.weight', 'cls.predictions.transform.dense.weight', 'cls.predictions.transform.LayerNorm.bias']\n",
      "- This IS expected if you are initializing BertModel from the checkpoint of a model trained on another task or with another architecture (e.g. initializing a BertForSequenceClassification model from a BertForPreTraining model).\n",
      "- This IS NOT expected if you are initializing BertModel from the checkpoint of a model that you expect to be exactly identical (initializing a BertForSequenceClassification model from a BertForSequenceClassification model).\n"
     ]
    }
   ],
   "source": [
    "bert = BertModel.from_pretrained(weights_name)"
   ]
  },
  {
   "cell_type": "code",
   "execution_count": 28,
   "id": "9637699f",
   "metadata": {},
   "outputs": [],
   "source": [
    "max_length = 4\n",
    "embeddin_dim = 768\n",
    "LIM = LIMBERTClassifier(n_classes,\n",
    "                        bert,\n",
    "                        max_length=max_length,\n",
    "                        debug=debug,\n",
    "                        use_wrapper=True)"
   ]
  },
  {
   "cell_type": "code",
   "execution_count": 29,
   "id": "9b0a642e",
   "metadata": {},
   "outputs": [],
   "source": [
    "LIM_trainer = BERTLIMTrainer(\n",
    "    LIM,\n",
    "    warm_start=True,\n",
    "    max_iter=3,\n",
    "    batch_size=16,\n",
    "    n_iter_no_change=10000,\n",
    "    shuffle_train=True,\n",
    "    eta=0.00001)"
   ]
  },
  {
   "cell_type": "code",
   "execution_count": 30,
   "id": "2b84c097",
   "metadata": {},
   "outputs": [
    {
     "name": "stderr",
     "output_type": "stream",
     "text": [
      "Finished epoch 3 of 3; error is 106.71799992746674"
     ]
    }
   ],
   "source": [
    "_ = LIM_trainer.fit(\n",
    "    X_base_train, \n",
    "    y_base_train, \n",
    "    iit_data=None,\n",
    "    intervention_ids_to_coords=None)"
   ]
  },
  {
   "cell_type": "code",
   "execution_count": 31,
   "id": "a7ed3b6c",
   "metadata": {
    "scrolled": true
   },
   "outputs": [
    {
     "name": "stdout",
     "output_type": "stream",
     "text": [
      "              precision    recall  f1-score   support\n",
      "\n",
      "           0       1.00      1.00      1.00     30034\n",
      "           1       1.00      1.00      1.00     29966\n",
      "\n",
      "    accuracy                           1.00     60000\n",
      "   macro avg       1.00      1.00      1.00     60000\n",
      "weighted avg       1.00      1.00      1.00     60000\n",
      "\n"
     ]
    }
   ],
   "source": [
    "for input in X_base_train[0]:\n",
    "    input.cpu()\n",
    "for mask in X_base_train[1]:\n",
    "    mask.cpu()\n",
    "\n",
    "preds = LIM_trainer.predict(X_base_train,device=\"cpu\")\n",
    "print(classification_report(y_base_train, preds))"
   ]
  },
  {
   "cell_type": "code",
   "execution_count": 32,
   "id": "ecbaeeb3",
   "metadata": {},
   "outputs": [
    {
     "name": "stdout",
     "output_type": "stream",
     "text": [
      "              precision    recall  f1-score   support\n",
      "\n",
      "           0       1.00      1.00      1.00      7433\n",
      "           1       1.00      1.00      1.00      7567\n",
      "\n",
      "    accuracy                           1.00     15000\n",
      "   macro avg       1.00      1.00      1.00     15000\n",
      "weighted avg       1.00      1.00      1.00     15000\n",
      "\n"
     ]
    }
   ],
   "source": [
    "preds = LIM_trainer.predict(X_base_test, device=\"cpu\")\n",
    "print(classification_report(y_base_test, preds.cpu()))"
   ]
  },
  {
   "cell_type": "code",
   "execution_count": null,
   "id": "aa564606",
   "metadata": {},
   "outputs": [],
   "source": [
    "V1 = 0\n",
    "V2 = 1\n",
    "both = 2\n",
    "control13 = 3\n",
    "embedding_dim = 768\n",
    "target_layer = 10\n",
    "id_to_coords = {\n",
    "    V1: [{\"layer\": target_layer, \"start\": 0, \"end\": 2*embedding_dim}],\n",
    "    V2: [{\"layer\": target_layer, \"start\":  2*embedding_dim, \"end\": 4*embedding_dim}],\n",
    "    both:[{\"layer\": target_layer, \"start\": 0, \"end\": 2*embedding_dim},\n",
    "          {\"layer\": target_layer, \"start\":  2*embedding_dim, \"end\": 4*embedding_dim}],\n",
    "    control13:[{\"layer\": target_layer, \"start\": 0, \"end\": 2*embedding_dim}]\n",
    "}\n",
    "for inputs in X_sources_train[0]:\n",
    "    for input in inputs:\n",
    "        input.cpu()\n",
    "for masks in X_sources_train[0]:\n",
    "    for mask in masks:\n",
    "        mask.cpu()\n",
    "\n",
    "IIT_preds = LIM_trainer.iit_predict(X_base_train,\n",
    "                                    X_sources_train,\n",
    "                                    intervention_ids_train,\n",
    "                                    id_to_coords, \n",
    "                                    device=\"cpu\")\n",
    "print(classification_report(y_IIT_train, IIT_preds))"
   ]
  },
  {
   "cell_type": "markdown",
   "id": "5358b61b",
   "metadata": {},
   "source": [
    "# Set Analysis Mode to True and Verify Nothing Changes"
   ]
  },
  {
   "cell_type": "code",
   "execution_count": null,
   "id": "eb42a662",
   "metadata": {},
   "outputs": [],
   "source": [
    "LIM_trainer.model.unfreeze_disentangling_parameters(layer_num=target_layer)\n",
    "LIM_trainer.model.freeze_model_parameters()"
   ]
  },
  {
   "cell_type": "code",
   "execution_count": null,
   "id": "1f150d61",
   "metadata": {},
   "outputs": [],
   "source": [
    "for input in X_base_test[0]:\n",
    "    input.cpu()\n",
    "for mask in X_base_test[1]:\n",
    "    mask.cpu()\n",
    "\n",
    "base_preds = LIM_trainer.predict(X_base_test, device=\"cpu\")\n",
    "print(classification_report(y_base_test, base_preds.cpu()))"
   ]
  },
  {
   "cell_type": "code",
   "execution_count": null,
   "id": "fa1b5f8f",
   "metadata": {},
   "outputs": [],
   "source": [
    "IIT_preds = LIM_trainer.iit_predict(X_base_test,\n",
    "                                    X_sources_test,\n",
    "                                    intervention_ids_test,\n",
    "                                    id_to_coords,\n",
    "                                    device=\"cpu\")\n",
    "print(classification_report(y_IIT_test, IIT_preds.cpu()))"
   ]
  },
  {
   "cell_type": "markdown",
   "id": "da7f0e36",
   "metadata": {},
   "source": [
    "# Train a Basis Agnostic Alignment"
   ]
  },
  {
   "cell_type": "code",
   "execution_count": null,
   "id": "15c8de76",
   "metadata": {},
   "outputs": [],
   "source": [
    "LIM_trainer.max_iter = 4\n",
    "_ = LIM_trainer.fit(\n",
    "    X_base_train, \n",
    "    y_base_train, \n",
    "    iit_data=(X_sources_train,\n",
    "             y_IIT_train,\n",
    "             intervention_ids_train),\n",
    "    intervention_ids_to_coords=id_to_coords)"
   ]
  },
  {
   "cell_type": "code",
   "execution_count": null,
   "id": "0f3ca0f0",
   "metadata": {},
   "outputs": [],
   "source": [
    "base_preds = LIM_trainer.predict(X_base_train, device=\"cpu\")\n",
    "print(classification_report(y_base_train, base_preds.cpu()))"
   ]
  },
  {
   "cell_type": "code",
   "execution_count": null,
   "id": "d2315884",
   "metadata": {},
   "outputs": [],
   "source": [
    "IIT_preds = LIM_trainer.iit_predict(X_base_train,\n",
    "                                    X_sources_train,\n",
    "                                    intervention_ids_train,\n",
    "                                    id_to_coords,\n",
    "                                    device=\"cpu\")\n"
   ]
  },
  {
   "cell_type": "code",
   "execution_count": null,
   "id": "a7b8f56b",
   "metadata": {},
   "outputs": [],
   "source": [
    "print(classification_report(y_IIT_train, IIT_preds.cpu()))"
   ]
  },
  {
   "cell_type": "code",
   "execution_count": null,
   "id": "8e2519c6",
   "metadata": {},
   "outputs": [],
   "source": [
    "base_preds = LIM_trainer.predict(X_base_test, device=\"cpu\")\n",
    "print(classification_report(y_base_test, base_preds.cpu()))"
   ]
  },
  {
   "cell_type": "code",
   "execution_count": null,
   "id": "4b2b678a",
   "metadata": {},
   "outputs": [],
   "source": [
    "IIT_preds = LIM_trainer.iit_predict(X_base_test,\n",
    "                                    X_sources_test,\n",
    "                                    intervention_ids_test,\n",
    "                                    id_to_coords,\n",
    "                                    device=\"cpu\")\n",
    "print(classification_report(y_IIT_test, IIT_preds.cpu()))"
   ]
  }
 ],
 "metadata": {
  "kernelspec": {
   "display_name": "Python 3 (ipykernel)",
   "language": "python",
   "name": "python3"
  },
  "language_info": {
   "codemirror_mode": {
    "name": "ipython",
    "version": 3
   },
   "file_extension": ".py",
   "mimetype": "text/x-python",
   "name": "python",
   "nbconvert_exporter": "python",
   "pygments_lexer": "ipython3",
   "version": "3.7.13"
  }
 },
 "nbformat": 4,
 "nbformat_minor": 5
}
