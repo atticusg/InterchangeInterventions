{
 "cells": [
  {
   "cell_type": "code",
   "execution_count": 1,
   "metadata": {},
   "outputs": [],
   "source": [
    "import torch, gc\n",
    "import random\n",
    "import copy\n",
    "import itertools\n",
    "import numpy as np\n",
    "import utils\n",
    "from trainer import LIMTrainer\n",
    "import numpy as np\n",
    "import matplotlib.pyplot as plt\n",
    "\n",
    "from sklearn.metrics import classification_report\n",
    "from LIM_deep_neural_classifier import LIMDeepNeuralClassifier\n",
    "import dataset_equality\n",
    "\n",
    "gc.collect()\n",
    "torch.cuda.empty_cache()\n",
    "utils.fix_random_seeds()"
   ]
  },
  {
   "cell_type": "code",
   "execution_count": 15,
   "metadata": {},
   "outputs": [],
   "source": [
    "device = \"cuda:0\"\n",
    "data_size = 12\n",
    "embedding_dim = 4\n",
    "pretrain = True\n",
    "max_iter = 10\n",
    "save_checkpoint_per_epoch = True"
   ]
  },
  {
   "cell_type": "markdown",
   "metadata": {},
   "source": [
    "#### Train our base model that solves the factual task"
   ]
  },
  {
   "cell_type": "code",
   "execution_count": 16,
   "metadata": {},
   "outputs": [],
   "source": [
    "iit_equality_dataset = \\\n",
    "    dataset_equality.get_IIT_equality_dataset_all(embedding_dim, \n",
    "                                                    data_size)\n",
    "X_base_train, y_base_train = iit_equality_dataset[0:2]\n",
    "iit_data = tuple(iit_equality_dataset[2:])"
   ]
  },
  {
   "cell_type": "code",
   "execution_count": 17,
   "metadata": {},
   "outputs": [
    {
     "data": {
      "text/plain": [
       "([tensor([[ 1.5825e-01,  3.1859e-02,  4.6238e-01, -2.2504e-01, -2.9420e-01,\n",
       "            3.2969e-01,  3.3892e-01,  7.9553e-02,  3.0692e-01,  1.0685e-01,\n",
       "           -9.8202e-02, -4.5502e-01,  3.0692e-01,  1.0685e-01, -9.8202e-02,\n",
       "           -4.5502e-01],\n",
       "          [-3.7288e-01,  2.1115e-01, -3.7061e-01,  2.0452e-01, -3.7288e-01,\n",
       "            2.1115e-01, -3.7061e-01,  2.0452e-01,  1.9447e-01, -4.4568e-02,\n",
       "           -4.6739e-01, -3.4316e-01,  1.9447e-01, -4.4568e-02, -4.6739e-01,\n",
       "           -3.4316e-01],\n",
       "          [-3.0744e-01,  2.7855e-01, -4.5690e-02, -3.5345e-01, -3.0744e-01,\n",
       "            2.7855e-01, -4.5690e-02, -3.5345e-01,  3.2844e-01, -4.1805e-01,\n",
       "           -4.3781e-01,  3.8851e-01, -2.3747e-02, -5.3836e-02, -1.3071e-01,\n",
       "            2.6256e-02],\n",
       "          [-4.8138e-01,  5.4075e-02,  8.6173e-02, -3.9849e-01,  2.6298e-01,\n",
       "            1.5155e-01, -3.7443e-01,  6.8246e-02, -4.1609e-01,  1.3580e-01,\n",
       "           -2.9654e-01,  4.6791e-01, -1.2669e-01,  4.8531e-01,  2.8202e-01,\n",
       "            3.7536e-02],\n",
       "          [ 4.8695e-01, -3.8956e-01, -4.4005e-01, -1.2702e-01,  4.8695e-01,\n",
       "           -3.8956e-01, -4.4005e-01, -1.2702e-01, -3.7619e-01,  2.5656e-01,\n",
       "            4.4134e-01, -5.1263e-02,  7.2435e-02, -4.9479e-01, -1.6102e-01,\n",
       "           -2.6390e-01],\n",
       "          [-4.7202e-01, -3.5713e-01,  2.8379e-01, -7.8243e-02, -4.7202e-01,\n",
       "           -3.5713e-01,  2.8379e-01, -7.8243e-02,  3.8906e-01, -2.8442e-01,\n",
       "            3.1913e-01, -1.1206e-02, -3.7767e-01, -1.5135e-01,  3.7043e-01,\n",
       "           -8.2425e-02],\n",
       "          [ 4.7639e-03, -3.9064e-02, -5.0071e-02, -5.0925e-02,  3.6635e-01,\n",
       "           -1.7478e-01,  2.9981e-01,  1.6450e-01, -1.1276e-01,  4.0024e-01,\n",
       "           -1.6100e-01, -4.5418e-01,  1.7044e-01, -5.6904e-02, -2.2262e-01,\n",
       "           -4.1147e-01],\n",
       "          [-4.1037e-01, -1.9321e-01, -9.2724e-02, -3.3081e-01,  1.1448e-01,\n",
       "           -1.7471e-01, -4.7283e-01, -4.4150e-01, -4.0126e-01, -3.5754e-01,\n",
       "            3.9301e-01, -2.4207e-01,  4.4158e-01,  3.9950e-01, -4.4812e-01,\n",
       "           -2.6038e-01],\n",
       "          [ 1.8068e-01,  3.8310e-01, -4.9805e-01, -7.2886e-02,  1.7310e-01,\n",
       "            1.5003e-01,  3.5386e-01, -1.7700e-01,  3.4434e-01, -9.3124e-02,\n",
       "           -3.7828e-01,  1.8295e-02, -4.4253e-03,  1.7257e-02, -4.5654e-01,\n",
       "            2.2122e-01],\n",
       "          [-3.9199e-01, -4.8771e-01,  2.1330e-01,  9.2886e-02, -3.9199e-01,\n",
       "           -4.8771e-01,  2.1330e-01,  9.2886e-02,  3.4078e-01,  4.0437e-01,\n",
       "           -3.7402e-01,  8.8980e-03, -1.4461e-01, -1.8601e-02,  1.2085e-01,\n",
       "           -3.1408e-01],\n",
       "          [-3.8905e-01, -2.2265e-01,  3.2564e-04, -3.2952e-01, -3.0623e-01,\n",
       "            2.3881e-01,  1.7218e-01,  1.0297e-01, -3.2447e-01,  8.8165e-02,\n",
       "            2.4597e-01, -3.7257e-01, -3.2447e-01,  8.8165e-02,  2.4597e-01,\n",
       "           -3.7257e-01],\n",
       "          [-4.8413e-01,  1.9185e-01,  1.4644e-01, -4.9795e-01, -2.3471e-02,\n",
       "            4.0144e-01,  1.7271e-01, -8.6837e-02,  3.9527e-01,  2.0330e-01,\n",
       "            2.6247e-01,  3.8131e-02,  3.9527e-01,  2.0330e-01,  2.6247e-01,\n",
       "            3.8131e-02],\n",
       "          [-4.7213e-01, -6.8051e-02, -4.7598e-01,  2.9722e-01, -4.7213e-01,\n",
       "           -6.8051e-02, -4.7598e-01,  2.9722e-01,  4.3506e-01,  3.4051e-01,\n",
       "           -2.5285e-01, -2.6423e-02,  4.5880e-01,  3.3252e-01,  3.2163e-01,\n",
       "            1.9675e-02],\n",
       "          [ 8.5159e-02,  1.0328e-02, -4.5452e-01,  2.3918e-01,  8.5159e-02,\n",
       "            1.0328e-02, -4.5452e-01,  2.3918e-01,  6.3082e-02, -1.9936e-01,\n",
       "           -1.0470e-01, -3.7702e-01,  6.3082e-02, -1.9936e-01, -1.0470e-01,\n",
       "           -3.7702e-01],\n",
       "          [-4.3800e-01,  3.0239e-01, -4.4521e-01,  1.1074e-01, -4.3800e-01,\n",
       "            3.0239e-01, -4.4521e-01,  1.1074e-01, -6.8161e-02, -3.9817e-01,\n",
       "           -4.4421e-01, -4.4780e-01,  3.4993e-01, -9.8317e-02,  1.1730e-01,\n",
       "           -8.8892e-02],\n",
       "          [-3.7524e-01, -1.2952e-01, -3.0701e-01, -4.9064e-01, -3.7524e-01,\n",
       "           -1.2952e-01, -3.0701e-01, -4.9064e-01,  2.4314e-01,  2.5842e-01,\n",
       "            1.8055e-01,  2.0920e-01,  2.4314e-01,  2.5842e-01,  1.8055e-01,\n",
       "            2.0920e-01],\n",
       "          [-1.5618e-01,  4.7651e-01,  1.4055e-01, -2.9874e-01, -4.3160e-01,\n",
       "           -3.1064e-01, -2.4275e-02,  1.9184e-01,  9.9762e-02, -1.6885e-01,\n",
       "            7.8411e-02,  4.6306e-01,  1.1610e-01, -8.1305e-02, -3.3772e-01,\n",
       "           -4.5698e-02],\n",
       "          [ 4.7724e-01,  4.9426e-01,  6.8191e-02,  2.9915e-01,  4.7724e-01,\n",
       "            4.9426e-01,  6.8191e-02,  2.9915e-01,  4.8017e-01, -2.9580e-01,\n",
       "           -1.0936e-01,  3.4491e-02, -3.1166e-01, -3.9136e-01,  6.9515e-02,\n",
       "           -4.8465e-02],\n",
       "          [ 2.2401e-01, -4.5599e-01,  1.2500e-02,  3.1562e-01,  2.2401e-01,\n",
       "           -4.5599e-01,  1.2500e-02,  3.1562e-01,  6.2054e-02, -3.1045e-01,\n",
       "           -2.9288e-01,  4.1703e-02,  4.3892e-01, -3.7920e-01, -2.8622e-01,\n",
       "           -1.4342e-01],\n",
       "          [ 1.7139e-01, -4.8879e-01, -2.2675e-01, -5.9342e-02,  1.7139e-01,\n",
       "           -4.8879e-01, -2.2675e-01, -5.9342e-02, -2.8333e-01, -4.6556e-01,\n",
       "            1.7504e-01, -2.8383e-01, -2.8333e-01, -4.6556e-01,  1.7504e-01,\n",
       "           -2.8383e-01],\n",
       "          [ 4.0874e-01, -8.8722e-02,  2.6186e-01, -3.7877e-01,  4.0874e-01,\n",
       "           -8.8722e-02,  2.6186e-01, -3.7877e-01, -4.2347e-01, -3.9478e-01,\n",
       "            2.6654e-01, -1.7399e-01, -4.9064e-02, -2.4723e-01,  6.0646e-03,\n",
       "           -3.7833e-02],\n",
       "          [ 2.1884e-01, -1.6018e-01,  5.4505e-02, -3.2146e-01, -4.7851e-01,\n",
       "            3.4288e-01,  4.1065e-01, -4.7901e-01, -1.2108e-01,  2.8741e-01,\n",
       "           -3.8903e-01,  4.3611e-01, -1.2108e-01,  2.8741e-01, -3.8903e-01,\n",
       "            4.3611e-01],\n",
       "          [ 3.6547e-01, -2.7242e-01,  2.2334e-01, -2.9012e-01,  3.6547e-01,\n",
       "           -2.7242e-01,  2.2334e-01, -2.9012e-01,  1.5825e-02,  2.8597e-01,\n",
       "            2.5762e-01,  2.2251e-01,  1.5825e-02,  2.8597e-01,  2.5762e-01,\n",
       "            2.2251e-01],\n",
       "          [ 2.2730e-01,  2.8467e-01,  2.9100e-01,  1.1489e-01,  2.2730e-01,\n",
       "            2.8467e-01,  2.9100e-01,  1.1489e-01,  8.6138e-03,  2.5131e-01,\n",
       "            1.4507e-01,  9.1585e-03,  8.6138e-03,  2.5131e-01,  1.4507e-01,\n",
       "            9.1585e-03],\n",
       "          [ 8.7492e-02,  2.4750e-03,  1.8484e-01, -2.2456e-01, -4.9256e-01,\n",
       "           -3.5731e-01, -4.3603e-01, -1.0076e-01,  2.5857e-02,  4.1030e-01,\n",
       "            3.7924e-01, -3.9795e-02,  2.5857e-02,  4.1030e-01,  3.7924e-01,\n",
       "           -3.9795e-02],\n",
       "          [ 4.5903e-01,  9.9867e-02,  4.8142e-01,  1.9632e-01,  1.7790e-01,\n",
       "            4.7237e-01,  1.9372e-01, -1.6795e-01,  4.7802e-01,  1.6637e-01,\n",
       "           -4.3249e-01, -4.8235e-01,  4.1210e-01, -5.1088e-02,  1.1026e-02,\n",
       "            2.4181e-01],\n",
       "          [-7.3898e-02, -3.2449e-02, -9.1047e-02,  3.0450e-01, -1.8298e-01,\n",
       "           -1.1763e-01, -3.2043e-01, -2.6621e-01, -1.4091e-01, -4.1758e-01,\n",
       "            3.4260e-01,  1.2791e-02, -1.4091e-01, -4.1758e-01,  3.4260e-01,\n",
       "            1.2791e-02],\n",
       "          [ 1.0806e-01, -1.1851e-01, -1.7836e-01, -5.7639e-02,  1.0806e-01,\n",
       "           -1.1851e-01, -1.7836e-01, -5.7639e-02, -4.3538e-01, -8.3577e-03,\n",
       "            4.5366e-01, -4.4789e-01, -4.3538e-01, -8.3577e-03,  4.5366e-01,\n",
       "           -4.4789e-01]], dtype=torch.float64),\n",
       "  tensor([[ 1.5825e-01,  3.1859e-02,  4.6238e-01, -2.2504e-01, -2.9420e-01,\n",
       "            3.2969e-01,  3.3892e-01,  7.9553e-02,  3.0692e-01,  1.0685e-01,\n",
       "           -9.8202e-02, -4.5502e-01,  3.0692e-01,  1.0685e-01, -9.8202e-02,\n",
       "           -4.5502e-01],\n",
       "          [-3.7288e-01,  2.1115e-01, -3.7061e-01,  2.0452e-01, -3.7288e-01,\n",
       "            2.1115e-01, -3.7061e-01,  2.0452e-01,  1.9447e-01, -4.4568e-02,\n",
       "           -4.6739e-01, -3.4316e-01,  1.9447e-01, -4.4568e-02, -4.6739e-01,\n",
       "           -3.4316e-01],\n",
       "          [-3.0744e-01,  2.7855e-01, -4.5690e-02, -3.5345e-01, -3.0744e-01,\n",
       "            2.7855e-01, -4.5690e-02, -3.5345e-01,  3.2844e-01, -4.1805e-01,\n",
       "           -4.3781e-01,  3.8851e-01, -2.3747e-02, -5.3836e-02, -1.3071e-01,\n",
       "            2.6256e-02],\n",
       "          [-4.8138e-01,  5.4075e-02,  8.6173e-02, -3.9849e-01,  2.6298e-01,\n",
       "            1.5155e-01, -3.7443e-01,  6.8246e-02, -4.1609e-01,  1.3580e-01,\n",
       "           -2.9654e-01,  4.6791e-01, -1.2669e-01,  4.8531e-01,  2.8202e-01,\n",
       "            3.7536e-02],\n",
       "          [ 4.8695e-01, -3.8956e-01, -4.4005e-01, -1.2702e-01,  4.8695e-01,\n",
       "           -3.8956e-01, -4.4005e-01, -1.2702e-01, -3.7619e-01,  2.5656e-01,\n",
       "            4.4134e-01, -5.1263e-02,  7.2435e-02, -4.9479e-01, -1.6102e-01,\n",
       "           -2.6390e-01],\n",
       "          [-4.7202e-01, -3.5713e-01,  2.8379e-01, -7.8243e-02, -4.7202e-01,\n",
       "           -3.5713e-01,  2.8379e-01, -7.8243e-02,  3.8906e-01, -2.8442e-01,\n",
       "            3.1913e-01, -1.1206e-02, -3.7767e-01, -1.5135e-01,  3.7043e-01,\n",
       "           -8.2425e-02],\n",
       "          [ 4.7639e-03, -3.9064e-02, -5.0071e-02, -5.0925e-02,  3.6635e-01,\n",
       "           -1.7478e-01,  2.9981e-01,  1.6450e-01, -1.1276e-01,  4.0024e-01,\n",
       "           -1.6100e-01, -4.5418e-01,  1.7044e-01, -5.6904e-02, -2.2262e-01,\n",
       "           -4.1147e-01],\n",
       "          [-4.1037e-01, -1.9321e-01, -9.2724e-02, -3.3081e-01,  1.1448e-01,\n",
       "           -1.7471e-01, -4.7283e-01, -4.4150e-01, -4.0126e-01, -3.5754e-01,\n",
       "            3.9301e-01, -2.4207e-01,  4.4158e-01,  3.9950e-01, -4.4812e-01,\n",
       "           -2.6038e-01],\n",
       "          [ 1.8068e-01,  3.8310e-01, -4.9805e-01, -7.2886e-02,  1.7310e-01,\n",
       "            1.5003e-01,  3.5386e-01, -1.7700e-01,  3.4434e-01, -9.3124e-02,\n",
       "           -3.7828e-01,  1.8295e-02, -4.4253e-03,  1.7257e-02, -4.5654e-01,\n",
       "            2.2122e-01],\n",
       "          [-3.9199e-01, -4.8771e-01,  2.1330e-01,  9.2886e-02, -3.9199e-01,\n",
       "           -4.8771e-01,  2.1330e-01,  9.2886e-02,  3.4078e-01,  4.0437e-01,\n",
       "           -3.7402e-01,  8.8980e-03, -1.4461e-01, -1.8601e-02,  1.2085e-01,\n",
       "           -3.1408e-01],\n",
       "          [-3.8905e-01, -2.2265e-01,  3.2564e-04, -3.2952e-01, -3.0623e-01,\n",
       "            2.3881e-01,  1.7218e-01,  1.0297e-01, -3.2447e-01,  8.8165e-02,\n",
       "            2.4597e-01, -3.7257e-01, -3.2447e-01,  8.8165e-02,  2.4597e-01,\n",
       "           -3.7257e-01],\n",
       "          [-4.8413e-01,  1.9185e-01,  1.4644e-01, -4.9795e-01, -2.3471e-02,\n",
       "            4.0144e-01,  1.7271e-01, -8.6837e-02,  3.9527e-01,  2.0330e-01,\n",
       "            2.6247e-01,  3.8131e-02,  3.9527e-01,  2.0330e-01,  2.6247e-01,\n",
       "            3.8131e-02],\n",
       "          [-4.7213e-01, -6.8051e-02, -4.7598e-01,  2.9722e-01, -4.7213e-01,\n",
       "           -6.8051e-02, -4.7598e-01,  2.9722e-01,  4.3506e-01,  3.4051e-01,\n",
       "           -2.5285e-01, -2.6423e-02,  4.5880e-01,  3.3252e-01,  3.2163e-01,\n",
       "            1.9675e-02],\n",
       "          [ 8.5159e-02,  1.0328e-02, -4.5452e-01,  2.3918e-01,  8.5159e-02,\n",
       "            1.0328e-02, -4.5452e-01,  2.3918e-01,  6.3082e-02, -1.9936e-01,\n",
       "           -1.0470e-01, -3.7702e-01,  6.3082e-02, -1.9936e-01, -1.0470e-01,\n",
       "           -3.7702e-01],\n",
       "          [-4.3800e-01,  3.0239e-01, -4.4521e-01,  1.1074e-01, -4.3800e-01,\n",
       "            3.0239e-01, -4.4521e-01,  1.1074e-01, -6.8161e-02, -3.9817e-01,\n",
       "           -4.4421e-01, -4.4780e-01,  3.4993e-01, -9.8317e-02,  1.1730e-01,\n",
       "           -8.8892e-02],\n",
       "          [-3.7524e-01, -1.2952e-01, -3.0701e-01, -4.9064e-01, -3.7524e-01,\n",
       "           -1.2952e-01, -3.0701e-01, -4.9064e-01,  2.4314e-01,  2.5842e-01,\n",
       "            1.8055e-01,  2.0920e-01,  2.4314e-01,  2.5842e-01,  1.8055e-01,\n",
       "            2.0920e-01],\n",
       "          [-4.0693e-03,  4.1995e-01,  1.3877e-01,  1.9322e-01, -4.0693e-03,\n",
       "            4.1995e-01,  1.3877e-01,  1.9322e-01,  1.2392e-01, -2.6098e-01,\n",
       "            2.3459e-01,  4.5259e-01, -1.6848e-01,  2.4008e-01, -2.9468e-01,\n",
       "           -3.1576e-01],\n",
       "          [-4.0676e-01, -3.9569e-01,  5.2907e-02, -4.6794e-01,  1.8902e-01,\n",
       "           -1.1387e-02, -3.1331e-01, -4.3051e-01, -2.1618e-01, -2.6696e-01,\n",
       "            1.5957e-01, -4.3002e-01, -4.4255e-01,  1.8532e-02, -3.2817e-01,\n",
       "            3.5971e-01],\n",
       "          [-4.8501e-01,  1.5399e-01, -4.8802e-01, -2.8723e-01, -4.8501e-01,\n",
       "            1.5399e-01, -4.8802e-01, -2.8723e-01, -4.3398e-01,  3.1508e-01,\n",
       "            1.4994e-01, -1.3102e-01, -4.3398e-01,  3.1508e-01,  1.4994e-01,\n",
       "           -1.3102e-01],\n",
       "          [ 3.3650e-01,  3.1151e-01,  1.4101e-01,  2.1641e-01,  3.3650e-01,\n",
       "            3.1151e-01,  1.4101e-01,  2.1641e-01, -1.0938e-01, -1.9168e-01,\n",
       "           -4.4758e-01, -4.9533e-01, -1.0938e-01, -1.9168e-01, -4.4758e-01,\n",
       "           -4.9533e-01],\n",
       "          [ 1.3887e-01,  1.7562e-01, -3.8096e-02, -1.5634e-01,  1.3887e-01,\n",
       "            1.7562e-01, -3.8096e-02, -1.5634e-01,  3.5577e-01, -1.0333e-01,\n",
       "           -4.8926e-01, -3.8532e-01,  4.1714e-01, -1.7289e-01,  2.4868e-01,\n",
       "           -1.5241e-02],\n",
       "          [-4.3796e-02, -1.3036e-01, -1.2765e-01, -3.2864e-01,  2.6927e-02,\n",
       "            2.9902e-01,  1.2320e-01, -6.6282e-02, -3.8151e-01,  3.8272e-01,\n",
       "           -3.6921e-01, -3.1036e-01, -3.8151e-01,  3.8272e-01, -3.6921e-01,\n",
       "           -3.1036e-01],\n",
       "          [-1.5934e-01, -4.1412e-01,  3.4580e-01, -7.1207e-02,  4.4193e-01,\n",
       "           -8.2312e-02, -6.1319e-02,  3.5294e-01, -1.2530e-01,  7.7508e-02,\n",
       "           -3.7165e-01,  4.4335e-01, -1.2530e-01,  7.7508e-02, -3.7165e-01,\n",
       "            4.4335e-01],\n",
       "          [ 1.8892e-02, -3.2100e-01,  2.1249e-01,  2.5476e-02, -1.6703e-02,\n",
       "            4.5575e-01, -2.6242e-02,  8.1187e-02, -2.9280e-01,  3.9488e-01,\n",
       "           -4.7920e-02, -2.6562e-01, -2.9280e-01,  3.9488e-01, -4.7920e-02,\n",
       "           -2.6562e-01],\n",
       "          [ 2.3729e-01, -2.1209e-01,  3.8099e-01, -4.3693e-02,  2.3729e-01,\n",
       "           -2.1209e-01,  3.8099e-01, -4.3693e-02, -1.0891e-01,  3.2343e-01,\n",
       "            3.4984e-01, -8.4947e-02, -3.2042e-01,  1.1774e-01, -6.7923e-02,\n",
       "           -1.1534e-01],\n",
       "          [-2.6739e-01,  1.1635e-01,  3.9678e-01, -1.9115e-01, -2.6739e-01,\n",
       "            1.1635e-01,  3.9678e-01, -1.9115e-01,  2.5725e-01,  1.1977e-01,\n",
       "           -4.4008e-01, -1.2548e-01, -2.0339e-01, -3.4833e-01, -2.9561e-01,\n",
       "           -4.6209e-01],\n",
       "          [ 2.8587e-01,  4.2661e-01, -4.0159e-01, -4.2865e-01,  2.8587e-01,\n",
       "            4.2661e-01, -4.0159e-01, -4.2865e-01,  4.6026e-02, -1.6624e-01,\n",
       "            1.7511e-01, -2.4998e-01,  4.6026e-02, -1.6624e-01,  1.7511e-01,\n",
       "           -2.4998e-01],\n",
       "          [ 4.3827e-01, -3.7444e-01, -3.2632e-01,  4.8847e-02,  4.3827e-01,\n",
       "           -3.7444e-01, -3.2632e-01,  4.8847e-02, -2.6369e-01, -4.2184e-01,\n",
       "            2.2499e-01, -1.8854e-01, -2.6369e-01, -4.2184e-01,  2.2499e-01,\n",
       "           -1.8854e-01]], dtype=torch.float64)],\n",
       " tensor([1, 0, 0, 0, 1, 1, 0, 1, 0, 1, 0, 0, 1, 1, 0, 1, 1, 0, 1, 1, 0, 0, 1, 1,\n",
       "         1, 1, 0, 1]),\n",
       " tensor([0, 0, 0, 0, 0, 0, 0, 0, 1, 1, 1, 1, 1, 1, 1, 1, 2, 2, 2, 2, 2, 2, 2, 2,\n",
       "         2, 2, 2, 2]))"
      ]
     },
     "execution_count": 17,
     "metadata": {},
     "output_type": "execute_result"
    }
   ],
   "source": [
    "iit_data"
   ]
  },
  {
   "cell_type": "code",
   "execution_count": 30,
   "metadata": {},
   "outputs": [],
   "source": [
    "LIM = LIMDeepNeuralClassifier(\n",
    "    hidden_dim=embedding_dim*4, \n",
    "    hidden_activation=torch.nn.ReLU(), \n",
    "    num_layers=2,\n",
    "    input_dim=embedding_dim*4,\n",
    "    n_classes=2,\n",
    "    device=device\n",
    ")"
   ]
  },
  {
   "cell_type": "code",
   "execution_count": null,
   "metadata": {},
   "outputs": [],
   "source": [
    "if pretrain:\n",
    "    LIM_trainer = LIMTrainer(\n",
    "        LIM,\n",
    "        warm_start=True,\n",
    "        max_iter=max_iter,\n",
    "        batch_size=6400,\n",
    "        n_iter_no_change=10000,\n",
    "        shuffle_train=False,\n",
    "        eta=0.001,\n",
    "        save_checkpoint_per_epoch=save_checkpoint_per_epoch\n",
    "    )\n",
    "    \n",
    "    _ = LIM_trainer.fit(\n",
    "        X_base_train, \n",
    "        y_base_train, \n",
    "        iit_data=None,\n",
    "        intervention_ids_to_coords=None\n",
    "    )\n",
    "    \n",
    "    datasetIIT = dataset_equality.get_IIT_equality_dataset_both(embedding_dim, 1000)\n",
    "    base_test, y_base_test, sources_test, y_IIT_test, intervention_ids_test = datasetIIT\n",
    "    base_preds = LIM_trainer.predict(base_test, device=\"cpu\")\n",
    "    print(classification_report(y_base_test, base_preds))\n",
    "    \n",
    "    PATH = f\"./saved_models/basemodel-best.bin\"\n",
    "    torch.save(LIM_trainer.model.state_dict(), PATH)"
   ]
  },
  {
   "cell_type": "markdown",
   "metadata": {},
   "source": [
    "#### IIT-r training with a bad high-level model"
   ]
  },
  {
   "cell_type": "code",
   "execution_count": 7,
   "metadata": {},
   "outputs": [],
   "source": [
    "results = {}"
   ]
  },
  {
   "cell_type": "markdown",
   "metadata": {},
   "source": [
    "gathering experiments for all the control experiments"
   ]
  },
  {
   "cell_type": "code",
   "execution_count": 87,
   "metadata": {},
   "outputs": [],
   "source": [
    "layer = 0\n",
    "key = {\n",
    "    \"left\":(),\n",
    "    \"right\":(0)\n",
    "}\n",
    "results[(key[\"left\"], key[\"right\"])] = {}"
   ]
  },
  {
   "cell_type": "code",
   "execution_count": 88,
   "metadata": {},
   "outputs": [
    {
     "name": "stdout",
     "output_type": "stream",
     "text": [
      "Control Experiment \n",
      " Layer: 0\n",
      " Key: {'left': (), 'right': 0} \n",
      " Key Size: 1\n"
     ]
    }
   ],
   "source": [
    "if key[\"left\"] in [0,1] and key[\"right\"] in [0,1]:\n",
    "    key_size = 2\n",
    "elif key[\"left\"] == (0,1) and key[\"right\"] == (0,1):\n",
    "    key_size = 4\n",
    "elif key[\"left\"] == (0,1) and key[\"right\"] == ():\n",
    "    key_size = 2\n",
    "elif key[\"left\"] == () and key[\"right\"] == (0,1):\n",
    "    key_size = 2\n",
    "elif key[\"left\"] == () or key[\"right\"] == ():\n",
    "    key_size = 1\n",
    "else:\n",
    "    key_size = 3\n",
    "control = 3\n",
    "id_to_coords = {\n",
    "    control:[{\"layer\": layer, \"start\": 0, \"end\": key_size*embedding_dim}]\n",
    "}\n",
    "print(f\"Control Experiment \\n Layer: {layer}\\n Key: {key} \\n Key Size: {key_size}\")"
   ]
  },
  {
   "cell_type": "code",
   "execution_count": 89,
   "metadata": {},
   "outputs": [],
   "source": [
    "data_size = 1280000\n",
    "train_datasetIIT = \\\n",
    "    dataset_equality.get_IIT_equality_dataset_control(key, \n",
    "                                                embedding_dim,   \n",
    "                                                data_size)\n",
    "X_base_train, y_base_train = train_datasetIIT[0:2]\n",
    "iit_data = tuple(train_datasetIIT[2:])\n",
    "test_datasetIIT = \\\n",
    "    dataset_equality.get_IIT_equality_dataset_control(key, \n",
    "                                                embedding_dim, \n",
    "                                                1000)\n",
    "base_test, y_base_test, sources_test, y_IIT_test, intervention_ids_test = test_datasetIIT"
   ]
  },
  {
   "cell_type": "code",
   "execution_count": 90,
   "metadata": {},
   "outputs": [
    {
     "name": "stderr",
     "output_type": "stream",
     "text": [
      "Finished epoch 10 of 10; error is 720.45063924789436"
     ]
    }
   ],
   "source": [
    "for i in range(0, max_iter+1):\n",
    "    LIM = LIMDeepNeuralClassifier(\n",
    "        hidden_dim=embedding_dim*4, \n",
    "        hidden_activation=torch.nn.ReLU(), \n",
    "        num_layers=2,\n",
    "        input_dim=embedding_dim*4,\n",
    "        n_classes=2,\n",
    "        device=device\n",
    "    )\n",
    "\n",
    "    LIM_trainer = LIMTrainer(\n",
    "        LIM,\n",
    "        warm_start=True,\n",
    "        max_iter=10,\n",
    "        batch_size=6400,\n",
    "        n_iter_no_change=10000,\n",
    "        shuffle_train=False,\n",
    "        eta=0.001\n",
    "    )\n",
    "    PATH = f\"./saved_models/basemodel-{i}.bin\"\n",
    "    LIM_trainer.model.load_state_dict(torch.load(PATH))\n",
    "    LIM_trainer.model.set_analysis_mode(True)\n",
    "    \n",
    "    _ = LIM_trainer.fit(\n",
    "        X_base_train, \n",
    "        y_base_train, \n",
    "        iit_data=iit_data,\n",
    "        intervention_ids_to_coords=id_to_coords)\n",
    "    \n",
    "    base_preds = LIM_trainer.predict(\n",
    "        base_test, device=\"cpu\"\n",
    "    )\n",
    "    IIT_preds = LIM_trainer.iit_predict(\n",
    "        base_test, sources_test, \n",
    "        intervention_ids_test, \n",
    "        id_to_coords, device=\"cpu\"\n",
    "    )\n",
    "    r1 = classification_report(y_base_test, base_preds, output_dict=True)\n",
    "    r2 = classification_report(y_IIT_test, IIT_preds, output_dict=True)\n",
    "    results[(key[\"left\"], key[\"right\"])][i] = [r1, r2]"
   ]
  },
  {
   "cell_type": "code",
   "execution_count": 91,
   "metadata": {},
   "outputs": [],
   "source": [
    "base_f1s = []\n",
    "iit_f1s = []\n",
    "\n",
    "for i in range(0, max_iter+1):\n",
    "    reports = results[(key[\"left\"], key[\"right\"])][i]\n",
    "    base_reports = reports[0]\n",
    "    iit_reports = reports[1]\n",
    "    \n",
    "    base_f1 = base_reports[\"weighted avg\"][\"f1-score\"]\n",
    "    iit_f1 = iit_reports[\"weighted avg\"][\"f1-score\"]\n",
    "    \n",
    "    base_f1s += [base_f1]\n",
    "    iit_f1s += [iit_f1]"
   ]
  },
  {
   "cell_type": "code",
   "execution_count": 92,
   "metadata": {},
   "outputs": [
    {
     "data": {
      "image/png": "[encoded data removed]",
      "text/plain": [
       "<Figure size 432x288 with 1 Axes>"
      ]
     },
     "metadata": {
      "needs_background": "light"
     },
     "output_type": "display_data"
    }
   ],
   "source": [
    "# Dataset\n",
    "x = np.array([0,1,2,3,4,5,6,7,8,9,10])\n",
    "base_f1s = np.array(base_f1s)\n",
    "iit_f1s = np.array(iit_f1s)\n",
    " \n",
    "# Plotting the Graph\n",
    "plt.plot(x, base_f1s, label=\"factual\")\n",
    "plt.plot(x, iit_f1s, label=\"iit\")\n",
    "plt.ylabel(\"accuracy\", fontsize=20)\n",
    "plt.xlabel(\"factual training epoch\", fontsize=20)\n",
    "plt.legend(fontsize=20)\n",
    "plt.show()"
   ]
  },
  {
   "cell_type": "code",
   "execution_count": 93,
   "metadata": {},
   "outputs": [
    {
     "data": {
      "text/plain": [
       "((), 0)"
      ]
     },
     "execution_count": 93,
     "metadata": {},
     "output_type": "execute_result"
    }
   ],
   "source": [
    "(key[\"left\"], key[\"right\"])"
   ]
  },
  {
   "cell_type": "markdown",
   "metadata": {},
   "source": [
    "gathering results for all the non-control experiments"
   ]
  },
  {
   "cell_type": "code",
   "execution_count": 60,
   "metadata": {},
   "outputs": [],
   "source": [
    "data_size = 1280000\n",
    "iit_equality_dataset = \\\n",
    "    dataset_equality.get_IIT_equality_dataset_all(embedding_dim, \n",
    "                                                    data_size)\n",
    "\n",
    "X_base_train, y_base_train = iit_equality_dataset[0:2]\n",
    "iit_data = tuple(iit_equality_dataset[2:])"
   ]
  },
  {
   "cell_type": "code",
   "execution_count": 83,
   "metadata": {},
   "outputs": [],
   "source": [
    "id_to_coords = {\n",
    "    0: [{\"layer\": layer, \"start\": 0, \"end\": 2*embedding_dim}],\n",
    "    1: [{\"layer\": layer, \"start\":  2*embedding_dim, \"end\": 4*embedding_dim}],\n",
    "    2: [{\"layer\": layer, \"start\": 0, \"end\": 2*embedding_dim}, {\"layer\": layer, \"start\":  2*embedding_dim, \"end\": 4*embedding_dim}],\n",
    "}\n",
    "\n",
    "key = {\n",
    "    \"left\":(\"full\"),\n",
    "    \"right\":(\"full\")\n",
    "}\n",
    "results[(key[\"left\"], key[\"right\"])] = {}\n",
    "\n",
    "datasetIIT = dataset_equality.get_IIT_equality_dataset_both(embedding_dim, 1000)\n",
    "\n",
    "base_test, y_base_test, sources_test, y_IIT_test, intervention_ids_test = datasetIIT"
   ]
  },
  {
   "cell_type": "code",
   "execution_count": 84,
   "metadata": {},
   "outputs": [
    {
     "name": "stderr",
     "output_type": "stream",
     "text": [
      "Finished epoch 10 of 10; error is 87.902298375964164"
     ]
    }
   ],
   "source": [
    "for i in range(0, max_iter+1):\n",
    "    LIM = LIMDeepNeuralClassifier(\n",
    "        hidden_dim=embedding_dim*4, \n",
    "        hidden_activation=torch.nn.ReLU(), \n",
    "        num_layers=2,\n",
    "        input_dim=embedding_dim*4,\n",
    "        n_classes=2,\n",
    "        device=device\n",
    "    )\n",
    "\n",
    "    LIM_trainer = LIMTrainer(\n",
    "        LIM,\n",
    "        warm_start=True,\n",
    "        max_iter=10,\n",
    "        batch_size=6400,\n",
    "        n_iter_no_change=10000,\n",
    "        shuffle_train=False,\n",
    "        eta=0.001\n",
    "    )\n",
    "    PATH = f\"./saved_models/basemodel-{i}.bin\"\n",
    "    LIM_trainer.model.load_state_dict(torch.load(PATH))\n",
    "    LIM_trainer.model.set_analysis_mode(True)\n",
    "    \n",
    "    _ = LIM_trainer.fit(\n",
    "        X_base_train, \n",
    "        y_base_train, \n",
    "        iit_data=iit_data,\n",
    "        intervention_ids_to_coords=id_to_coords)\n",
    "    \n",
    "    base_preds = LIM_trainer.predict(\n",
    "        base_test, device=\"cpu\"\n",
    "    )\n",
    "    IIT_preds = LIM_trainer.iit_predict(\n",
    "        base_test, sources_test, \n",
    "        intervention_ids_test, \n",
    "        id_to_coords, device=\"cpu\"\n",
    "    )\n",
    "    r1 = classification_report(y_base_test, base_preds, output_dict=True)\n",
    "    r2 = classification_report(y_IIT_test, IIT_preds, output_dict=True)\n",
    "    results[(key[\"left\"], key[\"right\"])][i] = [r1, r2]"
   ]
  },
  {
   "cell_type": "code",
   "execution_count": 85,
   "metadata": {},
   "outputs": [],
   "source": [
    "base_f1s = []\n",
    "iit_f1s = []\n",
    "\n",
    "for i in range(0, max_iter+1):\n",
    "    reports = results[(key[\"left\"], key[\"right\"])][i]\n",
    "    base_reports = reports[0]\n",
    "    iit_reports = reports[1]\n",
    "    \n",
    "    base_f1 = base_reports[\"weighted avg\"][\"f1-score\"]\n",
    "    iit_f1 = iit_reports[\"weighted avg\"][\"f1-score\"]\n",
    "    \n",
    "    base_f1s += [base_f1]\n",
    "    iit_f1s += [iit_f1]"
   ]
  },
  {
   "cell_type": "code",
   "execution_count": 86,
   "metadata": {},
   "outputs": [
    {
     "data": {
      "image/png": "[encoded data removed]",
      "text/plain": [
       "<Figure size 432x288 with 1 Axes>"
      ]
     },
     "metadata": {
      "needs_background": "light"
     },
     "output_type": "display_data"
    }
   ],
   "source": [
    "# Dataset\n",
    "x = np.array([0,1,2,3,4,5,6,7,8,9,10])\n",
    "base_f1s = np.array(base_f1s)\n",
    "iit_f1s = np.array(iit_f1s)\n",
    " \n",
    "# Plotting the Graph\n",
    "plt.plot(x, base_f1s, label=\"factual\")\n",
    "plt.plot(x, iit_f1s, label=\"iit\")\n",
    "plt.ylabel(\"accuracy\", fontsize=20)\n",
    "plt.xlabel(\"factual training epoch\", fontsize=20)\n",
    "plt.legend(fontsize=20)\n",
    "plt.show()"
   ]
  },
  {
   "cell_type": "code",
   "execution_count": null,
   "metadata": {},
   "outputs": [],
   "source": []
  }
 ],
 "metadata": {
  "kernelspec": {
   "display_name": "Python 3",
   "language": "python",
   "name": "python3"
  },
  "language_info": {
   "codemirror_mode": {
    "name": "ipython",
    "version": 3
   },
   "file_extension": ".py",
   "mimetype": "text/x-python",
   "name": "python",
   "nbconvert_exporter": "python",
   "pygments_lexer": "ipython3",
   "version": "3.7.6"
  }
 },
 "nbformat": 4,
 "nbformat_minor": 4
}
